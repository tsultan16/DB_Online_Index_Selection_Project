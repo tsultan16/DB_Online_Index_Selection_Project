{
 "cells": [
  {
   "cell_type": "markdown",
   "metadata": {},
   "source": [
    "#### SQL Query Parsing"
   ]
  },
  {
   "cell_type": "code",
   "execution_count": 41,
   "metadata": {},
   "outputs": [],
   "source": [
    "import sqlglot\n",
    "from sqlglot import expressions as exp\n",
    " "
   ]
  },
  {
   "cell_type": "code",
   "execution_count": 79,
   "metadata": {},
   "outputs": [],
   "source": [
    "query = \"\"\"\n",
    "        select l_returnflag,\n",
    "                100.00 * sum(case\n",
    "                        when p_type like 'PROMO%'\n",
    "                                then l_extendedprice * (1 - l_discount)\n",
    "                        else 0\n",
    "                end) / sum(l_extendedprice * (1 - l_discount)) as promo_revenue\n",
    "        from\n",
    "                lineitem,\n",
    "                part\n",
    "        where\n",
    "                l_partkey = p_partkey\n",
    "                and l_shipdate >= CAST('1993-04-01' AS date)\n",
    "                and l_shipdate < DATEADD(mm, 1, CAST('1993-04-01' AS date))\n",
    "        order by\n",
    "                l_returnflag;\n",
    "        \"\"\"        \n",
    "        "
   ]
  },
  {
   "cell_type": "code",
   "execution_count": 80,
   "metadata": {},
   "outputs": [],
   "source": [
    "# parse query\n",
    "parsed = sqlglot.parse_one(query)\n"
   ]
  },
  {
   "cell_type": "code",
   "execution_count": 81,
   "metadata": {},
   "outputs": [
    {
     "data": {
      "text/plain": [
       "Select(\n",
       "  expressions=[\n",
       "    Column(\n",
       "      this=Identifier(this=l_returnflag, quoted=False)),\n",
       "    Alias(\n",
       "      this=Div(\n",
       "        this=Mul(\n",
       "          this=Literal(this=100.00, is_string=False),\n",
       "          expression=Sum(\n",
       "            this=Case(\n",
       "              ifs=[\n",
       "                If(\n",
       "                  this=Like(\n",
       "                    this=Column(\n",
       "                      this=Identifier(this=p_type, quoted=False)),\n",
       "                    expression=Literal(this=PROMO%, is_string=True)),\n",
       "                  true=Mul(\n",
       "                    this=Column(\n",
       "                      this=Identifier(this=l_extendedprice, quoted=False)),\n",
       "                    expression=Paren(\n",
       "                      this=Sub(\n",
       "                        this=Literal(this=1, is_string=False),\n",
       "                        expression=Column(\n",
       "                          this=Identifier(this=l_discount, quoted=False))))))],\n",
       "              default=Literal(this=0, is_string=False)))),\n",
       "        expression=Sum(\n",
       "          this=Mul(\n",
       "            this=Column(\n",
       "              this=Identifier(this=l_extendedprice, quoted=False)),\n",
       "            expression=Paren(\n",
       "              this=Sub(\n",
       "                this=Literal(this=1, is_string=False),\n",
       "                expression=Column(\n",
       "                  this=Identifier(this=l_discount, quoted=False)))))),\n",
       "        typed=False,\n",
       "        safe=False),\n",
       "      alias=Identifier(this=promo_revenue, quoted=False))],\n",
       "  from=From(\n",
       "    this=Table(\n",
       "      this=Identifier(this=lineitem, quoted=False))),\n",
       "  joins=[\n",
       "    Join(\n",
       "      this=Table(\n",
       "        this=Identifier(this=part, quoted=False)))],\n",
       "  where=Where(\n",
       "    this=And(\n",
       "      this=And(\n",
       "        this=EQ(\n",
       "          this=Column(\n",
       "            this=Identifier(this=l_partkey, quoted=False)),\n",
       "          expression=Column(\n",
       "            this=Identifier(this=p_partkey, quoted=False))),\n",
       "        expression=GTE(\n",
       "          this=Column(\n",
       "            this=Identifier(this=l_shipdate, quoted=False)),\n",
       "          expression=Cast(\n",
       "            this=Literal(this=1993-04-01, is_string=True),\n",
       "            to=DataType(this=Type.DATE, nested=False)))),\n",
       "      expression=LT(\n",
       "        this=Column(\n",
       "          this=Identifier(this=l_shipdate, quoted=False)),\n",
       "        expression=Anonymous(\n",
       "          this=DATEADD,\n",
       "          expressions=[\n",
       "            Column(\n",
       "              this=Identifier(this=mm, quoted=False)),\n",
       "            Literal(this=1, is_string=False),\n",
       "            Cast(\n",
       "              this=Literal(this=1993-04-01, is_string=True),\n",
       "              to=DataType(this=Type.DATE, nested=False))])))),\n",
       "  order=Order(\n",
       "    expressions=[\n",
       "      Ordered(\n",
       "        this=Column(\n",
       "          this=Identifier(this=l_returnflag, quoted=False)),\n",
       "        nulls_first=True)]))"
      ]
     },
     "execution_count": 81,
     "metadata": {},
     "output_type": "execute_result"
    }
   ],
   "source": [
    "parsed"
   ]
  },
  {
   "cell_type": "code",
   "execution_count": 82,
   "metadata": {},
   "outputs": [
    {
     "name": "stdout",
     "output_type": "stream",
     "text": [
      "Column names:  ['l_returnflag', 'l_returnflag', 'l_shipdate', 'l_extendedprice', 'l_partkey', 'p_partkey', 'l_shipdate', 'mm', 'l_discount', 'p_type', 'l_extendedprice', 'l_discount']\n",
      "Table names:  ['lineitem', 'part']\n"
     ]
    }
   ],
   "source": [
    "# extract all column names\n",
    "print(\"Column names: \", [c.name for c in parsed.find_all(sqlglot.expressions.Column)])\n",
    "\n",
    "# extract all table names\n",
    "print(\"Table names: \", [t.name for t in parsed.find_all(sqlglot.expressions.Table)])"
   ]
  },
  {
   "cell_type": "code",
   "execution_count": 84,
   "metadata": {},
   "outputs": [
    {
     "name": "stdout",
     "output_type": "stream",
     "text": [
      "Predicate columns: {'l_shipdate', 'l_partkey', 'p_partkey'}, Payload columns: {'l_discount', 'l_returnflag', 'l_extendedprice'}, Order by columns: {'l_returnflag'}, Group by columns: set()\n"
     ]
    }
   ],
   "source": [
    "def get_columns(query):\n",
    "    # Parse the query\n",
    "    parsed = sqlglot.parse_one(query)\n",
    "\n",
    "    def extract_columns(node):\n",
    "        columns = set()\n",
    "        if isinstance(node, exp.Column):\n",
    "            columns.add(node.name)\n",
    "        for child in node.args.values():\n",
    "            if isinstance(child, exp.Expression):\n",
    "                columns.update(extract_columns(child))\n",
    "        return columns\n",
    "\n",
    "    # Find the WHERE clause\n",
    "    where_clause = parsed.find(exp.Where)\n",
    "    # Extract columns from the WHERE clause\n",
    "    predicate_columns = set()\n",
    "    if where_clause:\n",
    "        predicate_columns = extract_columns(where_clause)\n",
    "\n",
    "    # Find the SELECT clause\n",
    "    select_clause = parsed.find(exp.Select)\n",
    "    # Extract columns from the SELECT clause\n",
    "    payload_columns = set()\n",
    "    if select_clause:\n",
    "        for projection in select_clause.expressions:\n",
    "            payload_columns.update(extract_columns(projection))\n",
    "\n",
    "    # Find the ORDER BY clause\n",
    "    order_by_clause = parsed.find(exp.Order)\n",
    "    # Extract columns from the ORDER BY clause\n",
    "    order_by_columns = set()\n",
    "    if order_by_clause:\n",
    "        for order in order_by_clause.expressions:\n",
    "            order_by_columns.update(extract_columns(order))\n",
    "\n",
    "    # Find the GROUP BY clause\n",
    "    group_by_clause = parsed.find(exp.Group)\n",
    "    # Extract columns from the GROUP BY clause\n",
    "    group_by_columns = set()\n",
    "    if group_by_clause:\n",
    "        for group in group_by_clause.expressions:\n",
    "            group_by_columns.update(extract_columns(group))\n",
    "\n",
    "\n",
    "    return predicate_columns, payload_columns, order_by_columns, group_by_columns\n",
    "\n",
    "\n",
    "\n",
    "predicate_columns, payload_columns, order_by_columns, group_by_columns = get_columns(query)\n",
    "\n",
    "# Print the columns involved in predicates\n",
    "print(f\"Predicate columns: {predicate_columns}, Payload columns: {payload_columns}, Order by columns: {order_by_columns}, Group by columns: {group_by_columns}\")\n"
   ]
  },
  {
   "cell_type": "code",
   "execution_count": null,
   "metadata": {},
   "outputs": [],
   "source": []
  },
  {
   "cell_type": "code",
   "execution_count": null,
   "metadata": {},
   "outputs": [],
   "source": []
  },
  {
   "cell_type": "code",
   "execution_count": null,
   "metadata": {},
   "outputs": [],
   "source": []
  }
 ],
 "metadata": {
  "kernelspec": {
   "display_name": "torch_clone_2",
   "language": "python",
   "name": "python3"
  },
  "language_info": {
   "codemirror_mode": {
    "name": "ipython",
    "version": 3
   },
   "file_extension": ".py",
   "mimetype": "text/x-python",
   "name": "python",
   "nbconvert_exporter": "python",
   "pygments_lexer": "ipython3",
   "version": "3.11.5"
  }
 },
 "nbformat": 4,
 "nbformat_minor": 2
}
