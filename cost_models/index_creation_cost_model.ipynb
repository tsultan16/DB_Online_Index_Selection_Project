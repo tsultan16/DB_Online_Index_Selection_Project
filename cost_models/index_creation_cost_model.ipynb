{
 "cells": [
  {
   "cell_type": "markdown",
   "metadata": {},
   "source": [
    "#### Index Creation Cost Model -  Online Ridge Regression"
   ]
  },
  {
   "cell_type": "code",
   "execution_count": 2,
   "metadata": {},
   "outputs": [
    {
     "name": "stdout",
     "output_type": "stream",
     "text": [
      "The autoreload extension is already loaded. To reload it, use:\n",
      "  %reload_ext autoreload\n"
     ]
    }
   ],
   "source": [
    "import logging\n",
    "import datetime\n",
    "import os\n",
    "import subprocess\n",
    "import uuid\n",
    "\n",
    "import pyodbc\n",
    "import sys\n",
    "import random\n",
    "import pandas as pd\n",
    "import time\n",
    "import os\n",
    "from tqdm import tqdm\n",
    "import logging\n",
    "import re\n",
    "import json\n",
    "import xml.etree.ElementTree as ET\n",
    "import itertools\n",
    "import math\n",
    "from collections import defaultdict\n",
    "from tqdm import tqdm\n",
    "import pickle\n",
    "import numpy as np\n",
    "\n",
    "%load_ext autoreload\n",
    "%autoreload 2\n",
    "\n",
    "import IPython\n",
    "notebook_path = IPython.get_ipython().starting_dir\n",
    "target_subdirectory_path = os.path.abspath(os.path.join(os.path.dirname(notebook_path), 'database'))\n",
    "sys.path.append(target_subdirectory_path)\n",
    "from utils import *"
   ]
  },
  {
   "cell_type": "markdown",
   "metadata": {},
   "source": [
    "#### Generate all possible indexes for each table."
   ]
  },
  {
   "cell_type": "code",
   "execution_count": 3,
   "metadata": {},
   "outputs": [],
   "source": [
    "\"\"\"\n",
    "    Function for generating all possible configurations (i.e. subsets of indixes)\n",
    "\"\"\"\n",
    "def generate_all_configurations(connection, MAX_COLS=3, with_includes=False, verbose=False):\n",
    "    # first, generate all possible indices\n",
    "    tables = get_all_tables(connection)\n",
    "    all_indices = {} \n",
    "    # tqdm bar around table loop\n",
    "    for table_name, table in tqdm(tables.items(), desc=\"Generating all indices for table:\"):\n",
    "        columns = table.get_columns()\n",
    "        if verbose:\n",
    "            print(f\"Table --> {table_name} with columns --> {columns}\")\n",
    "        # get all possible permutations of columns, up to MAX_KEY_COLS columns\n",
    "        for num_columns in range(1, MAX_COLS+1):\n",
    "            col_permutations = list(itertools.permutations(columns, num_columns))\n",
    "            # also generate permutations of columns with include columns\n",
    "            for cp in col_permutations:\n",
    "                if with_includes:\n",
    "                    # get columns not in cp\n",
    "                    include_columns = list(set(columns) - set(cp))\n",
    "                    # get all comnbination of include columns on remaining columns\n",
    "                    include_col_combinations = list(itertools.combinations(include_columns, MAX_COLS-num_columns))\n",
    "                    for icp in include_col_combinations:\n",
    "                        index_id = get_index_id(cp, table_name, include_columns)\n",
    "                        if index_id not in all_indices:\n",
    "                            index_size = get_estimated_index_size(connection, table_name, list(cp) + include_columns)\n",
    "                            # create index object\n",
    "                            all_indices[index_id] = Index(table_name, index_id, cp, index_size, tuple(icp))\n",
    "                else:\n",
    "                    index_id = get_index_id(cp, table_name)\n",
    "                    if index_id not in all_indices:\n",
    "                        index_size = get_estimated_index_size(connection, table_name, list(cp))\n",
    "                        # create index object\n",
    "                        all_indices[index_id] = Index(table_name, index_id, cp, index_size)\n",
    "\n",
    "    print(f\"Total number of indices generated: {len(all_indices)}, total estimated size: {sum([i.size for i in all_indices.values()]):.2f} Mb\")\n",
    "   \n",
    "    return all_indices, tables\n"
   ]
  },
  {
   "cell_type": "code",
   "execution_count": 4,
   "metadata": {},
   "outputs": [
    {
     "name": "stderr",
     "output_type": "stream",
     "text": [
      "Generating all indices for table:: 100%|██████████| 8/8 [00:00<00:00, 39.68it/s]"
     ]
    },
    {
     "name": "stdout",
     "output_type": "stream",
     "text": [
      "Total number of indices generated: 57977, total estimated size: 125146572.31 Mb\n"
     ]
    },
    {
     "name": "stderr",
     "output_type": "stream",
     "text": [
      "\n"
     ]
    }
   ],
   "source": [
    "connection = start_connection()\n",
    "\n",
    "all_indices, tables = generate_all_configurations(connection, MAX_COLS=4, with_includes=False)\n",
    "\n",
    "\n",
    "# get all columns\n",
    "all_columns, num_columns = get_all_columns(connection)\n",
    "\n",
    "columns_to_idx = {}\n",
    "i = 0\n",
    "for table_name, columns in all_columns.items():\n",
    "    for column in columns:\n",
    "        columns_to_idx[column] = i\n",
    "        i += 1\n",
    "\n",
    "idx_to_columns = {v: k for k, v in columns_to_idx.items()}  \n",
    "\n",
    "close_connection(connection)"
   ]
  },
  {
   "cell_type": "markdown",
   "metadata": {},
   "source": [
    "#### Create feature vector for each index:\n",
    "\n",
    "Feature vector consists of two parts: \n",
    "\n",
    "    (1) Encoding of index and include columns\n",
    "    (2) Table stats: column-count, row_count, row_count log(row_count), ratio of index to table size, average table fragmentation "
   ]
  },
  {
   "cell_type": "code",
   "execution_count": 24,
   "metadata": {},
   "outputs": [],
   "source": [
    "def get_table_stats(connection, table_name):\n",
    "    cursor = connection.cursor()\n",
    "    cursor.execute(f\"\"\"\n",
    "                        SELECT SUM(row_count) as total_rows, SUM(used_page_count) * 8 / 1024.0 as size_mb\n",
    "                        FROM sys.dm_db_partition_stats\n",
    "                        WHERE object_id = OBJECT_ID('{table_name}')\n",
    "                    \"\"\")\n",
    "    row_count, table_size_mb = cursor.fetchone()\n",
    "    table_size_mb = float(table_size_mb) if table_size_mb is not None else 0.0\n",
    "\n",
    "    cursor.execute(f\"\"\"\n",
    "            SELECT AVG(avg_fragmentation_in_percent)\n",
    "            FROM sys.dm_db_index_physical_stats(DB_ID(), OBJECT_ID('{table_name}'), NULL, NULL, 'LIMITED')\n",
    "        \"\"\")\n",
    "    avg_fragmentation = cursor.fetchone()[0]\n",
    "    avg_fragmentation = float(avg_fragmentation) if avg_fragmentation is not None else 0.0\n",
    "\n",
    "    #cursor.execute(\"SELECT cpu_count FROM sys.dm_os_sys_info\")\n",
    "    #cpu_count = cursor.fetchone()[0]\n",
    "\n",
    "    num_columns = len(all_columns[table_name])\n",
    "    return (num_columns, row_count, table_size_mb, avg_fragmentation)\n",
    "    \n",
    "\n",
    "def column_feature_encoding(index, c):\n",
    "    index_columns_encoding = np.zeros(len(columns_to_idx), dtype=float)\n",
    "    # encoding for index columns\n",
    "    for j, column_name in enumerate(index.index_columns):\n",
    "        column_position_in_index = j\n",
    "        index_columns_encoding[columns_to_idx[column_name]] = 1/(c**column_position_in_index)\n",
    "    \n",
    "    if len(index.include_columns) > 0:\n",
    "        # encoding for include columns\n",
    "        include_columns_encoding = np.zeros(len(columns_to_idx), dtype=float)\n",
    "        for j, column_name in enumerate(index.include_columns):\n",
    "            include_columns_encoding[columns_to_idx[column_name]] = 1\n",
    "\n",
    "        # concatenate the two context vectors\n",
    "        columns_encoding = np.hstack((index_columns_encoding, include_columns_encoding))\n",
    "        return columns_encoding\n",
    "    else:\n",
    "\n",
    "        return index_columns_encoding \n",
    "    \n",
    "\n",
    "def create_feature_vectors(all_indices, connection, c=10):\n",
    "\n",
    "    print(f\"Obtain table stats...\")    \n",
    "    table_stats = {}\n",
    "    for index in all_indices.values():\n",
    "        table_name = index.table_name\n",
    "        if table_name not in table_stats:\n",
    "            table_stats[table_name] = get_table_stats(connection, table_name)\n",
    "    \n",
    "    \n",
    "    print(f\"Creating feature vectors...\")\n",
    "    feature_vectors = {}\n",
    "    for index in all_indices.values():\n",
    "        columns_encoding = column_feature_encoding(index, c)\n",
    "        index_size_mb = index.size\n",
    "        num_columns, row_count, table_size_mb, avg_fragmentation = table_stats[index.table_name]\n",
    "        table_features = np.array([row_count, row_count*np.log(row_count), num_columns, index_size_mb/table_size_mb, avg_fragmentation])\n",
    "        feature_vectors[index.index_id] = np.concatenate((table_features, columns_encoding))\n",
    "        \n",
    "    return feature_vectors  \n"
   ]
  },
  {
   "cell_type": "code",
   "execution_count": 25,
   "metadata": {},
   "outputs": [
    {
     "name": "stdout",
     "output_type": "stream",
     "text": [
      "Obtain table stats...\n",
      "Creating feature vectors...\n"
     ]
    }
   ],
   "source": [
    "connection = start_connection()\n",
    "\n",
    "feature_vectors = create_feature_vectors(all_indices, connection, c=2)\n",
    "\n",
    "close_connection(connection)"
   ]
  },
  {
   "cell_type": "code",
   "execution_count": 8,
   "metadata": {},
   "outputs": [
    {
     "name": "stdout",
     "output_type": "stream",
     "text": [
      "Number of training indexes: 155, number of test indexes: 57822\n"
     ]
    }
   ],
   "source": [
    "# group the indexes by table\n",
    "indexes_by_table = defaultdict(list)\n",
    "for index in all_indices.values():\n",
    "    indexes_by_table[index.table_name].append(index)\n",
    "\n",
    "\n",
    "# create train test splits for the indexes, from each table pick 10 indexes for training\n",
    "train_indexes = []\n",
    "test_indexes = []\n",
    "split_idx = 20\n",
    "for table_name, indexes in indexes_by_table.items():\n",
    "    random.shuffle(indexes)\n",
    "    train_indexes.extend(indexes[:split_idx])\n",
    "    test_indexes.extend(indexes[split_idx:])\n",
    "\n",
    "random.shuffle(train_indexes) \n",
    "random.shuffle(test_indexes)\n",
    "\n",
    "print(f\"Number of training indexes: {len(train_indexes)}, number of test indexes: {len(test_indexes)}\")"
   ]
  },
  {
   "cell_type": "code",
   "execution_count": 7,
   "metadata": {},
   "outputs": [
    {
     "name": "stderr",
     "output_type": "stream",
     "text": [
      "Measuring index creation cost::   0%|          | 0/155 [00:00<?, ?it/s]"
     ]
    },
    {
     "name": "stderr",
     "output_type": "stream",
     "text": [
      "Measuring index creation cost:: 100%|██████████| 155/155 [09:56<00:00,  3.85s/it]\n"
     ]
    }
   ],
   "source": [
    "\"\"\"\n",
    "# measure actual creation times of training indexes\n",
    "connection = start_connection()\n",
    "\n",
    "index_creation_cost = {}\n",
    "for index in tqdm(train_indexes, desc=\"Measuring index creation cost:\"):\n",
    "    index_creation_cost[index.index_id] = create_nonclustered_index_object(connection, index)\n",
    "    drop_noncluster_index_object(connection, index)\n",
    "\n",
    "close_connection(connection)\n",
    "\"\"\""
   ]
  },
  {
   "cell_type": "markdown",
   "metadata": {},
   "source": [
    "#### Online Ridge Regression Model"
   ]
  },
  {
   "cell_type": "code",
   "execution_count": 26,
   "metadata": {},
   "outputs": [],
   "source": [
    "#from sklearn.preprocessing import StandardScaler\n",
    "\n",
    "class Model:\n",
    "    def __init__(self, feature_vectors, all_indices, lambda_reg=0.1, epsilon=1e-8):\n",
    "        self.feature_vectors = feature_vectors\n",
    "        self.all_indices = all_indices\n",
    "        self.feature_dims = feature_vectors[list(feature_vectors.keys())[0]].shape[0]\n",
    "        self.V = lambda_reg * np.eye(self.feature_dims)\n",
    "        self.b = np.zeros(self.feature_dims)\n",
    "        self.theta = np.zeros(self.feature_dims)\n",
    "        self.lambda_reg = lambda_reg\n",
    "        self.epsilon = epsilon\n",
    "        self.loss_history = []\n",
    "        #self.scaler = StandardScaler()\n",
    "        #self.normalize_features()\n",
    "\n",
    "    #def normalize_features(self):\n",
    "    #    all_features = np.array(list(self.feature_vectors.values()))\n",
    "    #    self.scaler.fit(all_features)\n",
    "    #    for key in self.feature_vectors:\n",
    "    #        self.feature_vectors[key] = self.scaler.transform([self.feature_vectors[key]])[0]\n",
    "\n",
    "    def update(self, index, cost, verbose=False):\n",
    "        x = self.feature_vectors[index.index_id]    \n",
    "        y = cost\n",
    "        self.V += np.outer(x, x)\n",
    "        self.b += y * x\n",
    "        # add small epsilon to diagonal of V for conditioning\n",
    "        self.theta = np.linalg.solve(self.V + self.epsilon*np.eye(self.feature_dims), self.b)\n",
    "        loss, y_pred = self.compute_loss(x, y)\n",
    "        if verbose:\n",
    "            print(f\"Update for index: {index.index_id}, actual cost: {cost}, predicted cost: {y_pred:.3f}, loss incurred: {loss}\")\n",
    "\n",
    "    def predict(self, x):\n",
    "        return np.dot(self.theta, x)\n",
    "\n",
    "    def compute_loss(self, x, y):\n",
    "        y_pred = self.predict(x)\n",
    "        mse = (y - y_pred)**2\n",
    "        reg = self.lambda_reg * np.dot(self.theta, self.theta)\n",
    "        loss = mse + reg\n",
    "        self.loss_history.append(loss)\n",
    "        return loss, y_pred    \n",
    "        "
   ]
  },
  {
   "cell_type": "markdown",
   "metadata": {},
   "source": [
    "#### Train the model"
   ]
  },
  {
   "cell_type": "code",
   "execution_count": 28,
   "metadata": {},
   "outputs": [],
   "source": [
    "model = Model(feature_vectors, all_indices, lambda_reg=0.01)"
   ]
  },
  {
   "cell_type": "code",
   "execution_count": 29,
   "metadata": {},
   "outputs": [
    {
     "name": "stderr",
     "output_type": "stream",
     "text": [
      "Update step:: 100%|██████████| 155/155 [00:00<00:00, 14151.75it/s]"
     ]
    },
    {
     "name": "stdout",
     "output_type": "stream",
     "text": [
      "Update for index: IX_nation_n_name_n_nationkey_n_regionkey_n_comment, actual cost: 0.003, predicted cost: 0.003, loss incurred: 1.3379563729456233e-10\n",
      "Update for index: IX_nation_n_nationkey_n_name_n_comment, actual cost: 0.001, predicted cost: 0.001, loss incurred: 6.243372767953436e-08\n",
      "Update for index: IX_nation_n_nationkey_n_regionkey_n_comment, actual cost: 0.001, predicted cost: 0.001, loss incurred: 6.67973479198802e-08\n",
      "Update for index: IX_orders_o_orderpriority_o_shippriority_o_orderkey_o_totalprice, actual cost: 42.696, predicted cost: 42.696, loss incurred: 6.79269600415264e-08\n",
      "Update for index: IX_part_p_size_p_partkey_p_brand_p_mfgr, actual cost: 2.39, predicted cost: 2.392, loss incurred: 0.006133436987082972\n",
      "Update for index: IX_orders_o_orderpriority_o_orderstatus_o_orderkey, actual cost: 58.229, predicted cost: 57.986, loss incurred: 3.6265377348115875\n",
      "Update for index: IX_orders_o_orderstatus_o_clerk_o_orderdate_o_shippriority, actual cost: 109.002, predicted cost: 108.712, loss incurred: 17.498604439573363\n",
      "Update for index: IX_part_p_name_p_brand_p_type_p_container, actual cost: 6.547, predicted cost: 6.531, loss incurred: 17.481641803355906\n",
      "Update for index: IX_lineitem_l_quantity_l_returnflag_l_receiptdate_l_extendedprice, actual cost: 210.971, predicted cost: 211.031, loss incurred: 23.861643497429586\n",
      "Update for index: IX_part_p_size_p_comment_p_retailprice_p_brand, actual cost: 6.987, predicted cost: 6.958, loss incurred: 23.903400101510805\n",
      "Update for index: IX_orders_o_clerk_o_orderdate_o_comment_o_shippriority, actual cost: 85.042, predicted cost: 85.060, loss incurred: 23.912363163033852\n",
      "Update for index: IX_region_r_name_r_comment, actual cost: 0.001, predicted cost: 0.002, loss incurred: 23.916195908269888\n",
      "Update for index: IX_supplier_s_phone_s_comment, actual cost: 0.592, predicted cost: 0.629, loss incurred: 24.131410954747874\n",
      "Update for index: IX_customer_c_phone_c_custkey_c_address_c_acctbal, actual cost: 7.05, predicted cost: 7.073, loss incurred: 24.21437619887282\n",
      "Update for index: IX_orders_o_orderpriority_o_custkey_o_comment, actual cost: 78.726, predicted cost: 77.745, loss incurred: 59.36284113577442\n",
      "Update for index: IX_nation_n_nationkey_n_comment_n_regionkey, actual cost: 0.0, predicted cost: 0.010, loss incurred: 58.401027682257755\n",
      "Update for index: IX_partsupp_ps_suppkey_ps_supplycost, actual cost: 12.093, predicted cost: 12.237, loss incurred: 61.14964145743633\n",
      "Update for index: IX_supplier_s_phone_s_name_s_comment_s_suppkey, actual cost: 0.302, predicted cost: 0.339, loss incurred: 61.175936046463065\n",
      "Update for index: IX_supplier_s_comment_s_nationkey_s_phone_s_name, actual cost: 0.439, predicted cost: 0.480, loss incurred: 61.31481796689772\n",
      "Update for index: IX_customer_c_phone_c_address_c_comment_c_mktsegment, actual cost: 4.219, predicted cost: 4.330, loss incurred: 61.795369102609314\n",
      "Update for index: IX_nation_n_regionkey_n_name_n_comment_n_nationkey, actual cost: 0.0, predicted cost: 0.096, loss incurred: 61.79471727075847\n",
      "Update for index: IX_lineitem_l_receiptdate_l_commitdate_l_tax_l_returnflag, actual cost: 147.657, predicted cost: 148.027, loss incurred: 88.41725529364359\n",
      "Update for index: IX_customer_c_name_c_custkey_c_address, actual cost: 4.261, predicted cost: 4.336, loss incurred: 89.00707952507993\n",
      "Update for index: IX_region_r_comment_r_regionkey_r_name, actual cost: 0.0, predicted cost: -0.040, loss incurred: 89.17597608685806\n",
      "Update for index: IX_customer_c_name_c_mktsegment_c_phone_c_comment, actual cost: 4.555, predicted cost: 4.536, loss incurred: 89.18202060745553\n",
      "Update for index: IX_nation_n_name_n_regionkey_n_comment, actual cost: 0.0, predicted cost: 0.014, loss incurred: 89.18278066872756\n",
      "Update for index: IX_part_p_comment_p_mfgr_p_container_p_type, actual cost: 5.978, predicted cost: 6.075, loss incurred: 90.14896708974821\n",
      "Update for index: IX_region_r_comment_r_regionkey, actual cost: 0.0, predicted cost: -0.218, loss incurred: 91.07641168620654\n",
      "Update for index: IX_lineitem_l_commitdate_l_discount_l_quantity_l_comment, actual cost: 148.225, predicted cost: 148.442, loss incurred: 97.44053014245333\n",
      "Update for index: IX_nation_n_regionkey_n_name_n_nationkey, actual cost: 0.0, predicted cost: -0.114, loss incurred: 97.48119711533117\n",
      "Update for index: IX_customer_c_phone_c_mktsegment_c_comment_c_nationkey, actual cost: 3.706, predicted cost: 4.188, loss incurred: 98.74343734198139\n",
      "Update for index: IX_customer_c_custkey_c_nationkey_c_acctbal_c_address, actual cost: 1.372, predicted cost: 1.471, loss incurred: 99.2726580797185\n",
      "Update for index: IX_orders_o_custkey_o_orderdate_o_comment, actual cost: 25.589, predicted cost: 27.484, loss incurred: 239.02515209029497\n",
      "Update for index: IX_lineitem_l_shipinstruct_l_discount_l_tax_l_partkey, actual cost: 322.505, predicted cost: 321.610, loss incurred: 373.77805825332337\n",
      "Update for index: IX_partsupp_ps_partkey_ps_supplycost_ps_suppkey_ps_comment, actual cost: 20.052, predicted cost: 20.065, loss incurred: 373.00450707195006\n",
      "Update for index: IX_part_p_mfgr_p_comment_p_size_p_retailprice, actual cost: 9.192, predicted cost: 9.083, loss incurred: 373.54590113069787\n",
      "Update for index: IX_nation_n_comment_n_nationkey_n_name_n_regionkey, actual cost: 0.0, predicted cost: -0.048, loss incurred: 373.58137523305163\n",
      "Update for index: IX_partsupp_ps_supplycost_ps_partkey, actual cost: 14.538, predicted cost: 14.653, loss incurred: 374.20388137652907\n",
      "Update for index: IX_partsupp_ps_suppkey_ps_comment_ps_supplycost_ps_availqty, actual cost: 18.305, predicted cost: 18.223, loss incurred: 374.3239536475692\n",
      "Update for index: IX_lineitem_l_linenumber_l_orderkey_l_shipdate_l_returnflag, actual cost: 120.123, predicted cost: 120.688, loss incurred: 430.6600679914928\n",
      "Update for index: IX_region_r_name, actual cost: 0.0, predicted cost: -0.113, loss incurred: 431.4933728327614\n",
      "Update for index: IX_orders_o_orderpriority_o_orderkey_o_shippriority_o_totalprice, actual cost: 24.087, predicted cost: 22.844, loss incurred: 422.2421728634989\n",
      "Update for index: IX_supplier_s_acctbal_s_comment_s_address_s_name, actual cost: 0.286, predicted cost: 0.276, loss incurred: 420.7088860460271\n",
      "Update for index: IX_lineitem_l_discount_l_comment_l_suppkey_l_orderkey, actual cost: 268.374, predicted cost: 267.855, loss incurred: 447.7862485481173\n",
      "Update for index: IX_part_p_name_p_type_p_mfgr, actual cost: 7.654, predicted cost: 7.657, loss incurred: 447.5161852806984\n",
      "Update for index: IX_orders_o_clerk_o_shippriority_o_totalprice_o_orderpriority, actual cost: 71.149, predicted cost: 73.858, loss incurred: 456.5197994231749\n",
      "Update for index: IX_region_r_name_r_regionkey_r_comment, actual cost: 0.0, predicted cost: 0.079, loss incurred: 449.24977277816964\n",
      "Update for index: IX_customer_c_address_c_phone, actual cost: 4.697, predicted cost: 4.574, loss incurred: 449.4569149057632\n",
      "Update for index: IX_partsupp_ps_supplycost_ps_suppkey_ps_partkey, actual cost: 16.763, predicted cost: 13.699, loss incurred: 459.3435768682166\n",
      "Update for index: IX_part_p_brand_p_size_p_type_p_comment, actual cost: 9.184, predicted cost: 9.057, loss incurred: 450.48340441954343\n",
      "Update for index: IX_orders_o_comment_o_orderdate_o_custkey_o_orderstatus, actual cost: 58.088, predicted cost: 59.342, loss incurred: 415.73279860061365\n",
      "Update for index: IX_part_p_partkey_p_comment_p_type_p_brand, actual cost: 2.521, predicted cost: 2.363, loss incurred: 414.5781280062617\n",
      "Update for index: IX_nation_n_name_n_comment_n_regionkey_n_nationkey, actual cost: 0.0, predicted cost: 0.039, loss incurred: 414.5503457486226\n",
      "Update for index: IX_part_p_type_p_comment_p_mfgr, actual cost: 9.317, predicted cost: 9.381, loss incurred: 414.5473500476779\n",
      "Update for index: IX_supplier_s_address_s_comment_s_phone, actual cost: 0.378, predicted cost: 0.347, loss incurred: 414.51624162313345\n",
      "Update for index: IX_lineitem_l_linenumber_l_linestatus_l_quantity_l_shipinstruct, actual cost: 308.342, predicted cost: 305.383, loss incurred: 871.757618572964\n",
      "Update for index: IX_part_p_size_p_retailprice_p_mfgr_p_brand, actual cost: 3.856, predicted cost: 4.143, loss incurred: 864.2359724502053\n",
      "Update for index: IX_orders_o_clerk_o_orderkey_o_orderstatus_o_custkey, actual cost: 56.931, predicted cost: 56.503, loss incurred: 866.7629696938691\n",
      "Update for index: IX_customer_c_phone_c_nationkey_c_comment_c_acctbal, actual cost: 3.606, predicted cost: 3.502, loss incurred: 866.5106643454599\n",
      "Update for index: IX_nation_n_name_n_comment_n_regionkey, actual cost: 0.0, predicted cost: -0.261, loss incurred: 866.4679121704621\n",
      "Update for index: IX_partsupp_ps_comment_ps_supplycost_ps_partkey_ps_availqty, actual cost: 30.244, predicted cost: 29.862, loss incurred: 867.1346619215495\n",
      "Update for index: IX_partsupp_ps_supplycost_ps_availqty_ps_suppkey_ps_comment, actual cost: 17.332, predicted cost: 17.216, loss incurred: 866.63741744571\n",
      "Update for index: IX_region_r_regionkey_r_comment, actual cost: 0.0, predicted cost: -0.252, loss incurred: 866.560106029038\n",
      "Update for index: IX_customer_c_comment_c_phone_c_mktsegment, actual cost: 4.08, predicted cost: 3.730, loss incurred: 864.9188479984812\n",
      "Update for index: IX_part_p_name_p_type_p_brand_p_comment, actual cost: 5.721, predicted cost: 7.498, loss incurred: 866.0861699676109\n",
      "Update for index: IX_partsupp_ps_supplycost_ps_comment_ps_suppkey, actual cost: 22.801, predicted cost: 21.670, loss incurred: 864.6392949274956\n",
      "Update for index: IX_customer_c_custkey_c_mktsegment_c_address_c_nationkey, actual cost: 1.758, predicted cost: 1.738, loss incurred: 863.3389322905523\n",
      "Update for index: IX_lineitem_l_extendedprice_l_tax_l_shipinstruct_l_linenumber, actual cost: 156.828, predicted cost: 157.389, loss incurred: 908.746354653246\n",
      "Update for index: IX_supplier_s_address_s_comment_s_suppkey_s_phone, actual cost: 0.292, predicted cost: 0.246, loss incurred: 908.4317680005448\n",
      "Update for index: IX_region_r_regionkey, actual cost: 0.0, predicted cost: 0.014, loss incurred: 908.3612972781716\n",
      "Update for index: IX_lineitem_l_returnflag_l_suppkey_l_shipinstruct_l_tax, actual cost: 396.546, predicted cost: 394.576, loss incurred: 1300.485722568792\n",
      "Update for index: IX_region_r_comment_r_name_r_regionkey, actual cost: 0.0, predicted cost: 0.216, loss incurred: 1296.5854694903703\n",
      "Update for index: IX_partsupp_ps_supplycost_ps_availqty_ps_comment, actual cost: 28.172, predicted cost: 24.337, loss incurred: 1310.377615369654\n",
      "Update for index: IX_supplier_s_address_s_acctbal_s_comment_s_name, actual cost: 0.775, predicted cost: 0.514, loss incurred: 1295.7946886280815\n",
      "Update for index: IX_customer_c_nationkey_c_acctbal_c_mktsegment_c_custkey, actual cost: 3.337, predicted cost: 2.887, loss incurred: 1296.985939757582\n",
      "Update for index: IX_lineitem_l_discount_l_shipinstruct, actual cost: 287.497, predicted cost: 287.968, loss incurred: 1299.83687804491\n",
      "Update for index: IX_customer_c_nationkey_c_custkey_c_comment_c_phone, actual cost: 4.084, predicted cost: 3.173, loss incurred: 1299.1895342802163\n",
      "Update for index: IX_nation_n_regionkey_n_comment_n_nationkey_n_name, actual cost: 0.0, predicted cost: 0.056, loss incurred: 1298.3596238849934\n",
      "Update for index: IX_partsupp_ps_comment_ps_availqty, actual cost: 35.731, predicted cost: 36.001, loss incurred: 1298.6560484242978\n",
      "Update for index: IX_region_r_name_r_comment_r_regionkey, actual cost: 0.0, predicted cost: 0.320, loss incurred: 1298.6212449815623\n",
      "Update for index: IX_lineitem_l_shipinstruct_l_orderkey_l_linestatus_l_commitdate, actual cost: 180.825, predicted cost: 182.808, loss incurred: 1463.0097594952106\n",
      "Update for index: IX_supplier_s_acctbal_s_comment_s_address_s_suppkey, actual cost: 0.268, predicted cost: 0.292, loss incurred: 1459.0750482365986\n",
      "Update for index: IX_nation_n_comment_n_name_n_nationkey_n_regionkey, actual cost: 0.001, predicted cost: 0.013, loss incurred: 1459.0743147584171\n",
      "Update for index: IX_region_r_regionkey_r_name, actual cost: 0.0, predicted cost: 0.067, loss incurred: 1459.0846415340632\n",
      "Update for index: IX_orders_o_totalprice_o_orderdate_o_orderkey_o_orderpriority, actual cost: 53.815, predicted cost: 52.133, loss incurred: 1431.4702375215904\n",
      "Update for index: IX_nation_n_nationkey_n_name_n_regionkey_n_comment, actual cost: 0.0, predicted cost: 0.128, loss incurred: 1428.6359284513742\n",
      "Update for index: IX_part_p_container_p_name_p_type_p_mfgr, actual cost: 6.932, predicted cost: 6.471, loss incurred: 1427.5627982561684\n",
      "Update for index: IX_lineitem_l_linestatus_l_commitdate_l_tax, actual cost: 293.186, predicted cost: 293.180, loss incurred: 1427.3641710816134\n",
      "Update for index: IX_customer_c_name_c_acctbal_c_comment_c_custkey, actual cost: 3.226, predicted cost: 3.686, loss incurred: 1427.461942471471\n",
      "Update for index: IX_part_p_mfgr_p_container_p_retailprice_p_partkey, actual cost: 12.997, predicted cost: 11.188, loss incurred: 1430.7900483090166\n",
      "Update for index: IX_partsupp_ps_comment_ps_availqty_ps_suppkey_ps_partkey, actual cost: 31.74, predicted cost: 32.536, loss incurred: 1427.9003116183662\n",
      "Update for index: IX_orders_o_totalprice_o_shippriority_o_comment_o_orderdate, actual cost: 32.149, predicted cost: 38.888, loss incurred: 1474.5211059720016\n",
      "Update for index: IX_supplier_s_suppkey_s_nationkey, actual cost: 0.152, predicted cost: 0.072, loss incurred: 1429.1146535755342\n",
      "Update for index: IX_region_r_comment, actual cost: 0.0, predicted cost: -0.480, loss incurred: 1429.0422817607894\n",
      "Update for index: IX_part_p_size_p_container_p_comment, actual cost: 5.495, predicted cost: 4.689, loss incurred: 1429.1469655808664\n",
      "Update for index: IX_orders_o_orderstatus_o_custkey_o_orderkey_o_orderdate, actual cost: 70.707, predicted cost: 64.300, loss incurred: 1457.615663665593\n",
      "Update for index: IX_orders_o_totalprice_o_orderstatus_o_shippriority_o_clerk, actual cost: 40.357, predicted cost: 56.709, loss incurred: 1654.8293854908502\n",
      "Update for index: IX_partsupp_ps_availqty_ps_supplycost_ps_comment_ps_suppkey, actual cost: 27.845, predicted cost: 27.621, loss incurred: 1387.5283845149838\n",
      "Update for index: IX_partsupp_ps_availqty_ps_suppkey_ps_supplycost_ps_comment, actual cost: 27.943, predicted cost: 25.942, loss incurred: 1391.5047780235861\n",
      "Update for index: IX_region_r_comment_r_name, actual cost: 0.0, predicted cost: 0.050, loss incurred: 1387.49855467659\n",
      "Update for index: IX_customer_c_comment_c_mktsegment_c_phone_c_name, actual cost: 8.371, predicted cost: 5.829, loss incurred: 1394.7151918210432\n",
      "Update for index: IX_nation_n_regionkey_n_comment_n_nationkey, actual cost: 0.0, predicted cost: -0.097, loss incurred: 1388.2517398753282\n",
      "Update for index: IX_lineitem_l_receiptdate_l_linenumber_l_discount_l_commitdate, actual cost: 195.996, predicted cost: 192.486, loss incurred: 1414.1818846028023\n",
      "Update for index: IX_customer_c_address_c_phone_c_name_c_custkey, actual cost: 4.186, predicted cost: 4.786, loss incurred: 1401.7086759539486\n",
      "Update for index: IX_part_p_name_p_partkey_p_comment, actual cost: 8.741, predicted cost: 5.020, loss incurred: 1413.849449662563\n",
      "Update for index: IX_region_r_regionkey_r_comment_r_name, actual cost: 0.001, predicted cost: 0.000, loss incurred: 1400.0071391538763\n",
      "Update for index: IX_supplier_s_nationkey_s_suppkey_s_phone_s_comment, actual cost: 0.423, predicted cost: 0.552, loss incurred: 1399.8966084799945\n",
      "Update for index: IX_supplier_s_suppkey_s_nationkey_s_acctbal_s_phone, actual cost: 0.221, predicted cost: 0.352, loss incurred: 1399.8759769299043\n",
      "Update for index: IX_customer_c_nationkey_c_custkey_c_mktsegment_c_name, actual cost: 3.611, predicted cost: 3.216, loss incurred: 1400.0218162114893\n",
      "Update for index: IX_supplier_s_address_s_name_s_phone_s_comment, actual cost: 0.424, predicted cost: 0.351, loss incurred: 1399.8646694885967\n",
      "Update for index: IX_supplier_s_comment_s_acctbal_s_name_s_phone, actual cost: 0.801, predicted cost: 0.515, loss incurred: 1399.9375483749916\n",
      "Update for index: IX_region_r_regionkey_r_name_r_comment, actual cost: 0.0, predicted cost: -0.012, loss incurred: 1399.8549824331114\n",
      "Update for index: IX_supplier_s_comment_s_name_s_nationkey_s_address, actual cost: 0.484, predicted cost: 0.461, loss incurred: 1399.8543586619835\n",
      "Update for index: IX_supplier_s_name_s_comment_s_phone_s_acctbal, actual cost: 0.419, predicted cost: 0.363, loss incurred: 1399.8542940716022\n",
      "Update for index: IX_supplier_s_acctbal_s_phone_s_suppkey_s_address, actual cost: 0.503, predicted cost: 0.455, loss incurred: 1399.8553581123526\n",
      "Update for index: IX_customer_c_phone_c_comment_c_name_c_mktsegment, actual cost: 8.159, predicted cost: 6.183, loss incurred: 1403.8088994980048\n",
      "Update for index: IX_lineitem_l_shipinstruct_l_partkey_l_shipdate_l_linestatus, actual cost: 307.979, predicted cost: 307.800, loss incurred: 1404.380397051316\n",
      "Update for index: IX_partsupp_ps_partkey_ps_availqty_ps_comment_ps_supplycost, actual cost: 20.511, predicted cost: 23.486, loss incurred: 1413.4010912338963\n",
      "Update for index: IX_orders_o_orderpriority_o_comment_o_totalprice_o_shippriority, actual cost: 100.263, predicted cost: 81.744, loss incurred: 1787.3540158739752\n",
      "Update for index: IX_lineitem_l_suppkey_l_returnflag_l_tax_l_receiptdate, actual cost: 175.74, predicted cost: 180.897, loss incurred: 2436.619099080851\n",
      "Update for index: IX_nation_n_nationkey_n_comment, actual cost: 0.0, predicted cost: -0.206, loss incurred: 2410.0281762998416\n",
      "Update for index: IX_customer_c_mktsegment_c_custkey_c_phone, actual cost: 2.178, predicted cost: 2.333, loss incurred: 2410.068218247861\n",
      "Update for index: IX_orders_o_shippriority_o_orderstatus_o_comment_o_orderdate, actual cost: 137.787, predicted cost: 110.106, loss incurred: 3142.749879806227\n",
      "Update for index: IX_customer_c_acctbal_c_phone_c_custkey, actual cost: 3.456, predicted cost: 3.154, loss incurred: 2376.5753772102894\n",
      "Update for index: IX_supplier_s_suppkey_s_nationkey_s_name_s_comment, actual cost: 0.241, predicted cost: 0.130, loss incurred: 2376.49156729772\n",
      "Update for index: IX_lineitem_l_extendedprice_l_suppkey_l_shipinstruct_l_discount, actual cost: 174.379, predicted cost: 164.216, loss incurred: 2507.003781119554\n",
      "Update for index: IX_partsupp_ps_supplycost_ps_availqty_ps_comment_ps_partkey, actual cost: 26.658, predicted cost: 24.836, loss incurred: 2407.871164318042\n",
      "Update for index: IX_customer_c_custkey_c_nationkey_c_mktsegment_c_name, actual cost: 1.761, predicted cost: 2.416, loss incurred: 2404.98007449631\n",
      "Update for index: IX_part_p_name_p_comment_p_retailprice_p_size, actual cost: 7.887, predicted cost: 7.070, loss incurred: 2405.218362421974\n",
      "Update for index: IX_nation_n_regionkey, actual cost: 0.0, predicted cost: 0.312, loss incurred: 2404.5290951468037\n",
      "Update for index: IX_part_p_size_p_mfgr_p_brand_p_retailprice, actual cost: 8.621, predicted cost: 7.444, loss incurred: 2405.839472859139\n",
      "Update for index: IX_lineitem_l_linenumber_l_receiptdate_l_returnflag_l_shipinstruct, actual cost: 270.076, predicted cost: 283.177, loss incurred: 2455.511415185218\n",
      "Update for index: IX_nation_n_comment, actual cost: 0.001, predicted cost: 0.366, loss incurred: 2283.778229237382\n",
      "Update for index: IX_orders_o_custkey_o_orderpriority_o_orderdate_o_comment, actual cost: 33.03, predicted cost: 35.711, loss incurred: 2286.9968927899763\n",
      "Update for index: IX_supplier_s_acctbal_s_address_s_name_s_comment, actual cost: 0.347, predicted cost: 0.521, loss incurred: 2279.821339437646\n",
      "Update for index: IX_orders_o_custkey_o_totalprice_o_clerk_o_orderkey, actual cost: 28.448, predicted cost: 15.282, loss incurred: 2440.9146939305833\n",
      "Update for index: IX_lineitem_l_orderkey_l_commitdate_l_shipinstruct_l_partkey, actual cost: 109.52, predicted cost: 95.055, loss incurred: 3577.872756052826\n",
      "Update for index: IX_supplier_s_phone_s_acctbal_s_name_s_address, actual cost: 0.341, predicted cost: 0.353, loss incurred: 3368.650291125071\n",
      "Update for index: IX_partsupp_ps_supplycost_ps_suppkey_ps_comment_ps_partkey, actual cost: 22.933, predicted cost: 18.773, loss incurred: 3391.0742224727032\n",
      "Update for index: IX_orders_o_clerk_o_orderpriority_o_comment, actual cost: 72.316, predicted cost: 77.657, loss incurred: 3407.0459891989904\n",
      "Update for index: IX_part_p_size_p_name_p_retailprice_p_type, actual cost: 5.061, predicted cost: 5.218, loss incurred: 3378.5467725182707\n",
      "Update for index: IX_partsupp_ps_comment_ps_supplycost_ps_availqty, actual cost: 32.7, predicted cost: 32.497, loss incurred: 3378.550698750562\n",
      "Update for index: IX_nation_n_nationkey_n_regionkey_n_name_n_comment, actual cost: 0.0, predicted cost: -0.015, loss incurred: 3378.508990094131\n",
      "Update for index: IX_supplier_s_phone_s_acctbal_s_suppkey_s_address, actual cost: 0.456, predicted cost: 0.338, loss incurred: 3378.505077113727\n",
      "Update for index: IX_partsupp_ps_availqty_ps_comment, actual cost: 19.058, predicted cost: 28.611, loss incurred: 3499.079103687613\n",
      "Update for index: IX_nation_n_comment_n_nationkey_n_name, actual cost: 0.0, predicted cost: 0.018, loss incurred: 3407.8264713549765\n",
      "Update for index: IX_partsupp_ps_partkey_ps_comment_ps_availqty, actual cost: 19.622, predicted cost: 22.135, loss incurred: 3415.850670846555\n",
      "Update for index: IX_orders_o_clerk_o_comment_o_orderpriority_o_orderstatus, actual cost: 64.163, predicted cost: 77.647, loss incurred: 3582.382847731498\n",
      "Update for index: IX_lineitem_l_shipdate_l_tax_l_commitdate, actual cost: 142.677, predicted cost: 126.914, loss incurred: 1900.7360600852508\n",
      "Update for index: IX_region_r_name_r_regionkey, actual cost: 0.001, predicted cost: -0.094, loss incurred: 1652.2767759252424\n",
      "Update for index: IX_part_p_retailprice_p_type_p_size_p_brand, actual cost: 4.153, predicted cost: 4.657, loss incurred: 1652.5483592516953\n",
      "Update for index: IX_lineitem_l_shipmode_l_tax_l_suppkey_l_linenumber, actual cost: 188.521, predicted cost: 188.011, loss incurred: 1643.9278961729653\n",
      "Update for index: IX_part_p_comment_p_retailprice_p_brand_p_name, actual cost: 5.225, predicted cost: 5.589, loss incurred: 1643.8094317056434\n",
      "Update for index: IX_nation_n_regionkey_n_nationkey_n_comment_n_name, actual cost: 0.0, predicted cost: 0.093, loss incurred: 1643.6992950660094\n",
      "Update for index: IX_partsupp_ps_supplycost_ps_suppkey_ps_partkey_ps_comment, actual cost: 23.832, predicted cost: 18.916, loss incurred: 1671.303116442134\n"
     ]
    },
    {
     "name": "stderr",
     "output_type": "stream",
     "text": [
      "\n"
     ]
    }
   ],
   "source": [
    "connection = start_connection()\n",
    "\n",
    "#index_creation_cost = {}\n",
    "for index in tqdm(train_indexes, desc=\"Update step:\"):\n",
    "    #cost = create_nonclustered_index_object(connection, index)\n",
    "    #index_creation_cost[index.index_id] = cost\n",
    "    #drop_noncluster_index_object(connection, index)\n",
    "    \n",
    "    cost = index_creation_cost[index.index_id]\n",
    "    model.update(index, cost, verbose=True)  \n",
    "\n",
    "close_connection(connection)"
   ]
  },
  {
   "cell_type": "code",
   "execution_count": 33,
   "metadata": {},
   "outputs": [
    {
     "data": {
      "text/plain": [
       "array([-1.73468369e-01,  2.76803497e-06, -4.03269614e-03,  3.58760797e-01,\n",
       "       -4.27611631e-01,  6.01552409e-01,  2.75417817e+00, -5.14255722e-01,\n",
       "       -5.62274485e-01,  1.22893127e+00,  2.95039355e-01,  1.82161976e+00,\n",
       "        1.89698809e+01,  1.57692618e+01, -1.58712901e+01,  2.70196853e+01,\n",
       "       -5.22789252e+01,  1.94212716e+01,  4.72628925e+01,  3.95143512e+01,\n",
       "       -1.66965996e+01,  5.04230850e+01, -4.70750477e+01,  1.08312105e+02,\n",
       "        2.81590208e+00,  3.18922953e+01,  1.67195731e+02, -1.03062919e+02,\n",
       "        1.58172554e+02, -6.29848832e+01, -9.59775068e+00,  2.39230342e+02,\n",
       "       -1.37446283e+01,  6.16808706e+01,  5.12606256e+01, -7.88247494e+01,\n",
       "       -2.15780475e+01,  2.90235997e+00,  8.55043119e-01,  1.48706116e+00,\n",
       "        6.07300269e+00,  2.19323415e+00, -1.74145465e+00, -4.73164228e-01,\n",
       "        9.83171746e-02,  1.28436359e+00,  6.76253058e-01,  7.34296486e-01,\n",
       "        8.99537868e-01,  5.68492811e-01,  6.78309245e-01,  8.25319516e-01,\n",
       "        6.33230493e-01,  2.29717292e+00,  9.91509461e+00, -4.57788047e+00,\n",
       "       -6.04652497e+00,  5.71599501e-01,  4.77989569e-01,  3.22616786e-01,\n",
       "        3.64601804e-01,  4.78885059e-01,  2.89026551e-01,  4.41474476e-01,\n",
       "        7.04389253e-01])"
      ]
     },
     "execution_count": 33,
     "metadata": {},
     "output_type": "execute_result"
    }
   ],
   "source": [
    "model.theta"
   ]
  },
  {
   "cell_type": "code",
   "execution_count": 30,
   "metadata": {},
   "outputs": [],
   "source": [
    "# save the trained model and index_creation_cost to pickle files\n",
    "with open('model.pkl', 'wb') as f:\n",
    "    pickle.dump(model, f)\n",
    "\n",
    "with open('index_creation_cost.pkl', 'wb') as f:\n",
    "    pickle.dump(index_creation_cost, f)\n",
    "\n",
    "\n",
    "# load the trained model and index_creation_cost from pickle files\n",
    "with open('model.pkl', 'rb') as f:\n",
    "    model = pickle.load(f)\n",
    " \n",
    "with open('index_creation_cost.pkl', 'rb') as f:\n",
    "   index_creation_cost = pickle.load(f)    "
   ]
  },
  {
   "cell_type": "code",
   "execution_count": 36,
   "metadata": {},
   "outputs": [
    {
     "name": "stdout",
     "output_type": "stream",
     "text": [
      "Index: IX_nation_n_name_n_nationkey_n_regionkey_n_comment, actual cost: 0.003, predicted cost: 0.013, loss: 1937.490\n",
      "Index: IX_nation_n_nationkey_n_name_n_comment, actual cost: 0.001, predicted cost: 0.014, loss: 1937.490\n",
      "Index: IX_nation_n_nationkey_n_regionkey_n_comment, actual cost: 0.001, predicted cost: 0.030, loss: 1937.491\n",
      "Index: IX_orders_o_orderpriority_o_shippriority_o_orderkey_o_totalprice, actual cost: 42.696, predicted cost: 64.013, loss: 2391.895\n",
      "Index: IX_part_p_size_p_partkey_p_brand_p_mfgr, actual cost: 2.390, predicted cost: 4.648, loss: 1942.590\n",
      "Index: IX_orders_o_orderpriority_o_orderstatus_o_orderkey, actual cost: 58.229, predicted cost: 69.796, loss: 2071.281\n",
      "Index: IX_orders_o_orderstatus_o_clerk_o_orderdate_o_shippriority, actual cost: 109.002, predicted cost: 108.452, loss: 1937.792\n",
      "Index: IX_part_p_name_p_brand_p_type_p_container, actual cost: 6.547, predicted cost: 8.102, loss: 1939.907\n",
      "Index: IX_lineitem_l_quantity_l_returnflag_l_receiptdate_l_extendedprice, actual cost: 210.971, predicted cost: 222.525, loss: 2070.975\n",
      "Index: IX_part_p_size_p_comment_p_retailprice_p_brand, actual cost: 6.987, predicted cost: 4.700, loss: 1942.719\n",
      "Index: IX_orders_o_clerk_o_orderdate_o_comment_o_shippriority, actual cost: 85.042, predicted cost: 81.363, loss: 1951.027\n",
      "Index: IX_region_r_name_r_comment, actual cost: 0.001, predicted cost: -0.147, loss: 1937.512\n",
      "Index: IX_supplier_s_phone_s_comment, actual cost: 0.592, predicted cost: 0.669, loss: 1937.496\n",
      "Index: IX_customer_c_phone_c_custkey_c_address_c_acctbal, actual cost: 7.050, predicted cost: 4.446, loss: 1944.272\n",
      "Index: IX_orders_o_orderpriority_o_custkey_o_comment, actual cost: 78.726, predicted cost: 55.305, loss: 2486.025\n",
      "Index: IX_nation_n_nationkey_n_comment_n_regionkey, actual cost: 0.000, predicted cost: -0.025, loss: 1937.491\n",
      "Index: IX_partsupp_ps_suppkey_ps_supplycost, actual cost: 12.093, predicted cost: 15.166, loss: 1946.935\n",
      "Index: IX_supplier_s_phone_s_name_s_comment_s_suppkey, actual cost: 0.302, predicted cost: 0.366, loss: 1937.494\n",
      "Index: IX_supplier_s_comment_s_nationkey_s_phone_s_name, actual cost: 0.439, predicted cost: 0.493, loss: 1937.493\n",
      "Index: IX_customer_c_phone_c_address_c_comment_c_mktsegment, actual cost: 4.219, predicted cost: 5.382, loss: 1938.843\n",
      "Index: IX_nation_n_regionkey_n_name_n_comment_n_nationkey, actual cost: 0.000, predicted cost: 0.060, loss: 1937.494\n",
      "Index: IX_lineitem_l_receiptdate_l_commitdate_l_tax_l_returnflag, actual cost: 147.657, predicted cost: 143.020, loss: 1958.991\n",
      "Index: IX_customer_c_name_c_custkey_c_address, actual cost: 4.261, predicted cost: 3.939, loss: 1937.594\n",
      "Index: IX_region_r_comment_r_regionkey_r_name, actual cost: 0.000, predicted cost: 0.083, loss: 1937.497\n",
      "Index: IX_customer_c_name_c_mktsegment_c_phone_c_comment, actual cost: 4.555, predicted cost: 4.414, loss: 1937.510\n",
      "Index: IX_nation_n_name_n_regionkey_n_comment, actual cost: 0.000, predicted cost: 0.079, loss: 1937.496\n",
      "Index: IX_part_p_comment_p_mfgr_p_container_p_type, actual cost: 5.978, predicted cost: 8.356, loss: 1943.143\n",
      "Index: IX_region_r_comment_r_regionkey, actual cost: 0.000, predicted cost: -0.073, loss: 1937.495\n",
      "Index: IX_lineitem_l_commitdate_l_discount_l_quantity_l_comment, actual cost: 148.225, predicted cost: 143.101, loss: 1963.744\n",
      "Index: IX_nation_n_regionkey_n_name_n_nationkey, actual cost: 0.000, predicted cost: -0.036, loss: 1937.491\n",
      "Index: IX_customer_c_phone_c_mktsegment_c_comment_c_nationkey, actual cost: 3.706, predicted cost: 4.993, loss: 1939.147\n",
      "Index: IX_customer_c_custkey_c_nationkey_c_acctbal_c_address, actual cost: 1.372, predicted cost: 2.467, loss: 1938.689\n",
      "Index: IX_orders_o_custkey_o_orderdate_o_comment, actual cost: 25.589, predicted cost: 41.384, loss: 2186.983\n",
      "Index: IX_lineitem_l_shipinstruct_l_discount_l_tax_l_partkey, actual cost: 322.505, predicted cost: 336.929, loss: 2145.531\n",
      "Index: IX_partsupp_ps_partkey_ps_supplycost_ps_suppkey_ps_comment, actual cost: 20.052, predicted cost: 16.784, loss: 1948.170\n",
      "Index: IX_part_p_mfgr_p_comment_p_size_p_retailprice, actual cost: 9.192, predicted cost: 10.423, loss: 1939.005\n",
      "Index: IX_nation_n_comment_n_nationkey_n_name_n_regionkey, actual cost: 0.000, predicted cost: -0.122, loss: 1937.505\n",
      "Index: IX_partsupp_ps_supplycost_ps_partkey, actual cost: 14.538, predicted cost: 19.184, loss: 1959.074\n",
      "Index: IX_partsupp_ps_suppkey_ps_comment_ps_supplycost_ps_availqty, actual cost: 18.305, predicted cost: 20.734, loss: 1943.390\n",
      "Index: IX_lineitem_l_linenumber_l_orderkey_l_shipdate_l_returnflag, actual cost: 120.123, predicted cost: 159.679, loss: 3502.156\n",
      "Index: IX_region_r_name, actual cost: 0.000, predicted cost: -0.841, loss: 1938.197\n",
      "Index: IX_orders_o_orderpriority_o_orderkey_o_shippriority_o_totalprice, actual cost: 24.087, predicted cost: 41.052, loss: 2225.287\n",
      "Index: IX_supplier_s_acctbal_s_comment_s_address_s_name, actual cost: 0.286, predicted cost: 0.489, loss: 1937.531\n",
      "Index: IX_lineitem_l_discount_l_comment_l_suppkey_l_orderkey, actual cost: 268.374, predicted cost: 255.615, loss: 2100.281\n",
      "Index: IX_part_p_name_p_type_p_mfgr, actual cost: 7.654, predicted cost: 8.397, loss: 1938.042\n",
      "Index: IX_orders_o_clerk_o_shippriority_o_totalprice_o_orderpriority, actual cost: 71.149, predicted cost: 76.938, loss: 1970.997\n",
      "Index: IX_region_r_name_r_regionkey_r_comment, actual cost: 0.000, predicted cost: 0.555, loss: 1937.798\n",
      "Index: IX_customer_c_address_c_phone, actual cost: 4.697, predicted cost: 4.526, loss: 1937.519\n",
      "Index: IX_partsupp_ps_supplycost_ps_suppkey_ps_partkey, actual cost: 16.763, predicted cost: 17.562, loss: 1938.129\n",
      "Index: IX_part_p_brand_p_size_p_type_p_comment, actual cost: 9.184, predicted cost: 7.391, loss: 1940.705\n",
      "Index: IX_orders_o_comment_o_orderdate_o_custkey_o_orderstatus, actual cost: 58.088, predicted cost: 71.166, loss: 2108.529\n",
      "Index: IX_part_p_partkey_p_comment_p_type_p_brand, actual cost: 2.521, predicted cost: 3.298, loss: 1938.094\n",
      "Index: IX_nation_n_name_n_comment_n_regionkey_n_nationkey, actual cost: 0.000, predicted cost: -0.032, loss: 1937.491\n",
      "Index: IX_part_p_type_p_comment_p_mfgr, actual cost: 9.317, predicted cost: 7.230, loss: 1941.844\n",
      "Index: IX_supplier_s_address_s_comment_s_phone, actual cost: 0.378, predicted cost: 0.512, loss: 1937.508\n",
      "Index: IX_lineitem_l_linenumber_l_linestatus_l_quantity_l_shipinstruct, actual cost: 308.342, predicted cost: 269.209, loss: 3468.895\n",
      "Index: IX_part_p_size_p_retailprice_p_mfgr_p_brand, actual cost: 3.856, predicted cost: 5.717, loss: 1940.952\n",
      "Index: IX_orders_o_clerk_o_orderkey_o_orderstatus_o_custkey, actual cost: 56.931, predicted cost: 42.575, loss: 2143.594\n",
      "Index: IX_customer_c_phone_c_nationkey_c_comment_c_acctbal, actual cost: 3.606, predicted cost: 5.354, loss: 1940.546\n",
      "Index: IX_nation_n_name_n_comment_n_regionkey, actual cost: 0.000, predicted cost: 0.024, loss: 1937.491\n",
      "Index: IX_partsupp_ps_comment_ps_supplycost_ps_partkey_ps_availqty, actual cost: 30.244, predicted cost: 30.725, loss: 1937.722\n",
      "Index: IX_partsupp_ps_supplycost_ps_availqty_ps_suppkey_ps_comment, actual cost: 17.332, predicted cost: 22.824, loss: 1967.654\n",
      "Index: IX_region_r_regionkey_r_comment, actual cost: 0.000, predicted cost: 0.787, loss: 1938.109\n",
      "Index: IX_customer_c_comment_c_phone_c_mktsegment, actual cost: 4.080, predicted cost: 6.403, loss: 1942.887\n",
      "Index: IX_part_p_name_p_type_p_brand_p_comment, actual cost: 5.721, predicted cost: 7.556, loss: 1940.858\n",
      "Index: IX_partsupp_ps_supplycost_ps_comment_ps_suppkey, actual cost: 22.801, predicted cost: 25.284, loss: 1943.654\n",
      "Index: IX_customer_c_custkey_c_mktsegment_c_address_c_nationkey, actual cost: 1.758, predicted cost: 2.158, loss: 1937.650\n",
      "Index: IX_lineitem_l_extendedprice_l_tax_l_shipinstruct_l_linenumber, actual cost: 156.828, predicted cost: 180.739, loss: 2509.207\n",
      "Index: IX_supplier_s_address_s_comment_s_suppkey_s_phone, actual cost: 0.292, predicted cost: 0.355, loss: 1937.494\n",
      "Index: IX_region_r_regionkey, actual cost: 0.000, predicted cost: -3.207, loss: 1947.773\n",
      "Index: IX_lineitem_l_returnflag_l_suppkey_l_shipinstruct_l_tax, actual cost: 396.546, predicted cost: 398.922, loss: 1943.134\n",
      "Index: IX_region_r_comment_r_name_r_regionkey, actual cost: 0.000, predicted cost: -0.190, loss: 1937.526\n",
      "Index: IX_partsupp_ps_supplycost_ps_availqty_ps_comment, actual cost: 28.172, predicted cost: 25.453, loss: 1944.885\n",
      "Index: IX_supplier_s_address_s_acctbal_s_comment_s_name, actual cost: 0.775, predicted cost: 0.452, loss: 1937.594\n",
      "Index: IX_customer_c_nationkey_c_acctbal_c_mktsegment_c_custkey, actual cost: 3.337, predicted cost: 2.698, loss: 1937.898\n",
      "Index: IX_lineitem_l_discount_l_shipinstruct, actual cost: 287.497, predicted cost: 303.520, loss: 2194.240\n",
      "Index: IX_customer_c_nationkey_c_custkey_c_comment_c_phone, actual cost: 4.084, predicted cost: 3.663, loss: 1937.667\n",
      "Index: IX_nation_n_regionkey_n_comment_n_nationkey_n_name, actual cost: 0.000, predicted cost: 0.021, loss: 1937.490\n",
      "Index: IX_partsupp_ps_comment_ps_availqty, actual cost: 35.731, predicted cost: 32.081, loss: 1950.813\n",
      "Index: IX_region_r_name_r_comment_r_regionkey, actual cost: 0.000, predicted cost: 0.125, loss: 1937.506\n",
      "Index: IX_lineitem_l_shipinstruct_l_orderkey_l_linestatus_l_commitdate, actual cost: 180.825, predicted cost: 257.813, loss: 7864.584\n",
      "Index: IX_supplier_s_acctbal_s_comment_s_address_s_suppkey, actual cost: 0.268, predicted cost: 0.448, loss: 1937.522\n",
      "Index: IX_nation_n_comment_n_name_n_nationkey_n_regionkey, actual cost: 0.001, predicted cost: -0.116, loss: 1937.504\n",
      "Index: IX_region_r_regionkey_r_name, actual cost: 0.000, predicted cost: 0.249, loss: 1937.552\n",
      "Index: IX_orders_o_totalprice_o_orderdate_o_orderkey_o_orderpriority, actual cost: 53.815, predicted cost: 26.108, loss: 2705.183\n",
      "Index: IX_nation_n_nationkey_n_name_n_regionkey_n_comment, actual cost: 0.000, predicted cost: 0.001, loss: 1937.490\n",
      "Index: IX_part_p_container_p_name_p_type_p_mfgr, actual cost: 6.932, predicted cost: 7.591, loss: 1937.925\n",
      "Index: IX_lineitem_l_linestatus_l_commitdate_l_tax, actual cost: 293.186, predicted cost: 263.992, loss: 2789.759\n",
      "Index: IX_customer_c_name_c_acctbal_c_comment_c_custkey, actual cost: 3.226, predicted cost: 4.522, loss: 1939.171\n",
      "Index: IX_part_p_mfgr_p_container_p_retailprice_p_partkey, actual cost: 12.997, predicted cost: 10.468, loss: 1943.885\n",
      "Index: IX_partsupp_ps_comment_ps_availqty_ps_suppkey_ps_partkey, actual cost: 31.740, predicted cost: 30.361, loss: 1939.392\n",
      "Index: IX_orders_o_totalprice_o_shippriority_o_comment_o_orderdate, actual cost: 32.149, predicted cost: 50.283, loss: 2266.329\n",
      "Index: IX_supplier_s_suppkey_s_nationkey, actual cost: 0.152, predicted cost: 0.311, loss: 1937.515\n",
      "Index: IX_region_r_comment, actual cost: 0.000, predicted cost: -0.618, loss: 1937.872\n",
      "Index: IX_part_p_size_p_container_p_comment, actual cost: 5.495, predicted cost: 5.126, loss: 1937.626\n",
      "Index: IX_orders_o_orderstatus_o_custkey_o_orderkey_o_orderdate, actual cost: 70.707, predicted cost: 69.579, loss: 1938.761\n",
      "Index: IX_orders_o_totalprice_o_orderstatus_o_shippriority_o_clerk, actual cost: 40.357, predicted cost: 59.124, loss: 2289.697\n",
      "Index: IX_partsupp_ps_availqty_ps_supplycost_ps_comment_ps_suppkey, actual cost: 27.845, predicted cost: 25.674, loss: 1942.201\n",
      "Index: IX_partsupp_ps_availqty_ps_suppkey_ps_supplycost_ps_comment, actual cost: 27.943, predicted cost: 22.026, loss: 1972.498\n",
      "Index: IX_region_r_comment_r_name, actual cost: 0.000, predicted cost: -0.462, loss: 1937.704\n",
      "Index: IX_customer_c_comment_c_mktsegment_c_phone_c_name, actual cost: 8.371, predicted cost: 5.787, loss: 1944.166\n",
      "Index: IX_nation_n_regionkey_n_comment_n_nationkey, actual cost: 0.000, predicted cost: 0.049, loss: 1937.492\n",
      "Index: IX_lineitem_l_receiptdate_l_linenumber_l_discount_l_commitdate, actual cost: 195.996, predicted cost: 174.272, loss: 2409.435\n",
      "Index: IX_customer_c_address_c_phone_c_name_c_custkey, actual cost: 4.186, predicted cost: 4.279, loss: 1937.499\n",
      "Index: IX_part_p_name_p_partkey_p_comment, actual cost: 8.741, predicted cost: 5.624, loss: 1947.206\n",
      "Index: IX_region_r_regionkey_r_comment_r_name, actual cost: 0.001, predicted cost: 0.943, loss: 1938.377\n",
      "Index: IX_supplier_s_nationkey_s_suppkey_s_phone_s_comment, actual cost: 0.423, predicted cost: 0.376, loss: 1937.492\n",
      "Index: IX_supplier_s_suppkey_s_nationkey_s_acctbal_s_phone, actual cost: 0.221, predicted cost: 0.158, loss: 1937.494\n",
      "Index: IX_customer_c_nationkey_c_custkey_c_mktsegment_c_name, actual cost: 3.611, predicted cost: 2.722, loss: 1938.281\n",
      "Index: IX_supplier_s_address_s_name_s_phone_s_comment, actual cost: 0.424, predicted cost: 0.421, loss: 1937.490\n",
      "Index: IX_supplier_s_comment_s_acctbal_s_name_s_phone, actual cost: 0.801, predicted cost: 0.474, loss: 1937.597\n",
      "Index: IX_region_r_regionkey_r_name_r_comment, actual cost: 0.000, predicted cost: 1.100, loss: 1938.701\n",
      "Index: IX_supplier_s_comment_s_name_s_nationkey_s_address, actual cost: 0.484, predicted cost: 0.482, loss: 1937.490\n",
      "Index: IX_supplier_s_name_s_comment_s_phone_s_acctbal, actual cost: 0.419, predicted cost: 0.447, loss: 1937.491\n",
      "Index: IX_supplier_s_acctbal_s_phone_s_suppkey_s_address, actual cost: 0.503, predicted cost: 0.366, loss: 1937.509\n",
      "Index: IX_customer_c_phone_c_comment_c_name_c_mktsegment, actual cost: 8.159, predicted cost: 6.150, loss: 1941.525\n",
      "Index: IX_lineitem_l_shipinstruct_l_partkey_l_shipdate_l_linestatus, actual cost: 307.979, predicted cost: 326.734, loss: 2289.247\n",
      "Index: IX_partsupp_ps_partkey_ps_availqty_ps_comment_ps_supplycost, actual cost: 20.511, predicted cost: 20.461, loss: 1937.492\n",
      "Index: IX_orders_o_orderpriority_o_comment_o_totalprice_o_shippriority, actual cost: 100.263, predicted cost: 68.120, loss: 2970.685\n",
      "Index: IX_lineitem_l_suppkey_l_returnflag_l_tax_l_receiptdate, actual cost: 175.740, predicted cost: 184.233, loss: 2009.613\n",
      "Index: IX_nation_n_nationkey_n_comment, actual cost: 0.000, predicted cost: 0.057, loss: 1937.493\n",
      "Index: IX_customer_c_mktsegment_c_custkey_c_phone, actual cost: 2.178, predicted cost: 2.544, loss: 1937.624\n",
      "Index: IX_orders_o_shippriority_o_orderstatus_o_comment_o_orderdate, actual cost: 137.787, predicted cost: 110.369, loss: 2689.259\n",
      "Index: IX_customer_c_acctbal_c_phone_c_custkey, actual cost: 3.456, predicted cost: 3.653, loss: 1937.529\n",
      "Index: IX_supplier_s_suppkey_s_nationkey_s_name_s_comment, actual cost: 0.241, predicted cost: 0.200, loss: 1937.492\n",
      "Index: IX_lineitem_l_extendedprice_l_suppkey_l_shipinstruct_l_discount, actual cost: 174.379, predicted cost: 147.750, loss: 2646.607\n",
      "Index: IX_partsupp_ps_supplycost_ps_availqty_ps_comment_ps_partkey, actual cost: 26.658, predicted cost: 24.998, loss: 1940.246\n",
      "Index: IX_customer_c_custkey_c_nationkey_c_mktsegment_c_name, actual cost: 1.761, predicted cost: 2.415, loss: 1937.918\n",
      "Index: IX_part_p_name_p_comment_p_retailprice_p_size, actual cost: 7.887, predicted cost: 6.441, loss: 1939.581\n",
      "Index: IX_nation_n_regionkey, actual cost: 0.000, predicted cost: -0.170, loss: 1937.519\n",
      "Index: IX_part_p_size_p_mfgr_p_brand_p_retailprice, actual cost: 8.621, predicted cost: 7.758, loss: 1938.235\n",
      "Index: IX_lineitem_l_linenumber_l_receiptdate_l_returnflag_l_shipinstruct, actual cost: 270.076, predicted cost: 270.172, loss: 1937.499\n",
      "Index: IX_nation_n_comment, actual cost: 0.001, predicted cost: 0.220, loss: 1937.538\n",
      "Index: IX_orders_o_custkey_o_orderpriority_o_orderdate_o_comment, actual cost: 33.030, predicted cost: 42.656, loss: 2030.157\n",
      "Index: IX_supplier_s_acctbal_s_address_s_name_s_comment, actual cost: 0.347, predicted cost: 0.479, loss: 1937.507\n",
      "Index: IX_orders_o_custkey_o_totalprice_o_clerk_o_orderkey, actual cost: 28.448, predicted cost: 13.966, loss: 2147.232\n",
      "Index: IX_lineitem_l_orderkey_l_commitdate_l_shipinstruct_l_partkey, actual cost: 109.520, predicted cost: 19.439, loss: 10052.116\n",
      "Index: IX_supplier_s_phone_s_acctbal_s_name_s_address, actual cost: 0.341, predicted cost: 0.408, loss: 1937.494\n",
      "Index: IX_partsupp_ps_supplycost_ps_suppkey_ps_comment_ps_partkey, actual cost: 22.933, predicted cost: 20.838, loss: 1941.879\n",
      "Index: IX_orders_o_clerk_o_orderpriority_o_comment, actual cost: 72.316, predicted cost: 72.444, loss: 1937.506\n",
      "Index: IX_part_p_size_p_name_p_retailprice_p_type, actual cost: 5.061, predicted cost: 5.148, loss: 1937.497\n",
      "Index: IX_partsupp_ps_comment_ps_supplycost_ps_availqty, actual cost: 32.700, predicted cost: 32.042, loss: 1937.923\n",
      "Index: IX_nation_n_nationkey_n_regionkey_n_name_n_comment, actual cost: 0.000, predicted cost: 0.019, loss: 1937.490\n",
      "Index: IX_supplier_s_phone_s_acctbal_s_suppkey_s_address, actual cost: 0.456, predicted cost: 0.324, loss: 1937.507\n",
      "Index: IX_partsupp_ps_availqty_ps_comment, actual cost: 19.058, predicted cost: 28.258, loss: 2022.126\n",
      "Index: IX_nation_n_comment_n_nationkey_n_name, actual cost: 0.000, predicted cost: -0.082, loss: 1937.497\n",
      "Index: IX_partsupp_ps_partkey_ps_comment_ps_availqty, actual cost: 19.622, predicted cost: 22.178, loss: 1944.023\n",
      "Index: IX_orders_o_clerk_o_comment_o_orderpriority_o_orderstatus, actual cost: 64.163, predicted cost: 77.624, loss: 2118.686\n",
      "Index: IX_lineitem_l_shipdate_l_tax_l_commitdate, actual cost: 142.677, predicted cost: 157.849, loss: 2167.688\n",
      "Index: IX_region_r_name_r_regionkey, actual cost: 0.001, predicted cost: -0.296, loss: 1937.578\n",
      "Index: IX_part_p_retailprice_p_type_p_size_p_brand, actual cost: 4.153, predicted cost: 4.538, loss: 1937.638\n",
      "Index: IX_lineitem_l_shipmode_l_tax_l_suppkey_l_linenumber, actual cost: 188.521, predicted cost: 219.238, loss: 2881.040\n",
      "Index: IX_part_p_comment_p_retailprice_p_brand_p_name, actual cost: 5.225, predicted cost: 5.625, loss: 1937.650\n",
      "Index: IX_nation_n_regionkey_n_nationkey_n_comment_n_name, actual cost: 0.000, predicted cost: 0.051, loss: 1937.493\n",
      "Index: IX_partsupp_ps_supplycost_ps_suppkey_ps_partkey_ps_comment, actual cost: 23.832, predicted cost: 19.020, loss: 1960.642\n"
     ]
    }
   ],
   "source": [
    "# evaluate the model on the training set\n",
    "for index in train_indexes:\n",
    "    cost = index_creation_cost[index.index_id]\n",
    "    x = model.feature_vectors[index.index_id]\n",
    "    y = index_creation_cost[index.index_id]\n",
    "    loss, y_pred = model.compute_loss(x, y)\n",
    "    print(f\"Index: {index.index_id}, actual cost: {y:.3f}, predicted cost: {y_pred:.3f}, loss: {loss:.3f}\")\n",
    "    "
   ]
  },
  {
   "cell_type": "markdown",
   "metadata": {},
   "source": [
    "#### Make predictions for some test indexes."
   ]
  },
  {
   "cell_type": "code",
   "execution_count": 62,
   "metadata": {},
   "outputs": [
    {
     "name": "stdout",
     "output_type": "stream",
     "text": [
      "All 0 nonclustered indexes removed.\n"
     ]
    },
    {
     "name": "stderr",
     "output_type": "stream",
     "text": [
      "Measuring index creation cost::  20%|██        | 2/10 [00:11<00:39,  5.00s/it]"
     ]
    }
   ],
   "source": [
    "# make predictions for some test indexes and compare with actual costs\n",
    "connection = start_connection()\n",
    "\n",
    "remove_all_nonclustered_indexes(connection)\n",
    "\n",
    "test_indexes_sample = random.sample(test_indexes, 10)\n",
    "test_index_creation_cost = {}\n",
    "for index in tqdm(test_indexes_sample, desc=\"Measuring index creation cost:\"):\n",
    "    test_index_creation_cost[index.index_id] = create_nonclustered_index_object(connection, index)\n",
    "    drop_noncluster_index_object(connection, index)\n",
    "\n",
    "close_connection(connection)"
   ]
  },
  {
   "cell_type": "code",
   "execution_count": null,
   "metadata": {},
   "outputs": [
    {
     "name": "stdout",
     "output_type": "stream",
     "text": [
      "Index: IX_lineitem_l_comment_l_receiptdate_l_linenumber, actual cost: 274.219, predicted cost: 286.416, loss: 2086.250\n",
      "Index: IX_lineitem_l_shipdate_l_shipinstruct_l_linestatus_l_comment, actual cost: 346.617, predicted cost: 305.457, loss: 3631.622\n",
      "Index: IX_lineitem_l_commitdate_l_extendedprice_l_comment_l_shipinstruct, actual cost: 146.592, predicted cost: 149.150, loss: 1944.033\n",
      "Index: IX_lineitem_l_orderkey_l_linestatus_l_returnflag_l_receiptdate, actual cost: 108.434, predicted cost: 141.336, loss: 3020.012\n",
      "Index: IX_lineitem_l_returnflag_l_shipinstruct_l_comment_l_shipdate, actual cost: 663.585, predicted cost: 519.633, loss: 22659.682\n",
      "Index: IX_lineitem_l_returnflag_l_commitdate_l_shipdate_l_linestatus, actual cost: 291.688, predicted cost: 408.001, loss: 15466.309\n",
      "Index: IX_lineitem_l_tax_l_shipmode_l_orderkey_l_comment, actual cost: 195.396, predicted cost: 163.028, loss: 2985.174\n",
      "Index: IX_lineitem_l_comment_l_receiptdate_l_orderkey_l_linestatus, actual cost: 218.527, predicted cost: 258.468, loss: 3532.793\n",
      "Index: IX_customer_c_acctbal_c_custkey_c_phone_c_mktsegment, actual cost: 3.558, predicted cost: 2.879, loss: 1937.951\n",
      "Index: IX_lineitem_l_shipmode_l_receiptdate_l_commitdate_l_comment, actual cost: 257.846, predicted cost: 242.332, loss: 2178.165\n"
     ]
    }
   ],
   "source": [
    "test_losses = []\n",
    "for index in test_indexes_sample:\n",
    "    x = model.feature_vectors[index.index_id]\n",
    "    y = test_index_creation_cost[index.index_id]\n",
    "    loss, y_pred = model.compute_loss(x, y)\n",
    "    test_losses.append(loss)\n",
    "    print(f\"Index: {index.index_id}, actual cost: {y:.3f}, predicted cost: {y_pred:.3f}, loss: {loss:.3f}\")\n"
   ]
  },
  {
   "cell_type": "code",
   "execution_count": 34,
   "metadata": {},
   "outputs": [
    {
     "name": "stdout",
     "output_type": "stream",
     "text": [
      "Update for index: IX_lineitem_l_comment_l_receiptdate_l_linenumber, actual cost: 274.219, predicted cost: 269.908, loss incurred: 1525.446012703173\n",
      "Update for index: IX_lineitem_l_shipdate_l_shipinstruct_l_linestatus_l_comment, actual cost: 346.617, predicted cost: 315.305, loss incurred: 2921.7615791977755\n",
      "Update for index: IX_lineitem_l_commitdate_l_extendedprice_l_comment_l_shipinstruct, actual cost: 146.592, predicted cost: 152.170, loss incurred: 1973.3132510139199\n",
      "Update for index: IX_lineitem_l_orderkey_l_linestatus_l_returnflag_l_receiptdate, actual cost: 108.434, predicted cost: 146.769, loss incurred: 3067.965257182248\n",
      "Update for index: IX_lineitem_l_returnflag_l_shipinstruct_l_comment_l_shipdate, actual cost: 663.585, predicted cost: 591.249, loss incurred: 8147.090937752186\n",
      "Update for index: IX_lineitem_l_returnflag_l_commitdate_l_shipdate_l_linestatus, actual cost: 291.688, predicted cost: 405.763, loss incurred: 14996.917072220216\n",
      "Update for index: IX_lineitem_l_tax_l_shipmode_l_orderkey_l_comment, actual cost: 195.396, predicted cost: 168.646, loss incurred: 2758.9561505324173\n",
      "Update for index: IX_lineitem_l_comment_l_receiptdate_l_orderkey_l_linestatus, actual cost: 218.527, predicted cost: 257.380, loss incurred: 3416.682896433468\n",
      "Update for index: IX_customer_c_acctbal_c_custkey_c_phone_c_mktsegment, actual cost: 3.558, predicted cost: 2.878, loss incurred: 1907.5459618364134\n",
      "Update for index: IX_lineitem_l_shipmode_l_receiptdate_l_commitdate_l_comment, actual cost: 257.846, predicted cost: 242.332, loss incurred: 2178.1645787265643\n"
     ]
    }
   ],
   "source": [
    "for index in test_indexes_sample:\n",
    "    cost = test_index_creation_cost[index.index_id]\n",
    "    model.update(index, cost, verbose=True)  "
   ]
  },
  {
   "cell_type": "code",
   "execution_count": null,
   "metadata": {},
   "outputs": [],
   "source": []
  },
  {
   "cell_type": "code",
   "execution_count": null,
   "metadata": {},
   "outputs": [],
   "source": []
  },
  {
   "cell_type": "code",
   "execution_count": null,
   "metadata": {},
   "outputs": [],
   "source": []
  },
  {
   "cell_type": "code",
   "execution_count": null,
   "metadata": {},
   "outputs": [],
   "source": []
  },
  {
   "cell_type": "code",
   "execution_count": null,
   "metadata": {},
   "outputs": [],
   "source": []
  },
  {
   "cell_type": "code",
   "execution_count": null,
   "metadata": {},
   "outputs": [],
   "source": []
  }
 ],
 "metadata": {
  "kernelspec": {
   "display_name": "torch_clone_2",
   "language": "python",
   "name": "python3"
  },
  "language_info": {
   "codemirror_mode": {
    "name": "ipython",
    "version": 3
   },
   "file_extension": ".py",
   "mimetype": "text/x-python",
   "name": "python",
   "nbconvert_exporter": "python",
   "pygments_lexer": "ipython3",
   "version": "3.11.5"
  }
 },
 "nbformat": 4,
 "nbformat_minor": 2
}
