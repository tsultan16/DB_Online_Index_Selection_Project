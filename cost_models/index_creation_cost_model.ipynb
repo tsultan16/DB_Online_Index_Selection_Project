{
 "cells": [
  {
   "cell_type": "markdown",
   "metadata": {},
   "source": [
    "#### Index Creation Cost Model -  Online Ridge Regression"
   ]
  },
  {
   "cell_type": "code",
   "execution_count": 1,
   "metadata": {},
   "outputs": [],
   "source": [
    "import logging\n",
    "import datetime\n",
    "import os\n",
    "import subprocess\n",
    "import uuid\n",
    "\n",
    "import pyodbc\n",
    "import sys\n",
    "import random\n",
    "import pandas as pd\n",
    "import time\n",
    "import os\n",
    "from tqdm import tqdm\n",
    "import logging\n",
    "import re\n",
    "import json\n",
    "import xml.etree.ElementTree as ET\n",
    "import itertools\n",
    "import math\n",
    "from collections import defaultdict\n",
    "from tqdm import tqdm\n",
    "import pickle\n",
    "import numpy as np\n",
    "\n",
    "%load_ext autoreload\n",
    "%autoreload 2\n",
    "\n",
    "import IPython\n",
    "notebook_path = IPython.get_ipython().starting_dir\n",
    "target_subdirectory_path = os.path.abspath(os.path.join(os.path.dirname(notebook_path), 'database'))\n",
    "sys.path.append(target_subdirectory_path)\n",
    "from utils import *"
   ]
  },
  {
   "cell_type": "markdown",
   "metadata": {},
   "source": [
    "#### Generate all possible indexes for each table."
   ]
  },
  {
   "cell_type": "code",
   "execution_count": 2,
   "metadata": {},
   "outputs": [],
   "source": [
    "\"\"\"\n",
    "    Function for generating all possible configurations (i.e. subsets of indixes)\n",
    "\"\"\"\n",
    "def generate_all_configurations(connection, MAX_COLS=2, with_includes=False, verbose=False):\n",
    "    # first, generate all possible indices\n",
    "    tables = get_all_tables(connection)\n",
    "    all_indices = {} \n",
    "    # tqdm bar around table loop\n",
    "    for table_name, table in tqdm(tables.items(), desc=\"Generating all indices for table:\"):\n",
    "        columns = table.get_columns()\n",
    "        if verbose:\n",
    "            print(f\"Table --> {table_name} with columns --> {columns}\")\n",
    "        # get all possible permutations of columns, up to MAX_KEY_COLS columns\n",
    "        for num_columns in range(1, MAX_COLS+1):\n",
    "            col_permutations = list(itertools.permutations(columns, num_columns))\n",
    "            # also generate permutations of columns with include columns\n",
    "            for cp in col_permutations:\n",
    "                if with_includes:\n",
    "                    # get columns not in cp\n",
    "                    include_columns = list(set(columns) - set(cp))\n",
    "                    # get all comnbination of include columns on remaining columns\n",
    "                    include_col_combinations = list(itertools.combinations(include_columns, MAX_COLS-num_columns))\n",
    "                    for icp in include_col_combinations:\n",
    "                        index_id = get_index_id(cp, table_name, include_columns)\n",
    "                        if index_id not in all_indices:\n",
    "                            index_size = get_estimated_index_size(connection, table_name, list(cp) + include_columns)\n",
    "                            # create index object\n",
    "                            all_indices[index_id] = Index(table_name, index_id, cp, index_size, tuple(icp))\n",
    "                else:\n",
    "                    index_id = get_index_id(cp, table_name)\n",
    "                    if index_id not in all_indices:\n",
    "                        index_size = get_estimated_index_size(connection, table_name, list(cp))\n",
    "                        # create index object\n",
    "                        all_indices[index_id] = Index(table_name, index_id, cp, index_size)\n",
    "\n",
    "    print(f\"Total number of indices generated: {len(all_indices)}, total estimated size: {sum([i.size for i in all_indices.values()]):.2f} Mb\")\n",
    "   \n",
    "    return all_indices, tables\n"
   ]
  },
  {
   "cell_type": "code",
   "execution_count": 3,
   "metadata": {},
   "outputs": [
    {
     "name": "stderr",
     "output_type": "stream",
     "text": [
      "Generating all indices for table:: 100%|██████████| 8/8 [00:00<00:00, 484.46it/s]"
     ]
    },
    {
     "name": "stdout",
     "output_type": "stream",
     "text": [
      "Total number of indices generated: 5585, total estimated size: 824332.61 Mb\n"
     ]
    },
    {
     "name": "stderr",
     "output_type": "stream",
     "text": [
      "\n"
     ]
    }
   ],
   "source": [
    "connection = start_connection()\n",
    "\n",
    "all_indices, tables = generate_all_configurations(connection, MAX_COLS=3, with_includes=False)\n",
    "\n",
    "\n",
    "# get all columns\n",
    "all_columns, num_columns = get_all_columns(connection)\n",
    "\n",
    "columns_to_idx = {}\n",
    "i = 0\n",
    "for table_name, columns in all_columns.items():\n",
    "    for column in columns:\n",
    "        columns_to_idx[column] = i\n",
    "        i += 1\n",
    "\n",
    "idx_to_columns = {v: k for k, v in columns_to_idx.items()}  \n",
    "\n",
    "close_connection(connection)"
   ]
  },
  {
   "cell_type": "markdown",
   "metadata": {},
   "source": [
    "#### Create feature vector for each index:\n",
    "\n",
    "Feature vector consists of two parts: (1) Encoding of index and include columns, (2) Table stats"
   ]
  },
  {
   "cell_type": "code",
   "execution_count": 4,
   "metadata": {},
   "outputs": [],
   "source": [
    "def get_table_stats(connection, table_name):\n",
    "    cursor = connection.cursor()\n",
    "    cursor.execute(f\"\"\"\n",
    "                        SELECT SUM(row_count) as total_rows, SUM(used_page_count) * 8 / 1024.0 as size_mb\n",
    "                        FROM sys.dm_db_partition_stats\n",
    "                        WHERE object_id = OBJECT_ID('{table_name}')\n",
    "                    \"\"\")\n",
    "    row_count, table_size_mb = cursor.fetchone()\n",
    "    table_size_mb = float(table_size_mb) if table_size_mb is not None else 0.0\n",
    "\n",
    "    cursor.execute(f\"\"\"\n",
    "            SELECT AVG(avg_fragmentation_in_percent)\n",
    "            FROM sys.dm_db_index_physical_stats(DB_ID(), OBJECT_ID('{table_name}'), NULL, NULL, 'LIMITED')\n",
    "        \"\"\")\n",
    "    avg_fragmentation = cursor.fetchone()[0]\n",
    "    avg_fragmentation = float(avg_fragmentation) if avg_fragmentation is not None else 0.0\n",
    "\n",
    "    #cursor.execute(\"SELECT cpu_count FROM sys.dm_os_sys_info\")\n",
    "    #cpu_count = cursor.fetchone()[0]\n",
    "\n",
    "    num_columns = len(all_columns[table_name])\n",
    "    return (num_columns, row_count, table_size_mb, avg_fragmentation)\n",
    "    \n",
    "\n",
    "def column_feature_encoding(index, c=10):\n",
    "    index_columns_encoding = np.zeros(len(columns_to_idx), dtype=float)\n",
    "    # encoding for index columns\n",
    "    for j, column_name in enumerate(index.index_columns):\n",
    "        column_position_in_index = j\n",
    "        index_columns_encoding[columns_to_idx[column_name]] = 1/(c**column_position_in_index)\n",
    "    \n",
    "    if len(index.include_columns) > 0:\n",
    "        # encoding for include columns\n",
    "        include_columns_encoding = np.zeros(len(columns_to_idx), dtype=float)\n",
    "        for j, column_name in enumerate(index.include_columns):\n",
    "            include_columns_encoding[columns_to_idx[column_name]] = 1\n",
    "\n",
    "        # concatenate the two context vectors\n",
    "        columns_encoding = np.hstack((index_columns_encoding, include_columns_encoding))\n",
    "        return columns_encoding\n",
    "    else:\n",
    "\n",
    "        return index_columns_encoding \n",
    "    \n",
    "\n",
    "def create_feature_vectors(all_indices, connection):\n",
    "\n",
    "    print(f\"Obtain table stats...\")    \n",
    "    table_stats = {}\n",
    "    for index in all_indices.values():\n",
    "        table_name = index.table_name\n",
    "        if table_name not in table_stats:\n",
    "            table_stats[table_name] = get_table_stats(connection, table_name)\n",
    "    \n",
    "    \n",
    "    print(f\"Creating feature vectors...\")\n",
    "    feature_vectors = {}\n",
    "    for index in all_indices.values():\n",
    "        columns_encoding = column_feature_encoding(index)\n",
    "        index_size_mb = index.size\n",
    "        num_columns, row_count, table_size_mb, avg_fragmentation = table_stats[index.table_name]\n",
    "        table_features = np.array([num_columns, row_count, table_size_mb/index_size_mb, avg_fragmentation])\n",
    "        feature_vectors[index.index_id] = np.concatenate((table_features, columns_encoding))\n",
    "        \n",
    "    return feature_vectors  \n",
    "\n"
   ]
  },
  {
   "cell_type": "code",
   "execution_count": 5,
   "metadata": {},
   "outputs": [
    {
     "name": "stdout",
     "output_type": "stream",
     "text": [
      "Obtain table stats...\n",
      "Creating feature vectors...\n"
     ]
    }
   ],
   "source": [
    "connection = start_connection()\n",
    "\n",
    "feature_vectors = create_feature_vectors(all_indices, connection)\n",
    "\n",
    "close_connection(connection)"
   ]
  },
  {
   "cell_type": "code",
   "execution_count": 6,
   "metadata": {},
   "outputs": [
    {
     "name": "stdout",
     "output_type": "stream",
     "text": [
      "Number of training indexes: 155, number of test indexes: 5430\n"
     ]
    }
   ],
   "source": [
    "# group the indexes by table\n",
    "indexes_by_table = defaultdict(list)\n",
    "for index in all_indices.values():\n",
    "    indexes_by_table[index.table_name].append(index)\n",
    "\n",
    "\n",
    "# create train test splits for the indexes, from each table pick 10 indexes for training\n",
    "train_indexes = []\n",
    "test_indexes = []\n",
    "split_idx = 20\n",
    "for table_name, indexes in indexes_by_table.items():\n",
    "    random.shuffle(indexes)\n",
    "    train_indexes.extend(indexes[:split_idx])\n",
    "    test_indexes.extend(indexes[split_idx:])\n",
    "\n",
    "random.shuffle(train_indexes) \n",
    "random.shuffle(test_indexes)\n",
    "\n",
    "print(f\"Number of training indexes: {len(train_indexes)}, number of test indexes: {len(test_indexes)}\")"
   ]
  },
  {
   "cell_type": "code",
   "execution_count": 7,
   "metadata": {},
   "outputs": [
    {
     "name": "stderr",
     "output_type": "stream",
     "text": [
      "Measuring index creation cost::   0%|          | 0/155 [00:00<?, ?it/s]"
     ]
    },
    {
     "name": "stderr",
     "output_type": "stream",
     "text": [
      "Measuring index creation cost:: 100%|██████████| 155/155 [09:56<00:00,  3.85s/it]\n"
     ]
    }
   ],
   "source": [
    "# measure actual creation times of training indexes\n",
    "connection = start_connection()\n",
    "\n",
    "index_creation_cost = {}\n",
    "for index in tqdm(train_indexes, desc=\"Measuring index creation cost:\"):\n",
    "    index_creation_cost[index.index_id] = create_nonclustered_index_object(connection, index)\n",
    "    drop_noncluster_index_object(connection, index)\n",
    "\n",
    "close_connection(connection)"
   ]
  },
  {
   "cell_type": "markdown",
   "metadata": {},
   "source": [
    "#### Online Ridge Regression Model"
   ]
  },
  {
   "cell_type": "code",
   "execution_count": 8,
   "metadata": {},
   "outputs": [],
   "source": [
    "#from sklearn.preprocessing import StandardScaler\n",
    "\n",
    "class Model:\n",
    "    def __init__(self, feature_vectors, all_indices, lambda_reg=0.1, epsilon=1e-8):\n",
    "        self.feature_vectors = feature_vectors\n",
    "        self.all_indices = all_indices\n",
    "        self.feature_dims = feature_vectors[list(feature_vectors.keys())[0]].shape[0]\n",
    "        self.V = lambda_reg * np.eye(self.feature_dims)\n",
    "        self.b = np.zeros(self.feature_dims)\n",
    "        self.theta = np.zeros(self.feature_dims)\n",
    "        self.lambda_reg = lambda_reg\n",
    "        self.epsilon = epsilon\n",
    "        self.loss_history = []\n",
    "        #self.scaler = StandardScaler()\n",
    "        #self.normalize_features()\n",
    "\n",
    "    #def normalize_features(self):\n",
    "    #    all_features = np.array(list(self.feature_vectors.values()))\n",
    "    #    self.scaler.fit(all_features)\n",
    "    #    for key in self.feature_vectors:\n",
    "    #        self.feature_vectors[key] = self.scaler.transform([self.feature_vectors[key]])[0]\n",
    "\n",
    "    def update(self, index, cost, verbose=False):\n",
    "        x = self.feature_vectors[index.index_id]    \n",
    "        y = cost\n",
    "        self.V += np.outer(x, x)\n",
    "        self.b += y * x\n",
    "        # add small epsilon to diagonal of V for conditioning\n",
    "        self.theta = np.linalg.solve(self.V + self.epsilon*np.eye(self.feature_dims), self.b)\n",
    "        loss, y_pred = self.compute_loss(x, y)\n",
    "        if verbose:\n",
    "            print(f\"Update for index: {index.index_id}, actual cost: {cost}, predicted cost: {y_pred:.3f}, loss incurred: {loss}\")\n",
    "\n",
    "    def predict(self, x):\n",
    "        return np.dot(self.theta, x)\n",
    "\n",
    "    def compute_loss(self, x, y):\n",
    "        y_pred = self.predict(x)\n",
    "        mse = (y - y_pred)**2\n",
    "        reg = self.lambda_reg * np.dot(self.theta, self.theta)\n",
    "        loss = mse + reg\n",
    "        self.loss_history.append(loss)\n",
    "        return loss, y_pred    \n",
    "        "
   ]
  },
  {
   "cell_type": "markdown",
   "metadata": {},
   "source": [
    "#### Train the model"
   ]
  },
  {
   "cell_type": "code",
   "execution_count": 9,
   "metadata": {},
   "outputs": [],
   "source": [
    "model = Model(feature_vectors, all_indices, lambda_reg=0.01)"
   ]
  },
  {
   "cell_type": "code",
   "execution_count": 10,
   "metadata": {},
   "outputs": [
    {
     "name": "stdout",
     "output_type": "stream",
     "text": [
      "Update for index: IX_nation_n_nationkey_n_name_n_comment, actual cost: 0.0, predicted cost: 0.000, loss incurred: 0.0\n",
      "Update for index: IX_supplier_s_nationkey_s_address_s_suppkey, actual cost: 0.021, predicted cost: 0.021, loss incurred: 6.03864462275018e-13\n",
      "Update for index: IX_supplier_s_suppkey_s_name, actual cost: 0.009, predicted cost: 0.009, loss incurred: 6.33396695730856e-07\n",
      "Update for index: IX_partsupp_ps_partkey_ps_suppkey_ps_availqty, actual cost: 0.808, predicted cost: 0.808, loss incurred: 6.379744199034224e-07\n",
      "Update for index: IX_orders_o_custkey_o_totalprice_o_comment, actual cost: 3.6, predicted cost: 3.599, loss incurred: 0.0018897478000131699\n",
      "Update for index: IX_lineitem_l_shipdate_l_suppkey, actual cost: 10.509, predicted cost: 10.511, loss incurred: 0.023134156961332836\n",
      "Update for index: IX_part_p_size, actual cost: 0.355, predicted cost: 0.353, loss incurred: 0.025243663567726487\n",
      "Update for index: IX_part_p_comment_p_mfgr_p_partkey, actual cost: 0.433, predicted cost: 0.440, loss incurred: 0.03210592927132497\n",
      "Update for index: IX_part_p_size_p_brand_p_mfgr, actual cost: 0.66, predicted cost: 0.667, loss incurred: 0.037044780415548\n",
      "Update for index: IX_region_r_regionkey_r_name_r_comment, actual cost: 0.0, predicted cost: -0.005, loss incurred: 0.03947512229962706\n",
      "Update for index: IX_region_r_regionkey, actual cost: 0.0, predicted cost: -0.005, loss incurred: 0.05223996147580403\n",
      "Update for index: IX_part_p_partkey_p_brand_p_comment, actual cost: 0.158, predicted cost: 0.164, loss incurred: 0.0558606745748706\n",
      "Update for index: IX_partsupp_ps_supplycost_ps_comment_ps_partkey, actual cost: 2.858, predicted cost: 2.840, loss incurred: 0.09195274745591399\n",
      "Update for index: IX_part_p_comment_p_mfgr_p_type, actual cost: 0.727, predicted cost: 0.586, loss incurred: 0.11113714137599864\n",
      "Update for index: IX_partsupp_ps_comment_ps_supplycost_ps_availqty, actual cost: 3.382, predicted cost: 3.362, loss incurred: 0.13157713669686585\n",
      "Update for index: IX_region_r_regionkey_r_comment, actual cost: 0.0, predicted cost: 0.005, loss incurred: 0.13125103008033925\n",
      "Update for index: IX_nation_n_nationkey_n_name, actual cost: 0.0, predicted cost: 0.001, loss incurred: 0.131240704217645\n",
      "Update for index: IX_partsupp_ps_availqty_ps_partkey, actual cost: 1.531, predicted cost: 1.527, loss incurred: 0.13329017026017412\n",
      "Update for index: IX_orders_o_comment_o_custkey_o_orderkey, actual cost: 8.369, predicted cost: 8.314, loss incurred: 0.47121767592188635\n",
      "Update for index: IX_customer_c_phone_c_address, actual cost: 0.629, predicted cost: 0.638, loss incurred: 0.4769985680905823\n",
      "Update for index: IX_nation_n_regionkey_n_comment_n_nationkey, actual cost: 0.0, predicted cost: 0.007, loss incurred: 0.4814663207710942\n",
      "Update for index: IX_lineitem_l_tax_l_suppkey_l_extendedprice, actual cost: 20.357, predicted cost: 20.312, loss incurred: 0.8924113689513357\n",
      "Update for index: IX_orders_o_totalprice_o_orderstatus_o_orderpriority, actual cost: 3.782, predicted cost: 3.774, loss incurred: 0.8967729326747164\n",
      "Update for index: IX_supplier_s_nationkey_s_name, actual cost: 0.048, predicted cost: 0.046, loss incurred: 0.8966900465107781\n",
      "Update for index: IX_lineitem_l_shipmode_l_suppkey_l_commitdate, actual cost: 22.811, predicted cost: 22.764, loss incurred: 1.2226121712335558\n",
      "Update for index: IX_orders_o_clerk_o_shippriority_o_custkey, actual cost: 6.101, predicted cost: 6.075, loss incurred: 1.2970961663946392\n",
      "Update for index: IX_partsupp_ps_partkey_ps_availqty_ps_supplycost, actual cost: 1.957, predicted cost: 1.570, loss incurred: 1.5876378502120445\n",
      "Update for index: IX_part_p_brand_p_type_p_name, actual cost: 1.2, predicted cost: 1.213, loss incurred: 1.431669910254087\n",
      "Update for index: IX_orders_o_orderstatus_o_custkey_o_totalprice, actual cost: 3.912, predicted cost: 3.906, loss incurred: 1.4333209238941473\n",
      "Update for index: IX_supplier_s_nationkey_s_acctbal_s_name, actual cost: 0.018, predicted cost: 0.030, loss incurred: 1.4338106175377556\n",
      "Update for index: IX_supplier_s_nationkey_s_suppkey_s_acctbal, actual cost: 0.022, predicted cost: -0.022, loss incurred: 1.43729356421834\n",
      "Update for index: IX_partsupp_ps_suppkey_ps_availqty_ps_supplycost, actual cost: 2.0, predicted cost: 1.940, loss incurred: 1.286338120515985\n",
      "Update for index: IX_nation_n_comment_n_name_n_regionkey, actual cost: 0.01, predicted cost: 0.015, loss incurred: 1.28616262707289\n",
      "Update for index: IX_part_p_type_p_container_p_size, actual cost: 1.171, predicted cost: 1.172, loss incurred: 1.286462578274326\n",
      "Update for index: IX_nation_n_name_n_regionkey, actual cost: 0.001, predicted cost: 0.005, loss incurred: 1.288763019150807\n",
      "Update for index: IX_nation_n_name_n_nationkey_n_comment, actual cost: 0.0, predicted cost: 0.001, loss incurred: 1.288749975447178\n",
      "Update for index: IX_orders_o_custkey_o_clerk_o_orderkey, actual cost: 4.779, predicted cost: 4.290, loss incurred: 1.532469242321925\n",
      "Update for index: IX_orders_o_orderkey_o_totalprice_o_custkey, actual cost: 1.836, predicted cost: 1.856, loss incurred: 1.3183734880286053\n",
      "Update for index: IX_customer_c_phone_c_name_c_nationkey, actual cost: 0.547, predicted cost: 0.571, loss incurred: 1.3201207147004594\n",
      "Update for index: IX_supplier_s_acctbal_s_nationkey_s_suppkey, actual cost: 0.038, predicted cost: 0.047, loss incurred: 1.327256754134401\n",
      "Update for index: IX_customer_c_name_c_custkey, actual cost: 0.459, predicted cost: 0.466, loss incurred: 1.332818770675353\n",
      "Update for index: IX_region_r_name, actual cost: 0.001, predicted cost: 0.004, loss incurred: 1.3341198103498457\n",
      "Update for index: IX_part_p_brand_p_size_p_mfgr, actual cost: 1.065, predicted cost: 1.105, loss incurred: 1.3357647810212072\n",
      "Update for index: IX_lineitem_l_tax_l_partkey_l_orderkey, actual cost: 13.286, predicted cost: 15.045, loss incurred: 10.624258450890263\n",
      "Update for index: IX_lineitem_l_returnflag_l_orderkey_l_receiptdate, actual cost: 11.604, predicted cost: 11.634, loss incurred: 7.695021802085889\n",
      "Update for index: IX_partsupp_ps_suppkey_ps_supplycost, actual cost: 0.871, predicted cost: 1.452, loss incurred: 8.03154502118529\n",
      "Update for index: IX_part_p_comment_p_partkey_p_brand, actual cost: 0.467, predicted cost: 0.474, loss incurred: 7.693908821190453\n",
      "Update for index: IX_region_r_comment, actual cost: 0.0, predicted cost: 0.002, loss incurred: 7.694855231207171\n",
      "Update for index: IX_customer_c_mktsegment_c_nationkey, actual cost: 0.473, predicted cost: 0.481, loss incurred: 7.702605688394494\n",
      "Update for index: IX_partsupp_ps_suppkey_ps_partkey_ps_supplycost, actual cost: 1.053, predicted cost: 1.242, loss incurred: 7.739043871389036\n",
      "Update for index: IX_part_p_comment_p_mfgr, actual cost: 0.692, predicted cost: 0.615, loss incurred: 7.708814571363321\n",
      "Update for index: IX_region_r_name_r_regionkey, actual cost: 0.0, predicted cost: -0.016, loss incurred: 7.703028572568141\n",
      "Update for index: IX_nation_n_name_n_nationkey, actual cost: 0.0, predicted cost: 0.002, loss incurred: 7.702785238633395\n",
      "Update for index: IX_lineitem_l_partkey_l_linestatus_l_suppkey, actual cost: 14.918, predicted cost: 14.741, loss incurred: 7.133732975423316\n",
      "Update for index: IX_nation_n_regionkey_n_name_n_nationkey, actual cost: 0.0, predicted cost: -0.000, loss incurred: 7.1023419866243716\n",
      "Update for index: IX_nation_n_regionkey_n_comment_n_name, actual cost: 0.0, predicted cost: 0.003, loss incurred: 7.1023676986159465\n",
      "Update for index: IX_lineitem_l_returnflag_l_shipinstruct_l_comment, actual cost: 60.671, predicted cost: 48.448, loss incurred: 459.880037287076\n",
      "Update for index: IX_nation_n_regionkey_n_name_n_comment, actual cost: 0.0, predicted cost: 0.008, loss incurred: 310.4836463250891\n",
      "Update for index: IX_partsupp_ps_availqty_ps_comment_ps_suppkey, actual cost: 6.486, predicted cost: 4.172, loss incurred: 315.8596879680704\n",
      "Update for index: IX_nation_n_regionkey_n_nationkey_n_comment, actual cost: 0.0, predicted cost: 0.004, loss incurred: 310.50668611572854\n",
      "Update for index: IX_lineitem_l_orderkey_l_linestatus_l_partkey, actual cost: 17.568, predicted cost: 16.329, loss incurred: 287.8170382428799\n",
      "Update for index: IX_part_p_partkey_p_name_p_comment, actual cost: 0.553, predicted cost: 0.428, loss incurred: 286.3082025605891\n",
      "Update for index: IX_part_p_mfgr_p_brand_p_size, actual cost: 0.997, predicted cost: 1.005, loss incurred: 286.2928527202176\n",
      "Update for index: IX_lineitem_l_returnflag_l_extendedprice_l_commitdate, actual cost: 30.332, predicted cost: 30.324, loss incurred: 286.23204941708076\n",
      "Update for index: IX_region_r_name_r_comment_r_regionkey, actual cost: 0.001, predicted cost: 0.097, loss incurred: 286.2468501449834\n",
      "Update for index: IX_customer_c_mktsegment_c_nationkey_c_phone, actual cost: 0.517, predicted cost: 0.499, loss incurred: 286.23813219345857\n",
      "Update for index: IX_supplier_s_nationkey_s_suppkey_s_address, actual cost: 0.086, predicted cost: 0.051, loss incurred: 286.240317385647\n",
      "Update for index: IX_part_p_type_p_name_p_size, actual cost: 1.041, predicted cost: 1.117, loss incurred: 286.23887708412303\n",
      "Update for index: IX_orders_o_orderstatus_o_comment, actual cost: 7.106, predicted cost: 5.746, loss incurred: 288.13465364038217\n",
      "Update for index: IX_customer_c_mktsegment_c_comment_c_address, actual cost: 1.378, predicted cost: 1.127, loss incurred: 286.4694629857491\n",
      "Update for index: IX_partsupp_ps_comment_ps_availqty_ps_supplycost, actual cost: 4.361, predicted cost: 4.049, loss incurred: 286.5128854348689\n",
      "Update for index: IX_partsupp_ps_partkey_ps_supplycost_ps_suppkey, actual cost: 1.053, predicted cost: 1.178, loss incurred: 286.43235723098314\n",
      "Update for index: IX_part_p_comment_p_type, actual cost: 0.652, predicted cost: 0.613, loss incurred: 286.41777191853384\n",
      "Update for index: IX_supplier_s_name_s_acctbal_s_comment, actual cost: 0.053, predicted cost: 0.050, loss incurred: 286.4144598554632\n",
      "Update for index: IX_supplier_s_acctbal_s_nationkey_s_phone, actual cost: 0.025, predicted cost: 0.030, loss incurred: 286.4146309034745\n",
      "Update for index: IX_region_r_comment_r_name_r_regionkey, actual cost: 0.006, predicted cost: 0.015, loss incurred: 286.414156942436\n",
      "Update for index: IX_nation_n_regionkey_n_nationkey, actual cost: 0.0, predicted cost: -0.077, loss incurred: 286.4245950457009\n",
      "Update for index: IX_partsupp_ps_supplycost_ps_partkey_ps_availqty, actual cost: 2.196, predicted cost: 2.354, loss incurred: 286.4419124872208\n",
      "Update for index: IX_partsupp_ps_supplycost_ps_suppkey_ps_partkey, actual cost: 1.295, predicted cost: 1.989, loss incurred: 286.8947631380564\n",
      "Update for index: IX_lineitem_l_discount_l_comment_l_returnflag, actual cost: 23.823, predicted cost: 24.028, loss incurred: 283.78008354292126\n",
      "Update for index: IX_customer_c_comment_c_name_c_acctbal, actual cost: 0.409, predicted cost: 0.440, loss incurred: 283.76804269245747\n",
      "Update for index: IX_customer_c_comment_c_phone_c_custkey, actual cost: 0.375, predicted cost: 0.412, loss incurred: 283.7701155638808\n",
      "Update for index: IX_supplier_s_phone_s_acctbal_s_comment, actual cost: 0.069, predicted cost: 0.065, loss incurred: 283.764917285652\n",
      "Update for index: IX_orders_o_clerk_o_totalprice, actual cost: 5.394, predicted cost: 5.620, loss incurred: 283.86977847973714\n",
      "Update for index: IX_supplier_s_acctbal_s_comment, actual cost: 0.025, predicted cost: 0.018, loss incurred: 283.81786800403046\n",
      "Update for index: IX_lineitem_l_comment_l_orderkey_l_partkey, actual cost: 18.678, predicted cost: 19.001, loss incurred: 281.27071719725456\n",
      "Update for index: IX_region_r_regionkey_r_comment_r_name, actual cost: 0.0, predicted cost: 0.166, loss incurred: 281.21821739702716\n",
      "Update for index: IX_nation_n_name, actual cost: 0.0, predicted cost: -0.016, loss incurred: 281.19014248511326\n",
      "Update for index: IX_customer_c_acctbal_c_custkey_c_phone, actual cost: 0.292, predicted cost: 0.293, loss incurred: 281.19041182778057\n",
      "Update for index: IX_supplier_s_suppkey_s_address_s_phone, actual cost: 0.053, predicted cost: 0.032, loss incurred: 281.18967653355594\n",
      "Update for index: IX_lineitem_l_shipinstruct_l_comment_l_linestatus, actual cost: 31.236, predicted cost: 33.565, loss incurred: 30.56019229406509\n",
      "Update for index: IX_customer_c_acctbal_c_comment_c_address, actual cost: 1.115, predicted cost: 0.831, loss incurred: 25.29169232244067\n",
      "Update for index: IX_orders_o_custkey_o_orderdate_o_comment, actual cost: 7.454, predicted cost: 6.101, loss incurred: 28.928165228048755\n",
      "Update for index: IX_nation_n_nationkey_n_regionkey_n_name, actual cost: 0.0, predicted cost: -0.007, loss incurred: 27.097452242851165\n",
      "Update for index: IX_customer_c_nationkey_c_name_c_custkey, actual cost: 0.585, predicted cost: 0.538, loss incurred: 26.98068781662585\n",
      "Update for index: IX_lineitem_l_receiptdate_l_shipinstruct_l_commitdate, actual cost: 22.923, predicted cost: 22.709, loss incurred: 21.996314889838047\n",
      "Update for index: IX_supplier_s_comment_s_suppkey_s_nationkey, actual cost: 0.087, predicted cost: 0.095, loss incurred: 21.955589638628467\n",
      "Update for index: IX_orders_o_orderdate_o_totalprice_o_comment, actual cost: 5.005, predicted cost: 5.206, loss incurred: 20.129374778807254\n",
      "Update for index: IX_supplier_s_nationkey_s_phone_s_suppkey, actual cost: 0.019, predicted cost: 0.029, loss incurred: 20.08903844167671\n",
      "Update for index: IX_customer_c_comment_c_address_c_nationkey, actual cost: 0.647, predicted cost: 0.614, loss incurred: 20.09344434626572\n",
      "Update for index: IX_nation_n_comment, actual cost: 0.0, predicted cost: 0.024, loss incurred: 20.092931395882292\n",
      "Update for index: IX_supplier_s_acctbal_s_suppkey_s_address, actual cost: 0.025, predicted cost: 0.030, loss incurred: 20.09242503715524\n",
      "Update for index: IX_customer_c_comment_c_address_c_mktsegment, actual cost: 0.974, predicted cost: 0.742, loss incurred: 20.16345636935268\n",
      "Update for index: IX_partsupp_ps_availqty, actual cost: 0.854, predicted cost: 2.937, loss incurred: 24.419098680897935\n",
      "Update for index: IX_supplier_s_acctbal_s_phone, actual cost: 0.022, predicted cost: 0.029, loss incurred: 20.080912658133457\n",
      "Update for index: IX_part_p_name_p_size_p_container, actual cost: 0.528, predicted cost: 0.551, loss incurred: 20.07755644775829\n",
      "Update for index: IX_region_r_comment_r_regionkey, actual cost: 0.0, predicted cost: -0.019, loss incurred: 20.077627786206865\n",
      "Update for index: IX_region_r_regionkey_r_name, actual cost: 0.0, predicted cost: 0.032, loss incurred: 20.078224827666496\n",
      "Update for index: IX_customer_c_acctbal_c_comment, actual cost: 0.298, predicted cost: 0.615, loss incurred: 20.132751636183627\n",
      "Update for index: IX_supplier_s_address_s_suppkey_s_comment, actual cost: 0.104, predicted cost: 0.107, loss incurred: 20.033442813899327\n",
      "Update for index: IX_nation_n_comment_n_nationkey, actual cost: 0.001, predicted cost: -0.005, loss incurred: 20.033544571640764\n",
      "Update for index: IX_orders_o_orderdate_o_shippriority_o_orderpriority, actual cost: 4.192, predicted cost: 4.638, loss incurred: 20.174961212275825\n",
      "Update for index: IX_supplier_s_nationkey_s_comment_s_phone, actual cost: 0.023, predicted cost: 0.046, loss incurred: 19.976777325036622\n",
      "Update for index: IX_lineitem_l_shipdate_l_orderkey_l_receiptdate, actual cost: 11.315, predicted cost: 9.996, loss incurred: 17.89330541823815\n",
      "Update for index: IX_nation_n_name_n_regionkey_n_comment, actual cost: 0.0, predicted cost: 0.022, loss incurred: 16.153111785572534\n",
      "Update for index: IX_nation_n_comment_n_nationkey_n_name, actual cost: 0.0, predicted cost: 0.000, loss incurred: 16.15261649148702\n",
      "Update for index: IX_region_r_name_r_comment, actual cost: 0.0, predicted cost: 0.091, loss incurred: 16.160923444664505\n",
      "Update for index: IX_orders_o_shippriority_o_clerk, actual cost: 9.434, predicted cost: 9.309, loss incurred: 16.466850114424975\n",
      "Update for index: IX_customer_c_address_c_nationkey, actual cost: 0.53, predicted cost: 0.585, loss incurred: 16.428111692859378\n",
      "Update for index: IX_partsupp_ps_suppkey_ps_partkey_ps_comment, actual cost: 4.628, predicted cost: 2.086, loss incurred: 22.881537398463042\n",
      "Update for index: IX_part_p_size_p_type, actual cost: 0.739, predicted cost: 0.601, loss incurred: 16.44031546458702\n",
      "Update for index: IX_part_p_partkey_p_comment_p_type, actual cost: 0.391, predicted cost: 0.354, loss incurred: 16.422430554074538\n",
      "Update for index: IX_partsupp_ps_comment_ps_availqty_ps_suppkey, actual cost: 5.324, predicted cost: 4.516, loss incurred: 17.092055787664794\n",
      "Update for index: IX_partsupp_ps_partkey, actual cost: 0.444, predicted cost: 1.012, loss incurred: 16.791483245625525\n",
      "Update for index: IX_lineitem_l_linenumber_l_commitdate_l_orderkey, actual cost: 10.598, predicted cost: 10.694, loss incurred: 17.454642181352867\n",
      "Update for index: IX_orders_o_orderdate_o_shippriority_o_orderkey, actual cost: 2.551, predicted cost: 4.135, loss incurred: 19.927865657499446\n",
      "Update for index: IX_orders_o_clerk_o_orderstatus_o_orderdate, actual cost: 4.607, predicted cost: 5.264, loss incurred: 17.841996375499335\n",
      "Update for index: IX_lineitem_l_discount_l_tax_l_orderkey, actual cost: 12.405, predicted cost: 17.835, loss incurred: 47.44678395227177\n",
      "Update for index: IX_lineitem_l_tax_l_linestatus_l_extendedprice, actual cost: 11.521, predicted cost: 13.947, loss incurred: 22.194045608338655\n",
      "Update for index: IX_nation_n_name_n_comment, actual cost: 0.001, predicted cost: 0.019, loss incurred: 16.30979159104357\n",
      "Update for index: IX_customer_c_custkey_c_mktsegment_c_phone, actual cost: 0.555, predicted cost: 0.531, loss incurred: 16.27356710134698\n",
      "Update for index: IX_orders_o_comment_o_orderpriority_o_shippriority, actual cost: 6.295, predicted cost: 6.975, loss incurred: 17.19158890130829\n",
      "Update for index: IX_lineitem_l_partkey_l_shipinstruct_l_orderkey, actual cost: 16.802, predicted cost: 16.708, loss incurred: 16.730248368051196\n",
      "Update for index: IX_supplier_s_address_s_acctbal_s_name, actual cost: 0.055, predicted cost: 0.079, loss incurred: 16.722238747107504\n",
      "Update for index: IX_orders_o_totalprice_o_orderdate_o_orderstatus, actual cost: 3.996, predicted cost: 3.840, loss incurred: 16.763248558679877\n",
      "Update for index: IX_customer_c_name_c_phone, actual cost: 0.367, predicted cost: 0.413, loss incurred: 16.74139665569032\n",
      "Update for index: IX_region_r_name_r_regionkey_r_comment, actual cost: 0.002, predicted cost: 0.106, loss incurred: 16.75000517321302\n",
      "Update for index: IX_nation_n_comment_n_regionkey, actual cost: 0.001, predicted cost: -0.002, loss incurred: 16.739171014189765\n",
      "Update for index: IX_customer_c_address_c_mktsegment, actual cost: 0.65, predicted cost: 0.630, loss incurred: 16.739428042239457\n",
      "Update for index: IX_partsupp_ps_supplycost_ps_suppkey_ps_comment, actual cost: 3.19, predicted cost: 2.324, loss incurred: 17.488609855449926\n",
      "Update for index: IX_part_p_type_p_brand_p_mfgr, actual cost: 1.034, predicted cost: 1.104, loss incurred: 16.744136173502444\n",
      "Update for index: IX_partsupp_ps_suppkey_ps_availqty_ps_comment, actual cost: 2.353, predicted cost: 2.298, loss incurred: 16.742446670955953\n",
      "Update for index: IX_orders_o_orderpriority_o_orderdate_o_totalprice, actual cost: 5.203, predicted cost: 5.067, loss incurred: 16.215036563302238\n",
      "Update for index: IX_part_p_type_p_comment_p_brand, actual cost: 0.702, predicted cost: 0.950, loss incurred: 16.262711706012105\n",
      "Update for index: IX_region_r_comment_r_regionkey_r_name, actual cost: 0.0, predicted cost: 0.011, loss incurred: 16.201310765936686\n",
      "Update for index: IX_supplier_s_name_s_acctbal, actual cost: 0.068, predicted cost: 0.060, loss incurred: 16.201084273000713\n",
      "Update for index: IX_part_p_container_p_brand_p_mfgr, actual cost: 0.708, predicted cost: 0.729, loss incurred: 16.199339204643195\n",
      "Update for index: IX_lineitem_l_partkey_l_shipdate_l_extendedprice, actual cost: 11.028, predicted cost: 12.976, loss incurred: 20.996345395634066\n",
      "Update for index: IX_partsupp_ps_supplycost_ps_availqty_ps_comment, actual cost: 1.812, predicted cost: 2.285, loss incurred: 17.422354149409504\n",
      "Update for index: IX_customer_c_nationkey_c_comment_c_address, actual cost: 0.359, predicted cost: 0.459, loss incurred: 17.210028001645377\n",
      "Update for index: IX_orders_o_orderstatus_o_clerk_o_orderpriority, actual cost: 8.912, predicted cost: 6.544, loss incurred: 22.86653177348891\n",
      "Update for index: IX_region_r_comment_r_name, actual cost: 0.001, predicted cost: -0.006, loss incurred: 17.260028219948097\n",
      "Update for index: IX_orders_o_clerk_o_orderdate_o_shippriority, actual cost: 7.039, predicted cost: 5.667, loss incurred: 19.150341354804556\n",
      "Update for index: IX_lineitem_l_extendedprice_l_linestatus_l_orderkey, actual cost: 14.609, predicted cost: 14.344, loss incurred: 12.859821167753209\n",
      "Update for index: IX_customer_c_phone_c_address_c_name, actual cost: 0.379, predicted cost: 0.515, loss incurred: 12.808577555109308\n"
     ]
    }
   ],
   "source": [
    "for index in train_indexes:\n",
    "    cost = index_creation_cost[index.index_id]\n",
    "    model.update(index, cost, verbose=True)  "
   ]
  },
  {
   "cell_type": "markdown",
   "metadata": {},
   "source": [
    "#### Make predictions for some test indexes."
   ]
  },
  {
   "cell_type": "code",
   "execution_count": 11,
   "metadata": {},
   "outputs": [
    {
     "name": "stdout",
     "output_type": "stream",
     "text": [
      "All 6 nonclustered indexes removed.\n"
     ]
    },
    {
     "name": "stderr",
     "output_type": "stream",
     "text": [
      "Measuring index creation cost:: 100%|██████████| 20/20 [05:11<00:00, 15.60s/it]\n"
     ]
    }
   ],
   "source": [
    "# make predictions for some test indexes and compare with actual costs\n",
    "connection = start_connection()\n",
    "\n",
    "remove_all_nonclustered_indexes(connection)\n",
    "\n",
    "test_indexes_sample = random.sample(test_indexes, 20)\n",
    "test_index_creation_cost = {}\n",
    "for index in tqdm(test_indexes_sample, desc=\"Measuring index creation cost:\"):\n",
    "    test_index_creation_cost[index.index_id] = create_nonclustered_index_object(connection, index)\n",
    "    drop_noncluster_index_object(connection, index)\n",
    "\n",
    "close_connection(connection)"
   ]
  },
  {
   "cell_type": "code",
   "execution_count": 12,
   "metadata": {},
   "outputs": [
    {
     "name": "stdout",
     "output_type": "stream",
     "text": [
      "Index: IX_lineitem_l_receiptdate_l_suppkey_l_shipinstruct, actual cost: 14.719, predicted cost: 23.710, loss: 93.627\n",
      "Index: IX_lineitem_l_tax_l_shipmode, actual cost: 15.668, predicted cost: 14.491, loss: 14.175\n",
      "Index: IX_lineitem_l_shipinstruct_l_tax_l_shipdate, actual cost: 27.873, predicted cost: 33.152, loss: 40.656\n",
      "Index: IX_lineitem_l_shipdate_l_extendedprice_l_partkey, actual cost: 13.617, predicted cost: 9.366, loss: 30.857\n",
      "Index: IX_lineitem_l_suppkey_l_tax_l_extendedprice, actual cost: 18.042, predicted cost: 41.453, loss: 560.858\n",
      "Index: IX_lineitem_l_quantity_l_comment_l_linestatus, actual cost: 23.898, predicted cost: 20.278, loss: 25.892\n",
      "Index: IX_lineitem_l_discount_l_quantity_l_shipmode, actual cost: 29.273, predicted cost: 18.406, loss: 130.881\n",
      "Index: IX_part_p_name_p_brand_p_mfgr, actual cost: 0.732, predicted cost: 0.619, loss: 12.803\n",
      "Index: IX_lineitem_l_partkey_l_discount_l_quantity, actual cost: 16.481, predicted cost: 13.950, loss: 19.194\n",
      "Index: IX_lineitem_l_shipinstruct_l_comment_l_tax, actual cost: 26.788, predicted cost: 33.730, loss: 60.977\n",
      "Index: IX_lineitem_l_linestatus_l_suppkey_l_receiptdate, actual cost: 23.200, predicted cost: 21.759, loss: 14.866\n",
      "Index: IX_part_p_mfgr_p_size_p_type, actual cost: 1.360, predicted cost: 0.956, loss: 12.953\n",
      "Index: IX_orders_o_shippriority_o_custkey_o_orderdate, actual cost: 6.714, predicted cost: 9.157, loss: 18.756\n",
      "Index: IX_lineitem_l_extendedprice_l_tax, actual cost: 14.757, predicted cost: 13.886, loss: 13.549\n",
      "Index: IX_lineitem_l_extendedprice_l_partkey_l_orderkey, actual cost: 12.042, predicted cost: 13.803, loss: 15.893\n",
      "Index: IX_lineitem_l_shipinstruct_l_partkey_l_returnflag, actual cost: 20.175, predicted cost: 33.359, loss: 186.602\n",
      "Index: IX_lineitem_l_extendedprice_l_quantity_l_linestatus, actual cost: 17.543, predicted cost: 14.467, loss: 22.252\n",
      "Index: IX_orders_o_clerk_o_shippriority_o_orderkey, actual cost: 6.857, predicted cost: 6.128, loss: 13.321\n",
      "Index: IX_supplier_s_name_s_address_s_comment, actual cost: 0.022, predicted cost: 0.070, loss: 12.792\n",
      "Index: IX_lineitem_l_discount_l_linenumber_l_tax, actual cost: 18.137, predicted cost: 17.419, loss: 13.306\n"
     ]
    }
   ],
   "source": [
    "test_losses = []\n",
    "for index in test_indexes_sample:\n",
    "    x = model.feature_vectors[index.index_id]\n",
    "    y = test_index_creation_cost[index.index_id]\n",
    "    loss, y_pred = model.compute_loss(x, y)\n",
    "    test_losses.append(loss)\n",
    "    print(f\"Index: {index.index_id}, actual cost: {y:.3f}, predicted cost: {y_pred:.3f}, loss: {loss:.3f}\")\n"
   ]
  },
  {
   "cell_type": "code",
   "execution_count": null,
   "metadata": {},
   "outputs": [],
   "source": []
  },
  {
   "cell_type": "code",
   "execution_count": null,
   "metadata": {},
   "outputs": [],
   "source": []
  },
  {
   "cell_type": "code",
   "execution_count": null,
   "metadata": {},
   "outputs": [],
   "source": []
  },
  {
   "cell_type": "code",
   "execution_count": null,
   "metadata": {},
   "outputs": [],
   "source": []
  },
  {
   "cell_type": "code",
   "execution_count": null,
   "metadata": {},
   "outputs": [],
   "source": []
  },
  {
   "cell_type": "code",
   "execution_count": null,
   "metadata": {},
   "outputs": [],
   "source": []
  },
  {
   "cell_type": "code",
   "execution_count": null,
   "metadata": {},
   "outputs": [],
   "source": []
  }
 ],
 "metadata": {
  "kernelspec": {
   "display_name": "torch_clone_2",
   "language": "python",
   "name": "python3"
  },
  "language_info": {
   "codemirror_mode": {
    "name": "ipython",
    "version": 3
   },
   "file_extension": ".py",
   "mimetype": "text/x-python",
   "name": "python",
   "nbconvert_exporter": "python",
   "pygments_lexer": "ipython3",
   "version": "3.11.5"
  }
 },
 "nbformat": 4,
 "nbformat_minor": 2
}
