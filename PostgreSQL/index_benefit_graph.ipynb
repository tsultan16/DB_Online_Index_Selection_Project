{
 "cells": [
  {
   "cell_type": "markdown",
   "metadata": {},
   "source": [
    "#### Construction of Index Benefit Graph (from Schnaitter's PhD Thesis, 2011)\n",
    "\n",
    "***Definition***: The `IBG` of a query $q$ is a `DAG` in which each node $Y$ is a subset of $C$, a set of all relevant indexes that could ever be utlilized in the execution of $q$. Node $Y$ also stores the following two quantities: \n",
    "\n",
    "* $cost(q,Y)$ which is the query optimizer's estimated cost for executing $q$ under configuration $Y$  \n",
    "* $used(q,Y)$ which is the subset of indexes from $Y$ that are included in the query plan\n",
    "\n",
    "\n",
    "Recursive algorithm for constructing the IBG:\n",
    "\n",
    "```python\n",
    "construct_IBG(q, Y):\n",
    "    if Y.built:\n",
    "        return\n",
    "\n",
    "    # obtain estimated cost and determine indexes used\n",
    "    Y.cost = cost(q,Y)\n",
    "    Y.used = used(q,Y)\n",
    "    Y.built = True\n",
    "    \n",
    "    # create children (one for each index in Y.used)\n",
    "    for a in Y.used:\n",
    "        create child node: X = Y - {a}   # child node is set Y with index a removed\n",
    "        X.built = False\n",
    "        Y.add_child(X)\n",
    "        # recursively construct IBG on children\n",
    "        construct_IBG(q, X)\n",
    "\n",
    "```\n",
    "\n",
    "\n",
    "\n",
    "\n",
    "```python\n",
    "# create root node\n",
    "Y = C\n",
    "Y.built = False\n",
    "\n",
    "# call construct_IBG(q, Y)\n",
    "construct_IBG(q, Y)\n",
    "```\n",
    "\n",
    "\n",
    "It is possible that some nodes may share the same child. Instead of creating a new copy of that child for each different parent node, we can use a separate hash table to keep track of children that have already been created and reuse those children.\n"
   ]
  },
  {
   "cell_type": "markdown",
   "metadata": {},
   "source": []
  },
  {
   "cell_type": "code",
   "execution_count": null,
   "metadata": {},
   "outputs": [],
   "source": []
  },
  {
   "cell_type": "code",
   "execution_count": null,
   "metadata": {},
   "outputs": [],
   "source": []
  },
  {
   "cell_type": "code",
   "execution_count": null,
   "metadata": {},
   "outputs": [],
   "source": []
  },
  {
   "cell_type": "code",
   "execution_count": null,
   "metadata": {},
   "outputs": [],
   "source": []
  },
  {
   "cell_type": "code",
   "execution_count": null,
   "metadata": {},
   "outputs": [],
   "source": []
  },
  {
   "cell_type": "code",
   "execution_count": null,
   "metadata": {},
   "outputs": [],
   "source": []
  },
  {
   "cell_type": "code",
   "execution_count": null,
   "metadata": {},
   "outputs": [],
   "source": []
  },
  {
   "cell_type": "code",
   "execution_count": null,
   "metadata": {},
   "outputs": [],
   "source": []
  },
  {
   "cell_type": "code",
   "execution_count": null,
   "metadata": {},
   "outputs": [],
   "source": []
  }
 ],
 "metadata": {
  "kernelspec": {
   "display_name": "torch_clone_2",
   "language": "python",
   "name": "python3"
  },
  "language_info": {
   "name": "python",
   "version": "3.11.5"
  }
 },
 "nbformat": 4,
 "nbformat_minor": 2
}
