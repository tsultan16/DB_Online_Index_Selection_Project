{
 "cells": [
  {
   "cell_type": "markdown",
   "metadata": {},
   "source": [
    "#### What-if Query Execution Cost estimation for Hypothetical indexes"
   ]
  },
  {
   "cell_type": "code",
   "execution_count": 15,
   "metadata": {},
   "outputs": [
    {
     "name": "stdout",
     "output_type": "stream",
     "text": [
      "The autoreload extension is already loaded. To reload it, use:\n",
      "  %reload_ext autoreload\n"
     ]
    }
   ],
   "source": [
    "%load_ext autoreload\n",
    "%autoreload 2\n",
    "\n",
    "from ssb_qgen_class import *\n",
    "from pg_utils import *\n"
   ]
  },
  {
   "cell_type": "code",
   "execution_count": 7,
   "metadata": {},
   "outputs": [],
   "source": [
    "# create a query generator object\n",
    "qg = QGEN()"
   ]
  },
  {
   "cell_type": "code",
   "execution_count": 13,
   "metadata": {},
   "outputs": [
    {
     "name": "stdout",
     "output_type": "stream",
     "text": [
      "template id: 1, query: \n",
      "                SELECT SUM(lo_extendedprice * lo_discount) AS revenue\n",
      "                FROM lineorder, dwdate\n",
      "                WHERE lo_orderdate = d_datekey\n",
      "                AND d_year = 1993\n",
      "                AND lo_discount BETWEEN 6 AND 8 \n",
      "                AND lo_quantity < 14;\n",
      "            , payload: {'lineorder': ['lo_extendedprice', 'lo_discount']}, predicates: {'lineorder': ['lo_orderdate', 'lo_discount', 'lo_quantity'], 'dwdate': ['d_datekey', 'd_year']}, order by: {}, group by: {}\n"
     ]
    }
   ],
   "source": [
    "query = qg.generate_query(1)\n",
    "print(query)"
   ]
  },
  {
   "cell_type": "code",
   "execution_count": 22,
   "metadata": {},
   "outputs": [
    {
     "name": "stdout",
     "output_type": "stream",
     "text": [
      "Index name: IX_lineorder_lo_orderdate, Key cols: ('lo_orderdate',), Include cols: ()\n",
      "Index name: IX_lineorder_lo_discount, Key cols: ('lo_discount',), Include cols: ()\n",
      "Index name: IX_lineorder_lo_quantity, Key cols: ('lo_quantity',), Include cols: ()\n",
      "Index name: IX_lineorder_lo_orderdate_lo_discount, Key cols: ('lo_orderdate', 'lo_discount'), Include cols: ()\n",
      "Index name: IX_lineorder_lo_orderdate_lo_quantity, Key cols: ('lo_orderdate', 'lo_quantity'), Include cols: ()\n",
      "Index name: IX_lineorder_lo_discount_lo_quantity, Key cols: ('lo_discount', 'lo_quantity'), Include cols: ()\n",
      "Index name: IX_lineorder_lo_orderdate_lo_discount_lo_quantity, Key cols: ('lo_orderdate', 'lo_discount', 'lo_quantity'), Include cols: ()\n",
      "Index name: IX_dwdate_d_datekey, Key cols: ('d_datekey',), Include cols: ()\n",
      "Index name: IX_dwdate_d_year, Key cols: ('d_year',), Include cols: ()\n",
      "Index name: IX_dwdate_d_datekey_d_year, Key cols: ('d_datekey', 'd_year'), Include cols: ()\n"
     ]
    }
   ],
   "source": [
    "candidate_indexes = extract_query_indexes(query)\n",
    "\n",
    "for index in candidate_indexes:\n",
    "    print(index)\n"
   ]
  },
  {
   "cell_type": "code",
   "execution_count": 27,
   "metadata": {},
   "outputs": [
    {
     "name": "stdout",
     "output_type": "stream",
     "text": [
      "[\n",
      "  {\n",
      "    \"Plan\": {\n",
      "      \"Node Type\": \"Aggregate\",\n",
      "      \"Strategy\": \"Plain\",\n",
      "      \"Partial Mode\": \"Finalize\",\n",
      "      \"Parallel Aware\": false,\n",
      "      \"Async Capable\": false,\n",
      "      \"Startup Cost\": 1427748.32,\n",
      "      \"Total Cost\": 1427748.33,\n",
      "      \"Plan Rows\": 1,\n",
      "      \"Plan Width\": 32,\n",
      "      \"Plans\": [\n",
      "        {\n",
      "          \"Node Type\": \"Gather\",\n",
      "          \"Parent Relationship\": \"Outer\",\n",
      "          \"Parallel Aware\": false,\n",
      "          \"Async Capable\": false,\n",
      "          \"Startup Cost\": 1427748.1,\n",
      "          \"Total Cost\": 1427748.31,\n",
      "          \"Plan Rows\": 2,\n",
      "          \"Plan Width\": 32,\n",
      "          \"Workers Planned\": 2,\n",
      "          \"Single Copy\": false,\n",
      "          \"Plans\": [\n",
      "            {\n",
      "              \"Node Type\": \"Aggregate\",\n",
      "              \"Strategy\": \"Plain\",\n",
      "              \"Partial Mode\": \"Partial\",\n",
      "              \"Parent Relationship\": \"Outer\",\n",
      "              \"Parallel Aware\": false,\n",
      "              \"Async Capable\": false,\n",
      "              \"Startup Cost\": 1426748.1,\n",
      "              \"Total Cost\": 1426748.11,\n",
      "              \"Plan Rows\": 1,\n",
      "              \"Plan Width\": 32,\n",
      "              \"Plans\": [\n",
      "                {\n",
      "                  \"Node Type\": \"Hash Join\",\n",
      "                  \"Parent Relationship\": \"Outer\",\n",
      "                  \"Parallel Aware\": false,\n",
      "                  \"Async Capable\": false,\n",
      "                  \"Join Type\": \"Inner\",\n",
      "                  \"Startup Cost\": 83.51,\n",
      "                  \"Total Cost\": 1425491.49,\n",
      "                  \"Plan Rows\": 251320,\n",
      "                  \"Plan Width\": 10,\n",
      "                  \"Inner Unique\": true,\n",
      "                  \"Hash Cond\": \"(lineorder.lo_orderdate = dwdate.d_datekey)\",\n",
      "                  \"Plans\": [\n",
      "                    {\n",
      "                      \"Node Type\": \"Seq Scan\",\n",
      "                      \"Parent Relationship\": \"Outer\",\n",
      "                      \"Parallel Aware\": true,\n",
      "                      \"Async Capable\": false,\n",
      "                      \"Relation Name\": \"lineorder\",\n",
      "                      \"Alias\": \"lineorder\",\n",
      "                      \"Startup Cost\": 0.0,\n",
      "                      \"Total Cost\": 1420780.49,\n",
      "                      \"Plan Rows\": 1759933,\n",
      "                      \"Plan Width\": 14,\n",
      "                      \"Filter\": \"((lo_discount >= '6'::numeric) AND (lo_discount <= '8'::numeric) AND (lo_quantity < 14))\"\n",
      "                    },\n",
      "                    {\n",
      "                      \"Node Type\": \"Hash\",\n",
      "                      \"Parent Relationship\": \"Inner\",\n",
      "                      \"Parallel Aware\": false,\n",
      "                      \"Async Capable\": false,\n",
      "                      \"Startup Cost\": 78.95,\n",
      "                      \"Total Cost\": 78.95,\n",
      "                      \"Plan Rows\": 365,\n",
      "                      \"Plan Width\": 4,\n",
      "                      \"Plans\": [\n",
      "                        {\n",
      "                          \"Node Type\": \"Seq Scan\",\n",
      "                          \"Parent Relationship\": \"Outer\",\n",
      "                          \"Parallel Aware\": false,\n",
      "                          \"Async Capable\": false,\n",
      "                          \"Relation Name\": \"dwdate\",\n",
      "                          \"Alias\": \"dwdate\",\n",
      "                          \"Startup Cost\": 0.0,\n",
      "                          \"Total Cost\": 78.95,\n",
      "                          \"Plan Rows\": 365,\n",
      "                          \"Plan Width\": 4,\n",
      "                          \"Filter\": \"(d_year = 1993)\"\n",
      "                        }\n",
      "                      ]\n",
      "                    }\n",
      "                  ]\n",
      "                }\n",
      "              ]\n",
      "            }\n",
      "          ]\n",
      "        }\n",
      "      ]\n",
      "    },\n",
      "    \"JIT\": {\n",
      "      \"Functions\": 18,\n",
      "      \"Options\": {\n",
      "        \"Inlining\": true,\n",
      "        \"Optimization\": true,\n",
      "        \"Expressions\": true,\n",
      "        \"Deforming\": true\n",
      "      }\n",
      "    }\n",
      "  }\n",
      "]\n",
      "Estimated cost: 1427748.33\n",
      "Connection closed\n"
     ]
    }
   ],
   "source": [
    "conn = create_connection()\n",
    "cost = get_query_cost_estimate(conn, query.query_string, show_plan=True)\n",
    "print(f\"Estimated cost: {cost}\")\n",
    "\n",
    "close_connection(conn)"
   ]
  },
  {
   "cell_type": "code",
   "execution_count": null,
   "metadata": {},
   "outputs": [],
   "source": []
  },
  {
   "cell_type": "code",
   "execution_count": null,
   "metadata": {},
   "outputs": [],
   "source": []
  },
  {
   "cell_type": "code",
   "execution_count": null,
   "metadata": {},
   "outputs": [],
   "source": []
  },
  {
   "cell_type": "code",
   "execution_count": null,
   "metadata": {},
   "outputs": [],
   "source": []
  },
  {
   "cell_type": "code",
   "execution_count": null,
   "metadata": {},
   "outputs": [],
   "source": []
  },
  {
   "cell_type": "code",
   "execution_count": null,
   "metadata": {},
   "outputs": [],
   "source": []
  },
  {
   "cell_type": "code",
   "execution_count": null,
   "metadata": {},
   "outputs": [],
   "source": []
  },
  {
   "cell_type": "code",
   "execution_count": null,
   "metadata": {},
   "outputs": [],
   "source": []
  }
 ],
 "metadata": {
  "kernelspec": {
   "display_name": "torch_clone_2",
   "language": "python",
   "name": "python3"
  },
  "language_info": {
   "codemirror_mode": {
    "name": "ipython",
    "version": 3
   },
   "file_extension": ".py",
   "mimetype": "text/x-python",
   "name": "python",
   "nbconvert_exporter": "python",
   "pygments_lexer": "ipython3",
   "version": "3.11.5"
  }
 },
 "nbformat": 4,
 "nbformat_minor": 2
}
