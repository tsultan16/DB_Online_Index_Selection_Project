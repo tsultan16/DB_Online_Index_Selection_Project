{
 "cells": [
  {
   "cell_type": "code",
   "execution_count": 1,
   "metadata": {},
   "outputs": [],
   "source": [
    "import psycopg2"
   ]
  },
  {
   "cell_type": "markdown",
   "metadata": {},
   "source": [
    "#### Connect to the postgres database"
   ]
  },
  {
   "cell_type": "code",
   "execution_count": 8,
   "metadata": {},
   "outputs": [],
   "source": [
    "def create_connection():\n",
    "    # Define your connection parameters\n",
    "    connection_params = {\n",
    "        \"dbname\": \"SSB10\",\n",
    "        \"user\": \"postgres\",\n",
    "        \"password\": \"greatpond501\",\n",
    "        \"host\": \"localhost\",\n",
    "        \"port\": \"5432\"\n",
    "    }\n",
    "    try:\n",
    "        conn = psycopg2.connect(**connection_params)\n",
    "        print(\"Connection successful\")\n",
    "        return conn\n",
    "    except Exception as e:\n",
    "        print(f\"An error occurred: {e}\")\n",
    "        return None\n",
    "    \n",
    "\n",
    "def close_connection(conn):\n",
    "    try:\n",
    "        conn.close()\n",
    "        print(\"Connection closed\")\n",
    "    except Exception as e:\n",
    "        print(f\"An error occurred: {e}\")"
   ]
  },
  {
   "cell_type": "code",
   "execution_count": 9,
   "metadata": {},
   "outputs": [
    {
     "name": "stdout",
     "output_type": "stream",
     "text": [
      "Connection successful\n",
      "Connection closed\n"
     ]
    }
   ],
   "source": [
    "conn = create_connection()\n",
    "close_connection(conn)"
   ]
  },
  {
   "cell_type": "markdown",
   "metadata": {},
   "source": [
    "### Fetch some data and print it out"
   ]
  },
  {
   "cell_type": "code",
   "execution_count": 10,
   "metadata": {},
   "outputs": [
    {
     "name": "stdout",
     "output_type": "stream",
     "text": [
      "Connection successful\n",
      "(1, 'lace spring', 'MFGR#1', 'MFGR#11', 'MFGR#1121', 'goldenrod', 'PROMO BURNISHED COPPER', 7, 'JUMBO PKG      ')\n",
      "(2, 'rosy metallic', 'MFGR#4', 'MFGR#43', 'MFGR#4318', 'blush', 'LARGE BRUSHED BRASS', 1, 'LG CASE        ')\n",
      "(3, 'green antique', 'MFGR#3', 'MFGR#32', 'MFGR#3210', 'dark', 'STANDARD POLISHED BRASS', 21, 'WRAP CASE      ')\n",
      "(4, 'metallic smoke', 'MFGR#1', 'MFGR#14', 'MFGR#1426', 'chocolate', 'SMALL PLATED BRASS', 14, 'MED DRUM       ')\n",
      "(5, 'blush chiffon', 'MFGR#4', 'MFGR#45', 'MFGR#4510', 'forest', 'STANDARD POLISHED TIN', 15, 'SM PKG         ')\n",
      "(6, 'ivory azure', 'MFGR#2', 'MFGR#23', 'MFGR#2325', 'white', 'PROMO PLATED STEEL', 4, 'MED BAG        ')\n",
      "(7, 'blanched tan', 'MFGR#5', 'MFGR#51', 'MFGR#513 ', 'blue', 'SMALL PLATED COPPER', 45, 'SM BAG         ')\n",
      "(8, 'khaki cream', 'MFGR#1', 'MFGR#13', 'MFGR#1328', 'ivory', 'PROMO BURNISHED TIN', 41, 'LG DRUM        ')\n",
      "(9, 'rose moccasin', 'MFGR#4', 'MFGR#41', 'MFGR#4117', 'thistle', 'SMALL BURNISHED STEEL', 12, 'WRAP CASE      ')\n",
      "(10, 'moccasin royal', 'MFGR#2', 'MFGR#21', 'MFGR#2128', 'floral', 'LARGE BURNISHED STEEL', 44, 'LG CAN         ')\n",
      "Connection closed\n"
     ]
    }
   ],
   "source": [
    "def execute_query(conn, query, print_results=True):\n",
    "    # Create a cursor object\n",
    "    cur = conn.cursor()\n",
    "\n",
    "    # Execute a query\n",
    "    cur.execute(query)\n",
    "\n",
    "    # Fetch and print the results\n",
    "    rows = cur.fetchall()\n",
    "\n",
    "    if print_results:\n",
    "        for row in rows:\n",
    "            print(row)\n",
    "\n",
    "    # Close the cursor\n",
    "    cur.close()\n",
    "\n",
    "    return rows\n",
    "\n",
    "\n",
    "query = \"\"\"\n",
    "        SELECT * \n",
    "        FROM part\n",
    "        LIMIT 10 \n",
    "        \"\"\"\n",
    "\n",
    "conn = create_connection()\n",
    "execute_query(conn, query)\n",
    "close_connection(conn)\n"
   ]
  },
  {
   "cell_type": "markdown",
   "metadata": {},
   "source": [
    "#### Gathering table statistics."
   ]
  },
  {
   "cell_type": "code",
   "execution_count": 6,
   "metadata": {},
   "outputs": [
    {
     "name": "stdout",
     "output_type": "stream",
     "text": [
      "[('lo_orderkey', 'INT'), ('lo_linenumber', 'INT'), ('lo_custkey', 'INT'), ('lo_partkey', 'INT'), ('lo_suppkey', 'INT'), ('lo_orderdate', 'DATE'), ('lo_orderpriority', 'CHAR(15)'), ('lo_shippriority', 'CHAR(1)'), ('lo_quantity', 'INT'), ('lo_extendedprice', 'DECIMAL(18,2)'), ('lo_ordtotalprice', 'DECIMAL(18,2)'), ('lo_discount', 'DECIMAL(18,2)'), ('lo_revenue', 'DECIMAL(18,2)'), ('lo_supplycost', 'DECIMAL(18,2)'), ('lo_tax', 'INT'), ('lo_commitdate', 'DATE'), ('lo_shipmode', 'CHAR(10)')]\n"
     ]
    }
   ],
   "source": [
    "# Dictionary mapping table names to a list of tuples (column_name, data_type)\n",
    "ssb_schema = {\n",
    "    \"lineorder\": [\n",
    "        (\"lo_orderkey\", \"INT\"),\n",
    "        (\"lo_linenumber\", \"INT\"),\n",
    "        (\"lo_custkey\", \"INT\"),\n",
    "        (\"lo_partkey\", \"INT\"),\n",
    "        (\"lo_suppkey\", \"INT\"),\n",
    "        (\"lo_orderdate\", \"DATE\"),\n",
    "        (\"lo_orderpriority\", \"CHAR(15)\"),\n",
    "        (\"lo_shippriority\", \"CHAR(1)\"),\n",
    "        (\"lo_quantity\", \"INT\"),\n",
    "        (\"lo_extendedprice\", \"DECIMAL(18,2)\"),\n",
    "        (\"lo_ordtotalprice\", \"DECIMAL(18,2)\"),\n",
    "        (\"lo_discount\", \"DECIMAL(18,2)\"),\n",
    "        (\"lo_revenue\", \"DECIMAL(18,2)\"),\n",
    "        (\"lo_supplycost\", \"DECIMAL(18,2)\"),\n",
    "        (\"lo_tax\", \"INT\"),\n",
    "        (\"lo_commitdate\", \"DATE\"),\n",
    "        (\"lo_shipmode\", \"CHAR(10)\")\n",
    "    ],\n",
    "    \"part\": [\n",
    "        (\"p_partkey\", \"INT\"),\n",
    "        (\"p_name\", \"VARCHAR(22)\"),\n",
    "        (\"p_mfgr\", \"CHAR(6)\"),\n",
    "        (\"p_category\", \"CHAR(7)\"),\n",
    "        (\"p_brand\", \"CHAR(9)\"),\n",
    "        (\"p_color\", \"VARCHAR(11)\"),\n",
    "        (\"p_type\", \"VARCHAR(25)\"),\n",
    "        (\"p_size\", \"INT\"),\n",
    "        (\"p_container\", \"CHAR(15)\")\n",
    "    ],\n",
    "    \"supplier\": [\n",
    "        (\"s_suppkey\", \"INT\"),\n",
    "        (\"s_name\", \"CHAR(25)\"),\n",
    "        (\"s_address\", \"VARCHAR(25)\"),\n",
    "        (\"s_city\", \"CHAR(10)\"),\n",
    "        (\"s_nation\", \"CHAR(15)\"),\n",
    "        (\"s_region\", \"CHAR(12)\"),\n",
    "        (\"s_phone\", \"CHAR(20)\")\n",
    "    ],\n",
    "    \"customer\": [\n",
    "        (\"c_custkey\", \"INT\"),\n",
    "        (\"c_name\", \"VARCHAR(25)\"),\n",
    "        (\"c_address\", \"VARCHAR(25)\"),\n",
    "        (\"c_city\", \"CHAR(10)\"),\n",
    "        (\"c_nation\", \"CHAR(15)\"),\n",
    "        (\"c_region\", \"CHAR(12)\"),\n",
    "        (\"c_phone\", \"CHAR(15)\"),\n",
    "        (\"c_mktsegment\", \"CHAR(12)\")\n",
    "    ],\n",
    "    \"dwdate\": [\n",
    "        (\"d_datekey\", \"DATE\"),\n",
    "        (\"d_date\", \"CHAR(18)\"),\n",
    "        (\"d_dayofweek\", \"CHAR(9)\"),\n",
    "        (\"d_month\", \"CHAR(9)\"),\n",
    "        (\"d_year\", \"INT\"),\n",
    "        (\"d_yearmonthnum\", \"INT\"),\n",
    "        (\"d_yearmonth\", \"CHAR(7)\"),\n",
    "        (\"d_daynuminweek\", \"INT\"),\n",
    "        (\"d_daynuminmonth\", \"INT\"),\n",
    "        (\"d_daynuminyear\", \"INT\"),\n",
    "        (\"d_monthnuminyear\", \"INT\"),\n",
    "        (\"d_weeknuminyear\", \"INT\"),\n",
    "        (\"d_sellingseason\", \"CHAR(12)\"),\n",
    "        (\"d_lastdayinweekfl\", \"BIT\"),\n",
    "        (\"d_lastdayinmonthfl\", \"BIT\"),\n",
    "        (\"d_holidayfl\", \"BIT\"),\n",
    "        (\"d_weekdayfl\", \"BIT\")\n",
    "    ]\n",
    "}\n",
    "\n",
    "# Example usage: print the schema for the 'lineorder' table\n",
    "print(ssb_schema[\"lineorder\"])\n"
   ]
  },
  {
   "cell_type": "code",
   "execution_count": null,
   "metadata": {},
   "outputs": [],
   "source": [
    "import pandas as pd\n",
    "import numpy as np\n",
    "\n",
    "def collect_stats(dbname, user, password, host, port, table_name, columns):\n",
    "    # Connect to the PostgreSQL database\n",
    "    conn = psycopg2.connect(\n",
    "        dbname=dbname,\n",
    "        user=user,\n",
    "        password=password,\n",
    "        host=host,\n",
    "        port=port\n",
    "    )\n",
    "    \n",
    "    # Create a cursor\n",
    "    cursor = conn.cursor()\n",
    "\n",
    "    # Prepare a dictionary to store statistics\n",
    "    stats = {}\n",
    "\n",
    "    # Iterate over each column and its data type\n",
    "    for column_name, data_type in columns:\n",
    "        # Query to select the column data\n",
    "        query = f\"SELECT {column_name} FROM {table_name};\"\n",
    "        cursor.execute(query)\n",
    "        data = cursor.fetchall()\n",
    "        \n",
    "        # Convert data to a pandas Series\n",
    "        series = pd.Series([row[0] for row in data])\n",
    "\n",
    "        # Collect statistics based on data type\n",
    "        if 'INT' in data_type or 'DECIMAL' in data_type:\n",
    "            stats[column_name] = {\n",
    "                'min': series.min(),\n",
    "                'max': series.max(),\n",
    "                'average': series.mean() if 'DECIMAL' in data_type else None,\n",
    "                'stdev': series.std() if 'DECIMAL' in data_type else None,\n",
    "                'histogram': series.value_counts().to_dict()\n",
    "            }\n",
    "        elif 'CHAR' in data_type or 'VARCHAR' in data_type:\n",
    "            stats[column_name] = {\n",
    "                'histogram': series.value_counts().to_dict()\n",
    "            }\n",
    "        elif 'BIT' in data_type:\n",
    "            stats[column_name] = {\n",
    "                'true_count': series.sum(),\n",
    "                'false_count': len(series) - series.sum()\n",
    "            }\n",
    "\n",
    "    # Close the database connection\n",
    "    cursor.close()\n",
    "    conn.close()\n",
    "\n",
    "    return stats\n",
    "\n",
    "# Example usage\n",
    "ssb_schema = {\n",
    "    \"lineorder\": [\n",
    "        (\"lo_orderkey\", \"INT\"),\n",
    "        (\"lo_linenumber\", \"INT\"),\n",
    "        (\"lo_custkey\", \"INT\"),\n",
    "        (\"lo_partkey\", \"INT\"),\n",
    "        (\"lo_suppkey\", \"INT\"),\n",
    "        (\"lo_orderdate\", \"DATE\"),\n",
    "        (\"lo_orderpriority\", \"CHAR(15)\"),\n",
    "        (\"lo_shippriority\", \"CHAR(1)\"),\n",
    "        (\"lo_quantity\", \"INT\"),\n",
    "        (\"lo_extendedprice\", \"DECIMAL(18,2)\"),\n",
    "        (\"lo_ordtotalprice\", \"DECIMAL(18,2)\"),\n",
    "        (\"lo_discount\", \"DECIMAL(18,2)\"),\n",
    "        (\"lo_revenue\", \"DECIMAL(18,2)\"),\n",
    "        (\"lo_supplycost\", \"DECIMAL(18,2)\"),\n",
    "        (\"lo_tax\", \"INT\"),\n",
    "        (\"lo_commitdate\", \"DATE\"),\n",
    "        (\"lo_shipmode\", \"CHAR(10)\")\n",
    "    ]\n",
    "}\n",
    "\n",
    "stats = collect_stats(\n",
    "    dbname='your_db_name',\n",
    "    user='your_username',\n",
    "    password='your_password',\n",
    "    host='localhost',\n",
    "    port='5432',\n",
    "    table_name='lineorder',\n",
    "    columns=ssb_schema['lineorder']\n",
    ")\n",
    "\n",
    "print(stats)\n"
   ]
  },
  {
   "cell_type": "code",
   "execution_count": null,
   "metadata": {},
   "outputs": [],
   "source": []
  },
  {
   "cell_type": "code",
   "execution_count": null,
   "metadata": {},
   "outputs": [],
   "source": []
  },
  {
   "cell_type": "code",
   "execution_count": null,
   "metadata": {},
   "outputs": [],
   "source": []
  },
  {
   "cell_type": "code",
   "execution_count": null,
   "metadata": {},
   "outputs": [],
   "source": []
  },
  {
   "cell_type": "code",
   "execution_count": null,
   "metadata": {},
   "outputs": [],
   "source": []
  },
  {
   "cell_type": "code",
   "execution_count": null,
   "metadata": {},
   "outputs": [],
   "source": []
  },
  {
   "cell_type": "code",
   "execution_count": null,
   "metadata": {},
   "outputs": [],
   "source": []
  },
  {
   "cell_type": "code",
   "execution_count": null,
   "metadata": {},
   "outputs": [],
   "source": []
  },
  {
   "cell_type": "code",
   "execution_count": null,
   "metadata": {},
   "outputs": [],
   "source": []
  },
  {
   "cell_type": "code",
   "execution_count": null,
   "metadata": {},
   "outputs": [],
   "source": []
  }
 ],
 "metadata": {
  "kernelspec": {
   "display_name": "torch_clone_2",
   "language": "python",
   "name": "python3"
  },
  "language_info": {
   "codemirror_mode": {
    "name": "ipython",
    "version": 3
   },
   "file_extension": ".py",
   "mimetype": "text/x-python",
   "name": "python",
   "nbconvert_exporter": "python",
   "pygments_lexer": "ipython3",
   "version": "3.11.5"
  }
 },
 "nbformat": 4,
 "nbformat_minor": 2
}
