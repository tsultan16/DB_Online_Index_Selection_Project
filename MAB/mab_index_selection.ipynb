{
 "cells": [
  {
   "cell_type": "markdown",
   "metadata": {},
   "source": [
    "#### Online Index Selection Via Combinatorial Contextual Multi Armed Bandits"
   ]
  },
  {
   "cell_type": "code",
   "execution_count": 1,
   "metadata": {},
   "outputs": [],
   "source": [
    "import logging\n",
    "import datetime\n",
    "import os\n",
    "import subprocess\n",
    "import uuid\n",
    "\n",
    "import numpy as np\n",
    "import pyodbc\n",
    "import sys\n",
    "import random\n",
    "import pandas as pd\n",
    "import time\n",
    "import os\n",
    "from tqdm import tqdm\n",
    "import logging\n",
    "import re\n",
    "import json\n",
    "import itertools\n",
    "import math\n",
    "from collections import defaultdict\n",
    "from tqdm import tqdm\n",
    "\n",
    "%load_ext autoreload\n",
    "%autoreload 2\n",
    "\n",
    "import IPython\n",
    "notebook_path = IPython.get_ipython().starting_dir\n",
    "target_subdirectory_path = os.path.abspath(os.path.join(os.path.dirname(notebook_path), 'database'))\n",
    "sys.path.append(target_subdirectory_path)\n",
    "from utils import *\n",
    "\n",
    "from mab import *\n",
    "from dta import *"
   ]
  },
  {
   "cell_type": "code",
   "execution_count": 2,
   "metadata": {},
   "outputs": [
    {
     "name": "stdout",
     "output_type": "stream",
     "text": [
      "2100\n"
     ]
    }
   ],
   "source": [
    "# read workload queries from JSON file\n",
    "def read_workload(workload_filepath):\n",
    "    workload = []\n",
    "    with open(workload_filepath) as f:\n",
    "        line = f.readline()\n",
    "        # read the queries from each line\n",
    "        while line:\n",
    "            workload.append(json.loads(line))\n",
    "            line = f.readline()\n",
    "\n",
    "    return workload\n",
    "\n",
    "# Base directory containing the generated queries\n",
    "workload_filepath = '../datagen/TPCH_workloads/TPCH_static_100_workload.json'\n",
    "\n",
    "# Read the workload queries from file\n",
    "workload = read_workload(workload_filepath)\n",
    "print(len(workload))"
   ]
  },
  {
   "cell_type": "markdown",
   "metadata": {},
   "source": [
    "#### MAB index selection algorithm. On each round, do the following:\n",
    "\n",
    "1) Generate candidate arms/indices using mini-workload from previous round\n",
    "2) Generate context vector for each candidate arm\n",
    "3) Select the best super-arm, i.e. configuration/subset of candidate indices\n",
    "4) Materialize the super-arm configuration, then execute new mini-workload for current round\n",
    "\n",
    "\n",
    "We will implement these 4 steps separately in the given order."
   ]
  },
  {
   "cell_type": "markdown",
   "metadata": {},
   "source": [
    "#### 1. Generation of Candidate indices"
   ]
  },
  {
   "cell_type": "markdown",
   "metadata": {},
   "source": [
    "Test index generation for miniworkload of first 21 queries"
   ]
  },
  {
   "cell_type": "code",
   "execution_count": 3,
   "metadata": {},
   "outputs": [
    {
     "name": "stdout",
     "output_type": "stream",
     "text": [
      "All non-clustered indexes --> []\n",
      "All nonclustered indexes removed.\n"
     ]
    }
   ],
   "source": [
    "mab = MAB()"
   ]
  },
  {
   "cell_type": "code",
   "execution_count": 3,
   "metadata": {},
   "outputs": [],
   "source": [
    "connection = start_connection()\n",
    "\n",
    "miniworkload = []\n",
    "for query in workload[0:21]:\n",
    "    # convert to Query object\n",
    "    miniworkload.append(Query(connection, query['template_id'], query['query_string'], query['payload'], query['predicates'], query['order_bys'], query['group_bys']))\n",
    "\n",
    "close_connection(connection)"
   ]
  },
  {
   "cell_type": "code",
   "execution_count": 14,
   "metadata": {},
   "outputs": [
    {
     "name": "stdout",
     "output_type": "stream",
     "text": [
      "Generating candidate indices for 1 queries...\n"
     ]
    },
    {
     "name": "stderr",
     "output_type": "stream",
     "text": [
      "Processing queries: 100%|██████████| 1/1 [00:00<00:00, 540.64it/s]"
     ]
    },
    {
     "name": "stdout",
     "output_type": "stream",
     "text": [
      "Generated 371 candidate indices\n",
      "dict_keys(['IX_lineitem_l_shipdate', 'IXN_lineitem_l_shipdate_l_di', 'IXN_lineitem_l_shipdate_l_li', 'IXN_lineitem_l_shipdate_l_qu', 'IXN_lineitem_l_shipdate_l_re', 'IXN_lineitem_l_shipdate_l_ta', 'IXN_lineitem_l_shipdate_l_ex', 'IXN_lineitem_l_shipdate_l_di_l_li', 'IXN_lineitem_l_shipdate_l_di_l_qu', 'IXN_lineitem_l_shipdate_l_di_l_re', 'IXN_lineitem_l_shipdate_l_di_l_ta', 'IXN_lineitem_l_shipdate_l_di_l_ex', 'IXN_lineitem_l_shipdate_l_li_l_qu', 'IXN_lineitem_l_shipdate_l_li_l_re', 'IXN_lineitem_l_shipdate_l_li_l_ta', 'IXN_lineitem_l_shipdate_l_li_l_ex', 'IXN_lineitem_l_shipdate_l_qu_l_re', 'IXN_lineitem_l_shipdate_l_qu_l_ta', 'IXN_lineitem_l_shipdate_l_qu_l_ex', 'IXN_lineitem_l_shipdate_l_re_l_ta', 'IXN_lineitem_l_shipdate_l_re_l_ex', 'IXN_lineitem_l_shipdate_l_ta_l_ex', 'IXN_lineitem_l_shipdate_l_di_l_li_l_qu', 'IXN_lineitem_l_shipdate_l_di_l_li_l_re', 'IXN_lineitem_l_shipdate_l_di_l_li_l_ta', 'IXN_lineitem_l_shipdate_l_di_l_li_l_ex', 'IXN_lineitem_l_shipdate_l_di_l_qu_l_re', 'IXN_lineitem_l_shipdate_l_di_l_qu_l_ta', 'IXN_lineitem_l_shipdate_l_di_l_qu_l_ex', 'IXN_lineitem_l_shipdate_l_di_l_re_l_ta', 'IXN_lineitem_l_shipdate_l_di_l_re_l_ex', 'IXN_lineitem_l_shipdate_l_di_l_ta_l_ex', 'IXN_lineitem_l_shipdate_l_li_l_qu_l_re', 'IXN_lineitem_l_shipdate_l_li_l_qu_l_ta', 'IXN_lineitem_l_shipdate_l_li_l_qu_l_ex', 'IXN_lineitem_l_shipdate_l_li_l_re_l_ta', 'IXN_lineitem_l_shipdate_l_li_l_re_l_ex', 'IXN_lineitem_l_shipdate_l_li_l_ta_l_ex', 'IXN_lineitem_l_shipdate_l_qu_l_re_l_ta', 'IXN_lineitem_l_shipdate_l_qu_l_re_l_ex', 'IXN_lineitem_l_shipdate_l_qu_l_ta_l_ex', 'IXN_lineitem_l_shipdate_l_re_l_ta_l_ex', 'IXN_lineitem_l_shipdate_l_di_l_li_l_qu_l_re', 'IXN_lineitem_l_shipdate_l_di_l_li_l_qu_l_ta', 'IXN_lineitem_l_shipdate_l_di_l_li_l_qu_l_ex', 'IXN_lineitem_l_shipdate_l_di_l_li_l_re_l_ta', 'IXN_lineitem_l_shipdate_l_di_l_li_l_re_l_ex', 'IXN_lineitem_l_shipdate_l_di_l_li_l_ta_l_ex', 'IXN_lineitem_l_shipdate_l_di_l_qu_l_re_l_ta', 'IXN_lineitem_l_shipdate_l_di_l_qu_l_re_l_ex', 'IXN_lineitem_l_shipdate_l_di_l_qu_l_ta_l_ex', 'IXN_lineitem_l_shipdate_l_di_l_re_l_ta_l_ex', 'IXN_lineitem_l_shipdate_l_li_l_qu_l_re_l_ta', 'IXN_lineitem_l_shipdate_l_li_l_qu_l_re_l_ex', 'IXN_lineitem_l_shipdate_l_li_l_qu_l_ta_l_ex', 'IXN_lineitem_l_shipdate_l_li_l_re_l_ta_l_ex', 'IXN_lineitem_l_shipdate_l_qu_l_re_l_ta_l_ex', 'IX_lineitem_l_returnflag', 'IXN_lineitem_l_returnflag_l_di', 'IXN_lineitem_l_returnflag_l_li', 'IXN_lineitem_l_returnflag_l_qu', 'IXN_lineitem_l_returnflag_l_ta', 'IXN_lineitem_l_returnflag_l_ex', 'IXN_lineitem_l_returnflag_l_di_l_li', 'IXN_lineitem_l_returnflag_l_di_l_qu', 'IXN_lineitem_l_returnflag_l_di_l_ta', 'IXN_lineitem_l_returnflag_l_di_l_ex', 'IXN_lineitem_l_returnflag_l_li_l_qu', 'IXN_lineitem_l_returnflag_l_li_l_ta', 'IXN_lineitem_l_returnflag_l_li_l_ex', 'IXN_lineitem_l_returnflag_l_qu_l_ta', 'IXN_lineitem_l_returnflag_l_qu_l_ex', 'IXN_lineitem_l_returnflag_l_ta_l_ex', 'IXN_lineitem_l_returnflag_l_di_l_li_l_qu', 'IXN_lineitem_l_returnflag_l_di_l_li_l_ta', 'IXN_lineitem_l_returnflag_l_di_l_li_l_ex', 'IXN_lineitem_l_returnflag_l_di_l_qu_l_ta', 'IXN_lineitem_l_returnflag_l_di_l_qu_l_ex', 'IXN_lineitem_l_returnflag_l_di_l_ta_l_ex', 'IXN_lineitem_l_returnflag_l_li_l_qu_l_ta', 'IXN_lineitem_l_returnflag_l_li_l_qu_l_ex', 'IXN_lineitem_l_returnflag_l_li_l_ta_l_ex', 'IXN_lineitem_l_returnflag_l_qu_l_ta_l_ex', 'IXN_lineitem_l_returnflag_l_di_l_li_l_qu_l_ta', 'IXN_lineitem_l_returnflag_l_di_l_li_l_qu_l_ex', 'IXN_lineitem_l_returnflag_l_di_l_li_l_ta_l_ex', 'IXN_lineitem_l_returnflag_l_di_l_qu_l_ta_l_ex', 'IXN_lineitem_l_returnflag_l_li_l_qu_l_ta_l_ex', 'IX_lineitem_l_linestatus', 'IXN_lineitem_l_linestatus_l_di', 'IXN_lineitem_l_linestatus_l_qu', 'IXN_lineitem_l_linestatus_l_re', 'IXN_lineitem_l_linestatus_l_ta', 'IXN_lineitem_l_linestatus_l_ex', 'IXN_lineitem_l_linestatus_l_di_l_qu', 'IXN_lineitem_l_linestatus_l_di_l_re', 'IXN_lineitem_l_linestatus_l_di_l_ta', 'IXN_lineitem_l_linestatus_l_di_l_ex', 'IXN_lineitem_l_linestatus_l_qu_l_re', 'IXN_lineitem_l_linestatus_l_qu_l_ta', 'IXN_lineitem_l_linestatus_l_qu_l_ex', 'IXN_lineitem_l_linestatus_l_re_l_ta', 'IXN_lineitem_l_linestatus_l_re_l_ex', 'IXN_lineitem_l_linestatus_l_ta_l_ex', 'IXN_lineitem_l_linestatus_l_di_l_qu_l_re', 'IXN_lineitem_l_linestatus_l_di_l_qu_l_ta', 'IXN_lineitem_l_linestatus_l_di_l_qu_l_ex', 'IXN_lineitem_l_linestatus_l_di_l_re_l_ta', 'IXN_lineitem_l_linestatus_l_di_l_re_l_ex', 'IXN_lineitem_l_linestatus_l_di_l_ta_l_ex', 'IXN_lineitem_l_linestatus_l_qu_l_re_l_ta', 'IXN_lineitem_l_linestatus_l_qu_l_re_l_ex', 'IXN_lineitem_l_linestatus_l_qu_l_ta_l_ex', 'IXN_lineitem_l_linestatus_l_re_l_ta_l_ex', 'IXN_lineitem_l_linestatus_l_di_l_qu_l_re_l_ta', 'IXN_lineitem_l_linestatus_l_di_l_qu_l_re_l_ex', 'IXN_lineitem_l_linestatus_l_di_l_qu_l_ta_l_ex', 'IXN_lineitem_l_linestatus_l_di_l_re_l_ta_l_ex', 'IXN_lineitem_l_linestatus_l_qu_l_re_l_ta_l_ex', 'IX_lineitem_l_shipdate_l_returnflag', 'IXN_lineitem_l_shipdate_l_returnflag_l_di', 'IXN_lineitem_l_shipdate_l_returnflag_l_li', 'IXN_lineitem_l_shipdate_l_returnflag_l_qu', 'IXN_lineitem_l_shipdate_l_returnflag_l_ta', 'IXN_lineitem_l_shipdate_l_returnflag_l_ex', 'IXN_lineitem_l_shipdate_l_returnflag_l_di_l_li', 'IXN_lineitem_l_shipdate_l_returnflag_l_di_l_qu', 'IXN_lineitem_l_shipdate_l_returnflag_l_di_l_ta', 'IXN_lineitem_l_shipdate_l_returnflag_l_di_l_ex', 'IXN_lineitem_l_shipdate_l_returnflag_l_li_l_qu', 'IXN_lineitem_l_shipdate_l_returnflag_l_li_l_ta', 'IXN_lineitem_l_shipdate_l_returnflag_l_li_l_ex', 'IXN_lineitem_l_shipdate_l_returnflag_l_qu_l_ta', 'IXN_lineitem_l_shipdate_l_returnflag_l_qu_l_ex', 'IXN_lineitem_l_shipdate_l_returnflag_l_ta_l_ex', 'IXN_lineitem_l_shipdate_l_returnflag_l_di_l_li_l_qu', 'IXN_lineitem_l_shipdate_l_returnflag_l_di_l_li_l_ta', 'IXN_lineitem_l_shipdate_l_returnflag_l_di_l_li_l_ex', 'IXN_lineitem_l_shipdate_l_returnflag_l_di_l_qu_l_ta', 'IXN_lineitem_l_shipdate_l_returnflag_l_di_l_qu_l_ex', 'IXN_lineitem_l_shipdate_l_returnflag_l_di_l_ta_l_ex', 'IXN_lineitem_l_shipdate_l_returnflag_l_li_l_qu_l_ta', 'IXN_lineitem_l_shipdate_l_returnflag_l_li_l_qu_l_ex', 'IXN_lineitem_l_shipdate_l_returnflag_l_li_l_ta_l_ex', 'IXN_lineitem_l_shipdate_l_returnflag_l_qu_l_ta_l_ex', 'IXN_lineitem_l_shipdate_l_returnflag_l_di_l_li_l_qu_l_ta', 'IXN_lineitem_l_shipdate_l_returnflag_l_di_l_li_l_qu_l_ex', 'IXN_lineitem_l_shipdate_l_returnflag_l_di_l_li_l_ta_l_ex', 'IXN_lineitem_l_shipdate_l_returnflag_l_di_l_qu_l_ta_l_ex', 'IXN_lineitem_l_shipdate_l_returnflag_l_li_l_qu_l_ta_l_ex', 'IX_lineitem_l_shipdate_l_linestatus', 'IXN_lineitem_l_shipdate_l_linestatus_l_di', 'IXN_lineitem_l_shipdate_l_linestatus_l_qu', 'IXN_lineitem_l_shipdate_l_linestatus_l_re', 'IXN_lineitem_l_shipdate_l_linestatus_l_ta', 'IXN_lineitem_l_shipdate_l_linestatus_l_ex', 'IXN_lineitem_l_shipdate_l_linestatus_l_di_l_qu', 'IXN_lineitem_l_shipdate_l_linestatus_l_di_l_re', 'IXN_lineitem_l_shipdate_l_linestatus_l_di_l_ta', 'IXN_lineitem_l_shipdate_l_linestatus_l_di_l_ex', 'IXN_lineitem_l_shipdate_l_linestatus_l_qu_l_re', 'IXN_lineitem_l_shipdate_l_linestatus_l_qu_l_ta', 'IXN_lineitem_l_shipdate_l_linestatus_l_qu_l_ex', 'IXN_lineitem_l_shipdate_l_linestatus_l_re_l_ta', 'IXN_lineitem_l_shipdate_l_linestatus_l_re_l_ex', 'IXN_lineitem_l_shipdate_l_linestatus_l_ta_l_ex', 'IXN_lineitem_l_shipdate_l_linestatus_l_di_l_qu_l_re', 'IXN_lineitem_l_shipdate_l_linestatus_l_di_l_qu_l_ta', 'IXN_lineitem_l_shipdate_l_linestatus_l_di_l_qu_l_ex', 'IXN_lineitem_l_shipdate_l_linestatus_l_di_l_re_l_ta', 'IXN_lineitem_l_shipdate_l_linestatus_l_di_l_re_l_ex', 'IXN_lineitem_l_shipdate_l_linestatus_l_di_l_ta_l_ex', 'IXN_lineitem_l_shipdate_l_linestatus_l_qu_l_re_l_ta', 'IXN_lineitem_l_shipdate_l_linestatus_l_qu_l_re_l_ex', 'IXN_lineitem_l_shipdate_l_linestatus_l_qu_l_ta_l_ex', 'IXN_lineitem_l_shipdate_l_linestatus_l_re_l_ta_l_ex', 'IXN_lineitem_l_shipdate_l_linestatus_l_di_l_qu_l_re_l_ta', 'IXN_lineitem_l_shipdate_l_linestatus_l_di_l_qu_l_re_l_ex', 'IXN_lineitem_l_shipdate_l_linestatus_l_di_l_qu_l_ta_l_ex', 'IXN_lineitem_l_shipdate_l_linestatus_l_di_l_re_l_ta_l_ex', 'IXN_lineitem_l_shipdate_l_linestatus_l_qu_l_re_l_ta_l_ex', 'IX_lineitem_l_returnflag_l_shipdate', 'IXN_lineitem_l_returnflag_l_shipdate_l_di', 'IXN_lineitem_l_returnflag_l_shipdate_l_li', 'IXN_lineitem_l_returnflag_l_shipdate_l_qu', 'IXN_lineitem_l_returnflag_l_shipdate_l_ta', 'IXN_lineitem_l_returnflag_l_shipdate_l_ex', 'IXN_lineitem_l_returnflag_l_shipdate_l_di_l_li', 'IXN_lineitem_l_returnflag_l_shipdate_l_di_l_qu', 'IXN_lineitem_l_returnflag_l_shipdate_l_di_l_ta', 'IXN_lineitem_l_returnflag_l_shipdate_l_di_l_ex', 'IXN_lineitem_l_returnflag_l_shipdate_l_li_l_qu', 'IXN_lineitem_l_returnflag_l_shipdate_l_li_l_ta', 'IXN_lineitem_l_returnflag_l_shipdate_l_li_l_ex', 'IXN_lineitem_l_returnflag_l_shipdate_l_qu_l_ta', 'IXN_lineitem_l_returnflag_l_shipdate_l_qu_l_ex', 'IXN_lineitem_l_returnflag_l_shipdate_l_ta_l_ex', 'IXN_lineitem_l_returnflag_l_shipdate_l_di_l_li_l_qu', 'IXN_lineitem_l_returnflag_l_shipdate_l_di_l_li_l_ta', 'IXN_lineitem_l_returnflag_l_shipdate_l_di_l_li_l_ex', 'IXN_lineitem_l_returnflag_l_shipdate_l_di_l_qu_l_ta', 'IXN_lineitem_l_returnflag_l_shipdate_l_di_l_qu_l_ex', 'IXN_lineitem_l_returnflag_l_shipdate_l_di_l_ta_l_ex', 'IXN_lineitem_l_returnflag_l_shipdate_l_li_l_qu_l_ta', 'IXN_lineitem_l_returnflag_l_shipdate_l_li_l_qu_l_ex', 'IXN_lineitem_l_returnflag_l_shipdate_l_li_l_ta_l_ex', 'IXN_lineitem_l_returnflag_l_shipdate_l_qu_l_ta_l_ex', 'IXN_lineitem_l_returnflag_l_shipdate_l_di_l_li_l_qu_l_ta', 'IXN_lineitem_l_returnflag_l_shipdate_l_di_l_li_l_qu_l_ex', 'IXN_lineitem_l_returnflag_l_shipdate_l_di_l_li_l_ta_l_ex', 'IXN_lineitem_l_returnflag_l_shipdate_l_di_l_qu_l_ta_l_ex', 'IXN_lineitem_l_returnflag_l_shipdate_l_li_l_qu_l_ta_l_ex', 'IX_lineitem_l_returnflag_l_linestatus', 'IXN_lineitem_l_returnflag_l_linestatus_l_qu', 'IXN_lineitem_l_returnflag_l_linestatus_l_di', 'IXN_lineitem_l_returnflag_l_linestatus_l_ex', 'IXN_lineitem_l_returnflag_l_linestatus_l_ta', 'IXN_lineitem_l_returnflag_l_linestatus_l_qu_l_di', 'IXN_lineitem_l_returnflag_l_linestatus_l_qu_l_ex', 'IXN_lineitem_l_returnflag_l_linestatus_l_qu_l_ta', 'IXN_lineitem_l_returnflag_l_linestatus_l_di_l_ex', 'IXN_lineitem_l_returnflag_l_linestatus_l_di_l_ta', 'IXN_lineitem_l_returnflag_l_linestatus_l_ex_l_ta', 'IXN_lineitem_l_returnflag_l_linestatus_l_qu_l_di_l_ex', 'IXN_lineitem_l_returnflag_l_linestatus_l_qu_l_di_l_ta', 'IXN_lineitem_l_returnflag_l_linestatus_l_qu_l_ex_l_ta', 'IXN_lineitem_l_returnflag_l_linestatus_l_di_l_ex_l_ta', 'IXN_lineitem_l_returnflag_l_linestatus_l_qu_l_di_l_ex_l_ta', 'IX_lineitem_l_linestatus_l_shipdate', 'IXN_lineitem_l_linestatus_l_shipdate_l_di', 'IXN_lineitem_l_linestatus_l_shipdate_l_qu', 'IXN_lineitem_l_linestatus_l_shipdate_l_re', 'IXN_lineitem_l_linestatus_l_shipdate_l_ta', 'IXN_lineitem_l_linestatus_l_shipdate_l_ex', 'IXN_lineitem_l_linestatus_l_shipdate_l_di_l_qu', 'IXN_lineitem_l_linestatus_l_shipdate_l_di_l_re', 'IXN_lineitem_l_linestatus_l_shipdate_l_di_l_ta', 'IXN_lineitem_l_linestatus_l_shipdate_l_di_l_ex', 'IXN_lineitem_l_linestatus_l_shipdate_l_qu_l_re', 'IXN_lineitem_l_linestatus_l_shipdate_l_qu_l_ta', 'IXN_lineitem_l_linestatus_l_shipdate_l_qu_l_ex', 'IXN_lineitem_l_linestatus_l_shipdate_l_re_l_ta', 'IXN_lineitem_l_linestatus_l_shipdate_l_re_l_ex', 'IXN_lineitem_l_linestatus_l_shipdate_l_ta_l_ex', 'IXN_lineitem_l_linestatus_l_shipdate_l_di_l_qu_l_re', 'IXN_lineitem_l_linestatus_l_shipdate_l_di_l_qu_l_ta', 'IXN_lineitem_l_linestatus_l_shipdate_l_di_l_qu_l_ex', 'IXN_lineitem_l_linestatus_l_shipdate_l_di_l_re_l_ta', 'IXN_lineitem_l_linestatus_l_shipdate_l_di_l_re_l_ex', 'IXN_lineitem_l_linestatus_l_shipdate_l_di_l_ta_l_ex', 'IXN_lineitem_l_linestatus_l_shipdate_l_qu_l_re_l_ta', 'IXN_lineitem_l_linestatus_l_shipdate_l_qu_l_re_l_ex', 'IXN_lineitem_l_linestatus_l_shipdate_l_qu_l_ta_l_ex', 'IXN_lineitem_l_linestatus_l_shipdate_l_re_l_ta_l_ex', 'IXN_lineitem_l_linestatus_l_shipdate_l_di_l_qu_l_re_l_ta', 'IXN_lineitem_l_linestatus_l_shipdate_l_di_l_qu_l_re_l_ex', 'IXN_lineitem_l_linestatus_l_shipdate_l_di_l_qu_l_ta_l_ex', 'IXN_lineitem_l_linestatus_l_shipdate_l_di_l_re_l_ta_l_ex', 'IXN_lineitem_l_linestatus_l_shipdate_l_qu_l_re_l_ta_l_ex', 'IX_lineitem_l_linestatus_l_returnflag', 'IXN_lineitem_l_linestatus_l_returnflag_l_qu', 'IXN_lineitem_l_linestatus_l_returnflag_l_di', 'IXN_lineitem_l_linestatus_l_returnflag_l_ex', 'IXN_lineitem_l_linestatus_l_returnflag_l_ta', 'IXN_lineitem_l_linestatus_l_returnflag_l_qu_l_di', 'IXN_lineitem_l_linestatus_l_returnflag_l_qu_l_ex', 'IXN_lineitem_l_linestatus_l_returnflag_l_qu_l_ta', 'IXN_lineitem_l_linestatus_l_returnflag_l_di_l_ex', 'IXN_lineitem_l_linestatus_l_returnflag_l_di_l_ta', 'IXN_lineitem_l_linestatus_l_returnflag_l_ex_l_ta', 'IXN_lineitem_l_linestatus_l_returnflag_l_qu_l_di_l_ex', 'IXN_lineitem_l_linestatus_l_returnflag_l_qu_l_di_l_ta', 'IXN_lineitem_l_linestatus_l_returnflag_l_qu_l_ex_l_ta', 'IXN_lineitem_l_linestatus_l_returnflag_l_di_l_ex_l_ta', 'IXN_lineitem_l_linestatus_l_returnflag_l_qu_l_di_l_ex_l_ta', 'IX_lineitem_l_shipdate_l_returnflag_l_linestatus', 'IXN_lineitem_l_shipdate_l_returnflag_l_linestatus_l_qu', 'IXN_lineitem_l_shipdate_l_returnflag_l_linestatus_l_di', 'IXN_lineitem_l_shipdate_l_returnflag_l_linestatus_l_ex', 'IXN_lineitem_l_shipdate_l_returnflag_l_linestatus_l_ta', 'IXN_lineitem_l_shipdate_l_returnflag_l_linestatus_l_qu_l_di', 'IXN_lineitem_l_shipdate_l_returnflag_l_linestatus_l_qu_l_ex', 'IXN_lineitem_l_shipdate_l_returnflag_l_linestatus_l_qu_l_ta', 'IXN_lineitem_l_shipdate_l_returnflag_l_linestatus_l_di_l_ex', 'IXN_lineitem_l_shipdate_l_returnflag_l_linestatus_l_di_l_ta', 'IXN_lineitem_l_shipdate_l_returnflag_l_linestatus_l_ex_l_ta', 'IXN_lineitem_l_shipdate_l_returnflag_l_linestatus_l_qu_l_di_l_ex', 'IXN_lineitem_l_shipdate_l_returnflag_l_linestatus_l_qu_l_di_l_ta', 'IXN_lineitem_l_shipdate_l_returnflag_l_linestatus_l_qu_l_ex_l_ta', 'IXN_lineitem_l_shipdate_l_returnflag_l_linestatus_l_di_l_ex_l_ta', 'IXN_lineitem_l_shipdate_l_returnflag_l_linestatus_l_qu_l_di_l_ex_l_ta', 'IX_lineitem_l_shipdate_l_linestatus_l_returnflag', 'IXN_lineitem_l_shipdate_l_linestatus_l_returnflag_l_qu', 'IXN_lineitem_l_shipdate_l_linestatus_l_returnflag_l_di', 'IXN_lineitem_l_shipdate_l_linestatus_l_returnflag_l_ex', 'IXN_lineitem_l_shipdate_l_linestatus_l_returnflag_l_ta', 'IXN_lineitem_l_shipdate_l_linestatus_l_returnflag_l_qu_l_di', 'IXN_lineitem_l_shipdate_l_linestatus_l_returnflag_l_qu_l_ex', 'IXN_lineitem_l_shipdate_l_linestatus_l_returnflag_l_qu_l_ta', 'IXN_lineitem_l_shipdate_l_linestatus_l_returnflag_l_di_l_ex', 'IXN_lineitem_l_shipdate_l_linestatus_l_returnflag_l_di_l_ta', 'IXN_lineitem_l_shipdate_l_linestatus_l_returnflag_l_ex_l_ta', 'IXN_lineitem_l_shipdate_l_linestatus_l_returnflag_l_qu_l_di_l_ex', 'IXN_lineitem_l_shipdate_l_linestatus_l_returnflag_l_qu_l_di_l_ta', 'IXN_lineitem_l_shipdate_l_linestatus_l_returnflag_l_qu_l_ex_l_ta', 'IXN_lineitem_l_shipdate_l_linestatus_l_returnflag_l_di_l_ex_l_ta', 'IXN_lineitem_l_shipdate_l_linestatus_l_returnflag_l_qu_l_di_l_ex_l_ta', 'IX_lineitem_l_returnflag_l_shipdate_l_linestatus', 'IXN_lineitem_l_returnflag_l_shipdate_l_linestatus_l_qu', 'IXN_lineitem_l_returnflag_l_shipdate_l_linestatus_l_di', 'IXN_lineitem_l_returnflag_l_shipdate_l_linestatus_l_ex', 'IXN_lineitem_l_returnflag_l_shipdate_l_linestatus_l_ta', 'IXN_lineitem_l_returnflag_l_shipdate_l_linestatus_l_qu_l_di', 'IXN_lineitem_l_returnflag_l_shipdate_l_linestatus_l_qu_l_ex', 'IXN_lineitem_l_returnflag_l_shipdate_l_linestatus_l_qu_l_ta', 'IXN_lineitem_l_returnflag_l_shipdate_l_linestatus_l_di_l_ex', 'IXN_lineitem_l_returnflag_l_shipdate_l_linestatus_l_di_l_ta', 'IXN_lineitem_l_returnflag_l_shipdate_l_linestatus_l_ex_l_ta', 'IXN_lineitem_l_returnflag_l_shipdate_l_linestatus_l_qu_l_di_l_ex', 'IXN_lineitem_l_returnflag_l_shipdate_l_linestatus_l_qu_l_di_l_ta', 'IXN_lineitem_l_returnflag_l_shipdate_l_linestatus_l_qu_l_ex_l_ta', 'IXN_lineitem_l_returnflag_l_shipdate_l_linestatus_l_di_l_ex_l_ta', 'IXN_lineitem_l_returnflag_l_shipdate_l_linestatus_l_qu_l_di_l_ex_l_ta', 'IX_lineitem_l_returnflag_l_linestatus_l_shipdate', 'IXN_lineitem_l_returnflag_l_linestatus_l_shipdate_l_qu', 'IXN_lineitem_l_returnflag_l_linestatus_l_shipdate_l_di', 'IXN_lineitem_l_returnflag_l_linestatus_l_shipdate_l_ex', 'IXN_lineitem_l_returnflag_l_linestatus_l_shipdate_l_ta', 'IXN_lineitem_l_returnflag_l_linestatus_l_shipdate_l_qu_l_di', 'IXN_lineitem_l_returnflag_l_linestatus_l_shipdate_l_qu_l_ex', 'IXN_lineitem_l_returnflag_l_linestatus_l_shipdate_l_qu_l_ta', 'IXN_lineitem_l_returnflag_l_linestatus_l_shipdate_l_di_l_ex', 'IXN_lineitem_l_returnflag_l_linestatus_l_shipdate_l_di_l_ta', 'IXN_lineitem_l_returnflag_l_linestatus_l_shipdate_l_ex_l_ta', 'IXN_lineitem_l_returnflag_l_linestatus_l_shipdate_l_qu_l_di_l_ex', 'IXN_lineitem_l_returnflag_l_linestatus_l_shipdate_l_qu_l_di_l_ta', 'IXN_lineitem_l_returnflag_l_linestatus_l_shipdate_l_qu_l_ex_l_ta', 'IXN_lineitem_l_returnflag_l_linestatus_l_shipdate_l_di_l_ex_l_ta', 'IXN_lineitem_l_returnflag_l_linestatus_l_shipdate_l_qu_l_di_l_ex_l_ta', 'IX_lineitem_l_linestatus_l_shipdate_l_returnflag', 'IXN_lineitem_l_linestatus_l_shipdate_l_returnflag_l_qu', 'IXN_lineitem_l_linestatus_l_shipdate_l_returnflag_l_di', 'IXN_lineitem_l_linestatus_l_shipdate_l_returnflag_l_ex', 'IXN_lineitem_l_linestatus_l_shipdate_l_returnflag_l_ta', 'IXN_lineitem_l_linestatus_l_shipdate_l_returnflag_l_qu_l_di', 'IXN_lineitem_l_linestatus_l_shipdate_l_returnflag_l_qu_l_ex', 'IXN_lineitem_l_linestatus_l_shipdate_l_returnflag_l_qu_l_ta', 'IXN_lineitem_l_linestatus_l_shipdate_l_returnflag_l_di_l_ex', 'IXN_lineitem_l_linestatus_l_shipdate_l_returnflag_l_di_l_ta', 'IXN_lineitem_l_linestatus_l_shipdate_l_returnflag_l_ex_l_ta', 'IXN_lineitem_l_linestatus_l_shipdate_l_returnflag_l_qu_l_di_l_ex', 'IXN_lineitem_l_linestatus_l_shipdate_l_returnflag_l_qu_l_di_l_ta', 'IXN_lineitem_l_linestatus_l_shipdate_l_returnflag_l_qu_l_ex_l_ta', 'IXN_lineitem_l_linestatus_l_shipdate_l_returnflag_l_di_l_ex_l_ta', 'IXN_lineitem_l_linestatus_l_shipdate_l_returnflag_l_qu_l_di_l_ex_l_ta', 'IX_lineitem_l_linestatus_l_returnflag_l_shipdate', 'IXN_lineitem_l_linestatus_l_returnflag_l_shipdate_l_qu', 'IXN_lineitem_l_linestatus_l_returnflag_l_shipdate_l_di', 'IXN_lineitem_l_linestatus_l_returnflag_l_shipdate_l_ex', 'IXN_lineitem_l_linestatus_l_returnflag_l_shipdate_l_ta', 'IXN_lineitem_l_linestatus_l_returnflag_l_shipdate_l_qu_l_di', 'IXN_lineitem_l_linestatus_l_returnflag_l_shipdate_l_qu_l_ex', 'IXN_lineitem_l_linestatus_l_returnflag_l_shipdate_l_qu_l_ta', 'IXN_lineitem_l_linestatus_l_returnflag_l_shipdate_l_di_l_ex', 'IXN_lineitem_l_linestatus_l_returnflag_l_shipdate_l_di_l_ta', 'IXN_lineitem_l_linestatus_l_returnflag_l_shipdate_l_ex_l_ta', 'IXN_lineitem_l_linestatus_l_returnflag_l_shipdate_l_qu_l_di_l_ex', 'IXN_lineitem_l_linestatus_l_returnflag_l_shipdate_l_qu_l_di_l_ta', 'IXN_lineitem_l_linestatus_l_returnflag_l_shipdate_l_qu_l_ex_l_ta', 'IXN_lineitem_l_linestatus_l_returnflag_l_shipdate_l_di_l_ex_l_ta', 'IXN_lineitem_l_linestatus_l_returnflag_l_shipdate_l_qu_l_di_l_ex_l_ta'])\n"
     ]
    },
    {
     "name": "stderr",
     "output_type": "stream",
     "text": [
      "\n"
     ]
    }
   ],
   "source": [
    "connection = start_connection()\n",
    "\n",
    "# genete candidate indices\n",
    "i=0\n",
    "index_arms = mab.generate_candidate_indices(connection, miniworkload[i:i+1], verbose=False)\n",
    "print(index_arms.keys())\n",
    "\n",
    "close_connection(connection)"
   ]
  },
  {
   "cell_type": "markdown",
   "metadata": {},
   "source": [
    "#### 2. Generation of Context Vectors for Each Arm/Index\n",
    "\n",
    "The context vector of each index can be defined as a concatenation of two pieces:\n",
    "\n",
    "* Columns Piece:  a vector with length equal to the total number of columns in the database. Each entry in this vector corresponds to one of the columns and contains the value $10^{-j}$ where $j$ is the position of that column in the index, provided that column is in the index, otherwise the value is zero. \n",
    "\n",
    "* Derived Context Piece: a vector of length 2, first component contains time stamp of last round when the index was used and second component is the size of the index relative to the entire database"
   ]
  },
  {
   "cell_type": "code",
   "execution_count": 15,
   "metadata": {},
   "outputs": [
    {
     "name": "stdout",
     "output_type": "stream",
     "text": [
      "(371, 124)\n"
     ]
    }
   ],
   "source": [
    "connection = start_connection()\n",
    "\n",
    "# test context vector generation\n",
    "context_vectors = mab.generate_contexts(connection, index_arms)\n",
    "print(context_vectors.shape)\n",
    "\n",
    "close_connection(connection)"
   ]
  },
  {
   "cell_type": "markdown",
   "metadata": {},
   "source": [
    "#### 3: Generation of super-arm/ best configuration\n",
    "\n",
    "To generate the best configurations:\n",
    "\n",
    "* compute the estimated upper bound on expected reward from each index\n",
    "* then solve the 0-1 knapsack problem to find the subset of indices which maximizes total expected reward upper bound while satisfying memory constraint"
   ]
  },
  {
   "cell_type": "code",
   "execution_count": 17,
   "metadata": {},
   "outputs": [
    {
     "name": "stdout",
     "output_type": "stream",
     "text": [
      "Filtered upper bounds: {'IX_lineitem_l_shipdate': 0.0010893481810414496, 'IXN_lineitem_l_shipdate_l_li': 0.5857764017553204, 'IXN_lineitem_l_shipdate_l_re': 0.5857764017553204, 'IXN_lineitem_l_shipdate_l_li_l_re': 1.034876564504173, 'IX_lineitem_l_returnflag': 0.0, 'IXN_lineitem_l_returnflag_l_li': 0.5849596287698582, 'IX_lineitem_l_linestatus': 0.0, 'IXN_lineitem_l_linestatus_l_re': 0.5849596287698582, 'IX_lineitem_l_shipdate_l_returnflag': 0.008706588662745762, 'IXN_lineitem_l_shipdate_l_returnflag_l_li': 0.5912011628802578, 'IX_lineitem_l_shipdate_l_linestatus': 0.008706588662745762, 'IXN_lineitem_l_shipdate_l_linestatus_l_re': 0.5912011628802578, 'IX_lineitem_l_returnflag_l_shipdate': 0.008706588662745762, 'IXN_lineitem_l_returnflag_l_shipdate_l_li': 0.5912011628802578, 'IX_lineitem_l_returnflag_l_linestatus': 0.00755929702917113, 'IX_lineitem_l_linestatus_l_shipdate': 0.008706588662745762, 'IXN_lineitem_l_linestatus_l_shipdate_l_re': 0.5912011628802578, 'IX_lineitem_l_linestatus_l_returnflag': 0.00755929702917113, 'IX_lineitem_l_shipdate_l_returnflag_l_linestatus': 0.009397696804912758, 'IX_lineitem_l_shipdate_l_linestatus_l_returnflag': 0.009397696804912758, 'IX_lineitem_l_returnflag_l_shipdate_l_linestatus': 0.009397696804912758, 'IX_lineitem_l_returnflag_l_linestatus_l_shipdate': 0.009397696804912758, 'IX_lineitem_l_linestatus_l_shipdate_l_returnflag': 0.009397696804912758, 'IX_lineitem_l_linestatus_l_returnflag_l_shipdate': 0.009397696804912758}\n",
      "Best configuration contains 1 indices: \n",
      "['IXN_lineitem_l_shipdate_l_li_l_re']\n"
     ]
    }
   ],
   "source": [
    "# test super arm selection\n",
    "selected_indices = mab.select_best_configuration(context_vectors, index_arms, config_memory_budget_MB=5*1024, verbose=True)\n"
   ]
  },
  {
   "cell_type": "markdown",
   "metadata": {},
   "source": [
    "#### 4. Meterialize super-arm configuration and execute mini-workload, observe rewards "
   ]
  },
  {
   "cell_type": "code",
   "execution_count": 43,
   "metadata": {},
   "outputs": [
    {
     "name": "stdout",
     "output_type": "stream",
     "text": [
      "Total execution cost: 28.466\n",
      "{'IX_supplier_s_suppkey_s_nationkey': [0.019999999999999997, -0.01], 'IX_customer_c_mktsegment': [0.032, -0.239], 'IX_supplier_s_nationkey': [0.0035, -0.013], 'IX_customer_c_nationkey': [0.031, -0.127], 'IX_customer_c_custkey_c_nationkey': [0.0155, -0.113], 'IX_supplier_s_nationkey_s_suppkey': [0.0035, -0.013], 'IX_customer_c_custkey': [-0.011000000000000003, -0.183], 'IX_supplier_s_comment': [0.002999999999999999, -0.042], 'IX_part_p_container': [0.006666666666666668, -0.172], 'IX_part_p_brand_p_partkey': [0.001666666666666668, -0.431], 'IX_part_p_size_p_partkey': [0.016, -0.126], 'IX_customer_c_phone': [-0.10350000000000001, -0.156], 'IX_customer_c_acctbal_c_custkey': [-0.01750000000000001, -0.105], 'IX_part_p_brand_p_size_p_partkey': [0, -0.382], 'IX_customer_c_acctbal': [0, -0.157], 'IX_customer_c_nationkey_c_custkey': [0, -0.255], 'IX_part_p_partkey_p_brand': [0, -0.144], 'IX_customer_c_phone_c_custkey': [0, -0.214], 'IX_part_p_partkey_p_brand_p_size': [0, -0.157], 'IX_part_p_brand': [0, -0.379], 'IX_part_p_size_p_partkey_p_container': [0, -0.374], 'IX_part_p_container_p_partkey_p_size': [0, -0.508], 'IX_part_p_container_p_partkey': [0, -0.385], 'IX_part_p_partkey_p_size_p_brand': [0, -0.141], 'IX_part_p_brand_p_partkey_p_size': [0, -0.636], 'IX_part_p_partkey_p_container_p_size': [0, -0.268], 'IX_customer_c_custkey_c_phone': [0, -0.144], 'IX_supplier_s_suppkey': [0, -0.006], 'IX_part_p_partkey_p_size_p_container': [0, -0.35], 'IX_part_p_size_p_container_p_partkey': [0, -0.423], 'IX_part_p_size_p_partkey_p_brand': [0, -0.566], 'IX_part_p_size_p_brand_p_partkey': [0, -0.454], 'IX_part_p_partkey_p_size': [0, -0.114], 'IX_part_p_partkey': [0, -0.103], 'IX_part_p_partkey_p_container': [0, -0.241], 'IX_part_p_size': [0, -0.353], 'IX_part_p_container_p_size_p_partkey': [0, -0.473], 'IX_customer_c_custkey_c_acctbal': [0, -0.223]}\n"
     ]
    }
   ],
   "source": [
    "connection = start_connection()\n",
    "\n",
    "total_execution_cost, creation_cost, index_rewards = mab.materialize_execute(connection, selected_indices, miniworkload, index_arms, verbose=False)\n",
    "\n",
    "print(index_rewards)\n",
    "\n",
    "close_connection(connection)\n"
   ]
  },
  {
   "cell_type": "code",
   "execution_count": 44,
   "metadata": {},
   "outputs": [],
   "source": [
    "mab.update_parameters(selected_indices, index_rewards, index_arms)\n"
   ]
  },
  {
   "cell_type": "markdown",
   "metadata": {},
   "source": [
    "#### Full MAB rounds"
   ]
  },
  {
   "cell_type": "code",
   "execution_count": 6,
   "metadata": {},
   "outputs": [
    {
     "name": "stdout",
     "output_type": "stream",
     "text": [
      "All non-clustered indexes --> [('dbo', 'lineitem', 'IXN_lineitem_l_returnflag_l_shipdate_l_linestatus_l_ta_l_ex_l_di_l_qu')]\n",
      "All nonclustered indexes removed.\n"
     ]
    }
   ],
   "source": [
    "mab = MAB(alpha_decay_rate=0.95)"
   ]
  },
  {
   "cell_type": "code",
   "execution_count": 7,
   "metadata": {},
   "outputs": [
    {
     "name": "stdout",
     "output_type": "stream",
     "text": [
      "Running MAB agent for round 1...\n",
      "Identifying new query templates and updating statistics...\n",
      "Number of new query templates added: 21\n",
      "Number of queries of interest: 0\n",
      "Materializing configuration and executing queries...\n",
      "Num indexes added:0, Num indexes removed: 0 Index creation costs: {}\n",
      "Observed Rewards for indexes: {}\n",
      "\n",
      "Total execution cost: 173.028, Total index creation cost: 0\n",
      "\n",
      "Index selection counts: {}\n",
      "\n",
      "Round completed. Time taken for recommendation: 0:03:27.164178 seconds.\n",
      "\n",
      "Running MAB agent for round 2...\n",
      "Identifying new query templates and updating statistics...\n",
      "Number of new query templates added: 0\n",
      "Number of queries of interest: 21\n",
      "Generating candidate indices...\n",
      "Generating candidate indices for 21 queries...\n"
     ]
    },
    {
     "name": "stderr",
     "output_type": "stream",
     "text": [
      "Processing queries: 100%|██████████| 21/21 [00:00<00:00, 131.70it/s]\n"
     ]
    },
    {
     "name": "stdout",
     "output_type": "stream",
     "text": [
      "Generated 24142 candidate indices\n",
      "Generating context vectors...\n",
      "Selecting best configuration...\n",
      "Theta - parameter vector: \n",
      "[0. 0. 0. 0. 0. 0. 0. 0. 0. 0. 0. 0. 0. 0. 0. 0. 0. 0. 0. 0. 0. 0. 0. 0.\n",
      " 0. 0. 0. 0. 0. 0. 0. 0. 0. 0. 0. 0. 0. 0. 0. 0. 0. 0. 0. 0. 0. 0. 0. 0.\n",
      " 0. 0. 0. 0. 0. 0. 0. 0. 0. 0. 0. 0. 0. 0. 0. 0. 0. 0. 0. 0. 0. 0. 0. 0.\n",
      " 0. 0. 0. 0. 0. 0. 0. 0. 0. 0. 0. 0. 0. 0. 0. 0. 0. 0. 0. 0. 0. 0. 0. 0.\n",
      " 0. 0. 0. 0. 0. 0. 0. 0. 0. 0. 0. 0. 0. 0. 0. 0. 0. 0. 0. 0. 0. 0. 0. 0.\n",
      " 0. 0. 0. 0.]\n",
      "Table filtered indexes: defaultdict(<class 'list'>, {'lineitem': ['IXN_lineitem_l_returnflag_l_shipdate_l_linestatus_l_ta_l_ex_l_di_l_qu', 'IXN_lineitem_l_returnflag_l_linestatus_l_shipdate_l_ta_l_ex_l_di_l_qu', 'IXN_lineitem_l_shipdate_l_returnflag_l_linestatus_l_ta_l_ex_l_di_l_qu'], 'part': ['IXN_part_p_type_p_size_p_mf_p_pa', 'IXN_part_p_size_p_type_p_mf_p_pa', 'IXN_part_p_type_p_mf_p_pa'], 'partsupp': ['IXN_partsupp_ps_suppkey_ps_p_ps_s_ps_a', 'IXN_partsupp_ps_suppkey_ps_s_ps_a', 'IXN_partsupp_ps_suppkey_ps_p_ps_s'], 'supplier': ['IXN_supplier_s_name_s_nationkey_s_co_s_ac_s_ph_s_ad', 'IXN_supplier_s_nationkey_s_name_s_co_s_ac_s_ph_s_ad', 'IXN_supplier_s_nationkey_s_acctbal_s_co_s_na_s_ph_s_ad'], 'orders': ['IXN_orders_o_custkey_o_orderkey_o_to_o_or', 'IXN_orders_o_orderkey_o_custkey_o_to_o_or', 'IXN_orders_o_custkey_o_to_o_or'], 'customer': ['IXN_customer_c_acctbal_c_custkey_c_nationkey_c_na_c_co_c_ad_c_ph', 'IXN_customer_c_acctbal_c_nationkey_c_custkey_c_na_c_co_c_ad_c_ph', 'IXN_customer_c_custkey_c_acctbal_c_nationkey_c_na_c_co_c_ad_c_ph']})\n",
      "Number of candidate indexes after filtration: 18\n",
      "Best configuration contains 15 indices: \n",
      "['IXN_supplier_s_name_s_nationkey_s_co_s_ac_s_ph_s_ad', 'IXN_supplier_s_nationkey_s_name_s_co_s_ac_s_ph_s_ad', 'IXN_supplier_s_nationkey_s_acctbal_s_co_s_na_s_ph_s_ad', 'IXN_part_p_type_p_mf_p_pa', 'IXN_part_p_type_p_size_p_mf_p_pa', 'IXN_part_p_size_p_type_p_mf_p_pa', 'IXN_customer_c_acctbal_c_custkey_c_nationkey_c_na_c_co_c_ad_c_ph', 'IXN_customer_c_acctbal_c_nationkey_c_custkey_c_na_c_co_c_ad_c_ph', 'IXN_customer_c_custkey_c_acctbal_c_nationkey_c_na_c_co_c_ad_c_ph', 'IXN_partsupp_ps_suppkey_ps_p_ps_s', 'IXN_partsupp_ps_suppkey_ps_p_ps_s_ps_a', 'IXN_partsupp_ps_suppkey_ps_s_ps_a', 'IXN_orders_o_custkey_o_orderkey_o_to_o_or', 'IXN_orders_o_orderkey_o_custkey_o_to_o_or', 'IXN_orders_o_custkey_o_to_o_or']\n",
      "Materializing configuration and executing queries...\n",
      "Num indexes added:15, Num indexes removed: 0 Index creation costs: {'IXN_partsupp_ps_suppkey_ps_s_ps_a': 8.829, 'IXN_orders_o_custkey_o_to_o_or': 22.292, 'IXN_supplier_s_nationkey_s_name_s_co_s_ac_s_ph_s_ad': 0.356, 'IXN_part_p_type_p_mf_p_pa': 11.368, 'IXN_orders_o_orderkey_o_custkey_o_to_o_or': 20.672, 'IXN_orders_o_custkey_o_orderkey_o_to_o_or': 19.927, 'IXN_customer_c_custkey_c_acctbal_c_nationkey_c_na_c_co_c_ad_c_ph': 10.793, 'IXN_customer_c_acctbal_c_nationkey_c_custkey_c_na_c_co_c_ad_c_ph': 9.106, 'IXN_part_p_size_p_type_p_mf_p_pa': 9.641, 'IXN_customer_c_acctbal_c_custkey_c_nationkey_c_na_c_co_c_ad_c_ph': 13.624, 'IXN_partsupp_ps_suppkey_ps_p_ps_s_ps_a': 11.566, 'IXN_supplier_s_name_s_nationkey_s_co_s_ac_s_ph_s_ad': 1.127, 'IXN_supplier_s_nationkey_s_acctbal_s_co_s_na_s_ph_s_ad': 0.615, 'IXN_partsupp_ps_suppkey_ps_p_ps_s': 9.045, 'IXN_part_p_type_p_size_p_mf_p_pa': 8.435}\n",
      "Observed Rewards for indexes: {'IXN_part_p_size_p_type_p_mf_p_pa': [0.26299999999999996, -9.641], 'IXN_supplier_s_name_s_nationkey_s_co_s_ac_s_ph_s_ad': [0.39350000000000007, -1.127], 'IXN_supplier_s_nationkey_s_name_s_co_s_ac_s_ph_s_ad': [0.09400000000000001, -0.356], 'IXN_partsupp_ps_suppkey_ps_p_ps_s': [0.44949999999999996, -9.045], 'IXN_partsupp_ps_suppkey_ps_s_ps_a': [1.4745, -8.829], 'IXN_orders_o_orderkey_o_custkey_o_to_o_or': [-12.922, -20.672], 'IXN_customer_c_custkey_c_acctbal_c_nationkey_c_na_c_co_c_ad_c_ph': [-0.006500000000000006, -10.793], 'IXN_orders_o_custkey_o_to_o_or': [1.5855000000000001, -22.292], 'IXN_part_p_type_p_mf_p_pa': [0.411, -11.368], 'IXN_customer_c_acctbal_c_nationkey_c_custkey_c_na_c_co_c_ad_c_ph': [-0.43800000000000006, -9.106], 'IXN_orders_o_custkey_o_orderkey_o_to_o_or': [0.5390000000000001, -19.927], 'IXN_customer_c_acctbal_c_custkey_c_nationkey_c_na_c_co_c_ad_c_ph': [0, -13.624], 'IXN_partsupp_ps_suppkey_ps_p_ps_s_ps_a': [0, -11.566], 'IXN_supplier_s_nationkey_s_acctbal_s_co_s_na_s_ph_s_ad': [0, -0.615], 'IXN_part_p_type_p_size_p_mf_p_pa': [0, -8.435]}\n",
      "\n",
      "Total execution cost: 238.70600000000002, Total index creation cost: 157.39600000000002\n",
      "\n",
      "Updating MAB parameters...\n",
      "Index selection counts: {'IXN_supplier_s_name_s_nationkey_s_co_s_ac_s_ph_s_ad': 1, 'IXN_supplier_s_nationkey_s_name_s_co_s_ac_s_ph_s_ad': 1, 'IXN_supplier_s_nationkey_s_acctbal_s_co_s_na_s_ph_s_ad': 1, 'IXN_part_p_type_p_mf_p_pa': 1, 'IXN_part_p_type_p_size_p_mf_p_pa': 1, 'IXN_part_p_size_p_type_p_mf_p_pa': 1, 'IXN_customer_c_acctbal_c_custkey_c_nationkey_c_na_c_co_c_ad_c_ph': 1, 'IXN_customer_c_acctbal_c_nationkey_c_custkey_c_na_c_co_c_ad_c_ph': 1, 'IXN_customer_c_custkey_c_acctbal_c_nationkey_c_na_c_co_c_ad_c_ph': 1, 'IXN_partsupp_ps_suppkey_ps_p_ps_s': 1, 'IXN_partsupp_ps_suppkey_ps_p_ps_s_ps_a': 1, 'IXN_partsupp_ps_suppkey_ps_s_ps_a': 1, 'IXN_orders_o_custkey_o_orderkey_o_to_o_or': 1, 'IXN_orders_o_orderkey_o_custkey_o_to_o_or': 1, 'IXN_orders_o_custkey_o_to_o_or': 1}\n",
      "\n",
      "Round completed. Time taken for recommendation: 0:00:00.795743 seconds.\n",
      "\n",
      "Running MAB agent for round 3...\n",
      "Identifying new query templates and updating statistics...\n",
      "Number of new query templates added: 0\n",
      "Number of queries of interest: 21\n",
      "Generating candidate indices...\n",
      "Generating candidate indices for 21 queries...\n"
     ]
    },
    {
     "name": "stderr",
     "output_type": "stream",
     "text": [
      "Processing queries: 100%|██████████| 21/21 [00:00<00:00, 204.03it/s]"
     ]
    },
    {
     "name": "stdout",
     "output_type": "stream",
     "text": [
      "Generated 24142 candidate indices\n",
      "Generating context vectors...\n"
     ]
    },
    {
     "name": "stderr",
     "output_type": "stream",
     "text": [
      "\n"
     ]
    },
    {
     "name": "stdout",
     "output_type": "stream",
     "text": [
      "Selecting best configuration...\n",
      "Theta - parameter vector: \n",
      "[ 0.00000000e+00 -7.05719904e+00 -8.16186779e-02  0.00000000e+00\n",
      "  0.00000000e+00  9.13777437e-02  0.00000000e+00  0.00000000e+00\n",
      " -4.25637766e-02  0.00000000e+00  0.00000000e+00  0.00000000e+00\n",
      "  3.97578942e+00  0.00000000e+00 -6.31352659e+00  0.00000000e+00\n",
      "  0.00000000e+00  0.00000000e+00  0.00000000e+00  0.00000000e+00\n",
      "  0.00000000e+00  0.00000000e+00  0.00000000e+00  0.00000000e+00\n",
      "  0.00000000e+00  0.00000000e+00  0.00000000e+00  0.00000000e+00\n",
      "  0.00000000e+00  0.00000000e+00  0.00000000e+00  0.00000000e+00\n",
      "  0.00000000e+00  0.00000000e+00  0.00000000e+00  0.00000000e+00\n",
      "  0.00000000e+00  0.00000000e+00  0.00000000e+00  0.00000000e+00\n",
      "  0.00000000e+00  0.00000000e+00  3.91367612e-02  1.88904666e-02\n",
      " -2.89242718e-03  0.00000000e+00  0.00000000e+00  1.33184992e-01\n",
      " -8.36181654e-02  0.00000000e+00  0.00000000e+00  0.00000000e+00\n",
      "  0.00000000e+00  0.00000000e+00  4.27555556e-01  0.00000000e+00\n",
      "  0.00000000e+00  0.00000000e+00  0.00000000e+00  0.00000000e+00\n",
      "  0.00000000e+00  0.00000000e+00  0.00000000e+00  0.00000000e+00\n",
      " -2.95537935e-02 -2.95537935e-02  0.00000000e+00  0.00000000e+00\n",
      " -2.95537935e-02  0.00000000e+00 -2.95537935e-02  0.00000000e+00\n",
      "  0.00000000e+00  0.00000000e+00 -1.87719670e+00  0.00000000e+00\n",
      "  0.00000000e+00  0.00000000e+00  0.00000000e+00 -1.87719670e+00\n",
      "  0.00000000e+00  0.00000000e+00  0.00000000e+00  0.00000000e+00\n",
      "  0.00000000e+00  0.00000000e+00  0.00000000e+00  0.00000000e+00\n",
      "  0.00000000e+00  0.00000000e+00  0.00000000e+00  0.00000000e+00\n",
      "  0.00000000e+00  0.00000000e+00  0.00000000e+00  0.00000000e+00\n",
      "  0.00000000e+00  0.00000000e+00  0.00000000e+00  9.09660897e-02\n",
      "  0.00000000e+00  9.09660897e-02  0.00000000e+00  0.00000000e+00\n",
      "  0.00000000e+00  7.13555437e-02  4.24312719e-02  4.24312719e-02\n",
      " -2.89242718e-02  0.00000000e+00  4.24312719e-02  0.00000000e+00\n",
      "  1.27888889e-01  0.00000000e+00 -5.55444444e-01  0.00000000e+00\n",
      "  4.27555556e-01  0.00000000e+00  0.00000000e+00  0.00000000e+00\n",
      "  0.00000000e+00  0.00000000e+00  0.00000000e+00  0.00000000e+00]\n",
      "Table filtered indexes: defaultdict(<class 'list'>, {'lineitem': ['IXN_lineitem_l_shipdate_l_re_l_qu_l_ta_l_li', 'IXN_lineitem_l_shipdate_l_re_l_qu_l_di_l_li', 'IXN_lineitem_l_shipdate_l_re_l_qu_l_li_l_ex'], 'part': ['IXN_part_p_partkey_p_ty', 'IXN_part_p_partkey_p_mf', 'IXN_part_p_partkey_p_size_p_mf'], 'partsupp': ['IXN_partsupp_ps_partkey_ps_suppkey_ps_s', 'IXN_partsupp_ps_partkey_ps_s', 'IXN_partsupp_ps_suppkey_ps_partkey_ps_s'], 'supplier': ['IXN_supplier_s_acctbal_s_na_s_ph_s_ad', 'IXN_supplier_s_acctbal_s_co_s_na_s_ph', 'IXN_supplier_s_acctbal_s_co_s_na_s_ad'], 'orders': ['IXN_orders_o_custkey_o_or', 'IXN_orders_o_custkey_o_orderdate_o_sh', 'IXN_orders_o_custkey_o_sh'], 'customer': ['IXN_customer_c_address_c_ac_c_na_c_ph', 'IXN_customer_c_name_c_ac_c_ad_c_ph', 'IXN_customer_c_phone_c_na_c_ac_c_ad']})\n",
      "Number of candidate indexes after filtration: 18\n",
      "Best configuration contains 16 indices: \n",
      "['IXN_supplier_s_acctbal_s_na_s_ph_s_ad', 'IXN_supplier_s_acctbal_s_co_s_na_s_ph', 'IXN_supplier_s_acctbal_s_co_s_na_s_ad', 'IXN_part_p_partkey_p_ty', 'IXN_part_p_partkey_p_mf', 'IXN_part_p_partkey_p_size_p_mf', 'IXN_customer_c_address_c_ac_c_na_c_ph', 'IXN_customer_c_name_c_ac_c_ad_c_ph', 'IXN_customer_c_phone_c_na_c_ac_c_ad', 'IXN_orders_o_custkey_o_or', 'IXN_partsupp_ps_partkey_ps_suppkey_ps_s', 'IXN_partsupp_ps_partkey_ps_s', 'IXN_partsupp_ps_suppkey_ps_partkey_ps_s', 'IXN_orders_o_custkey_o_sh', 'IXN_orders_o_custkey_o_orderdate_o_sh', 'IXN_lineitem_l_shipdate_l_re_l_qu_l_ta_l_li']\n",
      "Materializing configuration and executing queries...\n",
      "Num indexes added:16, Num indexes removed: 15 Index creation costs: {'IXN_part_p_partkey_p_size_p_mf': 1.691, 'IXN_partsupp_ps_suppkey_ps_partkey_ps_s': 4.33, 'IXN_customer_c_phone_c_na_c_ac_c_ad': 4.95, 'IXN_orders_o_custkey_o_sh': 20.329, 'IXN_orders_o_custkey_o_or': 7.28, 'IXN_orders_o_custkey_o_orderdate_o_sh': 25.89, 'IXN_part_p_partkey_p_ty': 3.238, 'IXN_supplier_s_acctbal_s_co_s_na_s_ph': 0.178, 'IXN_lineitem_l_shipdate_l_re_l_qu_l_ta_l_li': 163.731, 'IXN_supplier_s_acctbal_s_co_s_na_s_ad': 0.281, 'IXN_customer_c_address_c_ac_c_na_c_ph': 7.862, 'IXN_customer_c_name_c_ac_c_ad_c_ph': 11.825, 'IXN_partsupp_ps_partkey_ps_suppkey_ps_s': 7.054, 'IXN_supplier_s_acctbal_s_na_s_ph_s_ad': 0.159, 'IXN_part_p_partkey_p_mf': 3.224, 'IXN_partsupp_ps_partkey_ps_s': 11.223}\n",
      "Observed Rewards for indexes: {'IXN_part_p_partkey_p_size_p_mf': [-0.014000000000000012, -1.691], 'IXN_part_p_partkey_p_ty': [0.1965, -3.238], 'IXN_partsupp_ps_partkey_ps_s': [0.5473333333333333, -11.223], 'IXN_partsupp_ps_suppkey_ps_partkey_ps_s': [0.071, -4.33], 'IXN_partsupp_ps_partkey_ps_suppkey_ps_s': [0.02033333333333333, -7.054], 'IXN_orders_o_custkey_o_orderdate_o_sh': [2.966, -25.89], 'IXN_orders_o_custkey_o_or': [0.44399999999999995, -7.28], 'IXN_customer_c_address_c_ac_c_na_c_ph': [0.2529999999999999, -7.862], 'IXN_supplier_s_acctbal_s_co_s_na_s_ph': [0.163, -0.178], 'IXN_lineitem_l_shipdate_l_re_l_qu_l_ta_l_li': [-1.6630000000000003, -163.731], 'IXN_customer_c_phone_c_na_c_ac_c_ad': [0, -4.95], 'IXN_orders_o_custkey_o_sh': [0, -20.329], 'IXN_supplier_s_acctbal_s_co_s_na_s_ad': [0, -0.281], 'IXN_customer_c_name_c_ac_c_ad_c_ph': [0, -11.825], 'IXN_supplier_s_acctbal_s_na_s_ph_s_ad': [0, -0.159], 'IXN_part_p_partkey_p_mf': [0, -3.224]}\n",
      "\n",
      "Total execution cost: 209.26000000000002, Total index creation cost: 273.24499999999995\n",
      "\n",
      "Updating MAB parameters...\n",
      "Index selection counts: {'IXN_supplier_s_name_s_nationkey_s_co_s_ac_s_ph_s_ad': 1, 'IXN_supplier_s_nationkey_s_name_s_co_s_ac_s_ph_s_ad': 1, 'IXN_supplier_s_nationkey_s_acctbal_s_co_s_na_s_ph_s_ad': 1, 'IXN_part_p_type_p_mf_p_pa': 1, 'IXN_part_p_type_p_size_p_mf_p_pa': 1, 'IXN_part_p_size_p_type_p_mf_p_pa': 1, 'IXN_customer_c_acctbal_c_custkey_c_nationkey_c_na_c_co_c_ad_c_ph': 1, 'IXN_customer_c_acctbal_c_nationkey_c_custkey_c_na_c_co_c_ad_c_ph': 1, 'IXN_customer_c_custkey_c_acctbal_c_nationkey_c_na_c_co_c_ad_c_ph': 1, 'IXN_partsupp_ps_suppkey_ps_p_ps_s': 1, 'IXN_partsupp_ps_suppkey_ps_p_ps_s_ps_a': 1, 'IXN_partsupp_ps_suppkey_ps_s_ps_a': 1, 'IXN_orders_o_custkey_o_orderkey_o_to_o_or': 1, 'IXN_orders_o_orderkey_o_custkey_o_to_o_or': 1, 'IXN_orders_o_custkey_o_to_o_or': 1, 'IXN_supplier_s_acctbal_s_na_s_ph_s_ad': 1, 'IXN_supplier_s_acctbal_s_co_s_na_s_ph': 1, 'IXN_supplier_s_acctbal_s_co_s_na_s_ad': 1, 'IXN_part_p_partkey_p_ty': 1, 'IXN_part_p_partkey_p_mf': 1, 'IXN_part_p_partkey_p_size_p_mf': 1, 'IXN_customer_c_address_c_ac_c_na_c_ph': 1, 'IXN_customer_c_name_c_ac_c_ad_c_ph': 1, 'IXN_customer_c_phone_c_na_c_ac_c_ad': 1, 'IXN_orders_o_custkey_o_or': 1, 'IXN_partsupp_ps_partkey_ps_suppkey_ps_s': 1, 'IXN_partsupp_ps_partkey_ps_s': 1, 'IXN_partsupp_ps_suppkey_ps_partkey_ps_s': 1, 'IXN_orders_o_custkey_o_sh': 1, 'IXN_orders_o_custkey_o_orderdate_o_sh': 1, 'IXN_lineitem_l_shipdate_l_re_l_qu_l_ta_l_li': 1}\n",
      "\n",
      "Round completed. Time taken for recommendation: 0:00:00.677392 seconds.\n",
      "\n",
      "Running MAB agent for round 4...\n",
      "Identifying new query templates and updating statistics...\n",
      "Number of new query templates added: 0\n",
      "Number of queries of interest: 21\n",
      "Generating candidate indices...\n",
      "Generating candidate indices for 21 queries...\n"
     ]
    },
    {
     "name": "stderr",
     "output_type": "stream",
     "text": [
      "Processing queries: 100%|██████████| 21/21 [00:00<00:00, 125.74it/s]\n"
     ]
    },
    {
     "name": "stdout",
     "output_type": "stream",
     "text": [
      "Generated 24142 candidate indices\n",
      "Generating context vectors...\n",
      "Selecting best configuration...\n",
      "Theta - parameter vector: \n",
      "[ 0.00000000e+00 -6.63193537e+01 -9.96139492e-02  9.14550124e-02\n",
      "  0.00000000e+00  7.69758920e-02  0.00000000e+00 -9.74498758e-03\n",
      " -4.37219638e-02 -9.74498758e-03  0.00000000e+00  0.00000000e+00\n",
      "  2.66065430e+00  2.46535403e-01 -6.90395913e+00  0.00000000e+00\n",
      "  0.00000000e+00  0.00000000e+00  0.00000000e+00  0.00000000e+00\n",
      "  0.00000000e+00  0.00000000e+00  0.00000000e+00  0.00000000e+00\n",
      "  0.00000000e+00  0.00000000e+00  0.00000000e+00  0.00000000e+00\n",
      "  0.00000000e+00  0.00000000e+00 -3.02363636e-01  0.00000000e+00\n",
      "  0.00000000e+00  0.00000000e+00  0.00000000e+00  0.00000000e+00\n",
      "  0.00000000e+00  0.00000000e+00  0.00000000e+00  0.00000000e+00\n",
      "  5.69191382e-03  0.00000000e+00  5.55517126e-02  4.31849015e-02\n",
      " -2.15971115e-03  0.00000000e+00  0.00000000e+00  1.33053554e-01\n",
      " -8.39371964e-02  0.00000000e+00  0.00000000e+00  0.00000000e+00\n",
      "  0.00000000e+00 -2.12409633e-02  1.75103743e-01  0.00000000e+00\n",
      "  0.00000000e+00  0.00000000e+00  0.00000000e+00  0.00000000e+00\n",
      "  0.00000000e+00  0.00000000e+00  0.00000000e+00  7.19650372e-02\n",
      " -7.92737779e-02 -5.97838028e-02  0.00000000e+00  0.00000000e+00\n",
      "  2.19262221e-02  0.00000000e+00  2.19262221e-02  0.00000000e+00\n",
      "  0.00000000e+00  0.00000000e+00 -1.35238754e+00 -1.47776953e+00\n",
      "  0.00000000e+00  0.00000000e+00 -9.51984853e-01 -1.35238754e+00\n",
      "  0.00000000e+00  0.00000000e+00  0.00000000e+00  0.00000000e+00\n",
      "  0.00000000e+00 -3.02363636e-01  0.00000000e+00  0.00000000e+00\n",
      " -3.02363636e-01  0.00000000e+00 -3.02363636e-01  0.00000000e+00\n",
      "  0.00000000e+00  0.00000000e+00  0.00000000e+00 -3.02363636e-01\n",
      "  0.00000000e+00  0.00000000e+00  0.00000000e+00  1.49088698e-02\n",
      "  0.00000000e+00  1.36422347e-01  0.00000000e+00  0.00000000e+00\n",
      "  1.27205391e-01  7.13928407e-02 -2.99461270e-02  7.87205397e-02\n",
      " -2.86339014e-02  0.00000000e+00  7.87205397e-02  0.00000000e+00\n",
      "  3.55087457e-01  0.00000000e+00 -3.28245877e-01  0.00000000e+00\n",
      "  2.82409874e-01  0.00000000e+00  0.00000000e+00  0.00000000e+00\n",
      "  0.00000000e+00  0.00000000e+00  0.00000000e+00  0.00000000e+00]\n",
      "Table filtered indexes: defaultdict(<class 'list'>, {'lineitem': ['IXN_lineitem_l_orderkey_l_ex_l_di', 'IXN_lineitem_l_returnflag_l_orderkey_l_ex_l_di', 'IXN_lineitem_l_orderkey_l_returnflag_l_ex_l_di'], 'part': ['IX_part_p_brand_p_size_p_partkey', 'IX_part_p_container_p_size_p_partkey', 'IX_part_p_brand_p_size'], 'partsupp': ['IXN_partsupp_ps_suppkey_ps_a', 'IXN_partsupp_ps_suppkey_ps_s_ps_a', 'IX_partsupp_ps_availqty_ps_suppkey_ps_partkey'], 'supplier': ['IXN_supplier_s_nationkey_s_ac_s_na', 'IXN_supplier_s_nationkey_s_ph_s_ac_s_na', 'IXN_supplier_s_nationkey_s_co_s_ac_s_na'], 'orders': ['IX_orders_o_custkey_o_orderdate', 'IX_orders_o_custkey', 'IX_orders_o_custkey_o_shippriority'], 'customer': ['IXN_customer_c_nationkey_c_custkey_c_ac_c_co', 'IXN_customer_c_nationkey_c_ac_c_co', 'IXN_customer_c_nationkey_c_custkey_c_phone_c_ac_c_co']})\n",
      "Number of candidate indexes after filtration: 18\n",
      "Best configuration contains 16 indices: \n",
      "['IXN_supplier_s_nationkey_s_ac_s_na', 'IXN_supplier_s_nationkey_s_ph_s_ac_s_na', 'IXN_supplier_s_nationkey_s_co_s_ac_s_na', 'IX_part_p_brand_p_size_p_partkey', 'IX_part_p_container_p_size_p_partkey', 'IX_part_p_brand_p_size', 'IXN_customer_c_nationkey_c_custkey_c_ac_c_co', 'IXN_customer_c_nationkey_c_ac_c_co', 'IXN_partsupp_ps_suppkey_ps_a', 'IX_partsupp_ps_availqty_ps_suppkey_ps_partkey', 'IXN_customer_c_nationkey_c_custkey_c_phone_c_ac_c_co', 'IX_orders_o_custkey', 'IXN_partsupp_ps_suppkey_ps_s_ps_a', 'IX_orders_o_custkey_o_orderdate', 'IX_orders_o_custkey_o_shippriority', 'IXN_lineitem_l_orderkey_l_ex_l_di']\n",
      "Materializing configuration and executing queries...\n",
      "Num indexes added:16, Num indexes removed: 16 Index creation costs: {'IX_part_p_brand_p_size_p_partkey': 4.817, 'IX_orders_o_custkey_o_orderdate': 13.966, 'IXN_partsupp_ps_suppkey_ps_s_ps_a': 16.615, 'IXN_customer_c_nationkey_c_custkey_c_ac_c_co': 5.385, 'IX_partsupp_ps_availqty_ps_suppkey_ps_partkey': 12.301, 'IXN_lineitem_l_orderkey_l_ex_l_di': 102.655, 'IXN_partsupp_ps_suppkey_ps_a': 7.36, 'IX_part_p_brand_p_size': 2.869, 'IX_orders_o_custkey': 9.025, 'IX_orders_o_custkey_o_shippriority': 19.959, 'IX_part_p_container_p_size_p_partkey': 5.211, 'IXN_customer_c_nationkey_c_custkey_c_phone_c_ac_c_co': 7.175, 'IXN_supplier_s_nationkey_s_ph_s_ac_s_na': 0.312, 'IXN_customer_c_nationkey_c_ac_c_co': 5.08, 'IXN_supplier_s_nationkey_s_ac_s_na': 0.094, 'IXN_supplier_s_nationkey_s_co_s_ac_s_na': 0.311}\n",
      "Observed Rewards for indexes: {'IXN_partsupp_ps_suppkey_ps_s_ps_a': [1.5565000000000002, -16.615], 'IX_orders_o_custkey_o_orderdate': [2.1189999999999998, -13.966], 'IX_orders_o_custkey_o_shippriority': [1.6135000000000002, -19.959], 'IXN_supplier_s_nationkey_s_ac_s_na': [0.6160000000000001, -0.094], 'IXN_customer_c_nationkey_c_custkey_c_ac_c_co': [0.4405, -5.385], 'IXN_customer_c_nationkey_c_ac_c_co': [0.18, -5.08], 'IX_orders_o_custkey': [0.18799999999999994, -9.025], 'IXN_supplier_s_nationkey_s_co_s_ac_s_na': [0.129, -0.311], 'IXN_partsupp_ps_suppkey_ps_a': [0.4759999999999999, -7.36], 'IX_part_p_container_p_size_p_partkey': [0.29200000000000004, -5.211], 'IX_part_p_brand_p_size': [0.14650000000000002, -2.869], 'IX_part_p_brand_p_size_p_partkey': [0.156, -4.817], 'IXN_customer_c_nationkey_c_custkey_c_phone_c_ac_c_co': [-0.05499999999999994, -7.175], 'IX_partsupp_ps_availqty_ps_suppkey_ps_partkey': [0, -12.301], 'IXN_lineitem_l_orderkey_l_ex_l_di': [0, -102.655], 'IXN_supplier_s_nationkey_s_ph_s_ac_s_na': [0, -0.312]}\n",
      "\n",
      "Total execution cost: 243.58599999999998, Total index creation cost: 213.13500000000008\n",
      "\n",
      "Updating MAB parameters...\n",
      "Index selection counts: {'IXN_partsupp_ps_suppkey_ps_s_ps_a': 2, 'IXN_supplier_s_name_s_nationkey_s_co_s_ac_s_ph_s_ad': 1, 'IXN_supplier_s_nationkey_s_name_s_co_s_ac_s_ph_s_ad': 1, 'IXN_supplier_s_nationkey_s_acctbal_s_co_s_na_s_ph_s_ad': 1, 'IXN_part_p_type_p_mf_p_pa': 1, 'IXN_part_p_type_p_size_p_mf_p_pa': 1, 'IXN_part_p_size_p_type_p_mf_p_pa': 1, 'IXN_customer_c_acctbal_c_custkey_c_nationkey_c_na_c_co_c_ad_c_ph': 1, 'IXN_customer_c_acctbal_c_nationkey_c_custkey_c_na_c_co_c_ad_c_ph': 1, 'IXN_customer_c_custkey_c_acctbal_c_nationkey_c_na_c_co_c_ad_c_ph': 1, 'IXN_partsupp_ps_suppkey_ps_p_ps_s': 1, 'IXN_partsupp_ps_suppkey_ps_p_ps_s_ps_a': 1, 'IXN_orders_o_custkey_o_orderkey_o_to_o_or': 1, 'IXN_orders_o_orderkey_o_custkey_o_to_o_or': 1, 'IXN_orders_o_custkey_o_to_o_or': 1, 'IXN_supplier_s_acctbal_s_na_s_ph_s_ad': 1, 'IXN_supplier_s_acctbal_s_co_s_na_s_ph': 1, 'IXN_supplier_s_acctbal_s_co_s_na_s_ad': 1, 'IXN_part_p_partkey_p_ty': 1, 'IXN_part_p_partkey_p_mf': 1, 'IXN_part_p_partkey_p_size_p_mf': 1, 'IXN_customer_c_address_c_ac_c_na_c_ph': 1, 'IXN_customer_c_name_c_ac_c_ad_c_ph': 1, 'IXN_customer_c_phone_c_na_c_ac_c_ad': 1, 'IXN_orders_o_custkey_o_or': 1, 'IXN_partsupp_ps_partkey_ps_suppkey_ps_s': 1, 'IXN_partsupp_ps_partkey_ps_s': 1, 'IXN_partsupp_ps_suppkey_ps_partkey_ps_s': 1, 'IXN_orders_o_custkey_o_sh': 1, 'IXN_orders_o_custkey_o_orderdate_o_sh': 1, 'IXN_lineitem_l_shipdate_l_re_l_qu_l_ta_l_li': 1, 'IXN_supplier_s_nationkey_s_ac_s_na': 1, 'IXN_supplier_s_nationkey_s_ph_s_ac_s_na': 1, 'IXN_supplier_s_nationkey_s_co_s_ac_s_na': 1, 'IX_part_p_brand_p_size_p_partkey': 1, 'IX_part_p_container_p_size_p_partkey': 1, 'IX_part_p_brand_p_size': 1, 'IXN_customer_c_nationkey_c_custkey_c_ac_c_co': 1, 'IXN_customer_c_nationkey_c_ac_c_co': 1, 'IXN_partsupp_ps_suppkey_ps_a': 1, 'IX_partsupp_ps_availqty_ps_suppkey_ps_partkey': 1, 'IXN_customer_c_nationkey_c_custkey_c_phone_c_ac_c_co': 1, 'IX_orders_o_custkey': 1, 'IX_orders_o_custkey_o_orderdate': 1, 'IX_orders_o_custkey_o_shippriority': 1, 'IXN_lineitem_l_orderkey_l_ex_l_di': 1}\n",
      "\n",
      "Round completed. Time taken for recommendation: 0:00:00.885804 seconds.\n",
      "\n",
      "Running MAB agent for round 5...\n",
      "Identifying new query templates and updating statistics...\n",
      "Number of new query templates added: 0\n",
      "Number of queries of interest: 21\n",
      "Generating candidate indices...\n",
      "Generating candidate indices for 21 queries...\n"
     ]
    },
    {
     "name": "stderr",
     "output_type": "stream",
     "text": [
      "Processing queries: 100%|██████████| 21/21 [00:00<00:00, 211.87it/s]"
     ]
    },
    {
     "name": "stdout",
     "output_type": "stream",
     "text": [
      "Generated 24142 candidate indices\n",
      "Generating context vectors...\n"
     ]
    },
    {
     "name": "stderr",
     "output_type": "stream",
     "text": [
      "\n"
     ]
    },
    {
     "name": "stdout",
     "output_type": "stream",
     "text": [
      "Selecting best configuration...\n",
      "Theta - parameter vector: \n",
      "[ 0.00000000e+00 -9.51148047e+01 -1.03922950e-01  8.39889912e-02\n",
      "  0.00000000e+00  7.81740556e-02  0.00000000e+00 -1.72110088e-02\n",
      "  3.28205579e-02 -2.00078529e-02  0.00000000e+00  0.00000000e+00\n",
      "  1.78152647e+00  3.41234153e-01 -7.29864531e+00  0.00000000e+00\n",
      "  0.00000000e+00 -3.29463676e-02  0.00000000e+00  0.00000000e+00\n",
      "  0.00000000e+00  0.00000000e+00  0.00000000e+00  0.00000000e+00\n",
      "  0.00000000e+00  0.00000000e+00  0.00000000e+00  0.00000000e+00\n",
      "  0.00000000e+00  0.00000000e+00 -3.02363636e-01  0.00000000e+00\n",
      "  0.00000000e+00  0.00000000e+00  0.00000000e+00  1.15212944e-01\n",
      "  0.00000000e+00  1.89816170e-01  0.00000000e+00  0.00000000e+00\n",
      "  8.38495759e-03  0.00000000e+00  7.19189485e-02  5.01659827e-02\n",
      "  3.70611187e-02  0.00000000e+00  0.00000000e+00  2.01040733e-01\n",
      "  9.78916200e-03  0.00000000e+00  0.00000000e+00 -8.41358013e-03\n",
      "  0.00000000e+00 -1.39979621e-01  1.40201664e-01  0.00000000e+00\n",
      "  0.00000000e+00  0.00000000e+00  0.00000000e+00  0.00000000e+00\n",
      "  0.00000000e+00  0.00000000e+00  0.00000000e+00  1.28843998e-01\n",
      " -1.01181461e-01  8.78845587e-03  0.00000000e+00  0.00000000e+00\n",
      "  1.85388177e-05  0.00000000e+00 -1.84602390e-03  0.00000000e+00\n",
      "  0.00000000e+00  0.00000000e+00 -1.00156858e+00 -8.91684317e-01\n",
      "  0.00000000e+00  0.00000000e+00 -2.52470546e-01 -1.00156858e+00\n",
      "  0.00000000e+00  0.00000000e+00  0.00000000e+00  0.00000000e+00\n",
      "  0.00000000e+00 -3.02363636e-01  0.00000000e+00  0.00000000e+00\n",
      " -3.02363636e-01  0.00000000e+00 -3.02363636e-01  0.00000000e+00\n",
      "  0.00000000e+00  0.00000000e+00  0.00000000e+00 -3.02363636e-01\n",
      "  0.00000000e+00  0.00000000e+00  0.00000000e+00  1.09174596e-02\n",
      "  0.00000000e+00  1.30510918e-01  0.00000000e+00  0.00000000e+00\n",
      "  1.25410028e-01  1.82245751e-01 -2.86651710e-02 -6.73089907e-03\n",
      "  7.37945782e-02  0.00000000e+00 -5.83308991e-02  0.00000000e+00\n",
      "  4.72623921e-01  0.00000000e+00 -4.63518753e-01  0.00000000e+00\n",
      "  4.27634817e-01  0.00000000e+00  0.00000000e+00  0.00000000e+00\n",
      "  0.00000000e+00  0.00000000e+00  0.00000000e+00  0.00000000e+00]\n",
      "Table filtered indexes: defaultdict(<class 'list'>, {'lineitem': ['IXN_lineitem_l_orderkey_l_ex_l_di', 'IXN_lineitem_l_returnflag_l_li', 'IXN_lineitem_l_linestatus_l_re'], 'part': ['IXN_part_p_size_p_pa', 'IX_part_p_name_p_partkey', 'IX_part_p_name'], 'partsupp': ['IXN_partsupp_ps_suppkey_ps_s_ps_a', 'IXN_partsupp_ps_suppkey_ps_a', 'IXN_partsupp_ps_suppkey_ps_p_ps_s_ps_a'], 'supplier': ['IXN_supplier_s_suppkey_s_na_s_ad', 'IXN_supplier_s_suppkey_s_nationkey_s_na_s_ad', 'IXN_supplier_s_suppkey_s_na'], 'orders': ['IX_orders_o_custkey_o_orderdate', 'IX_orders_o_custkey_o_shippriority', 'IX_orders_o_custkey'], 'customer': ['IXN_customer_c_comment_c_custkey_c_na_c_ac_c_ph', 'IXN_customer_c_comment_c_custkey_c_nationkey_c_na_c_ac_c_ph', 'IXN_customer_c_comment_c_na_c_ac_c_ph']})\n",
      "Number of candidate indexes after filtration: 18\n",
      "Best configuration contains 17 indices: \n",
      "['IXN_supplier_s_suppkey_s_na', 'IXN_supplier_s_suppkey_s_na_s_ad', 'IXN_supplier_s_suppkey_s_nationkey_s_na_s_ad', 'IXN_part_p_size_p_pa', 'IX_part_p_name_p_partkey', 'IX_part_p_name', 'IXN_partsupp_ps_suppkey_ps_a', 'IXN_customer_c_comment_c_custkey_c_na_c_ac_c_ph', 'IXN_customer_c_comment_c_na_c_ac_c_ph', 'IXN_customer_c_comment_c_custkey_c_nationkey_c_na_c_ac_c_ph', 'IX_orders_o_custkey', 'IXN_partsupp_ps_suppkey_ps_s_ps_a', 'IXN_partsupp_ps_suppkey_ps_p_ps_s_ps_a', 'IX_orders_o_custkey_o_orderdate', 'IX_orders_o_custkey_o_shippriority', 'IXN_lineitem_l_returnflag_l_li', 'IXN_lineitem_l_linestatus_l_re']\n",
      "Materializing configuration and executing queries...\n",
      "Num indexes added:12, Num indexes removed: 11 Index creation costs: {'IXN_customer_c_comment_c_na_c_ac_c_ph': 9.705, 'IXN_customer_c_comment_c_custkey_c_nationkey_c_na_c_ac_c_ph': 8.683, 'IXN_customer_c_comment_c_custkey_c_na_c_ac_c_ph': 8.615, 'IXN_lineitem_l_returnflag_l_li': 86.177, 'IX_part_p_name': 7.377, 'IXN_part_p_size_p_pa': 2.406, 'IX_part_p_name_p_partkey': 5.389, 'IXN_partsupp_ps_suppkey_ps_p_ps_s_ps_a': 12.75, 'IXN_supplier_s_suppkey_s_na': 0.186, 'IXN_lineitem_l_linestatus_l_re': 93.702, 'IXN_supplier_s_suppkey_s_nationkey_s_na_s_ad': 0.345, 'IXN_supplier_s_suppkey_s_na_s_ad': 0.205}\n",
      "Observed Rewards for indexes: {'IXN_supplier_s_suppkey_s_nationkey_s_na_s_ad': [0.791, -0.345], 'IXN_partsupp_ps_suppkey_ps_p_ps_s_ps_a': [0.466, -12.75], 'IXN_partsupp_ps_suppkey_ps_s_ps_a': [1.9445000000000001, 0], 'IX_orders_o_custkey_o_orderdate': [3.4709999999999996, 0], 'IX_orders_o_custkey_o_shippriority': [2.223, 0], 'IXN_customer_c_comment_c_custkey_c_nationkey_c_na_c_ac_c_ph': [0.27, -8.683], 'IX_orders_o_custkey': [1.074, 0], 'IX_part_p_name_p_partkey': [0.954, -5.389], 'IXN_customer_c_comment_c_custkey_c_na_c_ac_c_ph': [1.0079999999999998, -8.615], 'IXN_partsupp_ps_suppkey_ps_a': [0.831, 0], 'IXN_customer_c_comment_c_na_c_ac_c_ph': [0, -9.705], 'IXN_lineitem_l_returnflag_l_li': [0, -86.177], 'IX_part_p_name': [0, -7.377], 'IXN_part_p_size_p_pa': [0, -2.406], 'IXN_supplier_s_suppkey_s_na': [0, -0.186], 'IXN_lineitem_l_linestatus_l_re': [0, -93.702], 'IXN_supplier_s_suppkey_s_na_s_ad': [0, -0.205]}\n",
      "\n",
      "Total execution cost: 116.15799999999999, Total index creation cost: 235.54000000000002\n",
      "\n",
      "Updating MAB parameters...\n",
      "Index selection counts: {'IXN_partsupp_ps_suppkey_ps_s_ps_a': 3, 'IXN_partsupp_ps_suppkey_ps_p_ps_s_ps_a': 2, 'IXN_partsupp_ps_suppkey_ps_a': 2, 'IX_orders_o_custkey': 2, 'IX_orders_o_custkey_o_orderdate': 2, 'IX_orders_o_custkey_o_shippriority': 2, 'IXN_supplier_s_name_s_nationkey_s_co_s_ac_s_ph_s_ad': 1, 'IXN_supplier_s_nationkey_s_name_s_co_s_ac_s_ph_s_ad': 1, 'IXN_supplier_s_nationkey_s_acctbal_s_co_s_na_s_ph_s_ad': 1, 'IXN_part_p_type_p_mf_p_pa': 1, 'IXN_part_p_type_p_size_p_mf_p_pa': 1, 'IXN_part_p_size_p_type_p_mf_p_pa': 1, 'IXN_customer_c_acctbal_c_custkey_c_nationkey_c_na_c_co_c_ad_c_ph': 1, 'IXN_customer_c_acctbal_c_nationkey_c_custkey_c_na_c_co_c_ad_c_ph': 1, 'IXN_customer_c_custkey_c_acctbal_c_nationkey_c_na_c_co_c_ad_c_ph': 1, 'IXN_partsupp_ps_suppkey_ps_p_ps_s': 1, 'IXN_orders_o_custkey_o_orderkey_o_to_o_or': 1, 'IXN_orders_o_orderkey_o_custkey_o_to_o_or': 1, 'IXN_orders_o_custkey_o_to_o_or': 1, 'IXN_supplier_s_acctbal_s_na_s_ph_s_ad': 1, 'IXN_supplier_s_acctbal_s_co_s_na_s_ph': 1, 'IXN_supplier_s_acctbal_s_co_s_na_s_ad': 1, 'IXN_part_p_partkey_p_ty': 1, 'IXN_part_p_partkey_p_mf': 1, 'IXN_part_p_partkey_p_size_p_mf': 1, 'IXN_customer_c_address_c_ac_c_na_c_ph': 1, 'IXN_customer_c_name_c_ac_c_ad_c_ph': 1, 'IXN_customer_c_phone_c_na_c_ac_c_ad': 1, 'IXN_orders_o_custkey_o_or': 1, 'IXN_partsupp_ps_partkey_ps_suppkey_ps_s': 1, 'IXN_partsupp_ps_partkey_ps_s': 1, 'IXN_partsupp_ps_suppkey_ps_partkey_ps_s': 1, 'IXN_orders_o_custkey_o_sh': 1, 'IXN_orders_o_custkey_o_orderdate_o_sh': 1, 'IXN_lineitem_l_shipdate_l_re_l_qu_l_ta_l_li': 1, 'IXN_supplier_s_nationkey_s_ac_s_na': 1, 'IXN_supplier_s_nationkey_s_ph_s_ac_s_na': 1, 'IXN_supplier_s_nationkey_s_co_s_ac_s_na': 1, 'IX_part_p_brand_p_size_p_partkey': 1, 'IX_part_p_container_p_size_p_partkey': 1, 'IX_part_p_brand_p_size': 1, 'IXN_customer_c_nationkey_c_custkey_c_ac_c_co': 1, 'IXN_customer_c_nationkey_c_ac_c_co': 1, 'IX_partsupp_ps_availqty_ps_suppkey_ps_partkey': 1, 'IXN_customer_c_nationkey_c_custkey_c_phone_c_ac_c_co': 1, 'IXN_lineitem_l_orderkey_l_ex_l_di': 1, 'IXN_supplier_s_suppkey_s_na': 1, 'IXN_supplier_s_suppkey_s_na_s_ad': 1, 'IXN_supplier_s_suppkey_s_nationkey_s_na_s_ad': 1, 'IXN_part_p_size_p_pa': 1, 'IX_part_p_name_p_partkey': 1, 'IX_part_p_name': 1, 'IXN_customer_c_comment_c_custkey_c_na_c_ac_c_ph': 1, 'IXN_customer_c_comment_c_na_c_ac_c_ph': 1, 'IXN_customer_c_comment_c_custkey_c_nationkey_c_na_c_ac_c_ph': 1, 'IXN_lineitem_l_returnflag_l_li': 1, 'IXN_lineitem_l_linestatus_l_re': 1}\n",
      "\n",
      "Round completed. Time taken for recommendation: 0:00:00.713398 seconds.\n",
      "\n",
      "Running MAB agent for round 6...\n",
      "Identifying new query templates and updating statistics...\n",
      "Number of new query templates added: 0\n",
      "Number of queries of interest: 21\n",
      "Generating candidate indices...\n",
      "Generating candidate indices for 21 queries...\n"
     ]
    },
    {
     "name": "stderr",
     "output_type": "stream",
     "text": [
      "Processing queries: 100%|██████████| 21/21 [00:00<00:00, 127.97it/s]\n"
     ]
    },
    {
     "name": "stdout",
     "output_type": "stream",
     "text": [
      "Generated 24142 candidate indices\n",
      "Generating context vectors...\n",
      "Selecting best configuration...\n",
      "Theta - parameter vector: \n",
      "[ 0.00000000e+00 -1.19515764e+02 -8.88440066e-02  8.91734160e-03\n",
      "  1.52651458e-01  1.23033830e-01  0.00000000e+00 -3.12220753e-02\n",
      "  2.41168786e-02 -3.40498447e-02  0.00000000e+00  0.00000000e+00\n",
      "  1.95596852e+00  5.82978945e-01 -7.22032921e+00  0.00000000e+00\n",
      "  0.00000000e+00 -1.45071239e-02  0.00000000e+00  0.00000000e+00\n",
      "  0.00000000e+00  0.00000000e+00  0.00000000e+00  0.00000000e+00\n",
      "  1.41531915e-01  0.00000000e+00  0.00000000e+00  0.00000000e+00\n",
      "  0.00000000e+00  1.41531915e-01 -3.53829787e-01  0.00000000e+00\n",
      "  0.00000000e+00  0.00000000e+00  0.00000000e+00  1.19720489e-01\n",
      "  0.00000000e+00  1.93573308e-01  0.00000000e+00  3.81274805e-01\n",
      "  8.12987088e-03  0.00000000e+00  1.55873968e-02  6.86474499e-02\n",
      " -2.71240136e-05  0.00000000e+00  0.00000000e+00  1.84270236e-01\n",
      "  1.32992380e-02  0.00000000e+00  9.84319150e-02 -1.00877753e-02\n",
      "  0.00000000e+00 -2.10087509e-01  1.72325381e-01  0.00000000e+00\n",
      "  0.00000000e+00  0.00000000e+00  0.00000000e+00  0.00000000e+00\n",
      "  0.00000000e+00  0.00000000e+00  0.00000000e+00  1.71369891e-01\n",
      " -1.57721237e-01 -2.68022030e-02  0.00000000e+00  0.00000000e+00\n",
      "  3.50696379e-02  0.00000000e+00  3.31844583e-02  0.00000000e+00\n",
      "  0.00000000e+00  0.00000000e+00 -1.07118027e+00 -1.00797901e+00\n",
      "  0.00000000e+00  0.00000000e+00 -4.01693976e-01 -1.07118027e+00\n",
      "  0.00000000e+00  0.00000000e+00  0.00000000e+00  0.00000000e+00\n",
      "  0.00000000e+00 -2.12297872e-01  0.00000000e+00  0.00000000e+00\n",
      " -3.53829787e-01  0.00000000e+00 -2.12297872e-01  0.00000000e+00\n",
      "  0.00000000e+00  0.00000000e+00  0.00000000e+00 -3.53829787e-01\n",
      "  0.00000000e+00  0.00000000e+00  0.00000000e+00  4.27060541e-02\n",
      "  0.00000000e+00  8.19974799e-02  0.00000000e+00  0.00000000e+00\n",
      "  1.25580086e-01  1.74537336e-01  7.96438548e-02 -4.58396428e-02\n",
      "  9.52902214e-02  0.00000000e+00 -9.74396428e-02  0.00000000e+00\n",
      "  5.73236378e-01  0.00000000e+00 -6.49442868e-01  0.00000000e+00\n",
      "  5.08367047e-01  0.00000000e+00  0.00000000e+00  0.00000000e+00\n",
      "  0.00000000e+00  0.00000000e+00  0.00000000e+00  0.00000000e+00]\n",
      "Table filtered indexes: defaultdict(<class 'list'>, {'lineitem': ['IXN_lineitem_l_returnflag_l_li', 'IXN_lineitem_l_linestatus_l_re', 'IX_lineitem_l_commitdate_l_orderkey'], 'part': ['IXN_part_p_size_p_mf', 'IXN_part_p_size_p_type_p_mf', 'IXN_part_p_size_p_partkey_p_mf'], 'partsupp': ['IXN_partsupp_ps_suppkey_ps_s_ps_a', 'IXN_partsupp_ps_suppkey_ps_a', 'IXN_partsupp_ps_suppkey_ps_p_ps_s_ps_a'], 'supplier': ['IXN_supplier_s_name_s_nationkey_s_ac_s_ad', 'IXN_supplier_s_name_s_ac_s_ad', 'IXN_supplier_s_name_s_co_s_ac_s_ad'], 'orders': ['IX_orders_o_custkey_o_orderdate', 'IX_orders_o_custkey_o_shippriority', 'IX_orders_o_custkey'], 'customer': ['IXN_customer_c_custkey_c_ac_c_ph', 'IXN_customer_c_custkey_c_ac_c_na', 'IXN_customer_c_custkey_c_nationkey_c_ac_c_ph']})\n",
      "Number of candidate indexes after filtration: 18\n",
      "Best configuration contains 18 indices: \n",
      "['IXN_supplier_s_name_s_ac_s_ad', 'IXN_supplier_s_name_s_nationkey_s_ac_s_ad', 'IXN_supplier_s_name_s_co_s_ac_s_ad', 'IXN_customer_c_custkey_c_ac_c_ph', 'IXN_customer_c_custkey_c_nationkey_c_ac_c_ph', 'IXN_customer_c_custkey_c_ac_c_na', 'IXN_part_p_size_p_mf', 'IXN_part_p_size_p_partkey_p_mf', 'IXN_part_p_size_p_type_p_mf', 'IXN_partsupp_ps_suppkey_ps_a', 'IX_orders_o_custkey', 'IXN_partsupp_ps_suppkey_ps_s_ps_a', 'IXN_partsupp_ps_suppkey_ps_p_ps_s_ps_a', 'IX_orders_o_custkey_o_orderdate', 'IX_orders_o_custkey_o_shippriority', 'IXN_lineitem_l_returnflag_l_li', 'IXN_lineitem_l_linestatus_l_re', 'IX_lineitem_l_commitdate_l_orderkey']\n",
      "Materializing configuration and executing queries...\n",
      "Num indexes added:10, Num indexes removed: 9 Index creation costs: {'IXN_supplier_s_name_s_ac_s_ad': 0.119, 'IXN_customer_c_custkey_c_ac_c_na': 2.382, 'IXN_supplier_s_name_s_nationkey_s_ac_s_ad': 0.466, 'IXN_part_p_size_p_mf': 3.602, 'IXN_part_p_size_p_partkey_p_mf': 2.004, 'IXN_part_p_size_p_type_p_mf': 8.037, 'IXN_customer_c_custkey_c_nationkey_c_ac_c_ph': 1.682, 'IXN_supplier_s_name_s_co_s_ac_s_ad': 0.476, 'IXN_customer_c_custkey_c_ac_c_ph': 1.894, 'IX_lineitem_l_commitdate_l_orderkey': 78.145}\n",
      "Observed Rewards for indexes: {'IXN_part_p_size_p_type_p_mf': [0.728, -8.037], 'IXN_supplier_s_name_s_nationkey_s_ac_s_ad': [0.855, -0.466], 'IXN_partsupp_ps_suppkey_ps_p_ps_s_ps_a': [0.37100000000000005, 0], 'IXN_partsupp_ps_suppkey_ps_s_ps_a': [1.9585000000000001, 0], 'IX_orders_o_custkey_o_orderdate': [3.8569999999999998, 0], 'IX_orders_o_custkey_o_shippriority': [1.9860000000000002, 0], 'IXN_customer_c_custkey_c_nationkey_c_ac_c_ph': [0.5820000000000001, -1.682], 'IX_orders_o_custkey': [0.993, 0], 'IXN_customer_c_custkey_c_ac_c_ph': [1.212, -1.894], 'IXN_supplier_s_name_s_co_s_ac_s_ad': [0.20400000000000001, -0.476], 'IXN_partsupp_ps_suppkey_ps_a': [0.764, 0], 'IXN_customer_c_custkey_c_ac_c_na': [0.028, -2.382], 'IXN_supplier_s_name_s_ac_s_ad': [0, -0.119], 'IXN_part_p_size_p_mf': [0, -3.602], 'IXN_part_p_size_p_partkey_p_mf': [0, -2.004], 'IX_lineitem_l_commitdate_l_orderkey': [0, -78.145]}\n",
      "\n",
      "Total execution cost: 117.69800000000002, Total index creation cost: 98.80699999999999\n",
      "\n",
      "Updating MAB parameters...\n",
      "Index selection counts: {'IXN_partsupp_ps_suppkey_ps_s_ps_a': 4, 'IXN_partsupp_ps_suppkey_ps_p_ps_s_ps_a': 3, 'IXN_partsupp_ps_suppkey_ps_a': 3, 'IX_orders_o_custkey': 3, 'IX_orders_o_custkey_o_orderdate': 3, 'IX_orders_o_custkey_o_shippriority': 3, 'IXN_lineitem_l_returnflag_l_li': 2, 'IXN_lineitem_l_linestatus_l_re': 2, 'IXN_supplier_s_name_s_nationkey_s_co_s_ac_s_ph_s_ad': 1, 'IXN_supplier_s_nationkey_s_name_s_co_s_ac_s_ph_s_ad': 1, 'IXN_supplier_s_nationkey_s_acctbal_s_co_s_na_s_ph_s_ad': 1, 'IXN_part_p_type_p_mf_p_pa': 1, 'IXN_part_p_type_p_size_p_mf_p_pa': 1, 'IXN_part_p_size_p_type_p_mf_p_pa': 1, 'IXN_customer_c_acctbal_c_custkey_c_nationkey_c_na_c_co_c_ad_c_ph': 1, 'IXN_customer_c_acctbal_c_nationkey_c_custkey_c_na_c_co_c_ad_c_ph': 1, 'IXN_customer_c_custkey_c_acctbal_c_nationkey_c_na_c_co_c_ad_c_ph': 1, 'IXN_partsupp_ps_suppkey_ps_p_ps_s': 1, 'IXN_orders_o_custkey_o_orderkey_o_to_o_or': 1, 'IXN_orders_o_orderkey_o_custkey_o_to_o_or': 1, 'IXN_orders_o_custkey_o_to_o_or': 1, 'IXN_supplier_s_acctbal_s_na_s_ph_s_ad': 1, 'IXN_supplier_s_acctbal_s_co_s_na_s_ph': 1, 'IXN_supplier_s_acctbal_s_co_s_na_s_ad': 1, 'IXN_part_p_partkey_p_ty': 1, 'IXN_part_p_partkey_p_mf': 1, 'IXN_part_p_partkey_p_size_p_mf': 1, 'IXN_customer_c_address_c_ac_c_na_c_ph': 1, 'IXN_customer_c_name_c_ac_c_ad_c_ph': 1, 'IXN_customer_c_phone_c_na_c_ac_c_ad': 1, 'IXN_orders_o_custkey_o_or': 1, 'IXN_partsupp_ps_partkey_ps_suppkey_ps_s': 1, 'IXN_partsupp_ps_partkey_ps_s': 1, 'IXN_partsupp_ps_suppkey_ps_partkey_ps_s': 1, 'IXN_orders_o_custkey_o_sh': 1, 'IXN_orders_o_custkey_o_orderdate_o_sh': 1, 'IXN_lineitem_l_shipdate_l_re_l_qu_l_ta_l_li': 1, 'IXN_supplier_s_nationkey_s_ac_s_na': 1, 'IXN_supplier_s_nationkey_s_ph_s_ac_s_na': 1, 'IXN_supplier_s_nationkey_s_co_s_ac_s_na': 1, 'IX_part_p_brand_p_size_p_partkey': 1, 'IX_part_p_container_p_size_p_partkey': 1, 'IX_part_p_brand_p_size': 1, 'IXN_customer_c_nationkey_c_custkey_c_ac_c_co': 1, 'IXN_customer_c_nationkey_c_ac_c_co': 1, 'IX_partsupp_ps_availqty_ps_suppkey_ps_partkey': 1, 'IXN_customer_c_nationkey_c_custkey_c_phone_c_ac_c_co': 1, 'IXN_lineitem_l_orderkey_l_ex_l_di': 1, 'IXN_supplier_s_suppkey_s_na': 1, 'IXN_supplier_s_suppkey_s_na_s_ad': 1, 'IXN_supplier_s_suppkey_s_nationkey_s_na_s_ad': 1, 'IXN_part_p_size_p_pa': 1, 'IX_part_p_name_p_partkey': 1, 'IX_part_p_name': 1, 'IXN_customer_c_comment_c_custkey_c_na_c_ac_c_ph': 1, 'IXN_customer_c_comment_c_na_c_ac_c_ph': 1, 'IXN_customer_c_comment_c_custkey_c_nationkey_c_na_c_ac_c_ph': 1, 'IXN_supplier_s_name_s_ac_s_ad': 1, 'IXN_supplier_s_name_s_nationkey_s_ac_s_ad': 1, 'IXN_supplier_s_name_s_co_s_ac_s_ad': 1, 'IXN_customer_c_custkey_c_ac_c_ph': 1, 'IXN_customer_c_custkey_c_nationkey_c_ac_c_ph': 1, 'IXN_customer_c_custkey_c_ac_c_na': 1, 'IXN_part_p_size_p_mf': 1, 'IXN_part_p_size_p_partkey_p_mf': 1, 'IXN_part_p_size_p_type_p_mf': 1, 'IX_lineitem_l_commitdate_l_orderkey': 1}\n",
      "\n",
      "Round completed. Time taken for recommendation: 0:00:00.770497 seconds.\n",
      "\n",
      "Running MAB agent for round 7...\n",
      "Identifying new query templates and updating statistics...\n",
      "Number of new query templates added: 0\n",
      "Number of queries of interest: 21\n",
      "Generating candidate indices...\n",
      "Generating candidate indices for 21 queries...\n"
     ]
    },
    {
     "name": "stderr",
     "output_type": "stream",
     "text": [
      "Processing queries: 100%|██████████| 21/21 [00:00<00:00, 132.55it/s]"
     ]
    },
    {
     "name": "stdout",
     "output_type": "stream",
     "text": [
      "Generated 24142 candidate indices\n",
      "Generating context vectors...\n"
     ]
    },
    {
     "name": "stderr",
     "output_type": "stream",
     "text": [
      "\n"
     ]
    },
    {
     "name": "stdout",
     "output_type": "stream",
     "text": [
      "Selecting best configuration...\n",
      "Theta - parameter vector: \n",
      "[ 0.00000000e+00 -1.29735161e+02 -3.39073026e-02 -2.18553362e-02\n",
      "  1.07282666e-01  2.26879442e-01  0.00000000e+00 -2.27817451e-01\n",
      " -2.14231868e-02  1.36196420e-01  0.00000000e+00  0.00000000e+00\n",
      "  2.03361347e+00  8.80417330e-01 -7.18547035e+00  0.00000000e+00\n",
      "  0.00000000e+00 -5.25170597e-02  0.00000000e+00  0.00000000e+00\n",
      "  0.00000000e+00  0.00000000e+00  0.00000000e+00  0.00000000e+00\n",
      "  1.60289157e-01  0.00000000e+00  0.00000000e+00  0.00000000e+00\n",
      "  0.00000000e+00  1.60289157e-01 -3.60650602e-01  0.00000000e+00\n",
      "  0.00000000e+00  0.00000000e+00  0.00000000e+00  1.11549767e-01\n",
      "  0.00000000e+00  1.86905157e-01  0.00000000e+00  3.82964210e-01\n",
      " -3.41052496e-02  0.00000000e+00  1.19833171e-01  1.34582935e-01\n",
      "  2.53495937e-02  0.00000000e+00  0.00000000e+00  1.76531642e-01\n",
      "  6.46947283e-02  0.00000000e+00  1.11809319e-01 -9.47154018e-03\n",
      "  0.00000000e+00 -2.84118919e-01  1.70484995e-01  0.00000000e+00\n",
      "  0.00000000e+00  0.00000000e+00  0.00000000e+00  0.00000000e+00\n",
      "  0.00000000e+00  0.00000000e+00  0.00000000e+00  2.34092412e-01\n",
      " -1.92434705e-01 -4.91651156e-02  0.00000000e+00  0.00000000e+00\n",
      " -2.48377877e-01  0.00000000e+00  3.00068470e-01  0.00000000e+00\n",
      "  0.00000000e+00  0.00000000e+00 -1.10216475e+00 -1.05974231e+00\n",
      "  0.00000000e+00  0.00000000e+00 -4.75707471e-01 -1.10216475e+00\n",
      "  0.00000000e+00  0.00000000e+00  0.00000000e+00  0.00000000e+00\n",
      "  0.00000000e+00 -2.00361446e-01  0.00000000e+00  0.00000000e+00\n",
      " -3.60650602e-01  0.00000000e+00 -2.00361446e-01  0.00000000e+00\n",
      "  0.00000000e+00  0.00000000e+00  0.00000000e+00 -3.60650602e-01\n",
      "  0.00000000e+00  0.00000000e+00  0.00000000e+00  8.72443790e-02\n",
      "  0.00000000e+00 -2.71126578e-02  0.00000000e+00  0.00000000e+00\n",
      "  1.53736833e-01  1.46827844e-01  7.35143116e-02 -7.83443495e-02\n",
      "  8.20564292e-02  0.00000000e+00 -8.41325703e-02  0.00000000e+00\n",
      "  6.05527598e-01  0.00000000e+00 -8.00030795e-01  0.00000000e+00\n",
      "  5.97028951e-01  0.00000000e+00  0.00000000e+00  0.00000000e+00\n",
      "  0.00000000e+00  0.00000000e+00  0.00000000e+00  0.00000000e+00]\n",
      "Table filtered indexes: defaultdict(<class 'list'>, {'lineitem': ['IX_lineitem_l_commitdate_l_orderkey', 'IXN_lineitem_l_returnflag_l_li', 'IXN_lineitem_l_linestatus_l_re'], 'part': ['IX_part_p_type_p_size_p_partkey', 'IX_part_p_type_p_size', 'IX_part_p_type_p_partkey'], 'partsupp': ['IXN_partsupp_ps_suppkey_ps_s_ps_a', 'IXN_partsupp_ps_suppkey_ps_a', 'IXN_partsupp_ps_suppkey_ps_s'], 'supplier': ['IX_supplier_s_comment', 'IXN_supplier_s_nationkey_s_ac_s_ad', 'IXN_supplier_s_nationkey_s_name_s_ac_s_ad'], 'orders': ['IX_orders_o_custkey_o_orderdate', 'IX_orders_o_custkey_o_shippriority', 'IX_orders_o_custkey'], 'customer': ['IXN_customer_c_nationkey_c_custkey_c_ph', 'IXN_customer_c_nationkey_c_custkey_c_ac_c_ad_c_ph', 'IXN_customer_c_nationkey_c_custkey_c_acctbal_c_ph']})\n",
      "Number of candidate indexes after filtration: 18\n",
      "Best configuration contains 18 indices: \n",
      "['IXN_supplier_s_nationkey_s_ac_s_ad', 'IX_supplier_s_comment', 'IXN_supplier_s_nationkey_s_name_s_ac_s_ad', 'IXN_customer_c_nationkey_c_custkey_c_ph', 'IXN_customer_c_nationkey_c_custkey_c_acctbal_c_ph', 'IX_part_p_type_p_partkey', 'IX_part_p_type_p_size_p_partkey', 'IX_part_p_type_p_size', 'IXN_customer_c_nationkey_c_custkey_c_ac_c_ad_c_ph', 'IXN_partsupp_ps_suppkey_ps_a', 'IXN_partsupp_ps_suppkey_ps_s', 'IX_orders_o_custkey', 'IXN_partsupp_ps_suppkey_ps_s_ps_a', 'IX_orders_o_custkey_o_orderdate', 'IX_orders_o_custkey_o_shippriority', 'IXN_lineitem_l_returnflag_l_li', 'IXN_lineitem_l_linestatus_l_re', 'IX_lineitem_l_commitdate_l_orderkey']\n",
      "Materializing configuration and executing queries...\n",
      "Num indexes added:10, Num indexes removed: 10 Index creation costs: {'IX_part_p_type_p_size': 4.297, 'IXN_supplier_s_nationkey_s_ac_s_ad': 0.182, 'IXN_customer_c_nationkey_c_custkey_c_ac_c_ad_c_ph': 2.676, 'IXN_partsupp_ps_suppkey_ps_s': 9.542, 'IX_supplier_s_comment': 0.453, 'IX_part_p_type_p_size_p_partkey': 3.878, 'IXN_supplier_s_nationkey_s_name_s_ac_s_ad': 0.263, 'IX_part_p_type_p_partkey': 3.987, 'IXN_customer_c_nationkey_c_custkey_c_ph': 1.515, 'IXN_customer_c_nationkey_c_custkey_c_acctbal_c_ph': 1.681}\n",
      "Observed Rewards for indexes: {'IXN_partsupp_ps_suppkey_ps_s': [0.975, -9.542], 'IX_orders_o_custkey_o_orderdate': [4.3855, 0], 'IX_orders_o_custkey_o_shippriority': [1.994, 0], 'IXN_supplier_s_nationkey_s_ac_s_ad': [0.645, -0.182], 'IXN_customer_c_nationkey_c_custkey_c_ph': [0.7919999999999999, -1.515], 'IX_orders_o_custkey': [0.5035000000000001, 0], 'IX_part_p_type_p_partkey': [0.5289999999999999, -3.987], 'IXN_partsupp_ps_suppkey_ps_s_ps_a': [1.7640000000000002, 0], 'IX_supplier_s_comment': [0.223, -0.453], 'IXN_partsupp_ps_suppkey_ps_a': [0.8759999999999999, 0], 'IXN_supplier_s_nationkey_s_name_s_ac_s_ad': [0.185, -0.263], 'IXN_customer_c_nationkey_c_custkey_c_acctbal_c_ph': [0.7259999999999998, -1.681], 'IX_part_p_type_p_size': [0, -4.297], 'IXN_customer_c_nationkey_c_custkey_c_ac_c_ad_c_ph': [0, -2.676], 'IX_part_p_type_p_size_p_partkey': [0, -3.878]}\n",
      "\n",
      "Total execution cost: 105.17800000000001, Total index creation cost: 28.474\n",
      "\n",
      "Updating MAB parameters...\n",
      "Index selection counts: {'IXN_partsupp_ps_suppkey_ps_s_ps_a': 5, 'IXN_partsupp_ps_suppkey_ps_a': 4, 'IX_orders_o_custkey': 4, 'IX_orders_o_custkey_o_orderdate': 4, 'IX_orders_o_custkey_o_shippriority': 4, 'IXN_partsupp_ps_suppkey_ps_p_ps_s_ps_a': 3, 'IXN_lineitem_l_returnflag_l_li': 3, 'IXN_lineitem_l_linestatus_l_re': 3, 'IX_lineitem_l_commitdate_l_orderkey': 2, 'IXN_supplier_s_name_s_nationkey_s_co_s_ac_s_ph_s_ad': 1, 'IXN_supplier_s_nationkey_s_name_s_co_s_ac_s_ph_s_ad': 1, 'IXN_supplier_s_nationkey_s_acctbal_s_co_s_na_s_ph_s_ad': 1, 'IXN_part_p_type_p_mf_p_pa': 1, 'IXN_part_p_type_p_size_p_mf_p_pa': 1, 'IXN_part_p_size_p_type_p_mf_p_pa': 1, 'IXN_customer_c_acctbal_c_custkey_c_nationkey_c_na_c_co_c_ad_c_ph': 1, 'IXN_customer_c_acctbal_c_nationkey_c_custkey_c_na_c_co_c_ad_c_ph': 1, 'IXN_customer_c_custkey_c_acctbal_c_nationkey_c_na_c_co_c_ad_c_ph': 1, 'IXN_partsupp_ps_suppkey_ps_p_ps_s': 1, 'IXN_orders_o_custkey_o_orderkey_o_to_o_or': 1, 'IXN_orders_o_orderkey_o_custkey_o_to_o_or': 1, 'IXN_orders_o_custkey_o_to_o_or': 1, 'IXN_supplier_s_acctbal_s_na_s_ph_s_ad': 1, 'IXN_supplier_s_acctbal_s_co_s_na_s_ph': 1, 'IXN_supplier_s_acctbal_s_co_s_na_s_ad': 1, 'IXN_part_p_partkey_p_ty': 1, 'IXN_part_p_partkey_p_mf': 1, 'IXN_part_p_partkey_p_size_p_mf': 1, 'IXN_customer_c_address_c_ac_c_na_c_ph': 1, 'IXN_customer_c_name_c_ac_c_ad_c_ph': 1, 'IXN_customer_c_phone_c_na_c_ac_c_ad': 1, 'IXN_orders_o_custkey_o_or': 1, 'IXN_partsupp_ps_partkey_ps_suppkey_ps_s': 1, 'IXN_partsupp_ps_partkey_ps_s': 1, 'IXN_partsupp_ps_suppkey_ps_partkey_ps_s': 1, 'IXN_orders_o_custkey_o_sh': 1, 'IXN_orders_o_custkey_o_orderdate_o_sh': 1, 'IXN_lineitem_l_shipdate_l_re_l_qu_l_ta_l_li': 1, 'IXN_supplier_s_nationkey_s_ac_s_na': 1, 'IXN_supplier_s_nationkey_s_ph_s_ac_s_na': 1, 'IXN_supplier_s_nationkey_s_co_s_ac_s_na': 1, 'IX_part_p_brand_p_size_p_partkey': 1, 'IX_part_p_container_p_size_p_partkey': 1, 'IX_part_p_brand_p_size': 1, 'IXN_customer_c_nationkey_c_custkey_c_ac_c_co': 1, 'IXN_customer_c_nationkey_c_ac_c_co': 1, 'IX_partsupp_ps_availqty_ps_suppkey_ps_partkey': 1, 'IXN_customer_c_nationkey_c_custkey_c_phone_c_ac_c_co': 1, 'IXN_lineitem_l_orderkey_l_ex_l_di': 1, 'IXN_supplier_s_suppkey_s_na': 1, 'IXN_supplier_s_suppkey_s_na_s_ad': 1, 'IXN_supplier_s_suppkey_s_nationkey_s_na_s_ad': 1, 'IXN_part_p_size_p_pa': 1, 'IX_part_p_name_p_partkey': 1, 'IX_part_p_name': 1, 'IXN_customer_c_comment_c_custkey_c_na_c_ac_c_ph': 1, 'IXN_customer_c_comment_c_na_c_ac_c_ph': 1, 'IXN_customer_c_comment_c_custkey_c_nationkey_c_na_c_ac_c_ph': 1, 'IXN_supplier_s_name_s_ac_s_ad': 1, 'IXN_supplier_s_name_s_nationkey_s_ac_s_ad': 1, 'IXN_supplier_s_name_s_co_s_ac_s_ad': 1, 'IXN_customer_c_custkey_c_ac_c_ph': 1, 'IXN_customer_c_custkey_c_nationkey_c_ac_c_ph': 1, 'IXN_customer_c_custkey_c_ac_c_na': 1, 'IXN_part_p_size_p_mf': 1, 'IXN_part_p_size_p_partkey_p_mf': 1, 'IXN_part_p_size_p_type_p_mf': 1, 'IXN_supplier_s_nationkey_s_ac_s_ad': 1, 'IX_supplier_s_comment': 1, 'IXN_supplier_s_nationkey_s_name_s_ac_s_ad': 1, 'IXN_customer_c_nationkey_c_custkey_c_ph': 1, 'IXN_customer_c_nationkey_c_custkey_c_acctbal_c_ph': 1, 'IX_part_p_type_p_partkey': 1, 'IX_part_p_type_p_size_p_partkey': 1, 'IX_part_p_type_p_size': 1, 'IXN_customer_c_nationkey_c_custkey_c_ac_c_ad_c_ph': 1, 'IXN_partsupp_ps_suppkey_ps_s': 1}\n",
      "\n",
      "Round completed. Time taken for recommendation: 0:00:00.751752 seconds.\n",
      "\n",
      "Running MAB agent for round 8...\n",
      "Identifying new query templates and updating statistics...\n",
      "Number of new query templates added: 0\n",
      "Number of queries of interest: 21\n",
      "Generating candidate indices...\n",
      "Generating candidate indices for 21 queries...\n"
     ]
    },
    {
     "name": "stderr",
     "output_type": "stream",
     "text": [
      "Processing queries: 100%|██████████| 21/21 [00:00<00:00, 191.16it/s]"
     ]
    },
    {
     "name": "stdout",
     "output_type": "stream",
     "text": [
      "Generated 24142 candidate indices\n",
      "Generating context vectors...\n"
     ]
    },
    {
     "name": "stderr",
     "output_type": "stream",
     "text": [
      "\n"
     ]
    },
    {
     "name": "stdout",
     "output_type": "stream",
     "text": [
      "Selecting best configuration...\n",
      "Theta - parameter vector: \n",
      "[ 0.00000000e+00 -1.30071733e+02 -4.09877256e-02 -6.65562980e-02\n",
      "  4.78409654e-02  2.53093872e-01  0.00000000e+00 -6.03186574e-02\n",
      "  1.43450583e-01  3.23209051e-01  0.00000000e+00  0.00000000e+00\n",
      "  2.07409392e+00  1.26390211e+00 -7.16729658e+00  0.00000000e+00\n",
      "  0.00000000e+00 -8.88658650e-02  0.00000000e+00  0.00000000e+00\n",
      "  0.00000000e+00  0.00000000e+00  0.00000000e+00  0.00000000e+00\n",
      "  1.67697479e-01  0.00000000e+00  0.00000000e+00  0.00000000e+00\n",
      "  0.00000000e+00  1.67697479e-01 -3.63344538e-01  0.00000000e+00\n",
      "  0.00000000e+00  0.00000000e+00  0.00000000e+00  1.11355721e-01\n",
      "  0.00000000e+00  1.86677763e-01  0.00000000e+00  3.82175943e-01\n",
      " -1.43985860e-02  0.00000000e+00  1.21273419e-01  1.59157634e-01\n",
      "  5.14295850e-02  0.00000000e+00  1.48666667e-01  1.32803289e-01\n",
      "  9.03455036e-02  0.00000000e+00  1.20677834e-01 -1.18395731e-02\n",
      "  0.00000000e+00 -3.24654756e-01  2.10059072e-01  0.00000000e+00\n",
      "  0.00000000e+00  0.00000000e+00  0.00000000e+00  0.00000000e+00\n",
      "  0.00000000e+00  0.00000000e+00  0.00000000e+00  7.23689786e-02\n",
      " -4.10957924e-01 -6.16778809e-02  0.00000000e+00  0.00000000e+00\n",
      " -1.48601463e-01  0.00000000e+00  4.29066931e-01  0.00000000e+00\n",
      "  0.00000000e+00  0.00000000e+00 -1.11831861e+00 -1.08672928e+00\n",
      "  0.00000000e+00  0.00000000e+00 -5.23431219e-01 -1.11831861e+00\n",
      "  0.00000000e+00  0.00000000e+00  0.00000000e+00  0.00000000e+00\n",
      "  0.00000000e+00 -1.95647059e-01  0.00000000e+00  0.00000000e+00\n",
      " -3.63344538e-01  0.00000000e+00 -1.95647059e-01  0.00000000e+00\n",
      "  0.00000000e+00  0.00000000e+00  0.00000000e+00 -3.63344538e-01\n",
      "  0.00000000e+00  0.00000000e+00  0.00000000e+00  7.72326180e-02\n",
      "  0.00000000e+00 -3.25784589e-02  0.00000000e+00  0.00000000e+00\n",
      "  1.40599057e-01  1.71811322e-01  1.01064094e-01 -9.17759471e-02\n",
      "  5.24882805e-02  0.00000000e+00 -9.94148437e-02  0.00000000e+00\n",
      "  5.94415134e-01  0.00000000e+00 -8.67510890e-01  0.00000000e+00\n",
      "  6.41704329e-01  0.00000000e+00  0.00000000e+00  0.00000000e+00\n",
      "  0.00000000e+00  0.00000000e+00  0.00000000e+00  0.00000000e+00]\n",
      "Table filtered indexes: defaultdict(<class 'list'>, {'lineitem': ['IX_lineitem_l_commitdate_l_orderkey', 'IXN_lineitem_l_returnflag_l_li', 'IXN_lineitem_l_linestatus_l_re'], 'part': ['IX_part_p_name', 'IX_part_p_name_p_partkey', 'IX_part_p_container_p_size'], 'partsupp': ['IXN_partsupp_ps_suppkey_ps_s_ps_a', 'IXN_partsupp_ps_suppkey_ps_s', 'IXN_partsupp_ps_suppkey_ps_a'], 'supplier': ['IXN_supplier_s_nationkey_s_ac_s_ad_s_na', 'IXN_supplier_s_nationkey_s_ad_s_na', 'IXN_supplier_s_nationkey_s_na_s_ad'], 'orders': ['IX_orders_o_custkey_o_orderdate', 'IX_orders_o_custkey_o_shippriority', 'IX_orders_o_custkey'], 'customer': ['IXN_customer_c_custkey_c_ac_c_co_c_ph', 'IXN_customer_c_custkey_c_nationkey_c_ac_c_co_c_ph', 'IXN_customer_c_custkey_c_ac_c_ph']})\n",
      "Number of candidate indexes after filtration: 18\n",
      "Best configuration contains 18 indices: \n",
      "['IXN_supplier_s_nationkey_s_ad_s_na', 'IXN_supplier_s_nationkey_s_na_s_ad', 'IXN_supplier_s_nationkey_s_ac_s_ad_s_na', 'IX_part_p_container_p_size', 'IXN_customer_c_custkey_c_ac_c_ph', 'IX_part_p_name', 'IX_part_p_name_p_partkey', 'IXN_partsupp_ps_suppkey_ps_a', 'IXN_customer_c_custkey_c_ac_c_co_c_ph', 'IXN_customer_c_custkey_c_nationkey_c_ac_c_co_c_ph', 'IXN_partsupp_ps_suppkey_ps_s', 'IX_orders_o_custkey', 'IXN_partsupp_ps_suppkey_ps_s_ps_a', 'IX_orders_o_custkey_o_orderdate', 'IX_orders_o_custkey_o_shippriority', 'IXN_lineitem_l_returnflag_l_li', 'IXN_lineitem_l_linestatus_l_re', 'IX_lineitem_l_commitdate_l_orderkey']\n",
      "Materializing configuration and executing queries...\n",
      "Num indexes added:9, Num indexes removed: 9 Index creation costs: {'IXN_customer_c_custkey_c_nationkey_c_ac_c_co_c_ph': 5.619, 'IXN_customer_c_custkey_c_ac_c_co_c_ph': 4.753, 'IX_part_p_name': 3.85, 'IXN_supplier_s_nationkey_s_ac_s_ad_s_na': 0.124, 'IXN_supplier_s_nationkey_s_ad_s_na': 0.156, 'IX_part_p_name_p_partkey': 3.904, 'IX_part_p_container_p_size': 4.485, 'IXN_customer_c_custkey_c_ac_c_ph': 2.648, 'IXN_supplier_s_nationkey_s_na_s_ad': 0.241}\n",
      "Observed Rewards for indexes: {'IXN_partsupp_ps_suppkey_ps_s': [0.5109999999999999, 0], 'IX_orders_o_custkey_o_orderdate': [2.0744999999999996, 0], 'IX_orders_o_custkey_o_shippriority': [1.2675, 0], 'IXN_supplier_s_nationkey_s_na_s_ad': [0.43800000000000006, -0.241], 'IXN_customer_c_custkey_c_nationkey_c_ac_c_co_c_ph': [0.346, -5.619], 'IX_orders_o_custkey': [0.255, 0], 'IXN_supplier_s_nationkey_s_ad_s_na': [0.254, -0.156], 'IX_part_p_name_p_partkey': [0.43800000000000006, -3.904], 'IXN_partsupp_ps_suppkey_ps_s_ps_a': [1.7720000000000002, 0], 'IXN_customer_c_custkey_c_ac_c_ph': [0.6599999999999999, -2.648], 'IXN_partsupp_ps_suppkey_ps_a': [0.48899999999999993, 0], 'IXN_customer_c_custkey_c_ac_c_co_c_ph': [0, -4.753], 'IX_part_p_name': [0, -3.85], 'IXN_supplier_s_nationkey_s_ac_s_ad_s_na': [0, -0.124], 'IX_part_p_container_p_size': [0, -4.485]}\n",
      "\n",
      "Total execution cost: 179.04799999999997, Total index creation cost: 25.779999999999998\n",
      "\n",
      "Updating MAB parameters...\n",
      "Index selection counts: {'IXN_partsupp_ps_suppkey_ps_s_ps_a': 6, 'IXN_partsupp_ps_suppkey_ps_a': 5, 'IX_orders_o_custkey': 5, 'IX_orders_o_custkey_o_orderdate': 5, 'IX_orders_o_custkey_o_shippriority': 5, 'IXN_lineitem_l_returnflag_l_li': 4, 'IXN_lineitem_l_linestatus_l_re': 4, 'IXN_partsupp_ps_suppkey_ps_p_ps_s_ps_a': 3, 'IX_lineitem_l_commitdate_l_orderkey': 3, 'IX_part_p_name_p_partkey': 2, 'IX_part_p_name': 2, 'IXN_customer_c_custkey_c_ac_c_ph': 2, 'IXN_partsupp_ps_suppkey_ps_s': 2, 'IXN_supplier_s_name_s_nationkey_s_co_s_ac_s_ph_s_ad': 1, 'IXN_supplier_s_nationkey_s_name_s_co_s_ac_s_ph_s_ad': 1, 'IXN_supplier_s_nationkey_s_acctbal_s_co_s_na_s_ph_s_ad': 1, 'IXN_part_p_type_p_mf_p_pa': 1, 'IXN_part_p_type_p_size_p_mf_p_pa': 1, 'IXN_part_p_size_p_type_p_mf_p_pa': 1, 'IXN_customer_c_acctbal_c_custkey_c_nationkey_c_na_c_co_c_ad_c_ph': 1, 'IXN_customer_c_acctbal_c_nationkey_c_custkey_c_na_c_co_c_ad_c_ph': 1, 'IXN_customer_c_custkey_c_acctbal_c_nationkey_c_na_c_co_c_ad_c_ph': 1, 'IXN_partsupp_ps_suppkey_ps_p_ps_s': 1, 'IXN_orders_o_custkey_o_orderkey_o_to_o_or': 1, 'IXN_orders_o_orderkey_o_custkey_o_to_o_or': 1, 'IXN_orders_o_custkey_o_to_o_or': 1, 'IXN_supplier_s_acctbal_s_na_s_ph_s_ad': 1, 'IXN_supplier_s_acctbal_s_co_s_na_s_ph': 1, 'IXN_supplier_s_acctbal_s_co_s_na_s_ad': 1, 'IXN_part_p_partkey_p_ty': 1, 'IXN_part_p_partkey_p_mf': 1, 'IXN_part_p_partkey_p_size_p_mf': 1, 'IXN_customer_c_address_c_ac_c_na_c_ph': 1, 'IXN_customer_c_name_c_ac_c_ad_c_ph': 1, 'IXN_customer_c_phone_c_na_c_ac_c_ad': 1, 'IXN_orders_o_custkey_o_or': 1, 'IXN_partsupp_ps_partkey_ps_suppkey_ps_s': 1, 'IXN_partsupp_ps_partkey_ps_s': 1, 'IXN_partsupp_ps_suppkey_ps_partkey_ps_s': 1, 'IXN_orders_o_custkey_o_sh': 1, 'IXN_orders_o_custkey_o_orderdate_o_sh': 1, 'IXN_lineitem_l_shipdate_l_re_l_qu_l_ta_l_li': 1, 'IXN_supplier_s_nationkey_s_ac_s_na': 1, 'IXN_supplier_s_nationkey_s_ph_s_ac_s_na': 1, 'IXN_supplier_s_nationkey_s_co_s_ac_s_na': 1, 'IX_part_p_brand_p_size_p_partkey': 1, 'IX_part_p_container_p_size_p_partkey': 1, 'IX_part_p_brand_p_size': 1, 'IXN_customer_c_nationkey_c_custkey_c_ac_c_co': 1, 'IXN_customer_c_nationkey_c_ac_c_co': 1, 'IX_partsupp_ps_availqty_ps_suppkey_ps_partkey': 1, 'IXN_customer_c_nationkey_c_custkey_c_phone_c_ac_c_co': 1, 'IXN_lineitem_l_orderkey_l_ex_l_di': 1, 'IXN_supplier_s_suppkey_s_na': 1, 'IXN_supplier_s_suppkey_s_na_s_ad': 1, 'IXN_supplier_s_suppkey_s_nationkey_s_na_s_ad': 1, 'IXN_part_p_size_p_pa': 1, 'IXN_customer_c_comment_c_custkey_c_na_c_ac_c_ph': 1, 'IXN_customer_c_comment_c_na_c_ac_c_ph': 1, 'IXN_customer_c_comment_c_custkey_c_nationkey_c_na_c_ac_c_ph': 1, 'IXN_supplier_s_name_s_ac_s_ad': 1, 'IXN_supplier_s_name_s_nationkey_s_ac_s_ad': 1, 'IXN_supplier_s_name_s_co_s_ac_s_ad': 1, 'IXN_customer_c_custkey_c_nationkey_c_ac_c_ph': 1, 'IXN_customer_c_custkey_c_ac_c_na': 1, 'IXN_part_p_size_p_mf': 1, 'IXN_part_p_size_p_partkey_p_mf': 1, 'IXN_part_p_size_p_type_p_mf': 1, 'IXN_supplier_s_nationkey_s_ac_s_ad': 1, 'IX_supplier_s_comment': 1, 'IXN_supplier_s_nationkey_s_name_s_ac_s_ad': 1, 'IXN_customer_c_nationkey_c_custkey_c_ph': 1, 'IXN_customer_c_nationkey_c_custkey_c_acctbal_c_ph': 1, 'IX_part_p_type_p_partkey': 1, 'IX_part_p_type_p_size_p_partkey': 1, 'IX_part_p_type_p_size': 1, 'IXN_customer_c_nationkey_c_custkey_c_ac_c_ad_c_ph': 1, 'IXN_supplier_s_nationkey_s_ad_s_na': 1, 'IXN_supplier_s_nationkey_s_na_s_ad': 1, 'IXN_supplier_s_nationkey_s_ac_s_ad_s_na': 1, 'IX_part_p_container_p_size': 1, 'IXN_customer_c_custkey_c_ac_c_co_c_ph': 1, 'IXN_customer_c_custkey_c_nationkey_c_ac_c_co_c_ph': 1}\n",
      "\n",
      "Round completed. Time taken for recommendation: 0:00:00.707937 seconds.\n",
      "\n",
      "Running MAB agent for round 9...\n",
      "Identifying new query templates and updating statistics...\n",
      "Number of new query templates added: 0\n",
      "Number of queries of interest: 21\n",
      "Generating candidate indices...\n",
      "Generating candidate indices for 21 queries...\n"
     ]
    },
    {
     "name": "stderr",
     "output_type": "stream",
     "text": [
      "Processing queries: 100%|██████████| 21/21 [00:00<00:00, 130.43it/s]\n"
     ]
    },
    {
     "name": "stdout",
     "output_type": "stream",
     "text": [
      "Generated 24142 candidate indices\n",
      "Generating context vectors...\n",
      "Selecting best configuration...\n",
      "Theta - parameter vector: \n",
      "[ 0.00000000e+00 -1.30346533e+02  3.31264800e-02 -5.38258068e-02\n",
      "  6.53531093e-02  2.26366914e-01  0.00000000e+00 -2.20367133e-02\n",
      "  2.77460411e-01  2.26915419e-01  0.00000000e+00  0.00000000e+00\n",
      "  1.90493853e+00  1.39944598e+00 -7.24323923e+00  0.00000000e+00\n",
      "  0.00000000e+00 -8.01259337e-02  0.00000000e+00  0.00000000e+00\n",
      "  0.00000000e+00  0.00000000e+00  0.00000000e+00  0.00000000e+00\n",
      "  1.71664516e-01  0.00000000e+00  0.00000000e+00  0.00000000e+00\n",
      "  0.00000000e+00  1.71664516e-01 -3.64787097e-01  0.00000000e+00\n",
      "  0.00000000e+00  0.00000000e+00  0.00000000e+00  1.11233665e-01\n",
      "  0.00000000e+00  1.07033665e-01  0.00000000e+00  3.09530844e-01\n",
      " -4.44399034e-03  0.00000000e+00  1.22301391e-01  1.59681226e-01\n",
      "  7.83849073e-02  0.00000000e+00  1.48666667e-01  2.27748991e-01\n",
      "  1.64398238e-01  0.00000000e+00  1.61886448e-01 -3.65819877e-03\n",
      "  0.00000000e+00 -3.64496639e-01  9.13226455e-02  0.00000000e+00\n",
      "  0.00000000e+00  0.00000000e+00  0.00000000e+00  0.00000000e+00\n",
      "  0.00000000e+00  0.00000000e+00  0.00000000e+00  4.38328831e-02\n",
      " -3.43291076e-01 -2.31949055e-01  0.00000000e+00  0.00000000e+00\n",
      " -4.26074362e-02  0.00000000e+00  3.32513263e-01  0.00000000e+00\n",
      "  0.00000000e+00  0.00000000e+00 -1.05081658e+00 -9.73959018e-01\n",
      "  0.00000000e+00  0.00000000e+00 -3.93528661e-01 -1.05081658e+00\n",
      "  0.00000000e+00  0.00000000e+00  0.00000000e+00  0.00000000e+00\n",
      "  0.00000000e+00 -1.93122581e-01  0.00000000e+00  0.00000000e+00\n",
      " -3.64787097e-01  0.00000000e+00 -1.93122581e-01  0.00000000e+00\n",
      "  0.00000000e+00  0.00000000e+00  0.00000000e+00 -3.64787097e-01\n",
      "  0.00000000e+00  0.00000000e+00  0.00000000e+00  7.35092568e-02\n",
      "  0.00000000e+00 -3.08202818e-02  0.00000000e+00  0.00000000e+00\n",
      "  1.33962660e-01  7.43308591e-02  7.87993478e-02 -7.66479264e-02\n",
      "  1.67863045e-02  0.00000000e+00 -8.81554177e-02  0.00000000e+00\n",
      "  6.73030163e-01  0.00000000e+00 -8.66775861e-01  0.00000000e+00\n",
      "  7.00652576e-01  0.00000000e+00  0.00000000e+00  0.00000000e+00\n",
      "  0.00000000e+00  0.00000000e+00  0.00000000e+00  0.00000000e+00]\n",
      "Table filtered indexes: defaultdict(<class 'list'>, {'lineitem': ['IX_lineitem_l_commitdate_l_orderkey', 'IXN_lineitem_l_returnflag_l_li', 'IXN_lineitem_l_linestatus_l_re'], 'part': ['IXN_part_p_partkey_p_ty', 'IX_part_p_name', 'IX_part_p_name_p_partkey'], 'partsupp': ['IXN_partsupp_ps_suppkey_ps_s_ps_a', 'IXN_partsupp_ps_suppkey_ps_s', 'IXN_partsupp_ps_suppkey_ps_a'], 'supplier': ['IX_supplier_s_name_s_nationkey_s_suppkey', 'IX_supplier_s_name_s_nationkey_s_acctbal', 'IX_supplier_s_name_s_nationkey'], 'orders': ['IXN_orders_o_orderdate_o_or', 'IX_orders_o_orderdate_o_custkey', 'IX_orders_o_custkey_o_orderdate'], 'customer': ['IXN_customer_c_nationkey_c_custkey_c_na_c_ph', 'IXN_customer_c_nationkey_c_custkey_c_ac_c_na_c_ph', 'IXN_customer_c_nationkey_c_custkey_c_acctbal_c_na_c_ph']})\n",
      "Number of candidate indexes after filtration: 18\n",
      "Best configuration contains 18 indices: \n",
      "['IX_supplier_s_name_s_nationkey_s_suppkey', 'IX_supplier_s_name_s_nationkey', 'IX_supplier_s_name_s_nationkey_s_acctbal', 'IXN_part_p_partkey_p_ty', 'IXN_customer_c_nationkey_c_custkey_c_na_c_ph', 'IXN_customer_c_nationkey_c_custkey_c_ac_c_na_c_ph', 'IXN_customer_c_nationkey_c_custkey_c_acctbal_c_na_c_ph', 'IX_part_p_name', 'IX_part_p_name_p_partkey', 'IXN_partsupp_ps_suppkey_ps_a', 'IXN_partsupp_ps_suppkey_ps_s', 'IXN_partsupp_ps_suppkey_ps_s_ps_a', 'IX_orders_o_orderdate_o_custkey', 'IX_orders_o_custkey_o_orderdate', 'IXN_orders_o_orderdate_o_or', 'IXN_lineitem_l_returnflag_l_li', 'IXN_lineitem_l_linestatus_l_re', 'IX_lineitem_l_commitdate_l_orderkey']\n",
      "Materializing configuration and executing queries...\n",
      "Num indexes added:9, Num indexes removed: 9 Index creation costs: {'IXN_part_p_partkey_p_ty': 2.159, 'IX_supplier_s_name_s_nationkey': 0.27, 'IXN_customer_c_nationkey_c_custkey_c_ac_c_na_c_ph': 2.837, 'IX_supplier_s_name_s_nationkey_s_acctbal': 0.22, 'IX_orders_o_orderdate_o_custkey': 19.416, 'IXN_customer_c_nationkey_c_custkey_c_na_c_ph': 3.249, 'IXN_orders_o_orderdate_o_or': 37.025, 'IXN_customer_c_nationkey_c_custkey_c_acctbal_c_na_c_ph': 3.786, 'IX_supplier_s_name_s_nationkey_s_suppkey': 0.31}\n",
      "Observed Rewards for indexes: {'IX_supplier_s_name_s_nationkey_s_suppkey': [0.12600000000000006, -0.31], 'IXN_partsupp_ps_suppkey_ps_s': [0.00849999999999998, 0], 'IXN_partsupp_ps_suppkey_ps_s_ps_a': [1.8235000000000001, 0], 'IXN_orders_o_orderdate_o_or': [15.164, -37.025], 'IXN_customer_c_nationkey_c_custkey_c_na_c_ph': [0.8109999999999999, -3.249], 'IX_orders_o_orderdate_o_custkey': [3.6605, -19.416], 'IX_orders_o_custkey_o_orderdate': [2.198, 0], 'IXN_part_p_partkey_p_ty': [0.25299999999999995, -2.159], 'IX_part_p_name_p_partkey': [0.504, 0], 'IXN_partsupp_ps_suppkey_ps_a': [0.49899999999999994, 0], 'IXN_customer_c_nationkey_c_custkey_c_acctbal_c_na_c_ph': [-0.13800000000000012, -3.786], 'IX_supplier_s_name_s_nationkey': [0, -0.27], 'IXN_customer_c_nationkey_c_custkey_c_ac_c_na_c_ph': [0, -2.837], 'IX_supplier_s_name_s_nationkey_s_acctbal': [0, -0.22]}\n",
      "\n",
      "Total execution cost: 174.35300000000004, Total index creation cost: 69.272\n",
      "\n",
      "Updating MAB parameters...\n",
      "Index selection counts: {'IXN_partsupp_ps_suppkey_ps_s_ps_a': 7, 'IXN_partsupp_ps_suppkey_ps_a': 6, 'IX_orders_o_custkey_o_orderdate': 6, 'IX_orders_o_custkey': 5, 'IX_orders_o_custkey_o_shippriority': 5, 'IXN_lineitem_l_returnflag_l_li': 5, 'IXN_lineitem_l_linestatus_l_re': 5, 'IX_lineitem_l_commitdate_l_orderkey': 4, 'IXN_partsupp_ps_suppkey_ps_p_ps_s_ps_a': 3, 'IX_part_p_name_p_partkey': 3, 'IX_part_p_name': 3, 'IXN_partsupp_ps_suppkey_ps_s': 3, 'IXN_part_p_partkey_p_ty': 2, 'IXN_customer_c_custkey_c_ac_c_ph': 2, 'IXN_supplier_s_name_s_nationkey_s_co_s_ac_s_ph_s_ad': 1, 'IXN_supplier_s_nationkey_s_name_s_co_s_ac_s_ph_s_ad': 1, 'IXN_supplier_s_nationkey_s_acctbal_s_co_s_na_s_ph_s_ad': 1, 'IXN_part_p_type_p_mf_p_pa': 1, 'IXN_part_p_type_p_size_p_mf_p_pa': 1, 'IXN_part_p_size_p_type_p_mf_p_pa': 1, 'IXN_customer_c_acctbal_c_custkey_c_nationkey_c_na_c_co_c_ad_c_ph': 1, 'IXN_customer_c_acctbal_c_nationkey_c_custkey_c_na_c_co_c_ad_c_ph': 1, 'IXN_customer_c_custkey_c_acctbal_c_nationkey_c_na_c_co_c_ad_c_ph': 1, 'IXN_partsupp_ps_suppkey_ps_p_ps_s': 1, 'IXN_orders_o_custkey_o_orderkey_o_to_o_or': 1, 'IXN_orders_o_orderkey_o_custkey_o_to_o_or': 1, 'IXN_orders_o_custkey_o_to_o_or': 1, 'IXN_supplier_s_acctbal_s_na_s_ph_s_ad': 1, 'IXN_supplier_s_acctbal_s_co_s_na_s_ph': 1, 'IXN_supplier_s_acctbal_s_co_s_na_s_ad': 1, 'IXN_part_p_partkey_p_mf': 1, 'IXN_part_p_partkey_p_size_p_mf': 1, 'IXN_customer_c_address_c_ac_c_na_c_ph': 1, 'IXN_customer_c_name_c_ac_c_ad_c_ph': 1, 'IXN_customer_c_phone_c_na_c_ac_c_ad': 1, 'IXN_orders_o_custkey_o_or': 1, 'IXN_partsupp_ps_partkey_ps_suppkey_ps_s': 1, 'IXN_partsupp_ps_partkey_ps_s': 1, 'IXN_partsupp_ps_suppkey_ps_partkey_ps_s': 1, 'IXN_orders_o_custkey_o_sh': 1, 'IXN_orders_o_custkey_o_orderdate_o_sh': 1, 'IXN_lineitem_l_shipdate_l_re_l_qu_l_ta_l_li': 1, 'IXN_supplier_s_nationkey_s_ac_s_na': 1, 'IXN_supplier_s_nationkey_s_ph_s_ac_s_na': 1, 'IXN_supplier_s_nationkey_s_co_s_ac_s_na': 1, 'IX_part_p_brand_p_size_p_partkey': 1, 'IX_part_p_container_p_size_p_partkey': 1, 'IX_part_p_brand_p_size': 1, 'IXN_customer_c_nationkey_c_custkey_c_ac_c_co': 1, 'IXN_customer_c_nationkey_c_ac_c_co': 1, 'IX_partsupp_ps_availqty_ps_suppkey_ps_partkey': 1, 'IXN_customer_c_nationkey_c_custkey_c_phone_c_ac_c_co': 1, 'IXN_lineitem_l_orderkey_l_ex_l_di': 1, 'IXN_supplier_s_suppkey_s_na': 1, 'IXN_supplier_s_suppkey_s_na_s_ad': 1, 'IXN_supplier_s_suppkey_s_nationkey_s_na_s_ad': 1, 'IXN_part_p_size_p_pa': 1, 'IXN_customer_c_comment_c_custkey_c_na_c_ac_c_ph': 1, 'IXN_customer_c_comment_c_na_c_ac_c_ph': 1, 'IXN_customer_c_comment_c_custkey_c_nationkey_c_na_c_ac_c_ph': 1, 'IXN_supplier_s_name_s_ac_s_ad': 1, 'IXN_supplier_s_name_s_nationkey_s_ac_s_ad': 1, 'IXN_supplier_s_name_s_co_s_ac_s_ad': 1, 'IXN_customer_c_custkey_c_nationkey_c_ac_c_ph': 1, 'IXN_customer_c_custkey_c_ac_c_na': 1, 'IXN_part_p_size_p_mf': 1, 'IXN_part_p_size_p_partkey_p_mf': 1, 'IXN_part_p_size_p_type_p_mf': 1, 'IXN_supplier_s_nationkey_s_ac_s_ad': 1, 'IX_supplier_s_comment': 1, 'IXN_supplier_s_nationkey_s_name_s_ac_s_ad': 1, 'IXN_customer_c_nationkey_c_custkey_c_ph': 1, 'IXN_customer_c_nationkey_c_custkey_c_acctbal_c_ph': 1, 'IX_part_p_type_p_partkey': 1, 'IX_part_p_type_p_size_p_partkey': 1, 'IX_part_p_type_p_size': 1, 'IXN_customer_c_nationkey_c_custkey_c_ac_c_ad_c_ph': 1, 'IXN_supplier_s_nationkey_s_ad_s_na': 1, 'IXN_supplier_s_nationkey_s_na_s_ad': 1, 'IXN_supplier_s_nationkey_s_ac_s_ad_s_na': 1, 'IX_part_p_container_p_size': 1, 'IXN_customer_c_custkey_c_ac_c_co_c_ph': 1, 'IXN_customer_c_custkey_c_nationkey_c_ac_c_co_c_ph': 1, 'IX_supplier_s_name_s_nationkey_s_suppkey': 1, 'IX_supplier_s_name_s_nationkey': 1, 'IX_supplier_s_name_s_nationkey_s_acctbal': 1, 'IXN_customer_c_nationkey_c_custkey_c_na_c_ph': 1, 'IXN_customer_c_nationkey_c_custkey_c_ac_c_na_c_ph': 1, 'IXN_customer_c_nationkey_c_custkey_c_acctbal_c_na_c_ph': 1, 'IX_orders_o_orderdate_o_custkey': 1, 'IXN_orders_o_orderdate_o_or': 1}\n",
      "\n",
      "Round completed. Time taken for recommendation: 0:00:00.760102 seconds.\n",
      "\n",
      "Running MAB agent for round 10...\n",
      "Identifying new query templates and updating statistics...\n",
      "Number of new query templates added: 0\n",
      "Number of queries of interest: 21\n",
      "Generating candidate indices...\n",
      "Generating candidate indices for 21 queries...\n"
     ]
    },
    {
     "name": "stderr",
     "output_type": "stream",
     "text": [
      "Processing queries: 100%|██████████| 21/21 [00:00<00:00, 203.74it/s]"
     ]
    },
    {
     "name": "stdout",
     "output_type": "stream",
     "text": [
      "Generated 24142 candidate indices\n",
      "Generating context vectors...\n"
     ]
    },
    {
     "name": "stderr",
     "output_type": "stream",
     "text": [
      "\n"
     ]
    },
    {
     "name": "stdout",
     "output_type": "stream",
     "text": [
      "Selecting best configuration...\n",
      "Theta - parameter vector: \n",
      "[ 0.00000000e+00 -1.32979540e+02  6.94346790e-02  8.93090762e-02\n",
      "  2.45965208e-01  2.89376338e-01  0.00000000e+00 -4.08551663e-02\n",
      "  2.13734645e-01  2.73573738e-01  0.00000000e+00  0.00000000e+00\n",
      "  1.77684643e+00  4.96189746e+00 -7.30074643e+00  0.00000000e+00\n",
      "  0.00000000e+00  3.63214295e-02  0.00000000e+00  0.00000000e+00\n",
      "  0.00000000e+00  0.00000000e+00  0.00000000e+00  0.00000000e+00\n",
      "  1.74136126e-01  0.00000000e+00  0.00000000e+00  0.00000000e+00\n",
      "  0.00000000e+00  1.74136126e-01 -3.65685864e-01  0.00000000e+00\n",
      "  0.00000000e+00  0.00000000e+00  0.00000000e+00  1.10706769e-01\n",
      "  0.00000000e+00  1.06506769e-01  0.00000000e+00  2.90802968e-01\n",
      "  1.92690316e-02  0.00000000e+00  1.27701931e-01  1.61476514e-01\n",
      "  3.61059891e-02  0.00000000e+00  1.48666667e-01  9.33824829e-02\n",
      "  8.83401450e-02  0.00000000e+00  1.33922854e-01  7.41113118e-03\n",
      "  0.00000000e+00 -3.79992697e-01 -7.31676981e-02  0.00000000e+00\n",
      "  0.00000000e+00  0.00000000e+00  0.00000000e+00  0.00000000e+00\n",
      "  0.00000000e+00  0.00000000e+00  0.00000000e+00  2.27020313e-02\n",
      " -2.46105347e-01 -1.83668130e-01  0.00000000e+00  0.00000000e+00\n",
      " -1.88351711e-01  0.00000000e+00  2.84686065e-01  0.00000000e+00\n",
      "  0.00000000e+00  0.00000000e+00 -9.99700988e-01 -8.88564285e-01\n",
      "  6.80140169e+00  0.00000000e+00 -4.33553040e-01 -9.99700988e-01\n",
      "  0.00000000e+00  0.00000000e+00  0.00000000e+00  0.00000000e+00\n",
      "  0.00000000e+00 -1.91549738e-01  0.00000000e+00  0.00000000e+00\n",
      " -3.65685864e-01  0.00000000e+00 -1.91549738e-01  0.00000000e+00\n",
      "  0.00000000e+00  0.00000000e+00  0.00000000e+00 -3.65685864e-01\n",
      "  0.00000000e+00  0.00000000e+00  0.00000000e+00  6.33007818e-02\n",
      "  0.00000000e+00 -2.73726846e-02  0.00000000e+00  0.00000000e+00\n",
      "  1.64384775e-01  1.33159331e-01  1.19379699e-01 -6.20121016e-02\n",
      "  2.49670137e-02  0.00000000e+00 -8.16483374e-02  0.00000000e+00\n",
      "  8.13405804e-01  0.00000000e+00 -8.44558055e-01  0.00000000e+00\n",
      "  7.34866157e-01  0.00000000e+00  0.00000000e+00  0.00000000e+00\n",
      "  0.00000000e+00  0.00000000e+00  0.00000000e+00  0.00000000e+00]\n",
      "Table filtered indexes: defaultdict(<class 'list'>, {'lineitem': ['IX_lineitem_l_commitdate_l_orderkey', 'IXN_lineitem_l_returnflag_l_li', 'IXN_lineitem_l_linestatus_l_re'], 'part': ['IXN_part_p_partkey_p_ty', 'IXN_part_p_size_p_pa', 'IX_part_p_name_p_partkey'], 'partsupp': ['IXN_partsupp_ps_suppkey_ps_s_ps_a', 'IXN_partsupp_ps_suppkey_ps_a', 'IXN_partsupp_ps_suppkey_ps_s'], 'supplier': ['IXN_supplier_s_suppkey_s_nationkey_s_ad', 'IXN_supplier_s_suppkey_s_nationkey_s_name_s_ad', 'IXN_supplier_s_suppkey_s_name_s_nationkey_s_ad'], 'orders': ['IXN_orders_o_orderdate_o_or', 'IXN_orders_o_orderdate_o_orderkey_o_or', 'IX_orders_o_orderdate_o_custkey'], 'customer': ['IXN_customer_c_address_c_custkey_c_ph', 'IXN_customer_c_address_c_custkey_c_nationkey_c_ph', 'IXN_customer_c_acctbal_c_custkey_c_ph']})\n",
      "Number of candidate indexes after filtration: 18\n",
      "Best configuration contains 18 indices: \n",
      "['IXN_supplier_s_suppkey_s_nationkey_s_ad', 'IXN_supplier_s_suppkey_s_nationkey_s_name_s_ad', 'IXN_supplier_s_suppkey_s_name_s_nationkey_s_ad', 'IXN_part_p_size_p_pa', 'IXN_customer_c_acctbal_c_custkey_c_ph', 'IXN_part_p_partkey_p_ty', 'IXN_customer_c_address_c_custkey_c_ph', 'IXN_customer_c_address_c_custkey_c_nationkey_c_ph', 'IX_part_p_name_p_partkey', 'IXN_partsupp_ps_suppkey_ps_a', 'IX_orders_o_orderdate_o_custkey', 'IXN_partsupp_ps_suppkey_ps_s', 'IXN_orders_o_orderdate_o_or', 'IXN_partsupp_ps_suppkey_ps_s_ps_a', 'IXN_orders_o_orderdate_o_orderkey_o_or', 'IXN_lineitem_l_returnflag_l_li', 'IXN_lineitem_l_linestatus_l_re', 'IX_lineitem_l_commitdate_l_orderkey']\n",
      "Materializing configuration and executing queries...\n",
      "Num indexes added:8, Num indexes removed: 8 Index creation costs: {'IXN_supplier_s_suppkey_s_nationkey_s_ad': 0.101, 'IXN_customer_c_address_c_custkey_c_nationkey_c_ph': 5.963, 'IXN_customer_c_acctbal_c_custkey_c_ph': 3.045, 'IXN_supplier_s_suppkey_s_nationkey_s_name_s_ad': 0.299, 'IXN_customer_c_address_c_custkey_c_ph': 3.12, 'IXN_supplier_s_suppkey_s_name_s_nationkey_s_ad': 0.329, 'IXN_part_p_size_p_pa': 2.409, 'IXN_orders_o_orderdate_o_orderkey_o_or': 21.714}\n",
      "Observed Rewards for indexes: {'IXN_part_p_size_p_pa': [0.1575, -2.409], 'IXN_part_p_partkey_p_ty': [0.2355, 0], 'IXN_supplier_s_suppkey_s_nationkey_s_ad': [0.647, -0.101], 'IXN_partsupp_ps_suppkey_ps_s': [-0.16650000000000004, 0], 'IXN_partsupp_ps_suppkey_ps_s_ps_a': [1.8245, 0], 'IXN_orders_o_orderdate_o_orderkey_o_or': [14.757, -21.714], 'IXN_customer_c_address_c_custkey_c_nationkey_c_ph': [0.274, -5.963], 'IX_orders_o_orderdate_o_custkey': [4.7219999999999995, 0], 'IX_part_p_name_p_partkey': [0.5700000000000001, 0], 'IXN_orders_o_orderdate_o_or': [0.3939999999999999, 0], 'IXN_customer_c_acctbal_c_custkey_c_ph': [-0.2250000000000001, -3.045], 'IXN_partsupp_ps_suppkey_ps_a': [0.5999999999999999, 0], 'IXN_supplier_s_suppkey_s_name_s_nationkey_s_ad': [0.03399999999999999, -0.329], 'IXN_supplier_s_suppkey_s_nationkey_s_name_s_ad': [0, -0.299], 'IXN_customer_c_address_c_custkey_c_ph': [0, -3.12]}\n",
      "\n",
      "Total execution cost: 169.012, Total index creation cost: 36.98\n",
      "\n",
      "Updating MAB parameters...\n",
      "Index selection counts: {'IXN_partsupp_ps_suppkey_ps_s_ps_a': 8, 'IXN_partsupp_ps_suppkey_ps_a': 7, 'IX_orders_o_custkey_o_orderdate': 6, 'IXN_lineitem_l_returnflag_l_li': 6, 'IXN_lineitem_l_linestatus_l_re': 6, 'IX_orders_o_custkey': 5, 'IX_orders_o_custkey_o_shippriority': 5, 'IX_lineitem_l_commitdate_l_orderkey': 5, 'IX_part_p_name_p_partkey': 4, 'IXN_partsupp_ps_suppkey_ps_s': 4, 'IXN_partsupp_ps_suppkey_ps_p_ps_s_ps_a': 3, 'IXN_part_p_partkey_p_ty': 3, 'IX_part_p_name': 3, 'IXN_part_p_size_p_pa': 2, 'IXN_customer_c_custkey_c_ac_c_ph': 2, 'IX_orders_o_orderdate_o_custkey': 2, 'IXN_orders_o_orderdate_o_or': 2, 'IXN_supplier_s_name_s_nationkey_s_co_s_ac_s_ph_s_ad': 1, 'IXN_supplier_s_nationkey_s_name_s_co_s_ac_s_ph_s_ad': 1, 'IXN_supplier_s_nationkey_s_acctbal_s_co_s_na_s_ph_s_ad': 1, 'IXN_part_p_type_p_mf_p_pa': 1, 'IXN_part_p_type_p_size_p_mf_p_pa': 1, 'IXN_part_p_size_p_type_p_mf_p_pa': 1, 'IXN_customer_c_acctbal_c_custkey_c_nationkey_c_na_c_co_c_ad_c_ph': 1, 'IXN_customer_c_acctbal_c_nationkey_c_custkey_c_na_c_co_c_ad_c_ph': 1, 'IXN_customer_c_custkey_c_acctbal_c_nationkey_c_na_c_co_c_ad_c_ph': 1, 'IXN_partsupp_ps_suppkey_ps_p_ps_s': 1, 'IXN_orders_o_custkey_o_orderkey_o_to_o_or': 1, 'IXN_orders_o_orderkey_o_custkey_o_to_o_or': 1, 'IXN_orders_o_custkey_o_to_o_or': 1, 'IXN_supplier_s_acctbal_s_na_s_ph_s_ad': 1, 'IXN_supplier_s_acctbal_s_co_s_na_s_ph': 1, 'IXN_supplier_s_acctbal_s_co_s_na_s_ad': 1, 'IXN_part_p_partkey_p_mf': 1, 'IXN_part_p_partkey_p_size_p_mf': 1, 'IXN_customer_c_address_c_ac_c_na_c_ph': 1, 'IXN_customer_c_name_c_ac_c_ad_c_ph': 1, 'IXN_customer_c_phone_c_na_c_ac_c_ad': 1, 'IXN_orders_o_custkey_o_or': 1, 'IXN_partsupp_ps_partkey_ps_suppkey_ps_s': 1, 'IXN_partsupp_ps_partkey_ps_s': 1, 'IXN_partsupp_ps_suppkey_ps_partkey_ps_s': 1, 'IXN_orders_o_custkey_o_sh': 1, 'IXN_orders_o_custkey_o_orderdate_o_sh': 1, 'IXN_lineitem_l_shipdate_l_re_l_qu_l_ta_l_li': 1, 'IXN_supplier_s_nationkey_s_ac_s_na': 1, 'IXN_supplier_s_nationkey_s_ph_s_ac_s_na': 1, 'IXN_supplier_s_nationkey_s_co_s_ac_s_na': 1, 'IX_part_p_brand_p_size_p_partkey': 1, 'IX_part_p_container_p_size_p_partkey': 1, 'IX_part_p_brand_p_size': 1, 'IXN_customer_c_nationkey_c_custkey_c_ac_c_co': 1, 'IXN_customer_c_nationkey_c_ac_c_co': 1, 'IX_partsupp_ps_availqty_ps_suppkey_ps_partkey': 1, 'IXN_customer_c_nationkey_c_custkey_c_phone_c_ac_c_co': 1, 'IXN_lineitem_l_orderkey_l_ex_l_di': 1, 'IXN_supplier_s_suppkey_s_na': 1, 'IXN_supplier_s_suppkey_s_na_s_ad': 1, 'IXN_supplier_s_suppkey_s_nationkey_s_na_s_ad': 1, 'IXN_customer_c_comment_c_custkey_c_na_c_ac_c_ph': 1, 'IXN_customer_c_comment_c_na_c_ac_c_ph': 1, 'IXN_customer_c_comment_c_custkey_c_nationkey_c_na_c_ac_c_ph': 1, 'IXN_supplier_s_name_s_ac_s_ad': 1, 'IXN_supplier_s_name_s_nationkey_s_ac_s_ad': 1, 'IXN_supplier_s_name_s_co_s_ac_s_ad': 1, 'IXN_customer_c_custkey_c_nationkey_c_ac_c_ph': 1, 'IXN_customer_c_custkey_c_ac_c_na': 1, 'IXN_part_p_size_p_mf': 1, 'IXN_part_p_size_p_partkey_p_mf': 1, 'IXN_part_p_size_p_type_p_mf': 1, 'IXN_supplier_s_nationkey_s_ac_s_ad': 1, 'IX_supplier_s_comment': 1, 'IXN_supplier_s_nationkey_s_name_s_ac_s_ad': 1, 'IXN_customer_c_nationkey_c_custkey_c_ph': 1, 'IXN_customer_c_nationkey_c_custkey_c_acctbal_c_ph': 1, 'IX_part_p_type_p_partkey': 1, 'IX_part_p_type_p_size_p_partkey': 1, 'IX_part_p_type_p_size': 1, 'IXN_customer_c_nationkey_c_custkey_c_ac_c_ad_c_ph': 1, 'IXN_supplier_s_nationkey_s_ad_s_na': 1, 'IXN_supplier_s_nationkey_s_na_s_ad': 1, 'IXN_supplier_s_nationkey_s_ac_s_ad_s_na': 1, 'IX_part_p_container_p_size': 1, 'IXN_customer_c_custkey_c_ac_c_co_c_ph': 1, 'IXN_customer_c_custkey_c_nationkey_c_ac_c_co_c_ph': 1, 'IX_supplier_s_name_s_nationkey_s_suppkey': 1, 'IX_supplier_s_name_s_nationkey': 1, 'IX_supplier_s_name_s_nationkey_s_acctbal': 1, 'IXN_customer_c_nationkey_c_custkey_c_na_c_ph': 1, 'IXN_customer_c_nationkey_c_custkey_c_ac_c_na_c_ph': 1, 'IXN_customer_c_nationkey_c_custkey_c_acctbal_c_na_c_ph': 1, 'IXN_supplier_s_suppkey_s_nationkey_s_ad': 1, 'IXN_supplier_s_suppkey_s_nationkey_s_name_s_ad': 1, 'IXN_supplier_s_suppkey_s_name_s_nationkey_s_ad': 1, 'IXN_customer_c_acctbal_c_custkey_c_ph': 1, 'IXN_customer_c_address_c_custkey_c_ph': 1, 'IXN_customer_c_address_c_custkey_c_nationkey_c_ph': 1, 'IXN_orders_o_orderdate_o_orderkey_o_or': 1}\n",
      "\n",
      "Round completed. Time taken for recommendation: 0:00:00.752498 seconds.\n",
      "\n",
      "Running MAB agent for round 11...\n",
      "Identifying new query templates and updating statistics...\n",
      "Number of new query templates added: 0\n",
      "Number of queries of interest: 21\n",
      "Generating candidate indices...\n",
      "Generating candidate indices for 21 queries...\n"
     ]
    },
    {
     "name": "stderr",
     "output_type": "stream",
     "text": [
      "Processing queries: 100%|██████████| 21/21 [00:00<00:00, 133.44it/s]\n"
     ]
    },
    {
     "name": "stdout",
     "output_type": "stream",
     "text": [
      "Generated 24142 candidate indices\n",
      "Generating context vectors...\n",
      "Selecting best configuration...\n",
      "Theta - parameter vector: \n",
      "[ 0.00000000e+00 -1.34098705e+02 -1.71451040e-01 -4.52459248e-02\n",
      "  2.15620609e-01  2.71932849e-01  0.00000000e+00 -6.11101773e-02\n",
      "  1.98047618e-01  1.71185923e-01  0.00000000e+00  0.00000000e+00\n",
      "  1.81453409e+00  4.44482563e+00 -6.76140458e+00  0.00000000e+00\n",
      "  0.00000000e+00  2.05992210e-03  0.00000000e+00  0.00000000e+00\n",
      "  0.00000000e+00  0.00000000e+00  0.00000000e+00  0.00000000e+00\n",
      "  1.75823789e-01  0.00000000e+00  0.00000000e+00  0.00000000e+00\n",
      "  0.00000000e+00  1.75823789e-01 -3.66299559e-01  0.00000000e+00\n",
      "  0.00000000e+00  0.00000000e+00  0.00000000e+00  1.09719509e-01\n",
      "  0.00000000e+00  1.05519509e-01  0.00000000e+00  3.26938022e-01\n",
      "  3.49120956e-02  0.00000000e+00  1.39260527e-01  1.61179463e-01\n",
      "  3.16641409e-02  0.00000000e+00  1.48666667e-01  9.12549980e-02\n",
      "  8.59160828e-02  0.00000000e+00  1.16381408e-01  1.66199025e-02\n",
      "  0.00000000e+00 -3.85004864e-01 -2.10798051e-01  0.00000000e+00\n",
      "  0.00000000e+00  0.00000000e+00  0.00000000e+00  0.00000000e+00\n",
      "  0.00000000e+00  0.00000000e+00  0.00000000e+00  3.25078623e-02\n",
      " -1.77512638e-01 -1.39441700e-01  0.00000000e+00  0.00000000e+00\n",
      " -1.13524297e-01  0.00000000e+00  2.36670042e-01  0.00000000e+00\n",
      "  0.00000000e+00  0.00000000e+00 -1.10315024e+00 -9.13689390e-01\n",
      "  5.04476102e+00  0.00000000e+00 -4.43020294e-01 -1.10315024e+00\n",
      "  0.00000000e+00  0.00000000e+00  0.00000000e+00  0.00000000e+00\n",
      "  0.00000000e+00 -1.90475771e-01  0.00000000e+00  0.00000000e+00\n",
      " -3.66299559e-01  0.00000000e+00 -1.90475771e-01  0.00000000e+00\n",
      "  0.00000000e+00  0.00000000e+00  0.00000000e+00 -3.66299559e-01\n",
      "  0.00000000e+00  0.00000000e+00  0.00000000e+00  4.97915005e-02\n",
      "  0.00000000e+00 -1.60107283e-02  0.00000000e+00  0.00000000e+00\n",
      "  1.65789632e-01  1.35106190e-01  1.16246078e-01 -6.17166347e-02\n",
      "  3.26227731e-02  0.00000000e+00 -8.25603823e-02  0.00000000e+00\n",
      "  9.44324215e-01  0.00000000e+00 -8.26494737e-01  0.00000000e+00\n",
      "  7.53986469e-01  0.00000000e+00  0.00000000e+00  0.00000000e+00\n",
      "  0.00000000e+00  0.00000000e+00  0.00000000e+00  0.00000000e+00]\n",
      "Table filtered indexes: defaultdict(<class 'list'>, {'lineitem': ['IX_lineitem_l_commitdate_l_orderkey', 'IXN_lineitem_l_returnflag_l_li', 'IXN_lineitem_l_linestatus_l_re'], 'part': ['IX_part_p_name_p_partkey', 'IXN_part_p_partkey_p_ty', 'IXN_part_p_size_p_pa'], 'partsupp': ['IXN_partsupp_ps_suppkey_ps_s_ps_a', 'IXN_partsupp_ps_suppkey_ps_a', 'IXN_partsupp_ps_suppkey_ps_s'], 'supplier': ['IXN_supplier_s_name_s_ac_s_ph_s_ad', 'IXN_supplier_s_name_s_nationkey_s_ac_s_ph_s_ad', 'IXN_supplier_s_nationkey_s_ph_s_ac_s_ad_s_na'], 'orders': ['IXN_orders_o_orderdate_o_or', 'IXN_orders_o_orderdate_o_orderkey_o_or', 'IX_orders_o_orderdate_o_custkey'], 'customer': ['IX_customer_c_mktsegment', 'IXN_customer_c_custkey_c_nationkey_c_ph', 'IXN_customer_c_custkey_c_nationkey_c_acctbal_c_ph']})\n",
      "Number of candidate indexes after filtration: 18\n",
      "Best configuration contains 18 indices: \n",
      "['IXN_supplier_s_name_s_ac_s_ph_s_ad', 'IXN_supplier_s_name_s_nationkey_s_ac_s_ph_s_ad', 'IXN_supplier_s_nationkey_s_ph_s_ac_s_ad_s_na', 'IXN_part_p_size_p_pa', 'IX_customer_c_mktsegment', 'IXN_customer_c_custkey_c_nationkey_c_ph', 'IXN_customer_c_custkey_c_nationkey_c_acctbal_c_ph', 'IXN_part_p_partkey_p_ty', 'IX_part_p_name_p_partkey', 'IXN_partsupp_ps_suppkey_ps_a', 'IX_orders_o_orderdate_o_custkey', 'IXN_partsupp_ps_suppkey_ps_s', 'IXN_partsupp_ps_suppkey_ps_s_ps_a', 'IXN_orders_o_orderdate_o_or', 'IXN_orders_o_orderdate_o_orderkey_o_or', 'IXN_lineitem_l_returnflag_l_li', 'IXN_lineitem_l_linestatus_l_re', 'IX_lineitem_l_commitdate_l_orderkey']\n",
      "Materializing configuration and executing queries...\n",
      "Num indexes added:6, Num indexes removed: 6 Index creation costs: {'IXN_supplier_s_name_s_ac_s_ph_s_ad': 0.109, 'IXN_supplier_s_nationkey_s_ph_s_ac_s_ad_s_na': 0.17, 'IXN_customer_c_custkey_c_nationkey_c_acctbal_c_ph': 1.818, 'IXN_supplier_s_name_s_nationkey_s_ac_s_ph_s_ad': 0.3, 'IX_customer_c_mktsegment': 2.471, 'IXN_customer_c_custkey_c_nationkey_c_ph': 1.464}\n",
      "Observed Rewards for indexes: {'IXN_part_p_size_p_pa': [0.162, 0], 'IXN_part_p_partkey_p_ty': [0.4925, 0], 'IXN_supplier_s_name_s_nationkey_s_ac_s_ph_s_ad': [0.5865, -0.3], 'IXN_supplier_s_nationkey_s_ph_s_ac_s_ad_s_na': [0.316, -0.17], 'IXN_partsupp_ps_suppkey_ps_s': [0.6229999999999999, 0], 'IXN_partsupp_ps_suppkey_ps_s_ps_a': [2.148, 0], 'IX_customer_c_mktsegment': [0.399, -2.471], 'IXN_orders_o_orderdate_o_orderkey_o_or': [14.775, 0], 'IXN_customer_c_custkey_c_nationkey_c_ph': [0.554, -1.464], 'IX_orders_o_orderdate_o_custkey': [6.958, 0], 'IX_part_p_name_p_partkey': [0.966, 0], 'IXN_orders_o_orderdate_o_or': [1.154, 0], 'IXN_partsupp_ps_suppkey_ps_a': [0.7809999999999999, 0], 'IXN_customer_c_custkey_c_nationkey_c_acctbal_c_ph': [0.9449999999999998, -1.818], 'IXN_supplier_s_name_s_ac_s_ph_s_ad': [0, -0.109]}\n",
      "\n",
      "Total execution cost: 103.47500000000001, Total index creation cost: 6.332000000000001\n",
      "\n",
      "Updating MAB parameters...\n",
      "Index selection counts: {'IXN_partsupp_ps_suppkey_ps_s_ps_a': 9, 'IXN_partsupp_ps_suppkey_ps_a': 8, 'IXN_lineitem_l_returnflag_l_li': 7, 'IXN_lineitem_l_linestatus_l_re': 7, 'IX_orders_o_custkey_o_orderdate': 6, 'IX_lineitem_l_commitdate_l_orderkey': 6, 'IX_orders_o_custkey': 5, 'IX_orders_o_custkey_o_shippriority': 5, 'IX_part_p_name_p_partkey': 5, 'IXN_partsupp_ps_suppkey_ps_s': 5, 'IXN_part_p_partkey_p_ty': 4, 'IXN_partsupp_ps_suppkey_ps_p_ps_s_ps_a': 3, 'IXN_part_p_size_p_pa': 3, 'IX_part_p_name': 3, 'IX_orders_o_orderdate_o_custkey': 3, 'IXN_orders_o_orderdate_o_or': 3, 'IXN_customer_c_custkey_c_ac_c_ph': 2, 'IXN_orders_o_orderdate_o_orderkey_o_or': 2, 'IXN_supplier_s_name_s_nationkey_s_co_s_ac_s_ph_s_ad': 1, 'IXN_supplier_s_nationkey_s_name_s_co_s_ac_s_ph_s_ad': 1, 'IXN_supplier_s_nationkey_s_acctbal_s_co_s_na_s_ph_s_ad': 1, 'IXN_part_p_type_p_mf_p_pa': 1, 'IXN_part_p_type_p_size_p_mf_p_pa': 1, 'IXN_part_p_size_p_type_p_mf_p_pa': 1, 'IXN_customer_c_acctbal_c_custkey_c_nationkey_c_na_c_co_c_ad_c_ph': 1, 'IXN_customer_c_acctbal_c_nationkey_c_custkey_c_na_c_co_c_ad_c_ph': 1, 'IXN_customer_c_custkey_c_acctbal_c_nationkey_c_na_c_co_c_ad_c_ph': 1, 'IXN_partsupp_ps_suppkey_ps_p_ps_s': 1, 'IXN_orders_o_custkey_o_orderkey_o_to_o_or': 1, 'IXN_orders_o_orderkey_o_custkey_o_to_o_or': 1, 'IXN_orders_o_custkey_o_to_o_or': 1, 'IXN_supplier_s_acctbal_s_na_s_ph_s_ad': 1, 'IXN_supplier_s_acctbal_s_co_s_na_s_ph': 1, 'IXN_supplier_s_acctbal_s_co_s_na_s_ad': 1, 'IXN_part_p_partkey_p_mf': 1, 'IXN_part_p_partkey_p_size_p_mf': 1, 'IXN_customer_c_address_c_ac_c_na_c_ph': 1, 'IXN_customer_c_name_c_ac_c_ad_c_ph': 1, 'IXN_customer_c_phone_c_na_c_ac_c_ad': 1, 'IXN_orders_o_custkey_o_or': 1, 'IXN_partsupp_ps_partkey_ps_suppkey_ps_s': 1, 'IXN_partsupp_ps_partkey_ps_s': 1, 'IXN_partsupp_ps_suppkey_ps_partkey_ps_s': 1, 'IXN_orders_o_custkey_o_sh': 1, 'IXN_orders_o_custkey_o_orderdate_o_sh': 1, 'IXN_lineitem_l_shipdate_l_re_l_qu_l_ta_l_li': 1, 'IXN_supplier_s_nationkey_s_ac_s_na': 1, 'IXN_supplier_s_nationkey_s_ph_s_ac_s_na': 1, 'IXN_supplier_s_nationkey_s_co_s_ac_s_na': 1, 'IX_part_p_brand_p_size_p_partkey': 1, 'IX_part_p_container_p_size_p_partkey': 1, 'IX_part_p_brand_p_size': 1, 'IXN_customer_c_nationkey_c_custkey_c_ac_c_co': 1, 'IXN_customer_c_nationkey_c_ac_c_co': 1, 'IX_partsupp_ps_availqty_ps_suppkey_ps_partkey': 1, 'IXN_customer_c_nationkey_c_custkey_c_phone_c_ac_c_co': 1, 'IXN_lineitem_l_orderkey_l_ex_l_di': 1, 'IXN_supplier_s_suppkey_s_na': 1, 'IXN_supplier_s_suppkey_s_na_s_ad': 1, 'IXN_supplier_s_suppkey_s_nationkey_s_na_s_ad': 1, 'IXN_customer_c_comment_c_custkey_c_na_c_ac_c_ph': 1, 'IXN_customer_c_comment_c_na_c_ac_c_ph': 1, 'IXN_customer_c_comment_c_custkey_c_nationkey_c_na_c_ac_c_ph': 1, 'IXN_supplier_s_name_s_ac_s_ad': 1, 'IXN_supplier_s_name_s_nationkey_s_ac_s_ad': 1, 'IXN_supplier_s_name_s_co_s_ac_s_ad': 1, 'IXN_customer_c_custkey_c_nationkey_c_ac_c_ph': 1, 'IXN_customer_c_custkey_c_ac_c_na': 1, 'IXN_part_p_size_p_mf': 1, 'IXN_part_p_size_p_partkey_p_mf': 1, 'IXN_part_p_size_p_type_p_mf': 1, 'IXN_supplier_s_nationkey_s_ac_s_ad': 1, 'IX_supplier_s_comment': 1, 'IXN_supplier_s_nationkey_s_name_s_ac_s_ad': 1, 'IXN_customer_c_nationkey_c_custkey_c_ph': 1, 'IXN_customer_c_nationkey_c_custkey_c_acctbal_c_ph': 1, 'IX_part_p_type_p_partkey': 1, 'IX_part_p_type_p_size_p_partkey': 1, 'IX_part_p_type_p_size': 1, 'IXN_customer_c_nationkey_c_custkey_c_ac_c_ad_c_ph': 1, 'IXN_supplier_s_nationkey_s_ad_s_na': 1, 'IXN_supplier_s_nationkey_s_na_s_ad': 1, 'IXN_supplier_s_nationkey_s_ac_s_ad_s_na': 1, 'IX_part_p_container_p_size': 1, 'IXN_customer_c_custkey_c_ac_c_co_c_ph': 1, 'IXN_customer_c_custkey_c_nationkey_c_ac_c_co_c_ph': 1, 'IX_supplier_s_name_s_nationkey_s_suppkey': 1, 'IX_supplier_s_name_s_nationkey': 1, 'IX_supplier_s_name_s_nationkey_s_acctbal': 1, 'IXN_customer_c_nationkey_c_custkey_c_na_c_ph': 1, 'IXN_customer_c_nationkey_c_custkey_c_ac_c_na_c_ph': 1, 'IXN_customer_c_nationkey_c_custkey_c_acctbal_c_na_c_ph': 1, 'IXN_supplier_s_suppkey_s_nationkey_s_ad': 1, 'IXN_supplier_s_suppkey_s_nationkey_s_name_s_ad': 1, 'IXN_supplier_s_suppkey_s_name_s_nationkey_s_ad': 1, 'IXN_customer_c_acctbal_c_custkey_c_ph': 1, 'IXN_customer_c_address_c_custkey_c_ph': 1, 'IXN_customer_c_address_c_custkey_c_nationkey_c_ph': 1, 'IXN_supplier_s_name_s_ac_s_ph_s_ad': 1, 'IXN_supplier_s_name_s_nationkey_s_ac_s_ph_s_ad': 1, 'IXN_supplier_s_nationkey_s_ph_s_ac_s_ad_s_na': 1, 'IX_customer_c_mktsegment': 1, 'IXN_customer_c_custkey_c_nationkey_c_ph': 1, 'IXN_customer_c_custkey_c_nationkey_c_acctbal_c_ph': 1}\n",
      "\n",
      "Round completed. Time taken for recommendation: 0:00:00.748233 seconds.\n",
      "\n",
      "Running MAB agent for round 12...\n",
      "Identifying new query templates and updating statistics...\n",
      "Number of new query templates added: 0\n",
      "Number of queries of interest: 21\n",
      "Generating candidate indices...\n",
      "Generating candidate indices for 21 queries...\n"
     ]
    },
    {
     "name": "stderr",
     "output_type": "stream",
     "text": [
      "Processing queries: 100%|██████████| 21/21 [00:00<00:00, 203.31it/s]"
     ]
    },
    {
     "name": "stdout",
     "output_type": "stream",
     "text": [
      "Generated 24142 candidate indices\n",
      "Generating context vectors...\n"
     ]
    },
    {
     "name": "stderr",
     "output_type": "stream",
     "text": [
      "\n"
     ]
    },
    {
     "name": "stdout",
     "output_type": "stream",
     "text": [
      "Selecting best configuration...\n",
      "Theta - parameter vector: \n",
      "[ 0.00000000e+00 -1.34123521e+02 -1.68263480e-01 -4.14428678e-02\n",
      "  2.47403384e-01  3.40771996e-01  2.66000000e-01 -4.13612882e-02\n",
      "  2.17388411e-01  2.04145524e-01  0.00000000e+00  0.00000000e+00\n",
      "  1.81748467e+00  4.96777094e+00 -6.17511169e+00  0.00000000e+00\n",
      "  0.00000000e+00 -6.22431265e-04  0.00000000e+00  0.00000000e+00\n",
      "  0.00000000e+00  0.00000000e+00  0.00000000e+00  0.00000000e+00\n",
      "  1.77049430e-01  0.00000000e+00  0.00000000e+00  0.00000000e+00\n",
      "  0.00000000e+00  1.77049430e-01 -3.66745247e-01  0.00000000e+00\n",
      "  0.00000000e+00  0.00000000e+00  0.00000000e+00  1.08916108e-01\n",
      "  0.00000000e+00  1.04716108e-01  0.00000000e+00  4.00008744e-01\n",
      "  6.38513520e-02  0.00000000e+00  1.47856082e-01  1.62999011e-01\n",
      "  3.21097173e-02  0.00000000e+00  1.48666667e-01  9.49530614e-02\n",
      "  9.05382061e-02  0.00000000e+00  1.17014617e-01  1.85428540e-02\n",
      "  0.00000000e+00 -4.23035569e-01 -2.35839252e-01  0.00000000e+00\n",
      "  0.00000000e+00  0.00000000e+00  0.00000000e+00  0.00000000e+00\n",
      "  0.00000000e+00  0.00000000e+00  0.00000000e+00 -4.10432723e-03\n",
      " -1.77754639e-01 -1.52673322e-01  0.00000000e+00  0.00000000e+00\n",
      " -1.25876614e-01  0.00000000e+00  2.43900898e-01  0.00000000e+00\n",
      "  0.00000000e+00  0.00000000e+00 -1.20332230e+00 -9.15656450e-01\n",
      "  4.11639412e+00  0.00000000e+00 -4.66298577e-01 -1.20332230e+00\n",
      "  0.00000000e+00  0.00000000e+00  0.00000000e+00  0.00000000e+00\n",
      "  0.00000000e+00 -1.89695817e-01  0.00000000e+00  0.00000000e+00\n",
      " -3.66745247e-01  0.00000000e+00 -1.89695817e-01  0.00000000e+00\n",
      "  0.00000000e+00  0.00000000e+00  0.00000000e+00 -3.66745247e-01\n",
      "  0.00000000e+00  0.00000000e+00  0.00000000e+00  3.56345023e-02\n",
      "  0.00000000e+00 -9.52482547e-03  0.00000000e+00  0.00000000e+00\n",
      "  2.04909909e-01  1.35494839e-01  1.16519762e-01 -6.90298757e-02\n",
      "  3.01675759e-02  0.00000000e+00 -7.28811693e-02  0.00000000e+00\n",
      "  9.81916294e-01  0.00000000e+00 -8.71826346e-01  0.00000000e+00\n",
      "  8.01831672e-01  0.00000000e+00  0.00000000e+00  0.00000000e+00\n",
      "  0.00000000e+00  0.00000000e+00  0.00000000e+00  0.00000000e+00]\n",
      "Table filtered indexes: defaultdict(<class 'list'>, {'lineitem': ['IX_lineitem_l_commitdate_l_orderkey', 'IXN_lineitem_l_returnflag_l_li', 'IXN_lineitem_l_linestatus_l_re'], 'part': ['IX_part_p_name_p_partkey', 'IXN_part_p_partkey_p_ty', 'IX_part_p_name'], 'partsupp': ['IXN_partsupp_ps_suppkey_ps_s_ps_a', 'IXN_partsupp_ps_suppkey_ps_a', 'IXN_partsupp_ps_suppkey_ps_s'], 'supplier': ['IX_supplier_s_comment', 'IXN_supplier_s_nationkey_s_name_s_ac_s_ad', 'IXN_supplier_s_nationkey_s_ac_s_ad_s_na'], 'orders': ['IXN_orders_o_orderdate_o_or', 'IXN_orders_o_orderdate_o_orderkey_o_or', 'IX_orders_o_orderdate_o_custkey'], 'customer': ['IXN_customer_c_custkey_c_nationkey_c_ph', 'IXN_customer_c_custkey_c_nationkey_c_acctbal_c_ph', 'IXN_customer_c_comment_c_custkey_c_ph']})\n",
      "Number of candidate indexes after filtration: 18\n",
      "Best configuration contains 18 indices: \n",
      "['IX_supplier_s_comment', 'IXN_supplier_s_nationkey_s_name_s_ac_s_ad', 'IXN_supplier_s_nationkey_s_ac_s_ad_s_na', 'IXN_customer_c_custkey_c_nationkey_c_ph', 'IXN_customer_c_custkey_c_nationkey_c_acctbal_c_ph', 'IXN_part_p_partkey_p_ty', 'IX_part_p_name_p_partkey', 'IX_part_p_name', 'IXN_partsupp_ps_suppkey_ps_a', 'IXN_customer_c_comment_c_custkey_c_ph', 'IX_orders_o_orderdate_o_custkey', 'IXN_partsupp_ps_suppkey_ps_s', 'IXN_partsupp_ps_suppkey_ps_s_ps_a', 'IXN_orders_o_orderdate_o_or', 'IXN_orders_o_orderdate_o_orderkey_o_or', 'IXN_lineitem_l_returnflag_l_li', 'IXN_lineitem_l_linestatus_l_re', 'IX_lineitem_l_commitdate_l_orderkey']\n",
      "Materializing configuration and executing queries...\n",
      "Num indexes added:5, Num indexes removed: 5 Index creation costs: {'IXN_customer_c_comment_c_custkey_c_ph': 5.551, 'IX_part_p_name': 3.464, 'IX_supplier_s_comment': 0.502, 'IXN_supplier_s_nationkey_s_ac_s_ad_s_na': 0.914, 'IXN_supplier_s_nationkey_s_name_s_ac_s_ad': 0.32}\n",
      "Observed Rewards for indexes: {'IXN_supplier_s_nationkey_s_ac_s_ad_s_na': [0.89, -0.914], 'IXN_partsupp_ps_suppkey_ps_s': [0.657, 0], 'IXN_partsupp_ps_suppkey_ps_s_ps_a': [2.2525, 0], 'IXN_orders_o_orderdate_o_orderkey_o_or': [14.773, 0], 'IXN_customer_c_custkey_c_nationkey_c_ph': [0.743, 0], 'IX_orders_o_orderdate_o_custkey': [6.857, 0], 'IXN_part_p_partkey_p_ty': [0.33899999999999997, 0], 'IX_part_p_name_p_partkey': [0.864, 0], 'IXN_orders_o_orderdate_o_or': [1.066, 0], 'IX_supplier_s_comment': [0.178, -0.502], 'IXN_partsupp_ps_suppkey_ps_a': [0.766, 0], 'IXN_customer_c_custkey_c_nationkey_c_acctbal_c_ph': [0.8200000000000001, 0], 'IXN_customer_c_comment_c_custkey_c_ph': [0, -5.551], 'IX_part_p_name': [0, -3.464], 'IXN_supplier_s_nationkey_s_name_s_ac_s_ad': [0, -0.32]}\n",
      "\n",
      "Total execution cost: 104.16200000000002, Total index creation cost: 10.751000000000001\n",
      "\n",
      "Updating MAB parameters...\n",
      "Index selection counts: {'IXN_partsupp_ps_suppkey_ps_s_ps_a': 10, 'IXN_partsupp_ps_suppkey_ps_a': 9, 'IXN_lineitem_l_returnflag_l_li': 8, 'IXN_lineitem_l_linestatus_l_re': 8, 'IX_lineitem_l_commitdate_l_orderkey': 7, 'IX_orders_o_custkey_o_orderdate': 6, 'IX_part_p_name_p_partkey': 6, 'IXN_partsupp_ps_suppkey_ps_s': 6, 'IXN_part_p_partkey_p_ty': 5, 'IX_orders_o_custkey': 5, 'IX_orders_o_custkey_o_shippriority': 5, 'IX_part_p_name': 4, 'IX_orders_o_orderdate_o_custkey': 4, 'IXN_orders_o_orderdate_o_or': 4, 'IXN_partsupp_ps_suppkey_ps_p_ps_s_ps_a': 3, 'IXN_part_p_size_p_pa': 3, 'IXN_orders_o_orderdate_o_orderkey_o_or': 3, 'IXN_customer_c_custkey_c_ac_c_ph': 2, 'IX_supplier_s_comment': 2, 'IXN_supplier_s_nationkey_s_name_s_ac_s_ad': 2, 'IXN_supplier_s_nationkey_s_ac_s_ad_s_na': 2, 'IXN_customer_c_custkey_c_nationkey_c_ph': 2, 'IXN_customer_c_custkey_c_nationkey_c_acctbal_c_ph': 2, 'IXN_supplier_s_name_s_nationkey_s_co_s_ac_s_ph_s_ad': 1, 'IXN_supplier_s_nationkey_s_name_s_co_s_ac_s_ph_s_ad': 1, 'IXN_supplier_s_nationkey_s_acctbal_s_co_s_na_s_ph_s_ad': 1, 'IXN_part_p_type_p_mf_p_pa': 1, 'IXN_part_p_type_p_size_p_mf_p_pa': 1, 'IXN_part_p_size_p_type_p_mf_p_pa': 1, 'IXN_customer_c_acctbal_c_custkey_c_nationkey_c_na_c_co_c_ad_c_ph': 1, 'IXN_customer_c_acctbal_c_nationkey_c_custkey_c_na_c_co_c_ad_c_ph': 1, 'IXN_customer_c_custkey_c_acctbal_c_nationkey_c_na_c_co_c_ad_c_ph': 1, 'IXN_partsupp_ps_suppkey_ps_p_ps_s': 1, 'IXN_orders_o_custkey_o_orderkey_o_to_o_or': 1, 'IXN_orders_o_orderkey_o_custkey_o_to_o_or': 1, 'IXN_orders_o_custkey_o_to_o_or': 1, 'IXN_supplier_s_acctbal_s_na_s_ph_s_ad': 1, 'IXN_supplier_s_acctbal_s_co_s_na_s_ph': 1, 'IXN_supplier_s_acctbal_s_co_s_na_s_ad': 1, 'IXN_part_p_partkey_p_mf': 1, 'IXN_part_p_partkey_p_size_p_mf': 1, 'IXN_customer_c_address_c_ac_c_na_c_ph': 1, 'IXN_customer_c_name_c_ac_c_ad_c_ph': 1, 'IXN_customer_c_phone_c_na_c_ac_c_ad': 1, 'IXN_orders_o_custkey_o_or': 1, 'IXN_partsupp_ps_partkey_ps_suppkey_ps_s': 1, 'IXN_partsupp_ps_partkey_ps_s': 1, 'IXN_partsupp_ps_suppkey_ps_partkey_ps_s': 1, 'IXN_orders_o_custkey_o_sh': 1, 'IXN_orders_o_custkey_o_orderdate_o_sh': 1, 'IXN_lineitem_l_shipdate_l_re_l_qu_l_ta_l_li': 1, 'IXN_supplier_s_nationkey_s_ac_s_na': 1, 'IXN_supplier_s_nationkey_s_ph_s_ac_s_na': 1, 'IXN_supplier_s_nationkey_s_co_s_ac_s_na': 1, 'IX_part_p_brand_p_size_p_partkey': 1, 'IX_part_p_container_p_size_p_partkey': 1, 'IX_part_p_brand_p_size': 1, 'IXN_customer_c_nationkey_c_custkey_c_ac_c_co': 1, 'IXN_customer_c_nationkey_c_ac_c_co': 1, 'IX_partsupp_ps_availqty_ps_suppkey_ps_partkey': 1, 'IXN_customer_c_nationkey_c_custkey_c_phone_c_ac_c_co': 1, 'IXN_lineitem_l_orderkey_l_ex_l_di': 1, 'IXN_supplier_s_suppkey_s_na': 1, 'IXN_supplier_s_suppkey_s_na_s_ad': 1, 'IXN_supplier_s_suppkey_s_nationkey_s_na_s_ad': 1, 'IXN_customer_c_comment_c_custkey_c_na_c_ac_c_ph': 1, 'IXN_customer_c_comment_c_na_c_ac_c_ph': 1, 'IXN_customer_c_comment_c_custkey_c_nationkey_c_na_c_ac_c_ph': 1, 'IXN_supplier_s_name_s_ac_s_ad': 1, 'IXN_supplier_s_name_s_nationkey_s_ac_s_ad': 1, 'IXN_supplier_s_name_s_co_s_ac_s_ad': 1, 'IXN_customer_c_custkey_c_nationkey_c_ac_c_ph': 1, 'IXN_customer_c_custkey_c_ac_c_na': 1, 'IXN_part_p_size_p_mf': 1, 'IXN_part_p_size_p_partkey_p_mf': 1, 'IXN_part_p_size_p_type_p_mf': 1, 'IXN_supplier_s_nationkey_s_ac_s_ad': 1, 'IXN_customer_c_nationkey_c_custkey_c_ph': 1, 'IXN_customer_c_nationkey_c_custkey_c_acctbal_c_ph': 1, 'IX_part_p_type_p_partkey': 1, 'IX_part_p_type_p_size_p_partkey': 1, 'IX_part_p_type_p_size': 1, 'IXN_customer_c_nationkey_c_custkey_c_ac_c_ad_c_ph': 1, 'IXN_supplier_s_nationkey_s_ad_s_na': 1, 'IXN_supplier_s_nationkey_s_na_s_ad': 1, 'IX_part_p_container_p_size': 1, 'IXN_customer_c_custkey_c_ac_c_co_c_ph': 1, 'IXN_customer_c_custkey_c_nationkey_c_ac_c_co_c_ph': 1, 'IX_supplier_s_name_s_nationkey_s_suppkey': 1, 'IX_supplier_s_name_s_nationkey': 1, 'IX_supplier_s_name_s_nationkey_s_acctbal': 1, 'IXN_customer_c_nationkey_c_custkey_c_na_c_ph': 1, 'IXN_customer_c_nationkey_c_custkey_c_ac_c_na_c_ph': 1, 'IXN_customer_c_nationkey_c_custkey_c_acctbal_c_na_c_ph': 1, 'IXN_supplier_s_suppkey_s_nationkey_s_ad': 1, 'IXN_supplier_s_suppkey_s_nationkey_s_name_s_ad': 1, 'IXN_supplier_s_suppkey_s_name_s_nationkey_s_ad': 1, 'IXN_customer_c_acctbal_c_custkey_c_ph': 1, 'IXN_customer_c_address_c_custkey_c_ph': 1, 'IXN_customer_c_address_c_custkey_c_nationkey_c_ph': 1, 'IXN_supplier_s_name_s_ac_s_ph_s_ad': 1, 'IXN_supplier_s_name_s_nationkey_s_ac_s_ph_s_ad': 1, 'IXN_supplier_s_nationkey_s_ph_s_ac_s_ad_s_na': 1, 'IX_customer_c_mktsegment': 1, 'IXN_customer_c_comment_c_custkey_c_ph': 1}\n",
      "\n",
      "Round completed. Time taken for recommendation: 0:00:00.726478 seconds.\n",
      "\n",
      "Running MAB agent for round 13...\n",
      "Identifying new query templates and updating statistics...\n",
      "Number of new query templates added: 0\n",
      "Number of queries of interest: 21\n",
      "Generating candidate indices...\n",
      "Generating candidate indices for 21 queries...\n"
     ]
    },
    {
     "name": "stderr",
     "output_type": "stream",
     "text": [
      "Processing queries: 100%|██████████| 21/21 [00:00<00:00, 132.26it/s]\n"
     ]
    },
    {
     "name": "stdout",
     "output_type": "stream",
     "text": [
      "Generated 24142 candidate indices\n",
      "Generating context vectors...\n",
      "Selecting best configuration...\n",
      "Theta - parameter vector: \n",
      "[ 0.00000000e+00 -1.34237462e+02 -1.60581517e-01 -5.14511767e-02\n",
      "  9.68039896e-02  3.70319806e-01  2.66000000e-01 -3.31901107e-02\n",
      "  2.10359547e-01  1.75584767e-01  0.00000000e+00  0.00000000e+00\n",
      "  1.82666784e+00  5.28011448e+00 -5.57153324e+00  0.00000000e+00\n",
      "  0.00000000e+00 -8.97075942e-03  0.00000000e+00  0.00000000e+00\n",
      "  0.00000000e+00  0.00000000e+00  0.00000000e+00  0.00000000e+00\n",
      "  1.77979933e-01  0.00000000e+00  0.00000000e+00  0.00000000e+00\n",
      "  0.00000000e+00  1.77979933e-01 -3.67083612e-01  0.00000000e+00\n",
      "  0.00000000e+00  0.00000000e+00  0.00000000e+00  1.08590932e-01\n",
      "  0.00000000e+00  1.04390932e-01  0.00000000e+00  4.04275139e-01\n",
      "  8.51850653e-02  0.00000000e+00  1.50854092e-01  1.64958877e-01\n",
      " -2.74534389e-02  0.00000000e+00  1.60400000e-01  8.40519829e-02\n",
      "  3.62400236e-02  0.00000000e+00  7.38574039e-02  2.07147701e-02\n",
      "  0.00000000e+00 -4.62577026e-01 -2.64463849e-01  0.00000000e+00\n",
      "  0.00000000e+00  0.00000000e+00  0.00000000e+00  0.00000000e+00\n",
      "  0.00000000e+00  0.00000000e+00  0.00000000e+00  1.46565168e-02\n",
      " -1.97581786e-01 -1.76366069e-01  0.00000000e+00  0.00000000e+00\n",
      " -8.18762604e-02  0.00000000e+00  2.32710435e-01  0.00000000e+00\n",
      "  0.00000000e+00  0.00000000e+00 -1.30843321e+00 -9.21778557e-01\n",
      "  3.57248781e+00  0.00000000e+00 -4.86138847e-01 -1.30843321e+00\n",
      "  0.00000000e+00  0.00000000e+00  0.00000000e+00  0.00000000e+00\n",
      "  0.00000000e+00 -1.89103679e-01  0.00000000e+00  0.00000000e+00\n",
      " -3.67083612e-01  0.00000000e+00 -1.89103679e-01  0.00000000e+00\n",
      "  0.00000000e+00  0.00000000e+00  0.00000000e+00 -3.67083612e-01\n",
      "  0.00000000e+00  0.00000000e+00  0.00000000e+00  2.80268423e-02\n",
      "  0.00000000e+00 -8.53783806e-03  0.00000000e+00  0.00000000e+00\n",
      "  1.98286304e-01  1.53457345e-01  1.29411094e-01 -7.71984347e-02\n",
      "  1.08255712e-01  0.00000000e+00 -9.06551125e-02  0.00000000e+00\n",
      "  1.01905439e+00  0.00000000e+00 -9.15579020e-01  0.00000000e+00\n",
      "  8.51824450e-01  0.00000000e+00  0.00000000e+00  0.00000000e+00\n",
      "  0.00000000e+00  0.00000000e+00  0.00000000e+00  0.00000000e+00]\n",
      "Table filtered indexes: defaultdict(<class 'list'>, {'lineitem': ['IX_lineitem_l_commitdate_l_orderkey', 'IXN_lineitem_l_returnflag_l_li', 'IXN_lineitem_l_linestatus_l_re'], 'part': ['IX_part_p_name_p_partkey', 'IX_part_p_name', 'IXN_part_p_partkey_p_ty'], 'partsupp': ['IXN_partsupp_ps_suppkey_ps_s_ps_a', 'IXN_partsupp_ps_suppkey_ps_a', 'IXN_partsupp_ps_suppkey_ps_s'], 'supplier': ['IXN_supplier_s_nationkey_s_ac_s_ad_s_na', 'IXN_supplier_s_nationkey_s_co_s_ac_s_ad_s_na', 'IXN_supplier_s_name_s_ac_s_ad'], 'orders': ['IXN_orders_o_orderdate_o_or', 'IXN_orders_o_orderdate_o_orderkey_o_or', 'IX_orders_o_orderdate_o_custkey'], 'customer': ['IXN_customer_c_custkey_c_nationkey_c_ph', 'IXN_customer_c_custkey_c_nationkey_c_acctbal_c_ph', 'IXN_customer_c_custkey_c_nationkey_c_ac_c_ph']})\n",
      "Number of candidate indexes after filtration: 18\n",
      "Best configuration contains 18 indices: \n",
      "['IXN_supplier_s_name_s_ac_s_ad', 'IXN_supplier_s_nationkey_s_ac_s_ad_s_na', 'IXN_supplier_s_nationkey_s_co_s_ac_s_ad_s_na', 'IXN_customer_c_custkey_c_nationkey_c_ph', 'IXN_customer_c_custkey_c_nationkey_c_acctbal_c_ph', 'IXN_customer_c_custkey_c_nationkey_c_ac_c_ph', 'IXN_part_p_partkey_p_ty', 'IX_part_p_name_p_partkey', 'IX_part_p_name', 'IXN_partsupp_ps_suppkey_ps_a', 'IX_orders_o_orderdate_o_custkey', 'IXN_partsupp_ps_suppkey_ps_s', 'IXN_partsupp_ps_suppkey_ps_s_ps_a', 'IXN_orders_o_orderdate_o_or', 'IXN_orders_o_orderdate_o_orderkey_o_or', 'IXN_lineitem_l_returnflag_l_li', 'IXN_lineitem_l_linestatus_l_re', 'IX_lineitem_l_commitdate_l_orderkey']\n",
      "Materializing configuration and executing queries...\n",
      "Num indexes added:3, Num indexes removed: 3 Index creation costs: {'IXN_supplier_s_name_s_ac_s_ad': 0.192, 'IXN_customer_c_custkey_c_nationkey_c_ac_c_ph': 1.783, 'IXN_supplier_s_nationkey_s_co_s_ac_s_ad_s_na': 0.388}\n",
      "Observed Rewards for indexes: {'IXN_supplier_s_nationkey_s_ac_s_ad_s_na': [0.9880000000000001, 0], 'IXN_partsupp_ps_suppkey_ps_s': [0.6105, 0], 'IXN_partsupp_ps_suppkey_ps_s_ps_a': [2.14, 0], 'IXN_orders_o_orderdate_o_orderkey_o_or': [14.758000000000001, 0], 'IXN_customer_c_custkey_c_nationkey_c_ph': [0.723, 0], 'IX_orders_o_orderdate_o_custkey': [7.034, 0], 'IXN_part_p_partkey_p_ty': [0.44499999999999995, 0], 'IX_part_p_name_p_partkey': [0.9550000000000001, 0], 'IXN_orders_o_orderdate_o_or': [1.119, 0], 'IXN_supplier_s_nationkey_s_co_s_ac_s_ad_s_na': [0.15200000000000002, -0.388], 'IXN_partsupp_ps_suppkey_ps_a': [0.825, 0], 'IXN_customer_c_custkey_c_nationkey_c_acctbal_c_ph': [0.873, 0], 'IXN_supplier_s_name_s_ac_s_ad': [0, -0.192], 'IXN_customer_c_custkey_c_nationkey_c_ac_c_ph': [0, -1.783]}\n",
      "\n",
      "Total execution cost: 99.63199999999999, Total index creation cost: 2.363\n",
      "\n",
      "Updating MAB parameters...\n",
      "Index selection counts: {'IXN_partsupp_ps_suppkey_ps_s_ps_a': 11, 'IXN_partsupp_ps_suppkey_ps_a': 10, 'IXN_lineitem_l_returnflag_l_li': 9, 'IXN_lineitem_l_linestatus_l_re': 9, 'IX_lineitem_l_commitdate_l_orderkey': 8, 'IX_part_p_name_p_partkey': 7, 'IXN_partsupp_ps_suppkey_ps_s': 7, 'IXN_part_p_partkey_p_ty': 6, 'IX_orders_o_custkey_o_orderdate': 6, 'IX_orders_o_custkey': 5, 'IX_orders_o_custkey_o_shippriority': 5, 'IX_part_p_name': 5, 'IX_orders_o_orderdate_o_custkey': 5, 'IXN_orders_o_orderdate_o_or': 5, 'IXN_orders_o_orderdate_o_orderkey_o_or': 4, 'IXN_partsupp_ps_suppkey_ps_p_ps_s_ps_a': 3, 'IXN_part_p_size_p_pa': 3, 'IXN_supplier_s_nationkey_s_ac_s_ad_s_na': 3, 'IXN_customer_c_custkey_c_nationkey_c_ph': 3, 'IXN_customer_c_custkey_c_nationkey_c_acctbal_c_ph': 3, 'IXN_supplier_s_name_s_ac_s_ad': 2, 'IXN_customer_c_custkey_c_ac_c_ph': 2, 'IXN_customer_c_custkey_c_nationkey_c_ac_c_ph': 2, 'IX_supplier_s_comment': 2, 'IXN_supplier_s_nationkey_s_name_s_ac_s_ad': 2, 'IXN_supplier_s_name_s_nationkey_s_co_s_ac_s_ph_s_ad': 1, 'IXN_supplier_s_nationkey_s_name_s_co_s_ac_s_ph_s_ad': 1, 'IXN_supplier_s_nationkey_s_acctbal_s_co_s_na_s_ph_s_ad': 1, 'IXN_part_p_type_p_mf_p_pa': 1, 'IXN_part_p_type_p_size_p_mf_p_pa': 1, 'IXN_part_p_size_p_type_p_mf_p_pa': 1, 'IXN_customer_c_acctbal_c_custkey_c_nationkey_c_na_c_co_c_ad_c_ph': 1, 'IXN_customer_c_acctbal_c_nationkey_c_custkey_c_na_c_co_c_ad_c_ph': 1, 'IXN_customer_c_custkey_c_acctbal_c_nationkey_c_na_c_co_c_ad_c_ph': 1, 'IXN_partsupp_ps_suppkey_ps_p_ps_s': 1, 'IXN_orders_o_custkey_o_orderkey_o_to_o_or': 1, 'IXN_orders_o_orderkey_o_custkey_o_to_o_or': 1, 'IXN_orders_o_custkey_o_to_o_or': 1, 'IXN_supplier_s_acctbal_s_na_s_ph_s_ad': 1, 'IXN_supplier_s_acctbal_s_co_s_na_s_ph': 1, 'IXN_supplier_s_acctbal_s_co_s_na_s_ad': 1, 'IXN_part_p_partkey_p_mf': 1, 'IXN_part_p_partkey_p_size_p_mf': 1, 'IXN_customer_c_address_c_ac_c_na_c_ph': 1, 'IXN_customer_c_name_c_ac_c_ad_c_ph': 1, 'IXN_customer_c_phone_c_na_c_ac_c_ad': 1, 'IXN_orders_o_custkey_o_or': 1, 'IXN_partsupp_ps_partkey_ps_suppkey_ps_s': 1, 'IXN_partsupp_ps_partkey_ps_s': 1, 'IXN_partsupp_ps_suppkey_ps_partkey_ps_s': 1, 'IXN_orders_o_custkey_o_sh': 1, 'IXN_orders_o_custkey_o_orderdate_o_sh': 1, 'IXN_lineitem_l_shipdate_l_re_l_qu_l_ta_l_li': 1, 'IXN_supplier_s_nationkey_s_ac_s_na': 1, 'IXN_supplier_s_nationkey_s_ph_s_ac_s_na': 1, 'IXN_supplier_s_nationkey_s_co_s_ac_s_na': 1, 'IX_part_p_brand_p_size_p_partkey': 1, 'IX_part_p_container_p_size_p_partkey': 1, 'IX_part_p_brand_p_size': 1, 'IXN_customer_c_nationkey_c_custkey_c_ac_c_co': 1, 'IXN_customer_c_nationkey_c_ac_c_co': 1, 'IX_partsupp_ps_availqty_ps_suppkey_ps_partkey': 1, 'IXN_customer_c_nationkey_c_custkey_c_phone_c_ac_c_co': 1, 'IXN_lineitem_l_orderkey_l_ex_l_di': 1, 'IXN_supplier_s_suppkey_s_na': 1, 'IXN_supplier_s_suppkey_s_na_s_ad': 1, 'IXN_supplier_s_suppkey_s_nationkey_s_na_s_ad': 1, 'IXN_customer_c_comment_c_custkey_c_na_c_ac_c_ph': 1, 'IXN_customer_c_comment_c_na_c_ac_c_ph': 1, 'IXN_customer_c_comment_c_custkey_c_nationkey_c_na_c_ac_c_ph': 1, 'IXN_supplier_s_name_s_nationkey_s_ac_s_ad': 1, 'IXN_supplier_s_name_s_co_s_ac_s_ad': 1, 'IXN_customer_c_custkey_c_ac_c_na': 1, 'IXN_part_p_size_p_mf': 1, 'IXN_part_p_size_p_partkey_p_mf': 1, 'IXN_part_p_size_p_type_p_mf': 1, 'IXN_supplier_s_nationkey_s_ac_s_ad': 1, 'IXN_customer_c_nationkey_c_custkey_c_ph': 1, 'IXN_customer_c_nationkey_c_custkey_c_acctbal_c_ph': 1, 'IX_part_p_type_p_partkey': 1, 'IX_part_p_type_p_size_p_partkey': 1, 'IX_part_p_type_p_size': 1, 'IXN_customer_c_nationkey_c_custkey_c_ac_c_ad_c_ph': 1, 'IXN_supplier_s_nationkey_s_ad_s_na': 1, 'IXN_supplier_s_nationkey_s_na_s_ad': 1, 'IX_part_p_container_p_size': 1, 'IXN_customer_c_custkey_c_ac_c_co_c_ph': 1, 'IXN_customer_c_custkey_c_nationkey_c_ac_c_co_c_ph': 1, 'IX_supplier_s_name_s_nationkey_s_suppkey': 1, 'IX_supplier_s_name_s_nationkey': 1, 'IX_supplier_s_name_s_nationkey_s_acctbal': 1, 'IXN_customer_c_nationkey_c_custkey_c_na_c_ph': 1, 'IXN_customer_c_nationkey_c_custkey_c_ac_c_na_c_ph': 1, 'IXN_customer_c_nationkey_c_custkey_c_acctbal_c_na_c_ph': 1, 'IXN_supplier_s_suppkey_s_nationkey_s_ad': 1, 'IXN_supplier_s_suppkey_s_nationkey_s_name_s_ad': 1, 'IXN_supplier_s_suppkey_s_name_s_nationkey_s_ad': 1, 'IXN_customer_c_acctbal_c_custkey_c_ph': 1, 'IXN_customer_c_address_c_custkey_c_ph': 1, 'IXN_customer_c_address_c_custkey_c_nationkey_c_ph': 1, 'IXN_supplier_s_name_s_ac_s_ph_s_ad': 1, 'IXN_supplier_s_name_s_nationkey_s_ac_s_ph_s_ad': 1, 'IXN_supplier_s_nationkey_s_ph_s_ac_s_ad_s_na': 1, 'IX_customer_c_mktsegment': 1, 'IXN_customer_c_comment_c_custkey_c_ph': 1, 'IXN_supplier_s_nationkey_s_co_s_ac_s_ad_s_na': 1}\n",
      "\n",
      "Round completed. Time taken for recommendation: 0:00:00.746282 seconds.\n",
      "\n",
      "Running MAB agent for round 14...\n",
      "Identifying new query templates and updating statistics...\n",
      "Number of new query templates added: 0\n",
      "Number of queries of interest: 21\n",
      "Generating candidate indices...\n",
      "Generating candidate indices for 21 queries...\n"
     ]
    },
    {
     "name": "stderr",
     "output_type": "stream",
     "text": [
      "Processing queries: 100%|██████████| 21/21 [00:00<00:00, 195.14it/s]"
     ]
    },
    {
     "name": "stdout",
     "output_type": "stream",
     "text": [
      "Generated 24142 candidate indices\n",
      "Generating context vectors...\n"
     ]
    },
    {
     "name": "stderr",
     "output_type": "stream",
     "text": [
      "\n"
     ]
    },
    {
     "name": "stdout",
     "output_type": "stream",
     "text": [
      "Selecting best configuration...\n",
      "Theta - parameter vector: \n",
      "[ 0.00000000e+00 -1.34247120e+02 -1.85538210e-01 -3.25236632e-02\n",
      "  1.33468090e-01  3.78477402e-01  2.66000000e-01  1.53692831e-02\n",
      "  2.31045258e-01  2.06190630e-01  0.00000000e+00  0.00000000e+00\n",
      "  1.83758570e+00  5.52506022e+00 -4.96836083e+00  0.00000000e+00\n",
      "  0.00000000e+00 -1.88960864e-02  0.00000000e+00  0.00000000e+00\n",
      "  0.00000000e+00  0.00000000e+00  0.00000000e+00  0.00000000e+00\n",
      "  1.78710448e-01  0.00000000e+00  0.00000000e+00  0.00000000e+00\n",
      "  0.00000000e+00  1.78710448e-01 -3.67349254e-01  0.00000000e+00\n",
      "  0.00000000e+00  0.00000000e+00  0.00000000e+00  1.08200808e-01\n",
      "  0.00000000e+00  1.04000808e-01  0.00000000e+00  4.13876329e-01\n",
      "  1.10779847e-01  0.00000000e+00  1.54450907e-01  1.67310196e-01\n",
      " -2.19577411e-02  0.00000000e+00  1.60400000e-01  5.72833269e-02\n",
      "  6.28592720e-02  0.00000000e+00  6.78114963e-02  2.22722002e-02\n",
      "  0.00000000e+00 -4.85973466e-01 -2.85485657e-01  0.00000000e+00\n",
      "  0.00000000e+00  0.00000000e+00  0.00000000e+00  0.00000000e+00\n",
      "  0.00000000e+00  0.00000000e+00  0.00000000e+00 -5.11990182e-02\n",
      " -1.97243055e-01 -1.45289232e-01  0.00000000e+00  0.00000000e+00\n",
      " -6.21385386e-02  0.00000000e+00  2.25388148e-01  0.00000000e+00\n",
      "  0.00000000e+00  0.00000000e+00 -1.41403585e+00 -9.29057130e-01\n",
      "  3.18124235e+00  0.00000000e+00 -5.04670965e-01 -1.41403585e+00\n",
      "  0.00000000e+00  0.00000000e+00  0.00000000e+00  0.00000000e+00\n",
      "  0.00000000e+00 -1.88638806e-01  0.00000000e+00  0.00000000e+00\n",
      " -3.67349254e-01  0.00000000e+00 -1.88638806e-01  0.00000000e+00\n",
      "  0.00000000e+00  0.00000000e+00  0.00000000e+00 -3.67349254e-01\n",
      "  0.00000000e+00  0.00000000e+00  0.00000000e+00  1.88996737e-02\n",
      "  0.00000000e+00 -7.35371566e-03  0.00000000e+00  0.00000000e+00\n",
      "  1.99510910e-01  1.49977621e-01  1.26150951e-01 -1.17668979e-01\n",
      "  1.25100169e-01  0.00000000e+00 -8.21287696e-02  0.00000000e+00\n",
      "  1.05073433e+00  0.00000000e+00 -9.44653015e-01  0.00000000e+00\n",
      "  8.81794551e-01  0.00000000e+00  0.00000000e+00  0.00000000e+00\n",
      "  0.00000000e+00  0.00000000e+00  0.00000000e+00  0.00000000e+00]\n",
      "Table filtered indexes: defaultdict(<class 'list'>, {'lineitem': ['IX_lineitem_l_commitdate_l_orderkey', 'IXN_lineitem_l_returnflag_l_li', 'IXN_lineitem_l_linestatus_l_re'], 'part': ['IX_part_p_name_p_partkey', 'IX_part_p_name', 'IXN_part_p_partkey_p_ty'], 'partsupp': ['IXN_partsupp_ps_suppkey_ps_s_ps_a', 'IXN_partsupp_ps_suppkey_ps_a', 'IXN_partsupp_ps_suppkey_ps_s'], 'supplier': ['IXN_supplier_s_nationkey_s_ac_s_ad_s_na', 'IXN_supplier_s_nationkey_s_ph_s_ac_s_ad_s_na', 'IXN_supplier_s_nationkey_s_co_s_ac_s_ad_s_na'], 'orders': ['IXN_orders_o_orderdate_o_or', 'IXN_orders_o_orderdate_o_orderkey_o_or', 'IX_orders_o_orderdate_o_custkey'], 'customer': ['IXN_customer_c_custkey_c_nationkey_c_ph', 'IXN_customer_c_custkey_c_nationkey_c_acctbal_c_ph', 'IXN_customer_c_custkey_c_nationkey_c_ac_c_ph']})\n",
      "Number of candidate indexes after filtration: 18\n",
      "Best configuration contains 18 indices: \n",
      "['IXN_supplier_s_nationkey_s_ac_s_ad_s_na', 'IXN_supplier_s_nationkey_s_ph_s_ac_s_ad_s_na', 'IXN_supplier_s_nationkey_s_co_s_ac_s_ad_s_na', 'IXN_customer_c_custkey_c_nationkey_c_ph', 'IXN_customer_c_custkey_c_nationkey_c_acctbal_c_ph', 'IXN_customer_c_custkey_c_nationkey_c_ac_c_ph', 'IXN_part_p_partkey_p_ty', 'IX_part_p_name_p_partkey', 'IX_part_p_name', 'IXN_partsupp_ps_suppkey_ps_a', 'IX_orders_o_orderdate_o_custkey', 'IXN_partsupp_ps_suppkey_ps_s', 'IXN_partsupp_ps_suppkey_ps_s_ps_a', 'IXN_orders_o_orderdate_o_or', 'IXN_orders_o_orderdate_o_orderkey_o_or', 'IXN_lineitem_l_returnflag_l_li', 'IXN_lineitem_l_linestatus_l_re', 'IX_lineitem_l_commitdate_l_orderkey']\n",
      "Materializing configuration and executing queries...\n",
      "Num indexes added:1, Num indexes removed: 1 Index creation costs: {'IXN_supplier_s_nationkey_s_ph_s_ac_s_ad_s_na': 0.116}\n",
      "Observed Rewards for indexes: {'IXN_supplier_s_nationkey_s_ac_s_ad_s_na': [0.93, 0], 'IXN_partsupp_ps_suppkey_ps_s': [0.5754999999999999, 0], 'IXN_partsupp_ps_suppkey_ps_s_ps_a': [2.209, 0], 'IXN_orders_o_orderdate_o_orderkey_o_or': [14.785, 0], 'IXN_customer_c_custkey_c_nationkey_c_ph': [0.7230000000000001, 0], 'IX_orders_o_orderdate_o_custkey': [7.087, 0], 'IXN_part_p_partkey_p_ty': [0.42999999999999994, 0], 'IX_part_p_name_p_partkey': [0.96, 0], 'IXN_orders_o_orderdate_o_or': [1.205, 0], 'IXN_supplier_s_nationkey_s_co_s_ac_s_ad_s_na': [0.177, 0], 'IXN_partsupp_ps_suppkey_ps_a': [0.7069999999999999, 0], 'IXN_customer_c_custkey_c_nationkey_c_acctbal_c_ph': [1.047, 0], 'IXN_supplier_s_nationkey_s_ph_s_ac_s_ad_s_na': [0, -0.116]}\n",
      "\n",
      "Total execution cost: 103.493, Total index creation cost: 0.116\n",
      "\n",
      "Updating MAB parameters...\n",
      "Index selection counts: {'IXN_partsupp_ps_suppkey_ps_s_ps_a': 12, 'IXN_partsupp_ps_suppkey_ps_a': 11, 'IXN_lineitem_l_returnflag_l_li': 10, 'IXN_lineitem_l_linestatus_l_re': 10, 'IX_lineitem_l_commitdate_l_orderkey': 9, 'IX_part_p_name_p_partkey': 8, 'IXN_partsupp_ps_suppkey_ps_s': 8, 'IXN_part_p_partkey_p_ty': 7, 'IX_orders_o_custkey_o_orderdate': 6, 'IX_part_p_name': 6, 'IX_orders_o_orderdate_o_custkey': 6, 'IXN_orders_o_orderdate_o_or': 6, 'IX_orders_o_custkey': 5, 'IX_orders_o_custkey_o_shippriority': 5, 'IXN_orders_o_orderdate_o_orderkey_o_or': 5, 'IXN_supplier_s_nationkey_s_ac_s_ad_s_na': 4, 'IXN_customer_c_custkey_c_nationkey_c_ph': 4, 'IXN_customer_c_custkey_c_nationkey_c_acctbal_c_ph': 4, 'IXN_partsupp_ps_suppkey_ps_p_ps_s_ps_a': 3, 'IXN_part_p_size_p_pa': 3, 'IXN_customer_c_custkey_c_nationkey_c_ac_c_ph': 3, 'IXN_supplier_s_name_s_ac_s_ad': 2, 'IXN_customer_c_custkey_c_ac_c_ph': 2, 'IX_supplier_s_comment': 2, 'IXN_supplier_s_nationkey_s_name_s_ac_s_ad': 2, 'IXN_supplier_s_nationkey_s_ph_s_ac_s_ad_s_na': 2, 'IXN_supplier_s_nationkey_s_co_s_ac_s_ad_s_na': 2, 'IXN_supplier_s_name_s_nationkey_s_co_s_ac_s_ph_s_ad': 1, 'IXN_supplier_s_nationkey_s_name_s_co_s_ac_s_ph_s_ad': 1, 'IXN_supplier_s_nationkey_s_acctbal_s_co_s_na_s_ph_s_ad': 1, 'IXN_part_p_type_p_mf_p_pa': 1, 'IXN_part_p_type_p_size_p_mf_p_pa': 1, 'IXN_part_p_size_p_type_p_mf_p_pa': 1, 'IXN_customer_c_acctbal_c_custkey_c_nationkey_c_na_c_co_c_ad_c_ph': 1, 'IXN_customer_c_acctbal_c_nationkey_c_custkey_c_na_c_co_c_ad_c_ph': 1, 'IXN_customer_c_custkey_c_acctbal_c_nationkey_c_na_c_co_c_ad_c_ph': 1, 'IXN_partsupp_ps_suppkey_ps_p_ps_s': 1, 'IXN_orders_o_custkey_o_orderkey_o_to_o_or': 1, 'IXN_orders_o_orderkey_o_custkey_o_to_o_or': 1, 'IXN_orders_o_custkey_o_to_o_or': 1, 'IXN_supplier_s_acctbal_s_na_s_ph_s_ad': 1, 'IXN_supplier_s_acctbal_s_co_s_na_s_ph': 1, 'IXN_supplier_s_acctbal_s_co_s_na_s_ad': 1, 'IXN_part_p_partkey_p_mf': 1, 'IXN_part_p_partkey_p_size_p_mf': 1, 'IXN_customer_c_address_c_ac_c_na_c_ph': 1, 'IXN_customer_c_name_c_ac_c_ad_c_ph': 1, 'IXN_customer_c_phone_c_na_c_ac_c_ad': 1, 'IXN_orders_o_custkey_o_or': 1, 'IXN_partsupp_ps_partkey_ps_suppkey_ps_s': 1, 'IXN_partsupp_ps_partkey_ps_s': 1, 'IXN_partsupp_ps_suppkey_ps_partkey_ps_s': 1, 'IXN_orders_o_custkey_o_sh': 1, 'IXN_orders_o_custkey_o_orderdate_o_sh': 1, 'IXN_lineitem_l_shipdate_l_re_l_qu_l_ta_l_li': 1, 'IXN_supplier_s_nationkey_s_ac_s_na': 1, 'IXN_supplier_s_nationkey_s_ph_s_ac_s_na': 1, 'IXN_supplier_s_nationkey_s_co_s_ac_s_na': 1, 'IX_part_p_brand_p_size_p_partkey': 1, 'IX_part_p_container_p_size_p_partkey': 1, 'IX_part_p_brand_p_size': 1, 'IXN_customer_c_nationkey_c_custkey_c_ac_c_co': 1, 'IXN_customer_c_nationkey_c_ac_c_co': 1, 'IX_partsupp_ps_availqty_ps_suppkey_ps_partkey': 1, 'IXN_customer_c_nationkey_c_custkey_c_phone_c_ac_c_co': 1, 'IXN_lineitem_l_orderkey_l_ex_l_di': 1, 'IXN_supplier_s_suppkey_s_na': 1, 'IXN_supplier_s_suppkey_s_na_s_ad': 1, 'IXN_supplier_s_suppkey_s_nationkey_s_na_s_ad': 1, 'IXN_customer_c_comment_c_custkey_c_na_c_ac_c_ph': 1, 'IXN_customer_c_comment_c_na_c_ac_c_ph': 1, 'IXN_customer_c_comment_c_custkey_c_nationkey_c_na_c_ac_c_ph': 1, 'IXN_supplier_s_name_s_nationkey_s_ac_s_ad': 1, 'IXN_supplier_s_name_s_co_s_ac_s_ad': 1, 'IXN_customer_c_custkey_c_ac_c_na': 1, 'IXN_part_p_size_p_mf': 1, 'IXN_part_p_size_p_partkey_p_mf': 1, 'IXN_part_p_size_p_type_p_mf': 1, 'IXN_supplier_s_nationkey_s_ac_s_ad': 1, 'IXN_customer_c_nationkey_c_custkey_c_ph': 1, 'IXN_customer_c_nationkey_c_custkey_c_acctbal_c_ph': 1, 'IX_part_p_type_p_partkey': 1, 'IX_part_p_type_p_size_p_partkey': 1, 'IX_part_p_type_p_size': 1, 'IXN_customer_c_nationkey_c_custkey_c_ac_c_ad_c_ph': 1, 'IXN_supplier_s_nationkey_s_ad_s_na': 1, 'IXN_supplier_s_nationkey_s_na_s_ad': 1, 'IX_part_p_container_p_size': 1, 'IXN_customer_c_custkey_c_ac_c_co_c_ph': 1, 'IXN_customer_c_custkey_c_nationkey_c_ac_c_co_c_ph': 1, 'IX_supplier_s_name_s_nationkey_s_suppkey': 1, 'IX_supplier_s_name_s_nationkey': 1, 'IX_supplier_s_name_s_nationkey_s_acctbal': 1, 'IXN_customer_c_nationkey_c_custkey_c_na_c_ph': 1, 'IXN_customer_c_nationkey_c_custkey_c_ac_c_na_c_ph': 1, 'IXN_customer_c_nationkey_c_custkey_c_acctbal_c_na_c_ph': 1, 'IXN_supplier_s_suppkey_s_nationkey_s_ad': 1, 'IXN_supplier_s_suppkey_s_nationkey_s_name_s_ad': 1, 'IXN_supplier_s_suppkey_s_name_s_nationkey_s_ad': 1, 'IXN_customer_c_acctbal_c_custkey_c_ph': 1, 'IXN_customer_c_address_c_custkey_c_ph': 1, 'IXN_customer_c_address_c_custkey_c_nationkey_c_ph': 1, 'IXN_supplier_s_name_s_ac_s_ph_s_ad': 1, 'IXN_supplier_s_name_s_nationkey_s_ac_s_ph_s_ad': 1, 'IX_customer_c_mktsegment': 1, 'IXN_customer_c_comment_c_custkey_c_ph': 1}\n",
      "\n",
      "Round completed. Time taken for recommendation: 0:00:00.734044 seconds.\n",
      "\n",
      "Running MAB agent for round 15...\n",
      "Identifying new query templates and updating statistics...\n",
      "Number of new query templates added: 0\n",
      "Number of queries of interest: 21\n",
      "Generating candidate indices...\n",
      "Generating candidate indices for 21 queries...\n"
     ]
    },
    {
     "name": "stderr",
     "output_type": "stream",
     "text": [
      "Processing queries: 100%|██████████| 21/21 [00:00<00:00, 133.32it/s]\n"
     ]
    },
    {
     "name": "stdout",
     "output_type": "stream",
     "text": [
      "Generated 24142 candidate indices\n",
      "Generating context vectors...\n",
      "Selecting best configuration...\n",
      "Theta - parameter vector: \n",
      "[ 0.00000000e+00 -1.34247138e+02 -2.05566873e-01 -1.57065005e-02\n",
      "  1.68934369e-01  4.01765070e-01  2.66000000e-01  6.13496824e-02\n",
      "  2.52955548e-01  2.39157129e-01  0.00000000e+00  0.00000000e+00\n",
      "  1.85003107e+00  5.71098368e+00 -4.36789154e+00  0.00000000e+00\n",
      "  0.00000000e+00 -3.02100596e-02  0.00000000e+00  0.00000000e+00\n",
      "  0.00000000e+00  0.00000000e+00  0.00000000e+00  0.00000000e+00\n",
      "  1.79299191e-01  0.00000000e+00  0.00000000e+00  0.00000000e+00\n",
      "  0.00000000e+00  1.79299191e-01 -3.67563342e-01  0.00000000e+00\n",
      "  0.00000000e+00  0.00000000e+00  0.00000000e+00  1.07839573e-01\n",
      "  0.00000000e+00  1.03639573e-01  0.00000000e+00  4.20925281e-01\n",
      "  1.34479277e-01  0.00000000e+00  1.57781369e-01  1.69487395e-01\n",
      "  1.53524678e-02  0.00000000e+00  1.60400000e-01  6.92128794e-02\n",
      "  6.77144339e-02  0.00000000e+00  6.53288556e-02  2.47785540e-02\n",
      "  0.00000000e+00 -5.15725434e-01 -3.20105766e-01  0.00000000e+00\n",
      "  0.00000000e+00  0.00000000e+00  0.00000000e+00  0.00000000e+00\n",
      "  0.00000000e+00  0.00000000e+00  0.00000000e+00 -1.15096277e-01\n",
      " -1.97435103e-01 -1.22447722e-01  0.00000000e+00  0.00000000e+00\n",
      " -4.73341100e-02  0.00000000e+00  2.20506856e-01  0.00000000e+00\n",
      "  0.00000000e+00  0.00000000e+00 -1.51967454e+00 -9.37354044e-01\n",
      "  2.89679350e+00  0.00000000e+00 -5.22064200e-01 -1.51967454e+00\n",
      "  0.00000000e+00  0.00000000e+00  0.00000000e+00  0.00000000e+00\n",
      "  0.00000000e+00 -1.88264151e-01  0.00000000e+00  0.00000000e+00\n",
      " -3.67563342e-01  0.00000000e+00 -1.88264151e-01  0.00000000e+00\n",
      "  0.00000000e+00  0.00000000e+00  0.00000000e+00 -3.67563342e-01\n",
      "  0.00000000e+00  0.00000000e+00  0.00000000e+00  1.04483929e-02\n",
      "  0.00000000e+00 -6.25728024e-03  0.00000000e+00  0.00000000e+00\n",
      "  1.93352675e-01  1.56956174e-01  1.27515127e-01 -1.34602854e-01\n",
      "  1.27225179e-01  0.00000000e+00 -1.32349434e-01  0.00000000e+00\n",
      "  1.08470128e+00  0.00000000e+00 -9.71069827e-01  0.00000000e+00\n",
      "  9.20658359e-01  0.00000000e+00  0.00000000e+00  0.00000000e+00\n",
      "  0.00000000e+00  0.00000000e+00  0.00000000e+00  0.00000000e+00]\n",
      "Table filtered indexes: defaultdict(<class 'list'>, {'lineitem': ['IX_lineitem_l_commitdate_l_orderkey', 'IXN_lineitem_l_returnflag_l_li', 'IXN_lineitem_l_linestatus_l_re'], 'part': ['IX_part_p_name_p_partkey', 'IX_part_p_name', 'IXN_part_p_partkey_p_ty'], 'partsupp': ['IXN_partsupp_ps_suppkey_ps_s_ps_a', 'IXN_partsupp_ps_suppkey_ps_a', 'IXN_partsupp_ps_suppkey_ps_s'], 'supplier': ['IXN_supplier_s_nationkey_s_ac_s_ad_s_na', 'IXN_supplier_s_acctbal_s_nationkey_s_na_s_ad', 'IXN_supplier_s_acctbal_s_na_s_ad'], 'orders': ['IXN_orders_o_orderdate_o_or', 'IXN_orders_o_orderdate_o_orderkey_o_or', 'IX_orders_o_orderdate_o_custkey'], 'customer': ['IXN_customer_c_custkey_c_nationkey_c_ph', 'IXN_customer_c_custkey_c_nationkey_c_acctbal_c_ph', 'IXN_customer_c_custkey_c_nationkey_c_na_c_ph']})\n",
      "Number of candidate indexes after filtration: 18\n",
      "Best configuration contains 18 indices: \n",
      "['IXN_supplier_s_acctbal_s_na_s_ad', 'IXN_supplier_s_nationkey_s_ac_s_ad_s_na', 'IXN_supplier_s_acctbal_s_nationkey_s_na_s_ad', 'IXN_customer_c_custkey_c_nationkey_c_ph', 'IXN_customer_c_custkey_c_nationkey_c_acctbal_c_ph', 'IXN_part_p_partkey_p_ty', 'IXN_customer_c_custkey_c_nationkey_c_na_c_ph', 'IX_part_p_name_p_partkey', 'IX_part_p_name', 'IXN_partsupp_ps_suppkey_ps_a', 'IX_orders_o_orderdate_o_custkey', 'IXN_partsupp_ps_suppkey_ps_s', 'IXN_partsupp_ps_suppkey_ps_s_ps_a', 'IXN_orders_o_orderdate_o_or', 'IXN_orders_o_orderdate_o_orderkey_o_or', 'IXN_lineitem_l_returnflag_l_li', 'IXN_lineitem_l_linestatus_l_re', 'IX_lineitem_l_commitdate_l_orderkey']\n",
      "Materializing configuration and executing queries...\n",
      "Num indexes added:3, Num indexes removed: 3 Index creation costs: {'IXN_supplier_s_acctbal_s_nationkey_s_na_s_ad': 0.185, 'IXN_customer_c_custkey_c_nationkey_c_na_c_ph': 2.52, 'IXN_supplier_s_acctbal_s_na_s_ad': 0.471}\n",
      "Observed Rewards for indexes: {'IXN_supplier_s_acctbal_s_nationkey_s_na_s_ad': [0.6779999999999999, -0.185], 'IXN_supplier_s_nationkey_s_ac_s_ad_s_na': [0.3225, 0], 'IXN_partsupp_ps_suppkey_ps_s': [0.24550000000000002, 0], 'IXN_partsupp_ps_suppkey_ps_s_ps_a': [1.951, 0], 'IXN_orders_o_orderdate_o_orderkey_o_or': [14.779, 0], 'IXN_customer_c_custkey_c_nationkey_c_ph': [0.5859999999999999, 0], 'IX_orders_o_orderdate_o_custkey': [4.7250000000000005, 0], 'IXN_part_p_partkey_p_ty': [0.18999999999999997, 0], 'IX_part_p_name_p_partkey': [0.501, 0], 'IXN_orders_o_orderdate_o_or': [0.42900000000000005, 0], 'IXN_partsupp_ps_suppkey_ps_a': [0.48799999999999993, 0], 'IXN_customer_c_custkey_c_nationkey_c_na_c_ph': [1.947, -2.52], 'IXN_customer_c_custkey_c_nationkey_c_acctbal_c_ph': [0.21399999999999975, 0], 'IXN_supplier_s_acctbal_s_na_s_ad': [0, -0.471]}\n",
      "\n",
      "Total execution cost: 169.19199999999998, Total index creation cost: 3.176\n",
      "\n",
      "Updating MAB parameters...\n",
      "Index selection counts: {'IXN_partsupp_ps_suppkey_ps_s_ps_a': 13, 'IXN_partsupp_ps_suppkey_ps_a': 12, 'IXN_lineitem_l_returnflag_l_li': 11, 'IXN_lineitem_l_linestatus_l_re': 11, 'IX_lineitem_l_commitdate_l_orderkey': 10, 'IX_part_p_name_p_partkey': 9, 'IXN_partsupp_ps_suppkey_ps_s': 9, 'IXN_part_p_partkey_p_ty': 8, 'IX_part_p_name': 7, 'IX_orders_o_orderdate_o_custkey': 7, 'IXN_orders_o_orderdate_o_or': 7, 'IX_orders_o_custkey_o_orderdate': 6, 'IXN_orders_o_orderdate_o_orderkey_o_or': 6, 'IX_orders_o_custkey': 5, 'IX_orders_o_custkey_o_shippriority': 5, 'IXN_supplier_s_nationkey_s_ac_s_ad_s_na': 5, 'IXN_customer_c_custkey_c_nationkey_c_ph': 5, 'IXN_customer_c_custkey_c_nationkey_c_acctbal_c_ph': 5, 'IXN_partsupp_ps_suppkey_ps_p_ps_s_ps_a': 3, 'IXN_part_p_size_p_pa': 3, 'IXN_customer_c_custkey_c_nationkey_c_ac_c_ph': 3, 'IXN_supplier_s_name_s_ac_s_ad': 2, 'IXN_customer_c_custkey_c_ac_c_ph': 2, 'IX_supplier_s_comment': 2, 'IXN_supplier_s_nationkey_s_name_s_ac_s_ad': 2, 'IXN_supplier_s_nationkey_s_ph_s_ac_s_ad_s_na': 2, 'IXN_supplier_s_nationkey_s_co_s_ac_s_ad_s_na': 2, 'IXN_supplier_s_name_s_nationkey_s_co_s_ac_s_ph_s_ad': 1, 'IXN_supplier_s_nationkey_s_name_s_co_s_ac_s_ph_s_ad': 1, 'IXN_supplier_s_nationkey_s_acctbal_s_co_s_na_s_ph_s_ad': 1, 'IXN_part_p_type_p_mf_p_pa': 1, 'IXN_part_p_type_p_size_p_mf_p_pa': 1, 'IXN_part_p_size_p_type_p_mf_p_pa': 1, 'IXN_customer_c_acctbal_c_custkey_c_nationkey_c_na_c_co_c_ad_c_ph': 1, 'IXN_customer_c_acctbal_c_nationkey_c_custkey_c_na_c_co_c_ad_c_ph': 1, 'IXN_customer_c_custkey_c_acctbal_c_nationkey_c_na_c_co_c_ad_c_ph': 1, 'IXN_partsupp_ps_suppkey_ps_p_ps_s': 1, 'IXN_orders_o_custkey_o_orderkey_o_to_o_or': 1, 'IXN_orders_o_orderkey_o_custkey_o_to_o_or': 1, 'IXN_orders_o_custkey_o_to_o_or': 1, 'IXN_supplier_s_acctbal_s_na_s_ph_s_ad': 1, 'IXN_supplier_s_acctbal_s_co_s_na_s_ph': 1, 'IXN_supplier_s_acctbal_s_co_s_na_s_ad': 1, 'IXN_part_p_partkey_p_mf': 1, 'IXN_part_p_partkey_p_size_p_mf': 1, 'IXN_customer_c_address_c_ac_c_na_c_ph': 1, 'IXN_customer_c_name_c_ac_c_ad_c_ph': 1, 'IXN_customer_c_phone_c_na_c_ac_c_ad': 1, 'IXN_orders_o_custkey_o_or': 1, 'IXN_partsupp_ps_partkey_ps_suppkey_ps_s': 1, 'IXN_partsupp_ps_partkey_ps_s': 1, 'IXN_partsupp_ps_suppkey_ps_partkey_ps_s': 1, 'IXN_orders_o_custkey_o_sh': 1, 'IXN_orders_o_custkey_o_orderdate_o_sh': 1, 'IXN_lineitem_l_shipdate_l_re_l_qu_l_ta_l_li': 1, 'IXN_supplier_s_nationkey_s_ac_s_na': 1, 'IXN_supplier_s_nationkey_s_ph_s_ac_s_na': 1, 'IXN_supplier_s_nationkey_s_co_s_ac_s_na': 1, 'IX_part_p_brand_p_size_p_partkey': 1, 'IX_part_p_container_p_size_p_partkey': 1, 'IX_part_p_brand_p_size': 1, 'IXN_customer_c_nationkey_c_custkey_c_ac_c_co': 1, 'IXN_customer_c_nationkey_c_ac_c_co': 1, 'IX_partsupp_ps_availqty_ps_suppkey_ps_partkey': 1, 'IXN_customer_c_nationkey_c_custkey_c_phone_c_ac_c_co': 1, 'IXN_lineitem_l_orderkey_l_ex_l_di': 1, 'IXN_supplier_s_suppkey_s_na': 1, 'IXN_supplier_s_suppkey_s_na_s_ad': 1, 'IXN_supplier_s_suppkey_s_nationkey_s_na_s_ad': 1, 'IXN_customer_c_comment_c_custkey_c_na_c_ac_c_ph': 1, 'IXN_customer_c_comment_c_na_c_ac_c_ph': 1, 'IXN_customer_c_comment_c_custkey_c_nationkey_c_na_c_ac_c_ph': 1, 'IXN_supplier_s_name_s_nationkey_s_ac_s_ad': 1, 'IXN_supplier_s_name_s_co_s_ac_s_ad': 1, 'IXN_customer_c_custkey_c_ac_c_na': 1, 'IXN_part_p_size_p_mf': 1, 'IXN_part_p_size_p_partkey_p_mf': 1, 'IXN_part_p_size_p_type_p_mf': 1, 'IXN_supplier_s_nationkey_s_ac_s_ad': 1, 'IXN_customer_c_nationkey_c_custkey_c_ph': 1, 'IXN_customer_c_nationkey_c_custkey_c_acctbal_c_ph': 1, 'IX_part_p_type_p_partkey': 1, 'IX_part_p_type_p_size_p_partkey': 1, 'IX_part_p_type_p_size': 1, 'IXN_customer_c_nationkey_c_custkey_c_ac_c_ad_c_ph': 1, 'IXN_supplier_s_nationkey_s_ad_s_na': 1, 'IXN_supplier_s_nationkey_s_na_s_ad': 1, 'IX_part_p_container_p_size': 1, 'IXN_customer_c_custkey_c_ac_c_co_c_ph': 1, 'IXN_customer_c_custkey_c_nationkey_c_ac_c_co_c_ph': 1, 'IX_supplier_s_name_s_nationkey_s_suppkey': 1, 'IX_supplier_s_name_s_nationkey': 1, 'IX_supplier_s_name_s_nationkey_s_acctbal': 1, 'IXN_customer_c_nationkey_c_custkey_c_na_c_ph': 1, 'IXN_customer_c_nationkey_c_custkey_c_ac_c_na_c_ph': 1, 'IXN_customer_c_nationkey_c_custkey_c_acctbal_c_na_c_ph': 1, 'IXN_supplier_s_suppkey_s_nationkey_s_ad': 1, 'IXN_supplier_s_suppkey_s_nationkey_s_name_s_ad': 1, 'IXN_supplier_s_suppkey_s_name_s_nationkey_s_ad': 1, 'IXN_customer_c_acctbal_c_custkey_c_ph': 1, 'IXN_customer_c_address_c_custkey_c_ph': 1, 'IXN_customer_c_address_c_custkey_c_nationkey_c_ph': 1, 'IXN_supplier_s_name_s_ac_s_ph_s_ad': 1, 'IXN_supplier_s_name_s_nationkey_s_ac_s_ph_s_ad': 1, 'IX_customer_c_mktsegment': 1, 'IXN_customer_c_comment_c_custkey_c_ph': 1, 'IXN_supplier_s_acctbal_s_na_s_ad': 1, 'IXN_supplier_s_acctbal_s_nationkey_s_na_s_ad': 1, 'IXN_customer_c_custkey_c_nationkey_c_na_c_ph': 1}\n",
      "\n",
      "Round completed. Time taken for recommendation: 0:00:00.750907 seconds.\n",
      "\n",
      "Running MAB agent for round 16...\n",
      "Identifying new query templates and updating statistics...\n",
      "Number of new query templates added: 0\n",
      "Number of queries of interest: 21\n",
      "Generating candidate indices...\n",
      "Generating candidate indices for 21 queries...\n"
     ]
    },
    {
     "name": "stderr",
     "output_type": "stream",
     "text": [
      "Processing queries: 100%|██████████| 21/21 [00:00<00:00, 129.13it/s]\n"
     ]
    },
    {
     "name": "stdout",
     "output_type": "stream",
     "text": [
      "Generated 24142 candidate indices\n",
      "Generating context vectors...\n",
      "Selecting best configuration...\n",
      "Theta - parameter vector: \n",
      "[ 0.00000000e+00 -1.34265321e+02 -2.60654664e-01 -3.95427001e-02\n",
      "  9.68432650e-02  4.59652977e-01  2.66000000e-01  1.57235535e-01\n",
      "  2.41491378e-01  2.03174326e-01  0.00000000e+00  0.00000000e+00\n",
      "  1.87388729e+00  5.55257186e+00 -3.73057136e+00  0.00000000e+00\n",
      "  0.00000000e+00 -5.18975386e-02  0.00000000e+00  0.00000000e+00\n",
      "  0.00000000e+00  0.00000000e+00  0.00000000e+00  0.00000000e+00\n",
      "  1.79783784e-01  0.00000000e+00  0.00000000e+00  0.00000000e+00\n",
      "  0.00000000e+00  1.79783784e-01 -3.67739558e-01  0.00000000e+00\n",
      "  0.00000000e+00  0.00000000e+00  0.00000000e+00  1.07722164e-01\n",
      "  0.00000000e+00  1.03522164e-01  0.00000000e+00  3.99032491e-01\n",
      "  1.42182116e-01  0.00000000e+00  1.58863843e-01  1.70195032e-01\n",
      "  4.79524024e-02  0.00000000e+00  1.60400000e-01  7.57447281e-02\n",
      "  7.66637921e-02  0.00000000e+00  6.91230701e-02  2.87783859e-02\n",
      "  0.00000000e+00 -5.36558624e-01 -3.78019926e-01  0.00000000e+00\n",
      "  0.00000000e+00  0.00000000e+00  0.00000000e+00  0.00000000e+00\n",
      "  0.00000000e+00  0.00000000e+00  0.00000000e+00 -1.68521543e-01\n",
      " -2.69585223e-01 -1.22948206e-01  0.00000000e+00  0.00000000e+00\n",
      "  1.32815091e-01  0.00000000e+00  2.02253465e-01  0.00000000e+00\n",
      "  0.00000000e+00  0.00000000e+00 -1.63523613e+00 -9.53258195e-01\n",
      "  2.90465990e+00  0.00000000e+00 -5.34812709e-01 -1.63523613e+00\n",
      "  0.00000000e+00  0.00000000e+00  0.00000000e+00  0.00000000e+00\n",
      "  0.00000000e+00 -1.87955774e-01  0.00000000e+00  0.00000000e+00\n",
      " -3.67739558e-01  0.00000000e+00 -1.87955774e-01  0.00000000e+00\n",
      "  0.00000000e+00  0.00000000e+00  0.00000000e+00 -3.67739558e-01\n",
      "  0.00000000e+00  0.00000000e+00  0.00000000e+00  7.70153954e-03\n",
      "  0.00000000e+00 -5.90091446e-03  0.00000000e+00  0.00000000e+00\n",
      "  1.69887420e-01  1.47389601e-01  1.27117376e-01 -1.35900072e-01\n",
      "  1.18478148e-01  0.00000000e+00 -1.33056690e-01  0.00000000e+00\n",
      "  1.12434778e+00  0.00000000e+00 -9.73066711e-01  0.00000000e+00\n",
      "  9.51084138e-01  0.00000000e+00  0.00000000e+00  0.00000000e+00\n",
      "  0.00000000e+00  0.00000000e+00  0.00000000e+00  0.00000000e+00]\n",
      "Table filtered indexes: defaultdict(<class 'list'>, {'lineitem': ['IX_lineitem_l_commitdate_l_orderkey', 'IXN_lineitem_l_returnflag_l_li', 'IXN_lineitem_l_linestatus_l_re'], 'part': ['IX_part_p_name_p_partkey', 'IX_part_p_name', 'IXN_part_p_partkey_p_ty'], 'partsupp': ['IXN_partsupp_ps_suppkey_ps_s_ps_a', 'IXN_partsupp_ps_suppkey_ps_a', 'IXN_partsupp_ps_suppkey_ps_s'], 'supplier': ['IXN_supplier_s_nationkey_s_ac_s_ad_s_na', 'IXN_supplier_s_nationkey_s_ac_s_na', 'IXN_supplier_s_nationkey_s_name_s_ac_s_ad'], 'orders': ['IXN_orders_o_orderdate_o_or', 'IXN_orders_o_orderdate_o_orderkey_o_or', 'IX_orders_o_orderdate_o_custkey'], 'customer': ['IXN_customer_c_custkey_c_nationkey_c_na_c_ph', 'IXN_customer_c_custkey_c_na_c_ph', 'IXN_customer_c_custkey_c_nationkey_c_acctbal_c_na_c_ph']})\n",
      "Number of candidate indexes after filtration: 18\n",
      "Best configuration contains 18 indices: \n",
      "['IXN_supplier_s_nationkey_s_ac_s_na', 'IXN_supplier_s_nationkey_s_ac_s_ad_s_na', 'IXN_supplier_s_nationkey_s_name_s_ac_s_ad', 'IXN_customer_c_custkey_c_na_c_ph', 'IXN_part_p_partkey_p_ty', 'IXN_customer_c_custkey_c_nationkey_c_na_c_ph', 'IXN_customer_c_custkey_c_nationkey_c_acctbal_c_na_c_ph', 'IX_part_p_name_p_partkey', 'IX_part_p_name', 'IXN_partsupp_ps_suppkey_ps_a', 'IX_orders_o_orderdate_o_custkey', 'IXN_partsupp_ps_suppkey_ps_s', 'IXN_partsupp_ps_suppkey_ps_s_ps_a', 'IXN_orders_o_orderdate_o_or', 'IXN_orders_o_orderdate_o_orderkey_o_or', 'IXN_lineitem_l_returnflag_l_li', 'IXN_lineitem_l_linestatus_l_re', 'IX_lineitem_l_commitdate_l_orderkey']\n",
      "Materializing configuration and executing queries...\n",
      "Num indexes added:4, Num indexes removed: 4 Index creation costs: {'IXN_customer_c_custkey_c_na_c_ph': 1.709, 'IXN_supplier_s_nationkey_s_name_s_ac_s_ad': 0.462, 'IXN_supplier_s_nationkey_s_ac_s_na': 0.203, 'IXN_customer_c_custkey_c_nationkey_c_acctbal_c_na_c_ph': 2.672}\n",
      "Observed Rewards for indexes: {'IXN_supplier_s_nationkey_s_ac_s_na': [0.8130000000000001, -0.203], 'IXN_partsupp_ps_suppkey_ps_s': [0.20750000000000002, 0], 'IXN_partsupp_ps_suppkey_ps_s_ps_a': [1.9575000000000002, 0], 'IXN_orders_o_orderdate_o_orderkey_o_or': [14.789, 0], 'IXN_customer_c_custkey_c_nationkey_c_na_c_ph': [0.7025, 0], 'IX_orders_o_orderdate_o_custkey': [4.541, 0], 'IXN_part_p_partkey_p_ty': [0.07699999999999996, 0], 'IX_part_p_name_p_partkey': [0.509, 0], 'IXN_orders_o_orderdate_o_or': [0.44999999999999996, 0], 'IXN_customer_c_custkey_c_na_c_ph': [1.1005, -1.709], 'IXN_partsupp_ps_suppkey_ps_a': [0.528, 0], 'IXN_supplier_s_nationkey_s_ac_s_ad_s_na': [0.074, 0], 'IXN_supplier_s_nationkey_s_name_s_ac_s_ad': [0.0715, -0.462], 'IXN_customer_c_custkey_c_nationkey_c_acctbal_c_na_c_ph': [0.4039999999999999, -2.672]}\n",
      "\n",
      "Total execution cost: 183.72299999999998, Total index creation cost: 5.046\n",
      "\n",
      "Updating MAB parameters...\n",
      "Index selection counts: {'IXN_partsupp_ps_suppkey_ps_s_ps_a': 14, 'IXN_partsupp_ps_suppkey_ps_a': 13, 'IXN_lineitem_l_returnflag_l_li': 12, 'IXN_lineitem_l_linestatus_l_re': 12, 'IX_lineitem_l_commitdate_l_orderkey': 11, 'IX_part_p_name_p_partkey': 10, 'IXN_partsupp_ps_suppkey_ps_s': 10, 'IXN_part_p_partkey_p_ty': 9, 'IX_part_p_name': 8, 'IX_orders_o_orderdate_o_custkey': 8, 'IXN_orders_o_orderdate_o_or': 8, 'IXN_orders_o_orderdate_o_orderkey_o_or': 7, 'IX_orders_o_custkey_o_orderdate': 6, 'IXN_supplier_s_nationkey_s_ac_s_ad_s_na': 6, 'IX_orders_o_custkey': 5, 'IX_orders_o_custkey_o_shippriority': 5, 'IXN_customer_c_custkey_c_nationkey_c_ph': 5, 'IXN_customer_c_custkey_c_nationkey_c_acctbal_c_ph': 5, 'IXN_partsupp_ps_suppkey_ps_p_ps_s_ps_a': 3, 'IXN_part_p_size_p_pa': 3, 'IXN_customer_c_custkey_c_nationkey_c_ac_c_ph': 3, 'IXN_supplier_s_nationkey_s_name_s_ac_s_ad': 3, 'IXN_supplier_s_nationkey_s_ac_s_na': 2, 'IXN_supplier_s_name_s_ac_s_ad': 2, 'IXN_customer_c_custkey_c_ac_c_ph': 2, 'IX_supplier_s_comment': 2, 'IXN_supplier_s_nationkey_s_ph_s_ac_s_ad_s_na': 2, 'IXN_supplier_s_nationkey_s_co_s_ac_s_ad_s_na': 2, 'IXN_customer_c_custkey_c_nationkey_c_na_c_ph': 2, 'IXN_supplier_s_name_s_nationkey_s_co_s_ac_s_ph_s_ad': 1, 'IXN_supplier_s_nationkey_s_name_s_co_s_ac_s_ph_s_ad': 1, 'IXN_supplier_s_nationkey_s_acctbal_s_co_s_na_s_ph_s_ad': 1, 'IXN_part_p_type_p_mf_p_pa': 1, 'IXN_part_p_type_p_size_p_mf_p_pa': 1, 'IXN_part_p_size_p_type_p_mf_p_pa': 1, 'IXN_customer_c_acctbal_c_custkey_c_nationkey_c_na_c_co_c_ad_c_ph': 1, 'IXN_customer_c_acctbal_c_nationkey_c_custkey_c_na_c_co_c_ad_c_ph': 1, 'IXN_customer_c_custkey_c_acctbal_c_nationkey_c_na_c_co_c_ad_c_ph': 1, 'IXN_partsupp_ps_suppkey_ps_p_ps_s': 1, 'IXN_orders_o_custkey_o_orderkey_o_to_o_or': 1, 'IXN_orders_o_orderkey_o_custkey_o_to_o_or': 1, 'IXN_orders_o_custkey_o_to_o_or': 1, 'IXN_supplier_s_acctbal_s_na_s_ph_s_ad': 1, 'IXN_supplier_s_acctbal_s_co_s_na_s_ph': 1, 'IXN_supplier_s_acctbal_s_co_s_na_s_ad': 1, 'IXN_part_p_partkey_p_mf': 1, 'IXN_part_p_partkey_p_size_p_mf': 1, 'IXN_customer_c_address_c_ac_c_na_c_ph': 1, 'IXN_customer_c_name_c_ac_c_ad_c_ph': 1, 'IXN_customer_c_phone_c_na_c_ac_c_ad': 1, 'IXN_orders_o_custkey_o_or': 1, 'IXN_partsupp_ps_partkey_ps_suppkey_ps_s': 1, 'IXN_partsupp_ps_partkey_ps_s': 1, 'IXN_partsupp_ps_suppkey_ps_partkey_ps_s': 1, 'IXN_orders_o_custkey_o_sh': 1, 'IXN_orders_o_custkey_o_orderdate_o_sh': 1, 'IXN_lineitem_l_shipdate_l_re_l_qu_l_ta_l_li': 1, 'IXN_supplier_s_nationkey_s_ph_s_ac_s_na': 1, 'IXN_supplier_s_nationkey_s_co_s_ac_s_na': 1, 'IX_part_p_brand_p_size_p_partkey': 1, 'IX_part_p_container_p_size_p_partkey': 1, 'IX_part_p_brand_p_size': 1, 'IXN_customer_c_nationkey_c_custkey_c_ac_c_co': 1, 'IXN_customer_c_nationkey_c_ac_c_co': 1, 'IX_partsupp_ps_availqty_ps_suppkey_ps_partkey': 1, 'IXN_customer_c_nationkey_c_custkey_c_phone_c_ac_c_co': 1, 'IXN_lineitem_l_orderkey_l_ex_l_di': 1, 'IXN_supplier_s_suppkey_s_na': 1, 'IXN_supplier_s_suppkey_s_na_s_ad': 1, 'IXN_supplier_s_suppkey_s_nationkey_s_na_s_ad': 1, 'IXN_customer_c_comment_c_custkey_c_na_c_ac_c_ph': 1, 'IXN_customer_c_comment_c_na_c_ac_c_ph': 1, 'IXN_customer_c_comment_c_custkey_c_nationkey_c_na_c_ac_c_ph': 1, 'IXN_supplier_s_name_s_nationkey_s_ac_s_ad': 1, 'IXN_supplier_s_name_s_co_s_ac_s_ad': 1, 'IXN_customer_c_custkey_c_ac_c_na': 1, 'IXN_part_p_size_p_mf': 1, 'IXN_part_p_size_p_partkey_p_mf': 1, 'IXN_part_p_size_p_type_p_mf': 1, 'IXN_supplier_s_nationkey_s_ac_s_ad': 1, 'IXN_customer_c_nationkey_c_custkey_c_ph': 1, 'IXN_customer_c_nationkey_c_custkey_c_acctbal_c_ph': 1, 'IX_part_p_type_p_partkey': 1, 'IX_part_p_type_p_size_p_partkey': 1, 'IX_part_p_type_p_size': 1, 'IXN_customer_c_nationkey_c_custkey_c_ac_c_ad_c_ph': 1, 'IXN_supplier_s_nationkey_s_ad_s_na': 1, 'IXN_supplier_s_nationkey_s_na_s_ad': 1, 'IX_part_p_container_p_size': 1, 'IXN_customer_c_custkey_c_ac_c_co_c_ph': 1, 'IXN_customer_c_custkey_c_nationkey_c_ac_c_co_c_ph': 1, 'IX_supplier_s_name_s_nationkey_s_suppkey': 1, 'IX_supplier_s_name_s_nationkey': 1, 'IX_supplier_s_name_s_nationkey_s_acctbal': 1, 'IXN_customer_c_nationkey_c_custkey_c_na_c_ph': 1, 'IXN_customer_c_nationkey_c_custkey_c_ac_c_na_c_ph': 1, 'IXN_customer_c_nationkey_c_custkey_c_acctbal_c_na_c_ph': 1, 'IXN_supplier_s_suppkey_s_nationkey_s_ad': 1, 'IXN_supplier_s_suppkey_s_nationkey_s_name_s_ad': 1, 'IXN_supplier_s_suppkey_s_name_s_nationkey_s_ad': 1, 'IXN_customer_c_acctbal_c_custkey_c_ph': 1, 'IXN_customer_c_address_c_custkey_c_ph': 1, 'IXN_customer_c_address_c_custkey_c_nationkey_c_ph': 1, 'IXN_supplier_s_name_s_ac_s_ph_s_ad': 1, 'IXN_supplier_s_name_s_nationkey_s_ac_s_ph_s_ad': 1, 'IX_customer_c_mktsegment': 1, 'IXN_customer_c_comment_c_custkey_c_ph': 1, 'IXN_supplier_s_acctbal_s_na_s_ad': 1, 'IXN_supplier_s_acctbal_s_nationkey_s_na_s_ad': 1, 'IXN_customer_c_custkey_c_na_c_ph': 1, 'IXN_customer_c_custkey_c_nationkey_c_acctbal_c_na_c_ph': 1}\n",
      "\n",
      "Round completed. Time taken for recommendation: 0:00:00.845936 seconds.\n",
      "\n",
      "Running MAB agent for round 17...\n",
      "Identifying new query templates and updating statistics...\n",
      "Number of new query templates added: 0\n",
      "Number of queries of interest: 21\n",
      "Generating candidate indices...\n",
      "Generating candidate indices for 21 queries...\n"
     ]
    },
    {
     "name": "stderr",
     "output_type": "stream",
     "text": [
      "Processing queries: 100%|██████████| 21/21 [00:00<00:00, 199.95it/s]"
     ]
    },
    {
     "name": "stdout",
     "output_type": "stream",
     "text": [
      "Generated 24142 candidate indices\n",
      "Generating context vectors...\n"
     ]
    },
    {
     "name": "stderr",
     "output_type": "stream",
     "text": [
      "\n"
     ]
    },
    {
     "name": "stdout",
     "output_type": "stream",
     "text": [
      "Selecting best configuration...\n",
      "Theta - parameter vector: \n",
      "[ 0.00000000e+00 -1.34295625e+02 -2.61337571e-01 -4.19997211e-02\n",
      "  9.78148201e-02  4.45265563e-01  2.66000000e-01  1.42735716e-01\n",
      "  2.33724006e-01  2.05213310e-01  0.00000000e+00  0.00000000e+00\n",
      "  1.89704251e+00  5.41023332e+00 -3.09767025e+00  0.00000000e+00\n",
      "  0.00000000e+00 -7.29477386e-02  0.00000000e+00  0.00000000e+00\n",
      "  0.00000000e+00  0.00000000e+00  0.00000000e+00  0.00000000e+00\n",
      "  1.80189616e-01  0.00000000e+00  0.00000000e+00  0.00000000e+00\n",
      "  0.00000000e+00  1.80189616e-01 -3.67887133e-01  0.00000000e+00\n",
      "  0.00000000e+00  0.00000000e+00  0.00000000e+00  1.07633195e-01\n",
      "  0.00000000e+00  1.03433195e-01  0.00000000e+00  3.82323294e-01\n",
      "  1.48019061e-01  0.00000000e+00  1.59684105e-01  1.70731256e-01\n",
      "  6.17480597e-02  0.00000000e+00  1.60400000e-01  1.01459112e-01\n",
      "  7.53613944e-02  0.00000000e+00  1.02295269e-01  3.22974642e-02\n",
      "  0.00000000e+00 -5.53116433e-01 -4.29150319e-01  0.00000000e+00\n",
      "  0.00000000e+00  0.00000000e+00  0.00000000e+00  0.00000000e+00\n",
      "  0.00000000e+00  0.00000000e+00  0.00000000e+00 -1.59840649e-01\n",
      " -2.63444847e-01 -1.19264239e-01  0.00000000e+00  0.00000000e+00\n",
      "  1.14903553e-01  0.00000000e+00  2.09181923e-01  0.00000000e+00\n",
      "  0.00000000e+00  0.00000000e+00 -1.74982338e+00 -9.68695008e-01\n",
      "  2.92979802e+00  0.00000000e+00 -5.47643343e-01 -1.74982338e+00\n",
      "  0.00000000e+00  0.00000000e+00  0.00000000e+00  0.00000000e+00\n",
      "  0.00000000e+00 -1.87697517e-01  0.00000000e+00  0.00000000e+00\n",
      " -3.67887133e-01  0.00000000e+00 -1.87697517e-01  0.00000000e+00\n",
      "  0.00000000e+00  0.00000000e+00  0.00000000e+00 -3.67887133e-01\n",
      "  0.00000000e+00  0.00000000e+00  0.00000000e+00  5.62006923e-03\n",
      "  0.00000000e+00 -5.63087281e-03  0.00000000e+00  0.00000000e+00\n",
      "  1.39613521e-01  1.65930389e-01  6.48771501e-02 -1.31929100e-01\n",
      "  1.49444095e-01  0.00000000e+00 -1.26909668e-01  0.00000000e+00\n",
      "  1.16244403e+00  0.00000000e+00 -9.74942492e-01  0.00000000e+00\n",
      "  9.75752603e-01  0.00000000e+00  0.00000000e+00  0.00000000e+00\n",
      "  0.00000000e+00  0.00000000e+00  0.00000000e+00  0.00000000e+00]\n",
      "Table filtered indexes: defaultdict(<class 'list'>, {'lineitem': ['IX_lineitem_l_commitdate_l_orderkey', 'IXN_lineitem_l_returnflag_l_li', 'IXN_lineitem_l_linestatus_l_re'], 'part': ['IX_part_p_name_p_partkey', 'IX_part_p_name', 'IX_part_p_partkey_p_size'], 'partsupp': ['IXN_partsupp_ps_suppkey_ps_s_ps_a', 'IXN_partsupp_ps_suppkey_ps_a', 'IXN_partsupp_ps_suppkey_ps_p_ps_s_ps_a'], 'supplier': ['IXN_supplier_s_nationkey_s_ac_s_ad_s_na', 'IXN_supplier_s_nationkey_s_ac_s_na', 'IXN_supplier_s_suppkey_s_na_s_ad'], 'orders': ['IXN_orders_o_orderdate_o_or', 'IXN_orders_o_orderdate_o_orderkey_o_or', 'IX_orders_o_orderdate_o_custkey'], 'customer': ['IXN_customer_c_custkey_c_nationkey_c_na_c_ph', 'IXN_customer_c_custkey_c_nationkey_c_acctbal_c_na_c_ph', 'IXN_customer_c_custkey_c_na_c_ph']})\n",
      "Number of candidate indexes after filtration: 18\n",
      "Best configuration contains 18 indices: \n",
      "['IXN_supplier_s_nationkey_s_ac_s_na', 'IXN_supplier_s_suppkey_s_na_s_ad', 'IXN_supplier_s_nationkey_s_ac_s_ad_s_na', 'IX_part_p_partkey_p_size', 'IXN_customer_c_custkey_c_na_c_ph', 'IXN_customer_c_custkey_c_nationkey_c_na_c_ph', 'IXN_customer_c_custkey_c_nationkey_c_acctbal_c_na_c_ph', 'IX_part_p_name_p_partkey', 'IX_part_p_name', 'IXN_partsupp_ps_suppkey_ps_a', 'IX_orders_o_orderdate_o_custkey', 'IXN_partsupp_ps_suppkey_ps_s_ps_a', 'IXN_orders_o_orderdate_o_or', 'IXN_orders_o_orderdate_o_orderkey_o_or', 'IXN_partsupp_ps_suppkey_ps_p_ps_s_ps_a', 'IXN_lineitem_l_returnflag_l_li', 'IXN_lineitem_l_linestatus_l_re', 'IX_lineitem_l_commitdate_l_orderkey']\n",
      "Materializing configuration and executing queries...\n",
      "Num indexes added:3, Num indexes removed: 3 Index creation costs: {'IXN_partsupp_ps_suppkey_ps_p_ps_s_ps_a': 6.969, 'IX_part_p_partkey_p_size': 1.566, 'IXN_supplier_s_suppkey_s_na_s_ad': 0.142}\n",
      "Observed Rewards for indexes: {'IXN_supplier_s_nationkey_s_ac_s_na': [0.8520000000000001, 0], 'IXN_partsupp_ps_suppkey_ps_p_ps_s_ps_a': [0.10699999999999998, -6.969], 'IXN_partsupp_ps_suppkey_ps_s_ps_a': [1.9060000000000001, 0], 'IXN_orders_o_orderdate_o_orderkey_o_or': [14.787, 0], 'IXN_customer_c_custkey_c_nationkey_c_na_c_ph': [1.101, 0], 'IX_orders_o_orderdate_o_custkey': [4.632, 0], 'IX_part_p_name_p_partkey': [0.547, 0], 'IXN_orders_o_orderdate_o_or': [0.595, 0], 'IXN_customer_c_custkey_c_na_c_ph': [1.1125, 0], 'IXN_partsupp_ps_suppkey_ps_a': [0.49999999999999994, 0], 'IXN_supplier_s_nationkey_s_ac_s_ad_s_na': [0.147, 0], 'IXN_customer_c_custkey_c_nationkey_c_acctbal_c_na_c_ph': [0.09499999999999997, 0], 'IX_part_p_partkey_p_size': [0, -1.566], 'IXN_supplier_s_suppkey_s_na_s_ad': [0, -0.142]}\n",
      "\n",
      "Total execution cost: 168.85, Total index creation cost: 8.677\n",
      "\n",
      "Updating MAB parameters...\n",
      "Index selection counts: {'IXN_partsupp_ps_suppkey_ps_s_ps_a': 15, 'IXN_partsupp_ps_suppkey_ps_a': 14, 'IXN_lineitem_l_returnflag_l_li': 13, 'IXN_lineitem_l_linestatus_l_re': 13, 'IX_lineitem_l_commitdate_l_orderkey': 12, 'IX_part_p_name_p_partkey': 11, 'IXN_partsupp_ps_suppkey_ps_s': 10, 'IXN_part_p_partkey_p_ty': 9, 'IX_part_p_name': 9, 'IX_orders_o_orderdate_o_custkey': 9, 'IXN_orders_o_orderdate_o_or': 9, 'IXN_orders_o_orderdate_o_orderkey_o_or': 8, 'IXN_supplier_s_nationkey_s_ac_s_ad_s_na': 7, 'IX_orders_o_custkey_o_orderdate': 6, 'IX_orders_o_custkey': 5, 'IX_orders_o_custkey_o_shippriority': 5, 'IXN_customer_c_custkey_c_nationkey_c_ph': 5, 'IXN_customer_c_custkey_c_nationkey_c_acctbal_c_ph': 5, 'IXN_partsupp_ps_suppkey_ps_p_ps_s_ps_a': 4, 'IXN_supplier_s_nationkey_s_ac_s_na': 3, 'IXN_part_p_size_p_pa': 3, 'IXN_customer_c_custkey_c_nationkey_c_ac_c_ph': 3, 'IXN_supplier_s_nationkey_s_name_s_ac_s_ad': 3, 'IXN_customer_c_custkey_c_nationkey_c_na_c_ph': 3, 'IXN_supplier_s_suppkey_s_na_s_ad': 2, 'IXN_supplier_s_name_s_ac_s_ad': 2, 'IXN_customer_c_custkey_c_ac_c_ph': 2, 'IX_supplier_s_comment': 2, 'IXN_supplier_s_nationkey_s_ph_s_ac_s_ad_s_na': 2, 'IXN_supplier_s_nationkey_s_co_s_ac_s_ad_s_na': 2, 'IXN_customer_c_custkey_c_na_c_ph': 2, 'IXN_customer_c_custkey_c_nationkey_c_acctbal_c_na_c_ph': 2, 'IXN_supplier_s_name_s_nationkey_s_co_s_ac_s_ph_s_ad': 1, 'IXN_supplier_s_nationkey_s_name_s_co_s_ac_s_ph_s_ad': 1, 'IXN_supplier_s_nationkey_s_acctbal_s_co_s_na_s_ph_s_ad': 1, 'IXN_part_p_type_p_mf_p_pa': 1, 'IXN_part_p_type_p_size_p_mf_p_pa': 1, 'IXN_part_p_size_p_type_p_mf_p_pa': 1, 'IXN_customer_c_acctbal_c_custkey_c_nationkey_c_na_c_co_c_ad_c_ph': 1, 'IXN_customer_c_acctbal_c_nationkey_c_custkey_c_na_c_co_c_ad_c_ph': 1, 'IXN_customer_c_custkey_c_acctbal_c_nationkey_c_na_c_co_c_ad_c_ph': 1, 'IXN_partsupp_ps_suppkey_ps_p_ps_s': 1, 'IXN_orders_o_custkey_o_orderkey_o_to_o_or': 1, 'IXN_orders_o_orderkey_o_custkey_o_to_o_or': 1, 'IXN_orders_o_custkey_o_to_o_or': 1, 'IXN_supplier_s_acctbal_s_na_s_ph_s_ad': 1, 'IXN_supplier_s_acctbal_s_co_s_na_s_ph': 1, 'IXN_supplier_s_acctbal_s_co_s_na_s_ad': 1, 'IXN_part_p_partkey_p_mf': 1, 'IXN_part_p_partkey_p_size_p_mf': 1, 'IXN_customer_c_address_c_ac_c_na_c_ph': 1, 'IXN_customer_c_name_c_ac_c_ad_c_ph': 1, 'IXN_customer_c_phone_c_na_c_ac_c_ad': 1, 'IXN_orders_o_custkey_o_or': 1, 'IXN_partsupp_ps_partkey_ps_suppkey_ps_s': 1, 'IXN_partsupp_ps_partkey_ps_s': 1, 'IXN_partsupp_ps_suppkey_ps_partkey_ps_s': 1, 'IXN_orders_o_custkey_o_sh': 1, 'IXN_orders_o_custkey_o_orderdate_o_sh': 1, 'IXN_lineitem_l_shipdate_l_re_l_qu_l_ta_l_li': 1, 'IXN_supplier_s_nationkey_s_ph_s_ac_s_na': 1, 'IXN_supplier_s_nationkey_s_co_s_ac_s_na': 1, 'IX_part_p_brand_p_size_p_partkey': 1, 'IX_part_p_container_p_size_p_partkey': 1, 'IX_part_p_brand_p_size': 1, 'IXN_customer_c_nationkey_c_custkey_c_ac_c_co': 1, 'IXN_customer_c_nationkey_c_ac_c_co': 1, 'IX_partsupp_ps_availqty_ps_suppkey_ps_partkey': 1, 'IXN_customer_c_nationkey_c_custkey_c_phone_c_ac_c_co': 1, 'IXN_lineitem_l_orderkey_l_ex_l_di': 1, 'IXN_supplier_s_suppkey_s_na': 1, 'IXN_supplier_s_suppkey_s_nationkey_s_na_s_ad': 1, 'IXN_customer_c_comment_c_custkey_c_na_c_ac_c_ph': 1, 'IXN_customer_c_comment_c_na_c_ac_c_ph': 1, 'IXN_customer_c_comment_c_custkey_c_nationkey_c_na_c_ac_c_ph': 1, 'IXN_supplier_s_name_s_nationkey_s_ac_s_ad': 1, 'IXN_supplier_s_name_s_co_s_ac_s_ad': 1, 'IXN_customer_c_custkey_c_ac_c_na': 1, 'IXN_part_p_size_p_mf': 1, 'IXN_part_p_size_p_partkey_p_mf': 1, 'IXN_part_p_size_p_type_p_mf': 1, 'IXN_supplier_s_nationkey_s_ac_s_ad': 1, 'IXN_customer_c_nationkey_c_custkey_c_ph': 1, 'IXN_customer_c_nationkey_c_custkey_c_acctbal_c_ph': 1, 'IX_part_p_type_p_partkey': 1, 'IX_part_p_type_p_size_p_partkey': 1, 'IX_part_p_type_p_size': 1, 'IXN_customer_c_nationkey_c_custkey_c_ac_c_ad_c_ph': 1, 'IXN_supplier_s_nationkey_s_ad_s_na': 1, 'IXN_supplier_s_nationkey_s_na_s_ad': 1, 'IX_part_p_container_p_size': 1, 'IXN_customer_c_custkey_c_ac_c_co_c_ph': 1, 'IXN_customer_c_custkey_c_nationkey_c_ac_c_co_c_ph': 1, 'IX_supplier_s_name_s_nationkey_s_suppkey': 1, 'IX_supplier_s_name_s_nationkey': 1, 'IX_supplier_s_name_s_nationkey_s_acctbal': 1, 'IXN_customer_c_nationkey_c_custkey_c_na_c_ph': 1, 'IXN_customer_c_nationkey_c_custkey_c_ac_c_na_c_ph': 1, 'IXN_customer_c_nationkey_c_custkey_c_acctbal_c_na_c_ph': 1, 'IXN_supplier_s_suppkey_s_nationkey_s_ad': 1, 'IXN_supplier_s_suppkey_s_nationkey_s_name_s_ad': 1, 'IXN_supplier_s_suppkey_s_name_s_nationkey_s_ad': 1, 'IXN_customer_c_acctbal_c_custkey_c_ph': 1, 'IXN_customer_c_address_c_custkey_c_ph': 1, 'IXN_customer_c_address_c_custkey_c_nationkey_c_ph': 1, 'IXN_supplier_s_name_s_ac_s_ph_s_ad': 1, 'IXN_supplier_s_name_s_nationkey_s_ac_s_ph_s_ad': 1, 'IX_customer_c_mktsegment': 1, 'IXN_customer_c_comment_c_custkey_c_ph': 1, 'IXN_supplier_s_acctbal_s_na_s_ad': 1, 'IXN_supplier_s_acctbal_s_nationkey_s_na_s_ad': 1, 'IX_part_p_partkey_p_size': 1}\n",
      "\n",
      "Round completed. Time taken for recommendation: 0:00:00.742084 seconds.\n",
      "\n",
      "Running MAB agent for round 18...\n",
      "Identifying new query templates and updating statistics...\n",
      "Number of new query templates added: 0\n",
      "Number of queries of interest: 21\n",
      "Generating candidate indices...\n",
      "Generating candidate indices for 21 queries...\n"
     ]
    },
    {
     "name": "stderr",
     "output_type": "stream",
     "text": [
      "Processing queries: 100%|██████████| 21/21 [00:00<00:00, 136.26it/s]"
     ]
    },
    {
     "name": "stdout",
     "output_type": "stream",
     "text": [
      "Generated 24142 candidate indices\n",
      "Generating context vectors...\n"
     ]
    },
    {
     "name": "stderr",
     "output_type": "stream",
     "text": [
      "\n"
     ]
    },
    {
     "name": "stdout",
     "output_type": "stream",
     "text": [
      "Selecting best configuration...\n",
      "Theta - parameter vector: \n",
      "[ 0.00000000e+00 -1.34438286e+02 -2.68734261e-01 -4.69845704e-02\n",
      "  9.25915755e-02  4.38102944e-01  2.66000000e-01  1.37267249e-01\n",
      "  2.24967345e-01  2.05237632e-01  0.00000000e+00  0.00000000e+00\n",
      "  1.91864325e+00  5.30644833e+00 -2.47600821e+00  0.00000000e+00\n",
      "  0.00000000e+00 -9.25847769e-02  0.00000000e+00  0.00000000e+00\n",
      "  0.00000000e+00  0.00000000e+00  0.00000000e+00  0.00000000e+00\n",
      "  1.80534447e-01  0.00000000e+00  0.00000000e+00  0.00000000e+00\n",
      "  0.00000000e+00  1.80534447e-01 -3.68012526e-01  0.00000000e+00\n",
      "  0.00000000e+00  0.00000000e+00  0.00000000e+00  1.08511755e-01\n",
      "  0.00000000e+00  1.04311755e-01  0.00000000e+00  3.73194589e-01\n",
      "  1.06828112e-01  0.00000000e+00  1.50761662e-01  1.66118577e-01\n",
      "  1.24249724e-01  0.00000000e+00  1.60400000e-01  1.23139215e-01\n",
      "  1.23379837e-01  0.00000000e+00  1.16300395e-01  3.28470968e-02\n",
      "  0.00000000e+00 -5.66499974e-01 -4.36056454e-01  0.00000000e+00\n",
      "  0.00000000e+00  0.00000000e+00  0.00000000e+00  0.00000000e+00\n",
      "  0.00000000e+00  0.00000000e+00  0.00000000e+00 -1.57597481e-01\n",
      " -2.63717363e-01 -1.15523564e-01  0.00000000e+00  0.00000000e+00\n",
      "  1.12931305e-01  0.00000000e+00  2.15413970e-01  0.00000000e+00\n",
      "  0.00000000e+00  0.00000000e+00 -1.86200643e+00 -9.83095503e-01\n",
      "  2.94572486e+00  0.00000000e+00 -5.60772537e-01 -1.86200643e+00\n",
      "  0.00000000e+00  0.00000000e+00  0.00000000e+00  0.00000000e+00\n",
      "  0.00000000e+00 -1.87478079e-01  0.00000000e+00  0.00000000e+00\n",
      " -3.68012526e-01  0.00000000e+00 -1.87478079e-01  0.00000000e+00\n",
      "  0.00000000e+00  0.00000000e+00  0.00000000e+00 -3.68012526e-01\n",
      "  0.00000000e+00  0.00000000e+00  0.00000000e+00  2.14685997e-02\n",
      "  0.00000000e+00 -5.82732667e-03  0.00000000e+00  0.00000000e+00\n",
      "  1.78636526e-01  1.90028795e-01  4.98096092e-03 -1.34490593e-01\n",
      "  1.29490452e-01  0.00000000e+00 -1.27643879e-01  0.00000000e+00\n",
      "  1.15392944e+00  0.00000000e+00 -1.09163205e+00  0.00000000e+00\n",
      "  9.92408156e-01  0.00000000e+00  0.00000000e+00  0.00000000e+00\n",
      "  0.00000000e+00  0.00000000e+00  0.00000000e+00  0.00000000e+00]\n",
      "Table filtered indexes: defaultdict(<class 'list'>, {'lineitem': ['IX_lineitem_l_commitdate_l_orderkey', 'IXN_lineitem_l_returnflag_l_li', 'IXN_lineitem_l_linestatus_l_re'], 'part': ['IX_part_p_name_p_partkey', 'IX_part_p_name', 'IX_part_p_partkey_p_size'], 'partsupp': ['IXN_partsupp_ps_suppkey_ps_s_ps_a', 'IXN_partsupp_ps_suppkey_ps_a', 'IXN_partsupp_ps_suppkey_ps_p_ps_s_ps_a'], 'supplier': ['IXN_supplier_s_nationkey_s_ac_s_na', 'IXN_supplier_s_nationkey_s_ac_s_ad_s_na', 'IXN_supplier_s_nationkey_s_name_s_ac'], 'orders': ['IXN_orders_o_orderdate_o_or', 'IXN_orders_o_orderdate_o_orderkey_o_or', 'IX_orders_o_orderdate_o_custkey'], 'customer': ['IXN_customer_c_custkey_c_nationkey_c_na_c_ph', 'IXN_customer_c_custkey_c_nationkey_c_acctbal_c_na_c_ph', 'IXN_customer_c_custkey_c_na_c_ph']})\n",
      "Number of candidate indexes after filtration: 18\n",
      "Best configuration contains 18 indices: \n",
      "['IXN_supplier_s_nationkey_s_ac_s_na', 'IXN_supplier_s_nationkey_s_name_s_ac', 'IXN_supplier_s_nationkey_s_ac_s_ad_s_na', 'IX_part_p_partkey_p_size', 'IXN_customer_c_custkey_c_na_c_ph', 'IXN_customer_c_custkey_c_nationkey_c_na_c_ph', 'IXN_customer_c_custkey_c_nationkey_c_acctbal_c_na_c_ph', 'IX_part_p_name_p_partkey', 'IX_part_p_name', 'IXN_partsupp_ps_suppkey_ps_a', 'IX_orders_o_orderdate_o_custkey', 'IXN_partsupp_ps_suppkey_ps_s_ps_a', 'IXN_orders_o_orderdate_o_or', 'IXN_orders_o_orderdate_o_orderkey_o_or', 'IXN_partsupp_ps_suppkey_ps_p_ps_s_ps_a', 'IXN_lineitem_l_returnflag_l_li', 'IXN_lineitem_l_linestatus_l_re', 'IX_lineitem_l_commitdate_l_orderkey']\n",
      "Materializing configuration and executing queries...\n",
      "Num indexes added:1, Num indexes removed: 1 Index creation costs: {'IXN_supplier_s_nationkey_s_name_s_ac': 0.083}\n",
      "Observed Rewards for indexes: {'IXN_partsupp_ps_suppkey_ps_p_ps_s_ps_a': [0.45699999999999996, 0], 'IXN_orders_o_orderdate_o_orderkey_o_or': [14.793000000000001, 0], 'IXN_supplier_s_nationkey_s_ac_s_na': [0.6910000000000001, 0], 'IXN_customer_c_custkey_c_nationkey_c_na_c_ph': [0.37550000000000006, 0], 'IX_orders_o_orderdate_o_custkey': [5.299, 0], 'IX_part_p_name_p_partkey': [0.487, 0], 'IXN_partsupp_ps_suppkey_ps_s_ps_a': [1.9070000000000003, 0], 'IXN_orders_o_orderdate_o_or': [0.526, 0], 'IXN_customer_c_custkey_c_na_c_ph': [1.0895000000000001, 0], 'IXN_partsupp_ps_suppkey_ps_a': [0.342, 0], 'IXN_supplier_s_nationkey_s_ac_s_ad_s_na': [0.146, 0], 'IXN_customer_c_custkey_c_nationkey_c_acctbal_c_na_c_ph': [0.3149999999999997, 0], 'IXN_supplier_s_nationkey_s_name_s_ac': [0, -0.083]}\n",
      "\n",
      "Total execution cost: 166.47899999999998, Total index creation cost: 0.083\n",
      "\n",
      "Updating MAB parameters...\n",
      "Index selection counts: {'IXN_partsupp_ps_suppkey_ps_s_ps_a': 16, 'IXN_partsupp_ps_suppkey_ps_a': 15, 'IXN_lineitem_l_returnflag_l_li': 14, 'IXN_lineitem_l_linestatus_l_re': 14, 'IX_lineitem_l_commitdate_l_orderkey': 13, 'IX_part_p_name_p_partkey': 12, 'IX_part_p_name': 10, 'IXN_partsupp_ps_suppkey_ps_s': 10, 'IX_orders_o_orderdate_o_custkey': 10, 'IXN_orders_o_orderdate_o_or': 10, 'IXN_part_p_partkey_p_ty': 9, 'IXN_orders_o_orderdate_o_orderkey_o_or': 9, 'IXN_supplier_s_nationkey_s_ac_s_ad_s_na': 8, 'IX_orders_o_custkey_o_orderdate': 6, 'IXN_partsupp_ps_suppkey_ps_p_ps_s_ps_a': 5, 'IX_orders_o_custkey': 5, 'IX_orders_o_custkey_o_shippriority': 5, 'IXN_customer_c_custkey_c_nationkey_c_ph': 5, 'IXN_customer_c_custkey_c_nationkey_c_acctbal_c_ph': 5, 'IXN_supplier_s_nationkey_s_ac_s_na': 4, 'IXN_customer_c_custkey_c_nationkey_c_na_c_ph': 4, 'IXN_part_p_size_p_pa': 3, 'IXN_customer_c_custkey_c_nationkey_c_ac_c_ph': 3, 'IXN_supplier_s_nationkey_s_name_s_ac_s_ad': 3, 'IXN_customer_c_custkey_c_na_c_ph': 3, 'IXN_customer_c_custkey_c_nationkey_c_acctbal_c_na_c_ph': 3, 'IXN_supplier_s_suppkey_s_na_s_ad': 2, 'IXN_supplier_s_name_s_ac_s_ad': 2, 'IXN_customer_c_custkey_c_ac_c_ph': 2, 'IX_supplier_s_comment': 2, 'IXN_supplier_s_nationkey_s_ph_s_ac_s_ad_s_na': 2, 'IXN_supplier_s_nationkey_s_co_s_ac_s_ad_s_na': 2, 'IX_part_p_partkey_p_size': 2, 'IXN_supplier_s_name_s_nationkey_s_co_s_ac_s_ph_s_ad': 1, 'IXN_supplier_s_nationkey_s_name_s_co_s_ac_s_ph_s_ad': 1, 'IXN_supplier_s_nationkey_s_acctbal_s_co_s_na_s_ph_s_ad': 1, 'IXN_part_p_type_p_mf_p_pa': 1, 'IXN_part_p_type_p_size_p_mf_p_pa': 1, 'IXN_part_p_size_p_type_p_mf_p_pa': 1, 'IXN_customer_c_acctbal_c_custkey_c_nationkey_c_na_c_co_c_ad_c_ph': 1, 'IXN_customer_c_acctbal_c_nationkey_c_custkey_c_na_c_co_c_ad_c_ph': 1, 'IXN_customer_c_custkey_c_acctbal_c_nationkey_c_na_c_co_c_ad_c_ph': 1, 'IXN_partsupp_ps_suppkey_ps_p_ps_s': 1, 'IXN_orders_o_custkey_o_orderkey_o_to_o_or': 1, 'IXN_orders_o_orderkey_o_custkey_o_to_o_or': 1, 'IXN_orders_o_custkey_o_to_o_or': 1, 'IXN_supplier_s_acctbal_s_na_s_ph_s_ad': 1, 'IXN_supplier_s_acctbal_s_co_s_na_s_ph': 1, 'IXN_supplier_s_acctbal_s_co_s_na_s_ad': 1, 'IXN_part_p_partkey_p_mf': 1, 'IXN_part_p_partkey_p_size_p_mf': 1, 'IXN_customer_c_address_c_ac_c_na_c_ph': 1, 'IXN_customer_c_name_c_ac_c_ad_c_ph': 1, 'IXN_customer_c_phone_c_na_c_ac_c_ad': 1, 'IXN_orders_o_custkey_o_or': 1, 'IXN_partsupp_ps_partkey_ps_suppkey_ps_s': 1, 'IXN_partsupp_ps_partkey_ps_s': 1, 'IXN_partsupp_ps_suppkey_ps_partkey_ps_s': 1, 'IXN_orders_o_custkey_o_sh': 1, 'IXN_orders_o_custkey_o_orderdate_o_sh': 1, 'IXN_lineitem_l_shipdate_l_re_l_qu_l_ta_l_li': 1, 'IXN_supplier_s_nationkey_s_ph_s_ac_s_na': 1, 'IXN_supplier_s_nationkey_s_co_s_ac_s_na': 1, 'IX_part_p_brand_p_size_p_partkey': 1, 'IX_part_p_container_p_size_p_partkey': 1, 'IX_part_p_brand_p_size': 1, 'IXN_customer_c_nationkey_c_custkey_c_ac_c_co': 1, 'IXN_customer_c_nationkey_c_ac_c_co': 1, 'IX_partsupp_ps_availqty_ps_suppkey_ps_partkey': 1, 'IXN_customer_c_nationkey_c_custkey_c_phone_c_ac_c_co': 1, 'IXN_lineitem_l_orderkey_l_ex_l_di': 1, 'IXN_supplier_s_suppkey_s_na': 1, 'IXN_supplier_s_suppkey_s_nationkey_s_na_s_ad': 1, 'IXN_customer_c_comment_c_custkey_c_na_c_ac_c_ph': 1, 'IXN_customer_c_comment_c_na_c_ac_c_ph': 1, 'IXN_customer_c_comment_c_custkey_c_nationkey_c_na_c_ac_c_ph': 1, 'IXN_supplier_s_name_s_nationkey_s_ac_s_ad': 1, 'IXN_supplier_s_name_s_co_s_ac_s_ad': 1, 'IXN_customer_c_custkey_c_ac_c_na': 1, 'IXN_part_p_size_p_mf': 1, 'IXN_part_p_size_p_partkey_p_mf': 1, 'IXN_part_p_size_p_type_p_mf': 1, 'IXN_supplier_s_nationkey_s_ac_s_ad': 1, 'IXN_customer_c_nationkey_c_custkey_c_ph': 1, 'IXN_customer_c_nationkey_c_custkey_c_acctbal_c_ph': 1, 'IX_part_p_type_p_partkey': 1, 'IX_part_p_type_p_size_p_partkey': 1, 'IX_part_p_type_p_size': 1, 'IXN_customer_c_nationkey_c_custkey_c_ac_c_ad_c_ph': 1, 'IXN_supplier_s_nationkey_s_ad_s_na': 1, 'IXN_supplier_s_nationkey_s_na_s_ad': 1, 'IX_part_p_container_p_size': 1, 'IXN_customer_c_custkey_c_ac_c_co_c_ph': 1, 'IXN_customer_c_custkey_c_nationkey_c_ac_c_co_c_ph': 1, 'IX_supplier_s_name_s_nationkey_s_suppkey': 1, 'IX_supplier_s_name_s_nationkey': 1, 'IX_supplier_s_name_s_nationkey_s_acctbal': 1, 'IXN_customer_c_nationkey_c_custkey_c_na_c_ph': 1, 'IXN_customer_c_nationkey_c_custkey_c_ac_c_na_c_ph': 1, 'IXN_customer_c_nationkey_c_custkey_c_acctbal_c_na_c_ph': 1, 'IXN_supplier_s_suppkey_s_nationkey_s_ad': 1, 'IXN_supplier_s_suppkey_s_nationkey_s_name_s_ad': 1, 'IXN_supplier_s_suppkey_s_name_s_nationkey_s_ad': 1, 'IXN_customer_c_acctbal_c_custkey_c_ph': 1, 'IXN_customer_c_address_c_custkey_c_ph': 1, 'IXN_customer_c_address_c_custkey_c_nationkey_c_ph': 1, 'IXN_supplier_s_name_s_ac_s_ph_s_ad': 1, 'IXN_supplier_s_name_s_nationkey_s_ac_s_ph_s_ad': 1, 'IX_customer_c_mktsegment': 1, 'IXN_customer_c_comment_c_custkey_c_ph': 1, 'IXN_supplier_s_acctbal_s_na_s_ad': 1, 'IXN_supplier_s_acctbal_s_nationkey_s_na_s_ad': 1, 'IXN_supplier_s_nationkey_s_name_s_ac': 1}\n",
      "\n",
      "Round completed. Time taken for recommendation: 0:00:00.762159 seconds.\n",
      "\n",
      "Running MAB agent for round 19...\n",
      "Identifying new query templates and updating statistics...\n",
      "Number of new query templates added: 0\n",
      "Number of queries of interest: 21\n",
      "Generating candidate indices...\n",
      "Generating candidate indices for 21 queries...\n"
     ]
    },
    {
     "name": "stderr",
     "output_type": "stream",
     "text": [
      "Processing queries: 100%|██████████| 21/21 [00:00<00:00, 205.34it/s]"
     ]
    },
    {
     "name": "stdout",
     "output_type": "stream",
     "text": [
      "Generated 24142 candidate indices\n",
      "Generating context vectors...\n"
     ]
    },
    {
     "name": "stderr",
     "output_type": "stream",
     "text": [
      "\n"
     ]
    },
    {
     "name": "stdout",
     "output_type": "stream",
     "text": [
      "Selecting best configuration...\n",
      "Theta - parameter vector: \n",
      "[ 0.00000000e+00 -1.34438306e+02 -2.67851351e-01 -4.96521539e-02\n",
      "  9.51497583e-02  4.17833921e-01  2.66000000e-01  1.16493275e-01\n",
      "  2.14964549e-01  2.08353879e-01  0.00000000e+00  0.00000000e+00\n",
      "  1.93774123e+00  5.28215252e+00 -1.85851777e+00  0.00000000e+00\n",
      "  0.00000000e+00 -1.09946569e-01  0.00000000e+00  0.00000000e+00\n",
      "  0.00000000e+00  0.00000000e+00  0.00000000e+00  0.00000000e+00\n",
      "  1.80831068e-01  0.00000000e+00  0.00000000e+00  0.00000000e+00\n",
      "  0.00000000e+00  1.80831068e-01 -3.68120388e-01  0.00000000e+00\n",
      "  0.00000000e+00  0.00000000e+00  0.00000000e+00  1.09009743e-01\n",
      "  0.00000000e+00  1.04809743e-01  0.00000000e+00  3.62386458e-01\n",
      "  8.44205843e-02  0.00000000e+00  1.45657188e-01  1.63543024e-01\n",
      "  9.39779560e-02  0.00000000e+00  1.60400000e-01  1.26164078e-01\n",
      "  9.23874967e-02  0.00000000e+00  1.02969850e-01  3.47105059e-02\n",
      "  0.00000000e+00 -5.89233457e-01 -4.61734243e-01  0.00000000e+00\n",
      "  0.00000000e+00  0.00000000e+00  0.00000000e+00  0.00000000e+00\n",
      "  0.00000000e+00  0.00000000e+00  0.00000000e+00 -1.44858704e-01\n",
      " -2.54455620e-01 -1.10779793e-01  0.00000000e+00  0.00000000e+00\n",
      "  8.62015761e-02  0.00000000e+00  2.24574412e-01  0.00000000e+00\n",
      "  0.00000000e+00  0.00000000e+00 -1.97267493e+00 -9.95827484e-01\n",
      "  2.89280862e+00  0.00000000e+00 -5.75079082e-01 -1.97267493e+00\n",
      "  0.00000000e+00  0.00000000e+00  0.00000000e+00  0.00000000e+00\n",
      "  0.00000000e+00 -1.87289320e-01  0.00000000e+00  0.00000000e+00\n",
      " -3.68120388e-01  0.00000000e+00 -1.87289320e-01  0.00000000e+00\n",
      "  0.00000000e+00  0.00000000e+00  0.00000000e+00 -3.68120388e-01\n",
      "  0.00000000e+00  0.00000000e+00  0.00000000e+00  3.01828544e-02\n",
      "  0.00000000e+00 -5.79744355e-03  0.00000000e+00  0.00000000e+00\n",
      "  1.99864710e-01  1.82548406e-01  3.78631840e-03 -1.27621613e-01\n",
      "  1.58596429e-01  0.00000000e+00 -1.20485604e-01  0.00000000e+00\n",
      "  1.15711702e+00  0.00000000e+00 -1.12259381e+00  0.00000000e+00\n",
      "  1.02203002e+00  0.00000000e+00  0.00000000e+00  0.00000000e+00\n",
      "  0.00000000e+00  0.00000000e+00  0.00000000e+00  0.00000000e+00]\n",
      "Table filtered indexes: defaultdict(<class 'list'>, {'lineitem': ['IX_lineitem_l_commitdate_l_orderkey', 'IXN_lineitem_l_returnflag_l_li', 'IXN_lineitem_l_linestatus_l_re'], 'part': ['IX_part_p_name_p_partkey', 'IX_part_p_name', 'IXN_part_p_partkey_p_ty'], 'partsupp': ['IXN_partsupp_ps_suppkey_ps_s_ps_a', 'IXN_partsupp_ps_suppkey_ps_a', 'IXN_partsupp_ps_suppkey_ps_p_ps_s_ps_a'], 'supplier': ['IXN_supplier_s_nationkey_s_ac_s_na', 'IXN_supplier_s_nationkey_s_ac_s_ad_s_na', 'IXN_supplier_s_nationkey_s_ph_s_ac_s_na'], 'orders': ['IXN_orders_o_orderdate_o_or', 'IXN_orders_o_orderdate_o_orderkey_o_or', 'IX_orders_o_orderdate_o_custkey'], 'customer': ['IXN_customer_c_custkey_c_nationkey_c_na_c_ph', 'IXN_customer_c_custkey_c_nationkey_c_acctbal_c_na_c_ph', 'IXN_customer_c_custkey_c_na_c_ph']})\n",
      "Number of candidate indexes after filtration: 18\n",
      "Best configuration contains 17 indices: \n",
      "['IXN_supplier_s_nationkey_s_ac_s_na', 'IXN_supplier_s_nationkey_s_ph_s_ac_s_na', 'IXN_supplier_s_nationkey_s_ac_s_ad_s_na', 'IXN_customer_c_custkey_c_na_c_ph', 'IXN_part_p_partkey_p_ty', 'IXN_customer_c_custkey_c_nationkey_c_na_c_ph', 'IXN_customer_c_custkey_c_nationkey_c_acctbal_c_na_c_ph', 'IX_part_p_name_p_partkey', 'IX_part_p_name', 'IXN_partsupp_ps_suppkey_ps_a', 'IX_orders_o_orderdate_o_custkey', 'IXN_partsupp_ps_suppkey_ps_s_ps_a', 'IXN_orders_o_orderdate_o_or', 'IXN_orders_o_orderdate_o_orderkey_o_or', 'IXN_partsupp_ps_suppkey_ps_p_ps_s_ps_a', 'IXN_lineitem_l_returnflag_l_li', 'IXN_lineitem_l_linestatus_l_re']\n",
      "Materializing configuration and executing queries...\n",
      "Num indexes added:2, Num indexes removed: 3 Index creation costs: {'IXN_supplier_s_nationkey_s_ph_s_ac_s_na': 0.09, 'IXN_part_p_partkey_p_ty': 2.561}\n",
      "Observed Rewards for indexes: {'IXN_partsupp_ps_suppkey_ps_p_ps_s_ps_a': [0.645, 0], 'IXN_orders_o_orderdate_o_orderkey_o_or': [14.693, 0], 'IXN_supplier_s_nationkey_s_ac_s_na': [0.6260000000000001, 0], 'IXN_customer_c_custkey_c_nationkey_c_na_c_ph': [0.45499999999999996, 0], 'IX_orders_o_orderdate_o_custkey': [4.631, 0], 'IXN_part_p_partkey_p_ty': [0.252, -2.561], 'IX_part_p_name_p_partkey': [0.516, 0], 'IXN_partsupp_ps_suppkey_ps_s_ps_a': [1.7585000000000002, 0], 'IXN_orders_o_orderdate_o_or': [0.44300000000000006, 0], 'IXN_customer_c_custkey_c_na_c_ph': [1.1175, 0], 'IXN_partsupp_ps_suppkey_ps_a': [0.36299999999999993, 0], 'IXN_supplier_s_nationkey_s_ac_s_ad_s_na': [0.144, 0], 'IXN_customer_c_custkey_c_nationkey_c_acctbal_c_na_c_ph': [0.10699999999999998, 0], 'IXN_supplier_s_nationkey_s_ph_s_ac_s_na': [0, -0.09]}\n",
      "\n",
      "Total execution cost: 173.328, Total index creation cost: 2.651\n",
      "\n",
      "Updating MAB parameters...\n",
      "Index selection counts: {'IXN_partsupp_ps_suppkey_ps_s_ps_a': 17, 'IXN_partsupp_ps_suppkey_ps_a': 16, 'IXN_lineitem_l_returnflag_l_li': 15, 'IXN_lineitem_l_linestatus_l_re': 15, 'IX_part_p_name_p_partkey': 13, 'IX_lineitem_l_commitdate_l_orderkey': 13, 'IX_part_p_name': 11, 'IX_orders_o_orderdate_o_custkey': 11, 'IXN_orders_o_orderdate_o_or': 11, 'IXN_part_p_partkey_p_ty': 10, 'IXN_partsupp_ps_suppkey_ps_s': 10, 'IXN_orders_o_orderdate_o_orderkey_o_or': 10, 'IXN_supplier_s_nationkey_s_ac_s_ad_s_na': 9, 'IXN_partsupp_ps_suppkey_ps_p_ps_s_ps_a': 6, 'IX_orders_o_custkey_o_orderdate': 6, 'IXN_supplier_s_nationkey_s_ac_s_na': 5, 'IX_orders_o_custkey': 5, 'IX_orders_o_custkey_o_shippriority': 5, 'IXN_customer_c_custkey_c_nationkey_c_ph': 5, 'IXN_customer_c_custkey_c_nationkey_c_acctbal_c_ph': 5, 'IXN_customer_c_custkey_c_nationkey_c_na_c_ph': 5, 'IXN_customer_c_custkey_c_na_c_ph': 4, 'IXN_customer_c_custkey_c_nationkey_c_acctbal_c_na_c_ph': 4, 'IXN_part_p_size_p_pa': 3, 'IXN_customer_c_custkey_c_nationkey_c_ac_c_ph': 3, 'IXN_supplier_s_nationkey_s_name_s_ac_s_ad': 3, 'IXN_supplier_s_nationkey_s_ph_s_ac_s_na': 2, 'IXN_supplier_s_suppkey_s_na_s_ad': 2, 'IXN_supplier_s_name_s_ac_s_ad': 2, 'IXN_customer_c_custkey_c_ac_c_ph': 2, 'IX_supplier_s_comment': 2, 'IXN_supplier_s_nationkey_s_ph_s_ac_s_ad_s_na': 2, 'IXN_supplier_s_nationkey_s_co_s_ac_s_ad_s_na': 2, 'IX_part_p_partkey_p_size': 2, 'IXN_supplier_s_name_s_nationkey_s_co_s_ac_s_ph_s_ad': 1, 'IXN_supplier_s_nationkey_s_name_s_co_s_ac_s_ph_s_ad': 1, 'IXN_supplier_s_nationkey_s_acctbal_s_co_s_na_s_ph_s_ad': 1, 'IXN_part_p_type_p_mf_p_pa': 1, 'IXN_part_p_type_p_size_p_mf_p_pa': 1, 'IXN_part_p_size_p_type_p_mf_p_pa': 1, 'IXN_customer_c_acctbal_c_custkey_c_nationkey_c_na_c_co_c_ad_c_ph': 1, 'IXN_customer_c_acctbal_c_nationkey_c_custkey_c_na_c_co_c_ad_c_ph': 1, 'IXN_customer_c_custkey_c_acctbal_c_nationkey_c_na_c_co_c_ad_c_ph': 1, 'IXN_partsupp_ps_suppkey_ps_p_ps_s': 1, 'IXN_orders_o_custkey_o_orderkey_o_to_o_or': 1, 'IXN_orders_o_orderkey_o_custkey_o_to_o_or': 1, 'IXN_orders_o_custkey_o_to_o_or': 1, 'IXN_supplier_s_acctbal_s_na_s_ph_s_ad': 1, 'IXN_supplier_s_acctbal_s_co_s_na_s_ph': 1, 'IXN_supplier_s_acctbal_s_co_s_na_s_ad': 1, 'IXN_part_p_partkey_p_mf': 1, 'IXN_part_p_partkey_p_size_p_mf': 1, 'IXN_customer_c_address_c_ac_c_na_c_ph': 1, 'IXN_customer_c_name_c_ac_c_ad_c_ph': 1, 'IXN_customer_c_phone_c_na_c_ac_c_ad': 1, 'IXN_orders_o_custkey_o_or': 1, 'IXN_partsupp_ps_partkey_ps_suppkey_ps_s': 1, 'IXN_partsupp_ps_partkey_ps_s': 1, 'IXN_partsupp_ps_suppkey_ps_partkey_ps_s': 1, 'IXN_orders_o_custkey_o_sh': 1, 'IXN_orders_o_custkey_o_orderdate_o_sh': 1, 'IXN_lineitem_l_shipdate_l_re_l_qu_l_ta_l_li': 1, 'IXN_supplier_s_nationkey_s_co_s_ac_s_na': 1, 'IX_part_p_brand_p_size_p_partkey': 1, 'IX_part_p_container_p_size_p_partkey': 1, 'IX_part_p_brand_p_size': 1, 'IXN_customer_c_nationkey_c_custkey_c_ac_c_co': 1, 'IXN_customer_c_nationkey_c_ac_c_co': 1, 'IX_partsupp_ps_availqty_ps_suppkey_ps_partkey': 1, 'IXN_customer_c_nationkey_c_custkey_c_phone_c_ac_c_co': 1, 'IXN_lineitem_l_orderkey_l_ex_l_di': 1, 'IXN_supplier_s_suppkey_s_na': 1, 'IXN_supplier_s_suppkey_s_nationkey_s_na_s_ad': 1, 'IXN_customer_c_comment_c_custkey_c_na_c_ac_c_ph': 1, 'IXN_customer_c_comment_c_na_c_ac_c_ph': 1, 'IXN_customer_c_comment_c_custkey_c_nationkey_c_na_c_ac_c_ph': 1, 'IXN_supplier_s_name_s_nationkey_s_ac_s_ad': 1, 'IXN_supplier_s_name_s_co_s_ac_s_ad': 1, 'IXN_customer_c_custkey_c_ac_c_na': 1, 'IXN_part_p_size_p_mf': 1, 'IXN_part_p_size_p_partkey_p_mf': 1, 'IXN_part_p_size_p_type_p_mf': 1, 'IXN_supplier_s_nationkey_s_ac_s_ad': 1, 'IXN_customer_c_nationkey_c_custkey_c_ph': 1, 'IXN_customer_c_nationkey_c_custkey_c_acctbal_c_ph': 1, 'IX_part_p_type_p_partkey': 1, 'IX_part_p_type_p_size_p_partkey': 1, 'IX_part_p_type_p_size': 1, 'IXN_customer_c_nationkey_c_custkey_c_ac_c_ad_c_ph': 1, 'IXN_supplier_s_nationkey_s_ad_s_na': 1, 'IXN_supplier_s_nationkey_s_na_s_ad': 1, 'IX_part_p_container_p_size': 1, 'IXN_customer_c_custkey_c_ac_c_co_c_ph': 1, 'IXN_customer_c_custkey_c_nationkey_c_ac_c_co_c_ph': 1, 'IX_supplier_s_name_s_nationkey_s_suppkey': 1, 'IX_supplier_s_name_s_nationkey': 1, 'IX_supplier_s_name_s_nationkey_s_acctbal': 1, 'IXN_customer_c_nationkey_c_custkey_c_na_c_ph': 1, 'IXN_customer_c_nationkey_c_custkey_c_ac_c_na_c_ph': 1, 'IXN_customer_c_nationkey_c_custkey_c_acctbal_c_na_c_ph': 1, 'IXN_supplier_s_suppkey_s_nationkey_s_ad': 1, 'IXN_supplier_s_suppkey_s_nationkey_s_name_s_ad': 1, 'IXN_supplier_s_suppkey_s_name_s_nationkey_s_ad': 1, 'IXN_customer_c_acctbal_c_custkey_c_ph': 1, 'IXN_customer_c_address_c_custkey_c_ph': 1, 'IXN_customer_c_address_c_custkey_c_nationkey_c_ph': 1, 'IXN_supplier_s_name_s_ac_s_ph_s_ad': 1, 'IXN_supplier_s_name_s_nationkey_s_ac_s_ph_s_ad': 1, 'IX_customer_c_mktsegment': 1, 'IXN_customer_c_comment_c_custkey_c_ph': 1, 'IXN_supplier_s_acctbal_s_na_s_ad': 1, 'IXN_supplier_s_acctbal_s_nationkey_s_na_s_ad': 1, 'IXN_supplier_s_nationkey_s_name_s_ac': 1}\n",
      "\n",
      "Round completed. Time taken for recommendation: 0:00:00.658663 seconds.\n",
      "\n",
      "Running MAB agent for round 20...\n",
      "Identifying new query templates and updating statistics...\n",
      "Number of new query templates added: 0\n",
      "Number of queries of interest: 21\n",
      "Generating candidate indices...\n",
      "Generating candidate indices for 21 queries...\n"
     ]
    },
    {
     "name": "stderr",
     "output_type": "stream",
     "text": [
      "Processing queries: 100%|██████████| 21/21 [00:00<00:00, 133.67it/s]\n"
     ]
    },
    {
     "name": "stdout",
     "output_type": "stream",
     "text": [
      "Generated 24142 candidate indices\n",
      "Generating context vectors...\n",
      "Selecting best configuration...\n",
      "Theta - parameter vector: \n",
      "[ 0.00000000e+00 -1.34455397e+02 -2.70390752e-01 -5.40901739e-02\n",
      "  9.45524075e-02  3.98966266e-01  2.66000000e-01  9.80846587e-02\n",
      "  2.03033007e-01  2.10769575e-01  0.00000000e+00  0.00000000e+00\n",
      "  1.95824985e+00  5.20596680e+00 -1.24529994e+00  0.00000000e+00\n",
      "  0.00000000e+00 -1.28590776e-01  0.00000000e+00  0.00000000e+00\n",
      "  0.00000000e+00  0.00000000e+00  0.00000000e+00  0.00000000e+00\n",
      "  1.81088929e-01  0.00000000e+00  0.00000000e+00  0.00000000e+00\n",
      "  0.00000000e+00  1.81088929e-01 -3.68214156e-01  0.00000000e+00\n",
      "  0.00000000e+00  0.00000000e+00  0.00000000e+00  1.08947866e-01\n",
      "  0.00000000e+00  1.04747866e-01  0.00000000e+00  3.53224553e-01\n",
      "  8.99988026e-02  0.00000000e+00  1.46151738e-01  1.63978976e-01\n",
      "  1.08265257e-01  0.00000000e+00  1.60400000e-01  1.35452164e-01\n",
      "  9.45534912e-02  0.00000000e+00  1.08314287e-01  3.61352922e-02\n",
      "  0.00000000e+00 -6.04661457e-01 -4.81563238e-01  0.00000000e+00\n",
      "  0.00000000e+00  0.00000000e+00  0.00000000e+00  0.00000000e+00\n",
      "  0.00000000e+00  0.00000000e+00  0.00000000e+00 -1.34020234e-01\n",
      " -2.47643178e-01 -1.05410837e-01  0.00000000e+00  0.00000000e+00\n",
      "  6.49029873e-02  0.00000000e+00  2.34536424e-01  0.00000000e+00\n",
      "  0.00000000e+00  0.00000000e+00 -2.08307612e+00 -1.00949990e+00\n",
      "  2.89088358e+00  0.00000000e+00 -5.88438555e-01 -2.08307612e+00\n",
      "  0.00000000e+00  0.00000000e+00  0.00000000e+00  0.00000000e+00\n",
      "  0.00000000e+00 -1.87125227e-01  0.00000000e+00  0.00000000e+00\n",
      " -3.68214156e-01  0.00000000e+00 -1.87125227e-01  0.00000000e+00\n",
      "  0.00000000e+00  0.00000000e+00  0.00000000e+00 -3.68214156e-01\n",
      "  0.00000000e+00  0.00000000e+00  0.00000000e+00  2.83007235e-02\n",
      "  0.00000000e+00 -5.38156110e-03  0.00000000e+00  0.00000000e+00\n",
      "  1.91477331e-01  1.77058345e-01  3.30607624e-03 -1.11849118e-01\n",
      "  1.48848790e-01  0.00000000e+00 -1.49387028e-01  0.00000000e+00\n",
      "  1.15790239e+00  0.00000000e+00 -1.11700078e+00  0.00000000e+00\n",
      "  1.04236202e+00  0.00000000e+00  0.00000000e+00  0.00000000e+00\n",
      "  0.00000000e+00  0.00000000e+00  0.00000000e+00  0.00000000e+00]\n",
      "Table filtered indexes: defaultdict(<class 'list'>, {'lineitem': ['IXN_lineitem_l_linestatus_l_re', 'IXN_lineitem_l_returnflag_l_li', 'IX_lineitem_l_returnflag_l_orderkey'], 'part': ['IX_part_p_name_p_partkey', 'IX_part_p_name', 'IXN_part_p_partkey_p_ty'], 'partsupp': ['IXN_partsupp_ps_suppkey_ps_s_ps_a', 'IXN_partsupp_ps_suppkey_ps_a', 'IXN_partsupp_ps_suppkey_ps_p_ps_s_ps_a'], 'supplier': ['IXN_supplier_s_nationkey_s_ac_s_na', 'IXN_supplier_s_nationkey_s_ac_s_ad_s_na', 'IXN_supplier_s_name_s_nationkey_s_ac'], 'orders': ['IXN_orders_o_orderdate_o_or', 'IXN_orders_o_orderdate_o_orderkey_o_or', 'IX_orders_o_orderdate_o_custkey'], 'customer': ['IXN_customer_c_custkey_c_nationkey_c_na_c_ph', 'IXN_customer_c_custkey_c_nationkey_c_acctbal_c_na_c_ph', 'IXN_customer_c_custkey_c_na_c_ph']})\n",
      "Number of candidate indexes after filtration: 18\n",
      "Best configuration contains 18 indices: \n",
      "['IXN_supplier_s_nationkey_s_ac_s_na', 'IXN_supplier_s_name_s_nationkey_s_ac', 'IXN_supplier_s_nationkey_s_ac_s_ad_s_na', 'IXN_customer_c_custkey_c_na_c_ph', 'IXN_part_p_partkey_p_ty', 'IXN_customer_c_custkey_c_nationkey_c_na_c_ph', 'IXN_customer_c_custkey_c_nationkey_c_acctbal_c_na_c_ph', 'IX_part_p_name_p_partkey', 'IX_part_p_name', 'IXN_partsupp_ps_suppkey_ps_a', 'IX_orders_o_orderdate_o_custkey', 'IXN_partsupp_ps_suppkey_ps_s_ps_a', 'IXN_orders_o_orderdate_o_or', 'IXN_orders_o_orderdate_o_orderkey_o_or', 'IXN_partsupp_ps_suppkey_ps_p_ps_s_ps_a', 'IXN_lineitem_l_linestatus_l_re', 'IXN_lineitem_l_returnflag_l_li', 'IX_lineitem_l_returnflag_l_orderkey']\n",
      "Materializing configuration and executing queries...\n",
      "Num indexes added:2, Num indexes removed: 1 Index creation costs: {'IX_lineitem_l_returnflag_l_orderkey': 56.924, 'IXN_supplier_s_name_s_nationkey_s_ac': 0.475}\n",
      "Observed Rewards for indexes: {'IXN_partsupp_ps_suppkey_ps_p_ps_s_ps_a': [0.978, 0], 'IXN_orders_o_orderdate_o_orderkey_o_or': [14.807, 0], 'IXN_supplier_s_nationkey_s_ac_s_na': [0.6420000000000001, 0], 'IXN_customer_c_custkey_c_nationkey_c_na_c_ph': [1.2245, 0], 'IX_orders_o_orderdate_o_custkey': [5.932, 0], 'IXN_part_p_partkey_p_ty': [0.35, 0], 'IX_part_p_name_p_partkey': [0.812, 0], 'IXN_partsupp_ps_suppkey_ps_s_ps_a': [1.832, 0], 'IXN_orders_o_orderdate_o_or': [0.9380000000000001, 0], 'IXN_customer_c_custkey_c_na_c_ph': [1.1475, 0], 'IXN_partsupp_ps_suppkey_ps_a': [0.615, 0], 'IXN_supplier_s_nationkey_s_ac_s_ad_s_na': [0.145, 0], 'IXN_customer_c_custkey_c_nationkey_c_acctbal_c_na_c_ph': [0.72, 0], 'IX_lineitem_l_returnflag_l_orderkey': [0, -56.924], 'IXN_supplier_s_name_s_nationkey_s_ac': [0, -0.475]}\n",
      "\n",
      "Total execution cost: 117.40800000000002, Total index creation cost: 57.399\n",
      "\n",
      "Updating MAB parameters...\n",
      "Index selection counts: {'IXN_partsupp_ps_suppkey_ps_s_ps_a': 18, 'IXN_partsupp_ps_suppkey_ps_a': 17, 'IXN_lineitem_l_returnflag_l_li': 16, 'IXN_lineitem_l_linestatus_l_re': 16, 'IX_part_p_name_p_partkey': 14, 'IX_lineitem_l_commitdate_l_orderkey': 13, 'IX_part_p_name': 12, 'IX_orders_o_orderdate_o_custkey': 12, 'IXN_orders_o_orderdate_o_or': 12, 'IXN_part_p_partkey_p_ty': 11, 'IXN_orders_o_orderdate_o_orderkey_o_or': 11, 'IXN_partsupp_ps_suppkey_ps_s': 10, 'IXN_supplier_s_nationkey_s_ac_s_ad_s_na': 10, 'IXN_partsupp_ps_suppkey_ps_p_ps_s_ps_a': 7, 'IXN_supplier_s_nationkey_s_ac_s_na': 6, 'IX_orders_o_custkey_o_orderdate': 6, 'IXN_customer_c_custkey_c_nationkey_c_na_c_ph': 6, 'IX_orders_o_custkey': 5, 'IX_orders_o_custkey_o_shippriority': 5, 'IXN_customer_c_custkey_c_nationkey_c_ph': 5, 'IXN_customer_c_custkey_c_nationkey_c_acctbal_c_ph': 5, 'IXN_customer_c_custkey_c_na_c_ph': 5, 'IXN_customer_c_custkey_c_nationkey_c_acctbal_c_na_c_ph': 5, 'IXN_part_p_size_p_pa': 3, 'IXN_customer_c_custkey_c_nationkey_c_ac_c_ph': 3, 'IXN_supplier_s_nationkey_s_name_s_ac_s_ad': 3, 'IXN_supplier_s_nationkey_s_ph_s_ac_s_na': 2, 'IXN_supplier_s_suppkey_s_na_s_ad': 2, 'IXN_supplier_s_name_s_ac_s_ad': 2, 'IXN_customer_c_custkey_c_ac_c_ph': 2, 'IX_supplier_s_comment': 2, 'IXN_supplier_s_nationkey_s_ph_s_ac_s_ad_s_na': 2, 'IXN_supplier_s_nationkey_s_co_s_ac_s_ad_s_na': 2, 'IX_part_p_partkey_p_size': 2, 'IXN_supplier_s_name_s_nationkey_s_co_s_ac_s_ph_s_ad': 1, 'IXN_supplier_s_nationkey_s_name_s_co_s_ac_s_ph_s_ad': 1, 'IXN_supplier_s_nationkey_s_acctbal_s_co_s_na_s_ph_s_ad': 1, 'IXN_part_p_type_p_mf_p_pa': 1, 'IXN_part_p_type_p_size_p_mf_p_pa': 1, 'IXN_part_p_size_p_type_p_mf_p_pa': 1, 'IXN_customer_c_acctbal_c_custkey_c_nationkey_c_na_c_co_c_ad_c_ph': 1, 'IXN_customer_c_acctbal_c_nationkey_c_custkey_c_na_c_co_c_ad_c_ph': 1, 'IXN_customer_c_custkey_c_acctbal_c_nationkey_c_na_c_co_c_ad_c_ph': 1, 'IXN_partsupp_ps_suppkey_ps_p_ps_s': 1, 'IXN_orders_o_custkey_o_orderkey_o_to_o_or': 1, 'IXN_orders_o_orderkey_o_custkey_o_to_o_or': 1, 'IXN_orders_o_custkey_o_to_o_or': 1, 'IXN_supplier_s_acctbal_s_na_s_ph_s_ad': 1, 'IXN_supplier_s_acctbal_s_co_s_na_s_ph': 1, 'IXN_supplier_s_acctbal_s_co_s_na_s_ad': 1, 'IXN_part_p_partkey_p_mf': 1, 'IXN_part_p_partkey_p_size_p_mf': 1, 'IXN_customer_c_address_c_ac_c_na_c_ph': 1, 'IXN_customer_c_name_c_ac_c_ad_c_ph': 1, 'IXN_customer_c_phone_c_na_c_ac_c_ad': 1, 'IXN_orders_o_custkey_o_or': 1, 'IXN_partsupp_ps_partkey_ps_suppkey_ps_s': 1, 'IXN_partsupp_ps_partkey_ps_s': 1, 'IXN_partsupp_ps_suppkey_ps_partkey_ps_s': 1, 'IXN_orders_o_custkey_o_sh': 1, 'IXN_orders_o_custkey_o_orderdate_o_sh': 1, 'IXN_lineitem_l_shipdate_l_re_l_qu_l_ta_l_li': 1, 'IXN_supplier_s_nationkey_s_co_s_ac_s_na': 1, 'IX_part_p_brand_p_size_p_partkey': 1, 'IX_part_p_container_p_size_p_partkey': 1, 'IX_part_p_brand_p_size': 1, 'IXN_customer_c_nationkey_c_custkey_c_ac_c_co': 1, 'IXN_customer_c_nationkey_c_ac_c_co': 1, 'IX_partsupp_ps_availqty_ps_suppkey_ps_partkey': 1, 'IXN_customer_c_nationkey_c_custkey_c_phone_c_ac_c_co': 1, 'IXN_lineitem_l_orderkey_l_ex_l_di': 1, 'IXN_supplier_s_suppkey_s_na': 1, 'IXN_supplier_s_suppkey_s_nationkey_s_na_s_ad': 1, 'IXN_customer_c_comment_c_custkey_c_na_c_ac_c_ph': 1, 'IXN_customer_c_comment_c_na_c_ac_c_ph': 1, 'IXN_customer_c_comment_c_custkey_c_nationkey_c_na_c_ac_c_ph': 1, 'IXN_supplier_s_name_s_nationkey_s_ac_s_ad': 1, 'IXN_supplier_s_name_s_co_s_ac_s_ad': 1, 'IXN_customer_c_custkey_c_ac_c_na': 1, 'IXN_part_p_size_p_mf': 1, 'IXN_part_p_size_p_partkey_p_mf': 1, 'IXN_part_p_size_p_type_p_mf': 1, 'IXN_supplier_s_nationkey_s_ac_s_ad': 1, 'IXN_customer_c_nationkey_c_custkey_c_ph': 1, 'IXN_customer_c_nationkey_c_custkey_c_acctbal_c_ph': 1, 'IX_part_p_type_p_partkey': 1, 'IX_part_p_type_p_size_p_partkey': 1, 'IX_part_p_type_p_size': 1, 'IXN_customer_c_nationkey_c_custkey_c_ac_c_ad_c_ph': 1, 'IXN_supplier_s_nationkey_s_ad_s_na': 1, 'IXN_supplier_s_nationkey_s_na_s_ad': 1, 'IX_part_p_container_p_size': 1, 'IXN_customer_c_custkey_c_ac_c_co_c_ph': 1, 'IXN_customer_c_custkey_c_nationkey_c_ac_c_co_c_ph': 1, 'IX_supplier_s_name_s_nationkey_s_suppkey': 1, 'IX_supplier_s_name_s_nationkey': 1, 'IX_supplier_s_name_s_nationkey_s_acctbal': 1, 'IXN_customer_c_nationkey_c_custkey_c_na_c_ph': 1, 'IXN_customer_c_nationkey_c_custkey_c_ac_c_na_c_ph': 1, 'IXN_customer_c_nationkey_c_custkey_c_acctbal_c_na_c_ph': 1, 'IXN_supplier_s_suppkey_s_nationkey_s_ad': 1, 'IXN_supplier_s_suppkey_s_nationkey_s_name_s_ad': 1, 'IXN_supplier_s_suppkey_s_name_s_nationkey_s_ad': 1, 'IXN_customer_c_acctbal_c_custkey_c_ph': 1, 'IXN_customer_c_address_c_custkey_c_ph': 1, 'IXN_customer_c_address_c_custkey_c_nationkey_c_ph': 1, 'IXN_supplier_s_name_s_ac_s_ph_s_ad': 1, 'IXN_supplier_s_name_s_nationkey_s_ac_s_ph_s_ad': 1, 'IX_customer_c_mktsegment': 1, 'IXN_customer_c_comment_c_custkey_c_ph': 1, 'IXN_supplier_s_acctbal_s_na_s_ad': 1, 'IXN_supplier_s_acctbal_s_nationkey_s_na_s_ad': 1, 'IXN_supplier_s_nationkey_s_name_s_ac': 1, 'IXN_supplier_s_name_s_nationkey_s_ac': 1, 'IX_lineitem_l_returnflag_l_orderkey': 1}\n",
      "\n",
      "Round completed. Time taken for recommendation: 0:00:00.765127 seconds.\n",
      "\n"
     ]
    }
   ],
   "source": [
    "# run rounds of MAB with the same batch of queries (first 3 queries in the workload)\n",
    "for i in range(1, 21):\n",
    "    mab.step_round(miniworkload, i, config_memory_budget_MB=5*1024, verbose=False)"
   ]
  },
  {
   "cell_type": "code",
   "execution_count": null,
   "metadata": {},
   "outputs": [],
   "source": []
  },
  {
   "cell_type": "markdown",
   "metadata": {},
   "source": [
    "#### Comparison with DTA recommendation"
   ]
  },
  {
   "cell_type": "code",
   "execution_count": 10,
   "metadata": {},
   "outputs": [],
   "source": [
    "dta = DTA_recommender()"
   ]
  },
  {
   "cell_type": "code",
   "execution_count": 13,
   "metadata": {},
   "outputs": [
    {
     "name": "stdout",
     "output_type": "stream",
     "text": [
      "All non-clustered indexes --> []\n",
      "All nonclustered indexes removed.\n",
      "Microsoft (R) SQL Server dta\n",
      "Version 20.2.30.0\n",
      "Copyright (c) Microsoft. All rights reserved.\n",
      "\n",
      "Tuning session successfully created. Session ID is 81.\n",
      "\n",
      "Time elapsed: 00:00:02            \n",
      "Workload consumed:  100%, Estimated improvement:   59%                         \n",
      "Total time used: 00:00:02                                \n",
      "\n",
      "\n",
      "                                                                               \n",
      "                                                                                \n",
      "Tuning process finished.\n",
      "Successfully saved output XML file: \\\\wsl.localhost\\Ubuntu\\home\\tanzid\\Code\\DBMS\\MAB\\session_output_session_7368988f-9abd-4ae1-8344-5a52b2d6ab9c.xml.\n",
      "Successfully generated recommendations script: \\\\wsl.localhost\\Ubuntu\\home\\tanzid\\Code\\DBMS\\MAB\\recommendations_session_7368988f-9abd-4ae1-8344-5a52b2d6ab9c.sql.\n",
      "DTA recommendation time --> 21.138886 seconds.\n"
     ]
    }
   ],
   "source": [
    "queries = [q.query_string for q in miniworkload[:1]]\n",
    "indexes_to_add, indexes_to_remove = dta.recommend_indexes(queries,  max_memory_Mb=20*1024, max_time_minutes=20) "
   ]
  },
  {
   "cell_type": "code",
   "execution_count": 14,
   "metadata": {},
   "outputs": [
    {
     "name": "stdout",
     "output_type": "stream",
     "text": [
      "{'index_name': '_dta_index_lineitem_6_965578478__K9_K10_K11_5_6_7_8', 'table_name': 'lineitem', 'index_columns': ['l_returnflag ASC', 'l_linestatus ASC', 'l_shipdate ASC'], 'include_columns': ['l_quantity', 'l_extendedprice', 'l_discount', 'l_tax']}\n"
     ]
    },
    {
     "data": {
      "text/plain": [
       "['IXN_lineitem_l_returnflag_l_linestatus_l_shipdate_l_qu_l_ex_l_di_l_ta']"
      ]
     },
     "execution_count": 14,
     "metadata": {},
     "output_type": "execute_result"
    }
   ],
   "source": [
    "for index in indexes_to_add:\n",
    "    print(index)\n",
    "\n",
    "for index in indexes_to_remove:\n",
    "    print(index)    \n",
    "    \n",
    "# convert DTA index dicts to MAB index arm ids\n",
    "DTA_recommended_configuration = []\n",
    "for index in indexes_to_add:\n",
    "    #print(index)\n",
    "    index_columns = index['index_columns']\n",
    "    # remove ASC/DESC from column names\n",
    "    index_columns = [re.sub(' ASC| DESC', '', col) for col in index_columns]\n",
    "    index_id = get_index_id(index_columns, index['table_name'], index['include_columns'])\n",
    "    DTA_recommended_configuration.append(index_id)\n",
    "\n",
    "\n",
    "DTA_recommended_configuration  \n"
   ]
  },
  {
   "cell_type": "code",
   "execution_count": 19,
   "metadata": {},
   "outputs": [
    {
     "data": {
      "text/plain": [
       "{'IX_lineitem_l_shipdate_l_orderkey': <mab.Index at 0x7f97f0003010>,\n",
       " 'IX_orders_o_shippriority': <mab.Index at 0x7f97f0011f10>,\n",
       " 'IX_orders_o_orderkey': <mab.Index at 0x7f97f0002510>,\n",
       " 'IX_partsupp_ps_partkey_ps_suppkey': <mab.Index at 0x7f97f00c1610>,\n",
       " 'IX_customer_c_mktsegment': <mab.Index at 0x7f97e82b3e50>,\n",
       " 'IXN_orders_o_orderdate_o_sh': <mab.Index at 0x7f97f01c0410>,\n",
       " 'IX_orders_o_orderdate_o_orderkey': <mab.Index at 0x7f97f0000a10>,\n",
       " 'IX_orders_o_orderdate': <mab.Index at 0x7f97f00c23d0>,\n",
       " 'IX_lineitem_l_commitdate': <mab.Index at 0x7f97f00035d0>,\n",
       " 'IXN_part_p_partkey_p_mf': <mab.Index at 0x7f97f009ae90>,\n",
       " 'IXN_part_p_type_p_pa': <mab.Index at 0x7f97f00c3150>,\n",
       " 'IXN_partsupp_ps_suppkey_ps_s': <mab.Index at 0x7f97f00c3010>,\n",
       " 'IX_supplier_s_suppkey_s_nationkey': <mab.Index at 0x7f97f005d590>,\n",
       " 'IX_supplier_s_suppkey': <mab.Index at 0x7f97f00996d0>,\n",
       " 'IX_lineitem_l_suppkey': <mab.Index at 0x7f97f0000dd0>,\n",
       " 'IXN_part_p_size_p_mf_p_pa': <mab.Index at 0x7f97f00c1c90>,\n",
       " 'IXN_part_p_size_p_pa': <mab.Index at 0x7f97f00c2390>,\n",
       " 'IXN_supplier_s_nationkey_s_ph_s_ac_s_na': <mab.Index at 0x7f97f0012750>,\n",
       " 'IXN_supplier_s_nationkey_s_ac_s_na': <mab.Index at 0x7f97f0012010>,\n",
       " 'IXN_supplier_s_nationkey_s_ad_s_ac_s_na': <mab.Index at 0x7f97f0011450>,\n",
       " 'IX_customer_c_nationkey': <mab.Index at 0x7f97f1377010>,\n",
       " 'IX_customer_c_nationkey_c_custkey': <mab.Index at 0x7f97f005ed90>,\n",
       " 'IXN_supplier_s_nationkey_s_ph_s_ad_s_ac_s_na': <mab.Index at 0x7f97f0011a90>,\n",
       " 'IX_customer_c_custkey_c_nationkey': <mab.Index at 0x7f97f005ded0>,\n",
       " 'IXN_supplier_s_nationkey_s_co_s_ac_s_na': <mab.Index at 0x7f97f0010e50>,\n",
       " 'IXN_supplier_s_nationkey_s_ph_s_co_s_ac_s_na': <mab.Index at 0x7f97f0013610>,\n",
       " 'IX_customer_c_custkey': <mab.Index at 0x7f97f005d150>,\n",
       " 'IXN_supplier_s_nationkey_s_ad_s_co_s_ac_s_na': <mab.Index at 0x7f97f0010710>}"
      ]
     },
     "execution_count": 19,
     "metadata": {},
     "output_type": "execute_result"
    }
   ],
   "source": [
    "mab.best_configuration"
   ]
  },
  {
   "cell_type": "code",
   "execution_count": 94,
   "metadata": {},
   "outputs": [
    {
     "data": {
      "text/plain": [
       "set()"
      ]
     },
     "execution_count": 94,
     "metadata": {},
     "output_type": "execute_result"
    }
   ],
   "source": [
    "# check intersection of MAB and DTA recommendations\n",
    "intersection = set(DTA_recommended_configuration).intersection(set(mab.best_configuration.keys()))\n",
    "\n",
    "intersection"
   ]
  },
  {
   "cell_type": "code",
   "execution_count": 27,
   "metadata": {},
   "outputs": [
    {
     "name": "stdout",
     "output_type": "stream",
     "text": [
      "Query: select\n",
      "\tl_returnflag,\n",
      "\tl_linestatus,\n",
      "\tsum(l_quantity) as sum_qty,\n",
      "\tsum(l_extendedprice) as sum_base_price,\n",
      "\tsum(l_extendedprice * (1 - l_discount)) as sum_disc_price,\n",
      "\tsum(l_extendedprice * (1 - l_discount) * (1 + l_tax)) as sum_charge,\n",
      "\tavg(l_quantity) as avg_qty,\n",
      "\tavg(l_extendedprice) as avg_price,\n",
      "\tavg(l_discount) as avg_disc,\n",
      "\tcount(*) as count_order\n",
      "from\n",
      "\tlineitem\n",
      "where\n",
      "\tl_shipdate <= DATEADD(dd, -63, CAST('1998-12-01' AS date))\n",
      "group by\n",
      "\tl_returnflag,\n",
      "\tl_linestatus\n",
      "order by\n",
      "\tl_returnflag,\n",
      "\tl_linestatus\n",
      ";\n",
      "Predicates: {'lineitem': {'l_shipdate': 'r'}}\n",
      "Payload: {'lineitem': ['l_returnflag', 'l_linestatus', 'l_quantity', 'l_extendedprice', 'l_discount', 'l_tax']}\n",
      "Order by: {'lineitem': [['l_returnflag', 'asc'], ['l_linestatus', 'asc']]}\n",
      "Group by: {'lineitem': ['l_returnflag', 'l_linestatus']}\n"
     ]
    }
   ],
   "source": [
    "test_query = miniworkload[0]\n",
    "print(f\"Query: {test_query.query_string}\")\n",
    "print(f\"Predicates: {test_query.predicates}\")\n",
    "print(f\"Payload: {test_query.payload}\")\n",
    "print(f\"Order by: {test_query.order_by}\")\n",
    "print(f\"Group by: {test_query.group_by}\")\n",
    "\n"
   ]
  },
  {
   "cell_type": "code",
   "execution_count": null,
   "metadata": {},
   "outputs": [],
   "source": []
  }
 ],
 "metadata": {
  "kernelspec": {
   "display_name": "torch_clone_2",
   "language": "python",
   "name": "python3"
  },
  "language_info": {
   "codemirror_mode": {
    "name": "ipython",
    "version": 3
   },
   "file_extension": ".py",
   "mimetype": "text/x-python",
   "name": "python",
   "nbconvert_exporter": "python",
   "pygments_lexer": "ipython3",
   "version": "3.11.5"
  }
 },
 "nbformat": 4,
 "nbformat_minor": 2
}
