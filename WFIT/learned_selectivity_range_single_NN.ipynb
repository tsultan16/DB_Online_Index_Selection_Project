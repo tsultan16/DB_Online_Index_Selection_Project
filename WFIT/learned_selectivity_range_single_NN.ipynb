{
 "cells": [
  {
   "cell_type": "markdown",
   "metadata": {},
   "source": [
    "## Learning the PDF of a single table attribute using a Feedforward Neural Network. (Will also try linear regression in a separate notebook)\n",
    "\n",
    "The input for the model is a range predicate and the output should be a prediction for the selectivity.\n",
    "\n",
    "i.e. Given the range $a \\leq x \\leq b$, the model predicts the following:\n",
    "\n",
    "$selectivity(a \\leq x \\leq b) = P(a \\leq x \\leq b)$\n",
    "\n",
    "where $P(x)$ is the learned probability density function.\n",
    "\n",
    "Intseda of directly learning P(x), we will learn a model that predicts $P(a \\leq x \\leq b)$, i.e. it predicts range selectivity."
   ]
  },
  {
   "cell_type": "code",
   "execution_count": 1,
   "metadata": {},
   "outputs": [],
   "source": [
    "# auto reload all modules\n",
    "%load_ext autoreload\n",
    "%autoreload 2\n",
    "\n",
    "from simple_cost_model import *\n",
    "from tpch_qgen_class_v2 import *\n",
    "\n",
    "import numpy as np\n",
    "import matplotlib.pyplot as plt\n",
    "import pickle\n",
    "\n",
    "import torch\n",
    "import torch.nn as nn\n",
    "import torch.optim as optim\n",
    "from torch.utils.data import DataLoader, TensorDataset\n",
    "\n",
    "\n",
    "from tqdm import tqdm"
   ]
  },
  {
   "cell_type": "code",
   "execution_count": 2,
   "metadata": {},
   "outputs": [],
   "source": [
    "# set up query generator\n",
    "qg = TPCH_QGEN(DBNAME='tpch10_skew')\n",
    "\n",
    "# Get the statistics for all tables in the tpch database\n",
    "tables, pk_columns = get_tpch_schema()\n",
    "table_names = list(tables.keys())\n",
    "stats = {}\n",
    "estimated_rows = {}\n",
    "for table_name in table_names:\n",
    "    stats[table_name], estimated_rows[table_name] = get_table_stats(table_name, dbname=\"tpch10\")\n",
    "\n",
    "table_attributes = {}\n",
    "for table_name in table_names:\n",
    "    table_attributes[table_name] = list(stats[table_name].keys())\n",
    "\n",
    "# create a dictionary and specify whether each attribute in each table is numeric or char\n",
    "data_type_dict = {}\n",
    "for table_name in tables.keys():\n",
    "    for column_name, column_type in tables[table_name]:\n",
    "        if (\"INT\" in column_type) or (\"DECIMAL\" in column_type) or (\"BIT\" in column_type):\n",
    "            data_type_dict[column_name] = \"numeric\"\n",
    "        else:\n",
    "            data_type_dict[column_name] = \"char\"   "
   ]
  },
  {
   "cell_type": "code",
   "execution_count": 3,
   "metadata": {},
   "outputs": [],
   "source": [
    "# load actual stats from pickle file\n",
    "with open('tpch10_skew_stats.pkl', 'rb') as f:\n",
    "    actual_stats = pickle.load(f)"
   ]
  },
  {
   "cell_type": "markdown",
   "metadata": {},
   "source": [
    "#### Implement a function for computing the exact selectitiy of any range predicate using the actual statistics"
   ]
  },
  {
   "cell_type": "code",
   "execution_count": 4,
   "metadata": {},
   "outputs": [],
   "source": [
    "# function for computing selectivity of one-sided range predicates using actual stats\n",
    "def exact_selectivity_range(actual_table_stats, column_name, boundary_left, boundary_right):\n",
    "    # make sure attribute data type is numeric\n",
    "    if data_type_dict[column_name] != \"numeric\":\n",
    "        raise ValueError(\"Attribute data type must be numeric\")\n",
    "    \n",
    "    stats = actual_table_stats[column_name]\n",
    "    total_rows = stats['total_count']\n",
    "    #num_distinct = stats['distinct_count']\n",
    "    min_value = stats['min']\n",
    "    max_value = stats['max']\n",
    "    histogram = stats['histogram']\n",
    "\n",
    "    # check if histogram is available\n",
    "    if histogram:\n",
    "        # find all values that fall within the range\n",
    "        selectivity = 0\n",
    "        for value, count in histogram.items():\n",
    "            if boundary_left <= value <= boundary_right:\n",
    "                selectivity += count\n",
    "     \n",
    "        selectivity = selectivity / total_rows\n",
    "    else:\n",
    "        # if histogram is not available, use min and max values, assume uniform distribution\n",
    "        selectivity = (min(max(boundary_left, min_value), max_value) - boundary_left) / (boundary_right - boundary_left)\n",
    "\n",
    "    return selectivity"
   ]
  },
  {
   "cell_type": "markdown",
   "metadata": {},
   "source": [
    "#### Pick an attribute from one of the tables for testing purposes."
   ]
  },
  {
   "cell_type": "code",
   "execution_count": 5,
   "metadata": {},
   "outputs": [
    {
     "name": "stdout",
     "output_type": "stream",
     "text": [
      "actual_stats for attribute c_nationkey: {'min': 0, 'max': 24, 'total_count': 1500000, 'distinct_count': 25, 'histogram': {0: 47704, 1: 86742, 2: 53076, 3: 84877, 4: 70086, 5: 53448, 6: 44748, 7: 44405, 8: 61934, 9: 50617, 10: 57095, 11: 42172, 12: 51829, 13: 103247, 14: 36509, 15: 153124, 16: 46098, 17: 58485, 18: 61718, 19: 44427, 20: 56483, 21: 44522, 22: 51881, 23: 58816, 24: 35957}}\n",
      "exact selectivity for range [10, 20]: 0.4741246666666667\n"
     ]
    }
   ],
   "source": [
    "table_name = \"customer\"\n",
    "column_name = \"c_nationkey\"\n",
    "actual_table_stats = actual_stats[table_name]\n",
    "print(f\"actual_stats for attribute {column_name}: {actual_table_stats[column_name]}\")\n",
    "\n",
    "# test out the function\n",
    "boundary_left = 10\n",
    "boundary_right = 20\n",
    "exact_selectivity = exact_selectivity_range(actual_table_stats, column_name, boundary_left, boundary_right)\n",
    "\n",
    "print(f\"exact selectivity for range [{boundary_left}, {boundary_right}]: {exact_selectivity}\")"
   ]
  },
  {
   "cell_type": "markdown",
   "metadata": {},
   "source": [
    "#### Now lets train a feedforward neural network to predict the selectivity."
   ]
  },
  {
   "cell_type": "code",
   "execution_count": 6,
   "metadata": {},
   "outputs": [],
   "source": [
    "# Define a simple neural network model for predicitng range selectivity\n",
    "class SelectivityModel(nn.Module):\n",
    "    def __init__(self, hidden_size=64):\n",
    "        super(SelectivityModel, self).__init__()\n",
    "        self.fc1 = nn.Linear(2, hidden_size)  # Input is [a, b]\n",
    "        self.fc2 = nn.Linear(hidden_size, hidden_size)\n",
    "        self.fc3 = nn.Linear(hidden_size, hidden_size//2)\n",
    "        self.fc4 = nn.Linear(hidden_size//2, 1)  # Output is selectivity\n",
    "\n",
    "    def forward(self, x):\n",
    "        x = torch.relu(self.fc1(x))\n",
    "        x = torch.relu(self.fc2(x))\n",
    "        x = torch.relu(self.fc3(x))\n",
    "        x = torch.sigmoid(self.fc4(x))  # Output as probability\n",
    "        return x\n"
   ]
  },
  {
   "cell_type": "code",
   "execution_count": 7,
   "metadata": {},
   "outputs": [],
   "source": [
    "def generate_range_predicate_samples(actual_stats, table_name, column_name, num_samples=100, fraction_eq=0.1):\n",
    "    data = []\n",
    "    stats = actual_stats[table_name][column_name]\n",
    "    min_value = stats['min']\n",
    "    max_value = stats['max']\n",
    "    \n",
    "    epsilon = 1e-6 * (max_value - min_value)\n",
    "\n",
    "    # make sure that column stats has histogram, otherwise we cannot generate equality predicate samples\n",
    "    if not actual_table_stats[column_name]['histogram']:\n",
    "        fraction_eq = 0\n",
    "    num_eq_samples = int(num_samples * fraction_eq)\n",
    "    num_range_samples = num_samples - num_eq_samples\n",
    "    \n",
    "    # generate range predicate samples\n",
    "    for i in range(num_range_samples):\n",
    "        # generate a random start of the range\n",
    "        a = np.random.uniform(min_value, 0.9*max_value)\n",
    "        # generate a random end of the range, larger than a\n",
    "        b = np.random.uniform(a, max_value)\n",
    "        selectivity = exact_selectivity_range(actual_table_stats, column_name, a, b)\n",
    "        data.append(([a, b], selectivity))\n",
    "\n",
    "    # generate equality predicate samples\n",
    "    for i in range(num_eq_samples):\n",
    "        # draw a value from the histogram uniformly at random\n",
    "        histogram = actual_table_stats[column_name]['histogram']\n",
    "        values = list(histogram.keys())\n",
    "        a = np.random.choice(values) \n",
    "        b = a + epsilon\n",
    "        a = a - epsilon   \n",
    "        selectivity = exact_selectivity_range(actual_table_stats, column_name, a, b)\n",
    "        data.append(([a, b], selectivity))     \n",
    "\n",
    "    # shuffle the data\n",
    "    np.random.shuffle(data)\n",
    "\n",
    "    return data"
   ]
  },
  {
   "cell_type": "code",
   "execution_count": 84,
   "metadata": {},
   "outputs": [],
   "source": [
    "def train_NN(model, criterion, optimizer, data_loader, X_test, y_test, num_epochs, val_every=100):\n",
    "    # training loop\n",
    "    with tqdm(total=num_epochs, desc='Training Progress') as pbar:\n",
    "        for epoch in range(num_epochs):\n",
    "            model.train()\n",
    "            total_loss = 0\n",
    "            for inputs, targets in data_loader:\n",
    "                optimizer.zero_grad()\n",
    "                outputs = model(inputs)\n",
    "                loss = criterion(outputs, targets)\n",
    "                loss.backward()\n",
    "                optimizer.step()\n",
    "                total_loss += loss.item()\n",
    "\n",
    "            # compute MAE on the training set\n",
    "            mae_train = torch.mean(torch.abs(outputs - targets))\n",
    "\n",
    "            # Update the progress bar and print loss every 100 epochs\n",
    "            if (epoch + 1) % 100 == 0:\n",
    "                pbar.set_postfix({'Loss': f'{total_loss:.4f}', 'MAE': f'{mae_train.item():.4f}'})\n",
    "            pbar.update(1)\n",
    "\n",
    "            if (epoch + 1) % val_every == 0:\n",
    "                model.eval()\n",
    "                with torch.no_grad():\n",
    "                    val_outputs = model(X_test)\n",
    "                    val_loss = criterion(val_outputs, y_test)\n",
    "                    # also compute the mean absolute error\n",
    "                    mae_val = torch.mean(torch.abs(val_outputs - y_test))\n",
    "                    # update pbar with validation loss and MAE\n",
    "                    pbar.set_postfix({'Loss': f'{total_loss:.4f}', 'MAE':f'{mae_train.item():.4f}', 'Val Loss': f'{val_loss.item():.4f}', 'Val MAE': f'{mae_val.item():.4f}'})\n",
    "\n"
   ]
  },
  {
   "cell_type": "code",
   "execution_count": 85,
   "metadata": {},
   "outputs": [],
   "source": [
    "table_name = \"customer\"\n",
    "column_name = \"c_nationkey\"\n",
    "actual_attribute_stats = actual_stats[table_name][column_name]\n",
    "min_value = actual_attribute_stats['min']\n",
    "max_value = actual_attribute_stats['max']\n",
    "\n",
    "# generate a bunch of random range predicates and their selectivities\n",
    "num_samples = 100\n",
    "data = generate_range_predicate_samples(actual_stats, table_name, column_name, num_samples=num_samples, fraction_eq=0.2)\n",
    "\n",
    "# split into training and testing data\n",
    "train_size = int(0.8 * num_samples)\n",
    "train_data = data[:train_size]\n",
    "test_data = data[train_size:]\n",
    "\n",
    "X_train = torch.tensor([d[0] for d in train_data], dtype=torch.float32)\n",
    "y_train = torch.tensor([d[1] for d in train_data], dtype=torch.float32).view(-1, 1)\n",
    "\n",
    "X_test = torch.tensor([d[0] for d in test_data], dtype=torch.float32)\n",
    "y_test = torch.tensor([d[1] for d in test_data], dtype=torch.float32).view(-1, 1)\n"
   ]
  },
  {
   "cell_type": "code",
   "execution_count": 86,
   "metadata": {},
   "outputs": [],
   "source": [
    "# hyperparameters\n",
    "num_epochs = 1000\n",
    "hidden_size = 32\n",
    "batch_size = 32\n",
    "l2_lambda = 0.001 # l2 regularization parameter\n",
    "\n",
    "# Initialize the model, loss function, and optimizer\n",
    "model = SelectivityModel(hidden_size=hidden_size)\n",
    "criterion = nn.MSELoss()\n",
    "optimizer = optim.Adam(model.parameters(), lr=0.01, weight_decay=l2_lambda)\n",
    "\n",
    "\n",
    "# Create a dataset and data loader\n",
    "dataset = TensorDataset(X_train, y_train)\n",
    "train_data_loader = DataLoader(dataset, batch_size=batch_size, shuffle=True)  "
   ]
  },
  {
   "cell_type": "code",
   "execution_count": 87,
   "metadata": {},
   "outputs": [
    {
     "name": "stderr",
     "output_type": "stream",
     "text": [
      "Training Progress: 100%|██████████| 1000/1000 [00:01<00:00, 507.65it/s, Loss=0.0031, MAE=0.0243, Val Loss=0.0025, Val MAE=0.0403]\n"
     ]
    }
   ],
   "source": [
    "# train the model\n",
    "train_NN(model, criterion, optimizer, train_data_loader, X_test, y_test, num_epochs, val_every=10)"
   ]
  },
  {
   "cell_type": "code",
   "execution_count": 88,
   "metadata": {},
   "outputs": [
    {
     "name": "stdout",
     "output_type": "stream",
     "text": [
      "Test loss: 0.002503875643014908\n",
      "Range: [9.1023, 21.5426], Actual Selectivity: 0.5038, Predicted Selectivity: 0.5482\n",
      "Range: [10.3351, 13.9641], Actual Selectivity: 0.1315, Predicted Selectivity: 0.1650\n",
      "Range: [19.9939, 23.0051], Actual Selectivity: 0.1411, Predicted Selectivity: 0.1183\n",
      "Range: [8.8859, 16.2834], Actual Selectivity: 0.3605, Predicted Selectivity: 0.3481\n",
      "Range: [10.0000, 10.0000], Actual Selectivity: 0.0381, Predicted Selectivity: 0.0533\n",
      "Range: [4.1559, 21.9569], Actual Selectivity: 0.6739, Predicted Selectivity: 0.7534\n",
      "Range: [6.6836, 20.8266], Actual Selectivity: 0.5788, Predicted Selectivity: 0.6102\n",
      "Range: [0.7961, 14.8834], Actual Selectivity: 0.5605, Predicted Selectivity: 0.6312\n",
      "Range: [12.0000, 12.0000], Actual Selectivity: 0.0346, Predicted Selectivity: 0.0515\n",
      "Range: [4.7215, 16.2654], Actual Selectivity: 0.4968, Predicted Selectivity: 0.5041\n",
      "Range: [19.3261, 23.9775], Actual Selectivity: 0.1411, Predicted Selectivity: 0.1927\n",
      "Range: [4.5185, 21.8065], Actual Selectivity: 0.6739, Predicted Selectivity: 0.7351\n",
      "Range: [20.6742, 22.3646], Actual Selectivity: 0.0643, Predicted Selectivity: 0.0773\n",
      "Range: [16.0000, 16.0000], Actual Selectivity: 0.0307, Predicted Selectivity: 0.0481\n",
      "Range: [15.2768, 19.0836], Actual Selectivity: 0.1405, Predicted Selectivity: 0.1614\n",
      "Range: [5.8676, 11.4801], Actual Selectivity: 0.2006, Predicted Selectivity: 0.2519\n",
      "Range: [21.5988, 23.9955], Actual Selectivity: 0.0738, Predicted Selectivity: 0.0953\n",
      "Range: [16.2579, 23.9637], Actual Selectivity: 0.2509, Predicted Selectivity: 0.3748\n",
      "Range: [12.2748, 20.9305], Actual Selectivity: 0.3734, Predicted Selectivity: 0.4032\n",
      "Range: [6.1281, 12.4817], Actual Selectivity: 0.2054, Predicted Selectivity: 0.2879\n"
     ]
    }
   ],
   "source": [
    "# now evaluate the model on the test data\n",
    "model.eval()\n",
    "with torch.no_grad():\n",
    "    y_pred = model(X_test)\n",
    "    test_loss = criterion(y_pred, y_test)\n",
    "    print(f\"Test loss: {test_loss.item()}\")\n",
    "\n",
    "\n",
    "# show side by side comparison of actual selectivity and predicted selectivity for all test data, along with the range\n",
    "y_pred_array = y_pred.numpy().flatten()\n",
    "y_test_array = y_test.numpy().flatten()\n",
    "X_test_array = X_test.numpy()\n",
    "\n",
    "for i in range(len(y_test)):\n",
    "    a, b = X_test_array[i]\n",
    "    print(f\"Range: [{a:.4f}, {b:.4f}], Actual Selectivity: {y_test_array[i]:.4f}, Predicted Selectivity: {y_pred_array[i]:.4f}\")\n",
    "\n"
   ]
  },
  {
   "cell_type": "markdown",
   "metadata": {},
   "source": [
    "#### Comparison with Online Linear Regression"
   ]
  },
  {
   "cell_type": "code",
   "execution_count": 13,
   "metadata": {},
   "outputs": [],
   "source": [
    "class SelectivityModelLR:\n",
    "\n",
    "    def __init__(self, table_name, attribute_name, lambda_reg=0.1, epsilon=1e-8):\n",
    "        self.table_name = table_name\n",
    "        self.attribute_name = attribute_name\n",
    "       \n",
    "        # set feature dimensions\n",
    "        self.features_per_attribute = 2\n",
    "        self.feature_dims = self.features_per_attribute  \n",
    "            \n",
    "        self.V = lambda_reg * np.eye(self.feature_dims)\n",
    "        self.b = np.zeros(self.feature_dims)\n",
    "        self.theta = np.zeros(self.feature_dims)\n",
    "        self.lambda_reg = lambda_reg\n",
    "        self.epsilon = epsilon\n",
    "        self.loss_history = []\n",
    "\n",
    "    def update(self, input, target, verbose=False):\n",
    "        x = np.array(input)\n",
    "        #print(f\"predicate: {predicate}, x: {x}\")\n",
    "        self.V += np.outer(x, x)\n",
    "        self.b += target * x\n",
    "        # add small epsilon to diagonal of V for conditioning\n",
    "        #self.theta = np.linalg.solve(self.V + self.epsilon*np.eye(self.feature_dims), self.b)\n",
    "        self.theta = np.linalg.solve(self.V, self.b)\n",
    "        loss, y_pred = self.compute_loss(input, target)\n",
    "        if verbose:\n",
    "            print(f\"Actual selectivity: {target}, predicted selectivity: {y_pred:.3f}, loss incurred: {loss}\")\n",
    "\n",
    "    \n",
    "    def predict(self, input):\n",
    "        x = np.array(input)\n",
    "        # need to constrain the predicted selectivity to be between 0 and 1\n",
    "        y_pred = np.dot(self.theta, x)\n",
    "        y_pred = min(max(0, y_pred), 1)\n",
    "        return y_pred\n",
    "\n",
    "\n",
    "    def compute_loss(self, input, target):\n",
    "        y_pred = self.predict(input)\n",
    "        mse = (target - y_pred)**2\n",
    "        reg = self.lambda_reg * np.dot(self.theta, self.theta)\n",
    "        loss = mse + reg\n",
    "        self.loss_history.append(loss)\n",
    "        return loss, y_pred    \n",
    "        \n"
   ]
  },
  {
   "cell_type": "code",
   "execution_count": 14,
   "metadata": {},
   "outputs": [],
   "source": [
    "# create a simple linear regression model for the same attribute\n",
    "table_name = \"customer\"\n",
    "column_name = \"c_nationkey\"\n",
    "actual_attribute_stats = actual_stats[table_name][column_name]\n",
    "min_value = actual_attribute_stats['min']\n",
    "max_value = actual_attribute_stats['max']\n",
    "\n",
    "# generate training data\n",
    "data = generate_range_predicate_samples(actual_stats, table_name, column_name, num_samples=100, fraction_eq=0.2)\n",
    "\n",
    "# split into training and testing data\n",
    "train_size = int(0.8 * num_samples)\n",
    "train_data = data[:train_size]\n",
    "test_data = data[train_size:]\n"
   ]
  },
  {
   "cell_type": "code",
   "execution_count": 15,
   "metadata": {},
   "outputs": [],
   "source": [
    "def train_lr(model, train_data, val_data, val_every=10, verbose=False):\n",
    "    #with tqdm(total=num_epochs, desc='Training Progress') as pbar:\n",
    "        total_train_loss = 0\n",
    "        mae_train = 0\n",
    "        with tqdm(total=len(train_data), desc='Training Progress') as pbar:\n",
    "            for i, (input, target) in enumerate(train_data):\n",
    "                loss, y_pred = model.compute_loss(input, target)\n",
    "                total_train_loss += loss\n",
    "                mae_train += abs(target - y_pred)\n",
    "                model.update(input, target)\n",
    "                pbar.update(1)\n",
    "\n",
    "                if (i + 1) % val_every == 0:\n",
    "                    total_val_loss = 0\n",
    "                    mae_val = 0\n",
    "                    for input, target in val_data:\n",
    "                        loss, y_pred = model.compute_loss(input, target)\n",
    "                        total_val_loss += loss\n",
    "                        mae_val += abs(target - y_pred)\n",
    "\n",
    "                    total_val_loss /= len(val_data)\n",
    "                    mae_val /= len(val_data)\n",
    "                    \n",
    "                pbar.set_postfix({'Train loss': f'{total_train_loss/(i+1):.4f}', 'Train MAE': f'{mae_train/(i+1):.4f}', 'Val loss': f'{total_val_loss:.4f}', 'Val MAE': f'{mae_val:.4f}'})\n",
    "\n",
    "                if verbose: print(f\"Train loss: {total_train_loss/(i+1):.4f}, Train MAE: {mae_train/(i+1):.4f}, Val loss: {total_val_loss:.4f}, Val MAE: {mae_val:.4f}\")\n",
    "\n"
   ]
  },
  {
   "cell_type": "code",
   "execution_count": 16,
   "metadata": {},
   "outputs": [],
   "source": [
    "# instantiate the LR model\n",
    "lr_model = SelectivityModelLR(table_name, column_name, lambda_reg=0.01)"
   ]
  },
  {
   "cell_type": "code",
   "execution_count": 17,
   "metadata": {},
   "outputs": [
    {
     "name": "stderr",
     "output_type": "stream",
     "text": [
      "Training Progress: 100%|██████████| 80/80 [00:00<00:00, 1461.86it/s, Train loss=0.0013, Train MAE=0.0285, Val loss=0.0014, Val MAE=0.0296]\n"
     ]
    }
   ],
   "source": [
    "# train the model\n",
    "train_lr(lr_model, train_data, test_data, val_every=1)"
   ]
  },
  {
   "cell_type": "code",
   "execution_count": 18,
   "metadata": {},
   "outputs": [
    {
     "name": "stdout",
     "output_type": "stream",
     "text": [
      "Range: [2.8650, 4.2191], Actual Selectivity: 0.1033, Predicted Selectivity: 0.0550\n",
      "Range: [7.0000, 7.0000], Actual Selectivity: 0.0296, Predicted Selectivity: 0.0000\n",
      "Range: [15.0112, 18.2667], Actual Selectivity: 0.1109, Predicted Selectivity: 0.1310\n",
      "Range: [20.5279, 20.8555], Actual Selectivity: 0.0000, Predicted Selectivity: 0.0100\n",
      "Range: [4.0000, 4.0000], Actual Selectivity: 0.0467, Predicted Selectivity: 0.0000\n",
      "Range: [18.9405, 19.7190], Actual Selectivity: 0.0296, Predicted Selectivity: 0.0288\n",
      "Range: [1.4614, 5.0490], Actual Selectivity: 0.1743, Predicted Selectivity: 0.1468\n",
      "Range: [20.8057, 23.7549], Actual Selectivity: 0.1035, Predicted Selectivity: 0.1174\n",
      "Range: [19.2745, 21.0633], Actual Selectivity: 0.0673, Predicted Selectivity: 0.0701\n",
      "Range: [10.3486, 13.5541], Actual Selectivity: 0.1315, Predicted Selectivity: 0.1297\n",
      "Range: [0.5859, 4.2437], Actual Selectivity: 0.1965, Predicted Selectivity: 0.1498\n",
      "Range: [7.0000, 7.0000], Actual Selectivity: 0.0296, Predicted Selectivity: 0.0000\n",
      "Range: [6.3175, 23.5766], Actual Selectivity: 0.6822, Predicted Selectivity: 0.7064\n",
      "Range: [21.3847, 22.8966], Actual Selectivity: 0.0346, Predicted Selectivity: 0.0584\n",
      "Range: [0.9886, 15.1193], Actual Selectivity: 0.6626, Predicted Selectivity: 0.5790\n",
      "Range: [22.0000, 22.0000], Actual Selectivity: 0.0346, Predicted Selectivity: 0.0000\n",
      "Range: [12.1708, 15.1704], Actual Selectivity: 0.1953, Predicted Selectivity: 0.1209\n",
      "Range: [4.2737, 19.2440], Actual Selectivity: 0.6066, Predicted Selectivity: 0.6129\n",
      "Range: [0.0025, 12.3100], Actual Selectivity: 0.4674, Predicted Selectivity: 0.5045\n",
      "Range: [19.0000, 19.0000], Actual Selectivity: 0.0296, Predicted Selectivity: 0.0000\n"
     ]
    }
   ],
   "source": [
    "# show side by side comparison of actual selectivity and LR model predicted selectivity for all test data, along with the range\n",
    "for input, target in test_data:\n",
    "    a, b = input\n",
    "    y_pred = lr_model.predict(input)\n",
    "    print(f\"Range: [{a:.4f}, {b:.4f}], Actual Selectivity: {target:.4f}, Predicted Selectivity: {y_pred:.4f}\")\n"
   ]
  },
  {
   "cell_type": "markdown",
   "metadata": {},
   "source": [
    "### Training on artifically generated data distributions"
   ]
  },
  {
   "cell_type": "code",
   "execution_count": 116,
   "metadata": {},
   "outputs": [],
   "source": [
    "# function for computing selectivity of one-sided range predicates using actual stats\n",
    "def exact_selectivity_range_dist(boundary_left, boundary_right, total_rows, min_value, max_value, histogram=None):\n",
    "    \n",
    "    # find all values that fall within the range\n",
    "    selectivity = 0\n",
    "    for value, count in histogram.items():\n",
    "        if boundary_left <= value <= boundary_right:\n",
    "            selectivity += count\n",
    "    \n",
    "    selectivity = selectivity / total_rows\n",
    "\n",
    "    return selectivity"
   ]
  },
  {
   "cell_type": "code",
   "execution_count": 80,
   "metadata": {},
   "outputs": [],
   "source": [
    "def generate_range_predicate_samples_dist(total_rows, min_value, max_value, histogram, num_samples=100, fraction_eq=0.1):\n",
    "    data = []\n",
    "    epsilon = 1e-6 * (max_value - min_value)\n",
    "    num_eq_samples = int(num_samples * fraction_eq)\n",
    "    num_range_samples = num_samples - num_eq_samples\n",
    "    \n",
    "    # generate range predicate samples\n",
    "    for i in range(num_range_samples):\n",
    "        # generate a random start of the range\n",
    "        a = np.random.uniform(min_value, 0.9*max_value)\n",
    "        # generate a random end of the range, larger than a\n",
    "        b = np.random.uniform(a, max_value)\n",
    "        selectivity = exact_selectivity_range_dist(a, b, total_rows, min_value, max_value, histogram)\n",
    "        data.append(([a, b], selectivity))\n",
    "\n",
    "    # generate equality predicate samples\n",
    "    for i in range(num_eq_samples):\n",
    "        # draw a value from the histogram uniformly at random\n",
    "        histogram = actual_table_stats[column_name]['histogram']\n",
    "        values = list(histogram.keys())\n",
    "        a = np.random.choice(values) \n",
    "        b = a + epsilon\n",
    "        a = a - epsilon   \n",
    "        selectivity = exact_selectivity_range_dist(a, b, total_rows, min_value, max_value, histogram)\n",
    "        data.append(([a, b], selectivity))     \n",
    "\n",
    "    # shuffle the data\n",
    "    np.random.shuffle(data)\n",
    "\n",
    "    return data"
   ]
  },
  {
   "cell_type": "markdown",
   "metadata": {},
   "source": [
    "#### Learning a Uniform Distribution"
   ]
  },
  {
   "cell_type": "code",
   "execution_count": 89,
   "metadata": {},
   "outputs": [],
   "source": [
    "# uniform distribution\n",
    "min_value = 0\n",
    "max_value = 99\n",
    "num_distinct_values = 100\n",
    "total_rows = 10000000\n",
    "\n",
    "# use distribution function to generate values and counts for histogram\n",
    "values = np.arange(min_value, max_value+1, (max_value+1-min_value)//num_distinct_values)\n",
    "counts = (total_rows // num_distinct_values) * np.ones(num_distinct_values)\n",
    "\n",
    "histogram = dict(zip(values, counts))"
   ]
  },
  {
   "cell_type": "code",
   "execution_count": 90,
   "metadata": {},
   "outputs": [
    {
     "name": "stdout",
     "output_type": "stream",
     "text": [
      "Number of training samples: 90, Number of testing samples: 60\n"
     ]
    }
   ],
   "source": [
    "# generate some data\n",
    "num_samples=150\n",
    "data = generate_range_predicate_samples_dist(total_rows, min_value, max_value, histogram, num_samples=num_samples, fraction_eq=0.2)\n",
    "\n",
    "# split into training and testing data\n",
    "train_size = int(0.6 * num_samples)\n",
    "train_data = data[:train_size]\n",
    "test_data = data[train_size:]\n",
    "\n",
    "print(f\"Number of training samples: {len(train_data)}, Number of testing samples: {len(test_data)}\")\n",
    "\n",
    "X_train = torch.tensor([d[0] for d in train_data], dtype=torch.float32)\n",
    "y_train = torch.tensor([d[1] for d in train_data], dtype=torch.float32).view(-1, 1)\n",
    "X_test = torch.tensor([d[0] for d in test_data], dtype=torch.float32)\n",
    "y_test = torch.tensor([d[1] for d in test_data], dtype=torch.float32).view(-1, 1)"
   ]
  },
  {
   "cell_type": "code",
   "execution_count": 91,
   "metadata": {},
   "outputs": [],
   "source": [
    "# instantiate NN and LR models\n",
    "num_epochs = 1000\n",
    "hidden_size = 32\n",
    "batch_size = 32\n",
    "l2_lambda = 0.001 # l2 regularization parameter\n",
    "\n",
    "# instantiate the NN model, loss function, and optimizer\n",
    "model = SelectivityModel(hidden_size=hidden_size)\n",
    "criterion = nn.MSELoss()\n",
    "optimizer = optim.Adam(model.parameters(), lr=0.01, weight_decay=l2_lambda)\n",
    "\n",
    "# Create a dataset and data loader\n",
    "dataset = TensorDataset(X_train, y_train)\n",
    "data_loader = DataLoader(dataset, batch_size=batch_size, shuffle=True)  \n",
    "\n",
    "# instantiate the LR model\n",
    "lr_model = SelectivityModelLR(table_name, column_name, lambda_reg=0.01)"
   ]
  },
  {
   "cell_type": "code",
   "execution_count": 92,
   "metadata": {},
   "outputs": [
    {
     "name": "stdout",
     "output_type": "stream",
     "text": [
      "Training NN model...\n"
     ]
    },
    {
     "name": "stderr",
     "output_type": "stream",
     "text": [
      "Training Progress:   0%|          | 0/1000 [00:00<?, ?it/s]"
     ]
    },
    {
     "name": "stderr",
     "output_type": "stream",
     "text": [
      "Training Progress: 100%|██████████| 1000/1000 [00:02<00:00, 477.58it/s, Loss=0.0013, MAE=0.0162, Val Loss=0.0004, Val MAE=0.0169]\n"
     ]
    },
    {
     "name": "stdout",
     "output_type": "stream",
     "text": [
      "Training LR model...\n"
     ]
    },
    {
     "name": "stderr",
     "output_type": "stream",
     "text": [
      "Training Progress: 100%|██████████| 90/90 [00:00<00:00, 1253.47it/s, Train loss=0.0004, Train MAE=0.0071, Val loss=0.0000, Val MAE=0.0040]\n"
     ]
    }
   ],
   "source": [
    "# train the models\n",
    "print(f\"Training NN model...\")\n",
    "train_NN(model, criterion, optimizer, data_loader, X_test, y_test, num_epochs, val_every=10)\n",
    "print(f\"Training LR model...\")\n",
    "train_lr(lr_model, train_data, test_data, val_every=1)"
   ]
  },
  {
   "cell_type": "code",
   "execution_count": 94,
   "metadata": {},
   "outputs": [
    {
     "name": "stdout",
     "output_type": "stream",
     "text": [
      "NN Test loss: 0.00041398173198103905\n",
      "Range: [0.9999, 1.0001], Actual Selectivity: 0.0087, NN Predicted Selectivity: 0.0471, LR Predicted Selectivity: 0.0000\n",
      "Range: [77.5544, 93.3910], Actual Selectivity: 0.1600, NN Predicted Selectivity: 0.1579, LR Predicted Selectivity: 0.1583\n",
      "Range: [3.6556, 58.5532], Actual Selectivity: 0.5500, NN Predicted Selectivity: 0.5680, LR Predicted Selectivity: 0.5487\n",
      "Range: [4.6190, 76.1635], Actual Selectivity: 0.7200, NN Predicted Selectivity: 0.7389, LR Predicted Selectivity: 0.7150\n",
      "Range: [55.5863, 90.6247], Actual Selectivity: 0.3500, NN Predicted Selectivity: 0.3613, LR Predicted Selectivity: 0.3502\n",
      "Range: [11.9999, 12.0001], Actual Selectivity: 0.0052, NN Predicted Selectivity: 0.0413, LR Predicted Selectivity: 0.0000\n",
      "Range: [9.9999, 10.0001], Actual Selectivity: 0.0057, NN Predicted Selectivity: 0.0421, LR Predicted Selectivity: 0.0000\n",
      "Range: [17.5276, 34.9693], Actual Selectivity: 0.1700, NN Predicted Selectivity: 0.1828, LR Predicted Selectivity: 0.1743\n",
      "Range: [1.7454, 56.4385], Actual Selectivity: 0.5500, NN Predicted Selectivity: 0.5653, LR Predicted Selectivity: 0.5466\n",
      "Range: [59.6825, 91.1278], Actual Selectivity: 0.3200, NN Predicted Selectivity: 0.3264, LR Predicted Selectivity: 0.3143\n",
      "Range: [40.5685, 97.2625], Actual Selectivity: 0.5700, NN Predicted Selectivity: 0.5956, LR Predicted Selectivity: 0.5666\n",
      "Range: [31.4622, 42.1625], Actual Selectivity: 0.1100, NN Predicted Selectivity: 0.1192, LR Predicted Selectivity: 0.1070\n",
      "Range: [10.6929, 58.0106], Actual Selectivity: 0.4800, NN Predicted Selectivity: 0.4825, LR Predicted Selectivity: 0.4729\n",
      "Range: [30.0455, 86.1886], Actual Selectivity: 0.5600, NN Predicted Selectivity: 0.5867, LR Predicted Selectivity: 0.5611\n",
      "Range: [38.8234, 94.0765], Actual Selectivity: 0.5600, NN Predicted Selectivity: 0.5791, LR Predicted Selectivity: 0.5522\n",
      "Range: [20.5457, 43.4890], Actual Selectivity: 0.2300, NN Predicted Selectivity: 0.2339, LR Predicted Selectivity: 0.2293\n",
      "Range: [8.9999, 9.0001], Actual Selectivity: 0.0051, NN Predicted Selectivity: 0.0425, LR Predicted Selectivity: 0.0000\n",
      "Range: [48.3139, 85.5634], Actual Selectivity: 0.3700, NN Predicted Selectivity: 0.3814, LR Predicted Selectivity: 0.3723\n",
      "Range: [20.9999, 21.0001], Actual Selectivity: 0.0045, NN Predicted Selectivity: 0.0378, LR Predicted Selectivity: 0.0000\n",
      "Range: [31.1276, 34.3550], Actual Selectivity: 0.0300, NN Predicted Selectivity: 0.0532, LR Predicted Selectivity: 0.0323\n",
      "Range: [16.6332, 40.8234], Actual Selectivity: 0.2400, NN Predicted Selectivity: 0.2434, LR Predicted Selectivity: 0.2418\n",
      "Range: [78.3855, 86.7803], Actual Selectivity: 0.0800, NN Predicted Selectivity: 0.0735, LR Predicted Selectivity: 0.0839\n",
      "Range: [82.7665, 97.0230], Actual Selectivity: 0.1500, NN Predicted Selectivity: 0.1396, LR Predicted Selectivity: 0.1425\n",
      "Range: [62.6674, 62.9113], Actual Selectivity: 0.0000, NN Predicted Selectivity: 0.0273, LR Predicted Selectivity: 0.0025\n",
      "Range: [23.9999, 24.0001], Actual Selectivity: 0.0036, NN Predicted Selectivity: 0.0368, LR Predicted Selectivity: 0.0000\n",
      "Range: [36.2537, 48.7763], Actual Selectivity: 0.1200, NN Predicted Selectivity: 0.1350, LR Predicted Selectivity: 0.1252\n",
      "Range: [11.9587, 62.2411], Actual Selectivity: 0.5100, NN Predicted Selectivity: 0.5168, LR Predicted Selectivity: 0.5025\n",
      "Range: [24.5298, 24.5684], Actual Selectivity: 0.0000, NN Predicted Selectivity: 0.0368, LR Predicted Selectivity: 0.0004\n",
      "Range: [55.5831, 91.5725], Actual Selectivity: 0.3600, NN Predicted Selectivity: 0.3712, LR Predicted Selectivity: 0.3597\n",
      "Range: [27.1848, 89.6141], Actual Selectivity: 0.6200, NN Predicted Selectivity: 0.6542, LR Predicted Selectivity: 0.6239\n",
      "Range: [45.1112, 79.8453], Actual Selectivity: 0.3400, NN Predicted Selectivity: 0.3537, LR Predicted Selectivity: 0.3472\n",
      "Range: [73.9806, 85.7746], Actual Selectivity: 0.1200, NN Predicted Selectivity: 0.1177, LR Predicted Selectivity: 0.1179\n",
      "Range: [2.0378, 46.0209], Actual Selectivity: 0.4400, NN Predicted Selectivity: 0.4428, LR Predicted Selectivity: 0.4396\n",
      "Range: [22.5024, 78.2399], Actual Selectivity: 0.5600, NN Predicted Selectivity: 0.5808, LR Predicted Selectivity: 0.5571\n",
      "Range: [40.5942, 92.1017], Actual Selectivity: 0.5200, NN Predicted Selectivity: 0.5378, LR Predicted Selectivity: 0.5148\n",
      "Range: [12.9999, 13.0001], Actual Selectivity: 0.0103, NN Predicted Selectivity: 0.0409, LR Predicted Selectivity: 0.0000\n",
      "Range: [35.2303, 55.3215], Actual Selectivity: 0.2000, NN Predicted Selectivity: 0.2103, LR Predicted Selectivity: 0.2008\n",
      "Range: [70.6462, 84.7285], Actual Selectivity: 0.1400, NN Predicted Selectivity: 0.1412, LR Predicted Selectivity: 0.1408\n",
      "Range: [56.2602, 62.6596], Actual Selectivity: 0.0600, NN Predicted Selectivity: 0.0670, LR Predicted Selectivity: 0.0640\n",
      "Range: [26.6365, 31.6796], Actual Selectivity: 0.0500, NN Predicted Selectivity: 0.0705, LR Predicted Selectivity: 0.0504\n",
      "Range: [47.0247, 83.0070], Actual Selectivity: 0.3600, NN Predicted Selectivity: 0.3675, LR Predicted Selectivity: 0.3596\n",
      "Range: [65.2417, 85.5702], Actual Selectivity: 0.2000, NN Predicted Selectivity: 0.2104, LR Predicted Selectivity: 0.2032\n",
      "Range: [76.6318, 77.0387], Actual Selectivity: 0.0100, NN Predicted Selectivity: 0.0249, LR Predicted Selectivity: 0.0041\n",
      "Range: [35.9192, 64.0326], Actual Selectivity: 0.2900, NN Predicted Selectivity: 0.2850, LR Predicted Selectivity: 0.2810\n",
      "Range: [16.9999, 17.0001], Actual Selectivity: 0.0058, NN Predicted Selectivity: 0.0393, LR Predicted Selectivity: 0.0000\n",
      "Range: [14.9580, 58.1295], Actual Selectivity: 0.4400, NN Predicted Selectivity: 0.4360, LR Predicted Selectivity: 0.4315\n",
      "Range: [75.4053, 77.7030], Actual Selectivity: 0.0200, NN Predicted Selectivity: 0.0327, LR Predicted Selectivity: 0.0230\n",
      "Range: [75.5945, 98.6831], Actual Selectivity: 0.2300, NN Predicted Selectivity: 0.2428, LR Predicted Selectivity: 0.2308\n",
      "Range: [14.9999, 15.0001], Actual Selectivity: 0.0153, NN Predicted Selectivity: 0.0401, LR Predicted Selectivity: 0.0000\n",
      "Range: [59.9474, 62.3335], Actual Selectivity: 0.0300, NN Predicted Selectivity: 0.0376, LR Predicted Selectivity: 0.0239\n",
      "Range: [40.2745, 51.1641], Actual Selectivity: 0.1100, NN Predicted Selectivity: 0.1188, LR Predicted Selectivity: 0.1089\n",
      "Range: [42.3393, 87.3853], Actual Selectivity: 0.4500, NN Predicted Selectivity: 0.4651, LR Predicted Selectivity: 0.4502\n",
      "Range: [56.1453, 98.5531], Actual Selectivity: 0.4200, NN Predicted Selectivity: 0.4412, LR Predicted Selectivity: 0.4239\n",
      "Range: [6.9999, 7.0001], Actual Selectivity: 0.0044, NN Predicted Selectivity: 0.0434, LR Predicted Selectivity: 0.0000\n",
      "Range: [19.9999, 20.0001], Actual Selectivity: 0.0056, NN Predicted Selectivity: 0.0382, LR Predicted Selectivity: 0.0000\n",
      "Range: [58.4545, 73.5262], Actual Selectivity: 0.1500, NN Predicted Selectivity: 0.1552, LR Predicted Selectivity: 0.1507\n",
      "Range: [26.4315, 85.1656], Actual Selectivity: 0.5900, NN Predicted Selectivity: 0.6146, LR Predicted Selectivity: 0.5870\n",
      "Range: [23.1404, 63.9642], Actual Selectivity: 0.4000, NN Predicted Selectivity: 0.4111, LR Predicted Selectivity: 0.4080\n",
      "Range: [69.5222, 94.7018], Actual Selectivity: 0.2500, NN Predicted Selectivity: 0.2706, LR Predicted Selectivity: 0.2517\n",
      "Range: [43.2016, 72.0480], Actual Selectivity: 0.2900, NN Predicted Selectivity: 0.2948, LR Predicted Selectivity: 0.2883\n"
     ]
    }
   ],
   "source": [
    "# evaluate both models on the test data\n",
    "model.eval()\n",
    "with torch.no_grad():\n",
    "    y_pred = model(X_test)\n",
    "    test_loss = criterion(y_pred, y_test)\n",
    "    print(f\"NN Test loss: {test_loss.item()}\")\n",
    "\n",
    "# show side by side comparison of actual selectivity and predicted selectivity for all test data, along with the range\n",
    "y_pred_array = y_pred.numpy().flatten()\n",
    "y_test_array = y_test.numpy().flatten()\n",
    "X_test_array = X_test.numpy()\n",
    "\n",
    "for i in range(len(y_test)):\n",
    "    a, b = X_test_array[i]\n",
    "    lr_pred = lr_model.predict(X_test_array[i])\n",
    "    print(f\"Range: [{a:.4f}, {b:.4f}], Actual Selectivity: {y_test_array[i]:.4f}, NN Predicted Selectivity: {y_pred_array[i]:.4f}, LR Predicted Selectivity: {lr_pred:.4f}\")    "
   ]
  },
  {
   "cell_type": "markdown",
   "metadata": {},
   "source": [
    "#### Learning a Gaussian Distribution"
   ]
  },
  {
   "cell_type": "code",
   "execution_count": 95,
   "metadata": {},
   "outputs": [],
   "source": [
    "# truncated normal distribution\n",
    "def normal_distribution(total_rows, min_value, max_value, x):\n",
    "    # set mean and std deviation\n",
    "    mean = (min_value + max_value) / 2\n",
    "    std = (max_value - min_value) / 6\n",
    "\n",
    "    # compute value of gaussian pdf at x\n",
    "    pdf = np.exp(-0.5 * ((x - mean) / std)**2) / (std * np.sqrt(2 * np.pi)) \n",
    "    # convert to count\n",
    "    count = pdf * total_rows\n",
    "    return count"
   ]
  },
  {
   "cell_type": "code",
   "execution_count": 96,
   "metadata": {},
   "outputs": [
    {
     "data": {
      "image/png": "[encoded data removed]",
      "text/plain": [
       "<Figure size 500x400 with 1 Axes>"
      ]
     },
     "metadata": {},
     "output_type": "display_data"
    }
   ],
   "source": [
    "# gaussian distribution\n",
    "min_value = -200\n",
    "max_value = 2000\n",
    "total_rows = 1000000\n",
    "num_distinct_values = total_rows // 100\n",
    "\n",
    "# use distribution function to generate values and counts for histogram\n",
    "values = np.linspace(min_value, max_value, num_distinct_values)\n",
    "counts = np.array([normal_distribution(total_rows, min_value, max_value, x) for x in values])\n",
    "\n",
    "# normaize the counts so that they are integers and sum to total_rows\n",
    "counts = counts / np.sum(counts) * total_rows\n",
    "counts = np.round(counts)\n",
    "\n",
    "histogram = dict(zip(values, counts))\n",
    "\n",
    "# plot the histogram\n",
    "plt.figure(figsize=(5, 4))\n",
    "plt.plot(values, counts)\n",
    "plt.xlabel(\"Value\")\n",
    "plt.ylabel(\"Count\")\n",
    "plt.title(\"Gaussian Distribution\")\n",
    "plt.show()\n"
   ]
  },
  {
   "cell_type": "code",
   "execution_count": 107,
   "metadata": {},
   "outputs": [
    {
     "name": "stdout",
     "output_type": "stream",
     "text": [
      "Number of training samples: 90, Number of testing samples: 60\n"
     ]
    }
   ],
   "source": [
    "# generate some data\n",
    "num_samples=150\n",
    "data = generate_range_predicate_samples_dist(total_rows, min_value, max_value, histogram, num_samples=num_samples, fraction_eq=0.2)\n",
    "\n",
    "# split into training and testing data\n",
    "train_size = int(0.6 * num_samples)\n",
    "train_data = data[:train_size]\n",
    "test_data = data[train_size:]\n",
    "\n",
    "print(f\"Number of training samples: {len(train_data)}, Number of testing samples: {len(test_data)}\")\n",
    "\n",
    "X_train = torch.tensor([d[0] for d in train_data], dtype=torch.float32)\n",
    "y_train = torch.tensor([d[1] for d in train_data], dtype=torch.float32).view(-1, 1)\n",
    "X_test = torch.tensor([d[0] for d in test_data], dtype=torch.float32)\n",
    "y_test = torch.tensor([d[1] for d in test_data], dtype=torch.float32).view(-1, 1)\n",
    "\n",
    "# normalize the input data for NN\n",
    "X_train_normalized = X_train # (X_train - min_value) / (max_value - min_value)\n",
    "X_test_normalized = X_test # (X_test - min_value) / (max_value - min_value)"
   ]
  },
  {
   "cell_type": "code",
   "execution_count": 114,
   "metadata": {},
   "outputs": [],
   "source": [
    "# instantiate NN and LR models\n",
    "num_epochs = 5000\n",
    "hidden_size = 32\n",
    "batch_size = 32\n",
    "l2_lambda = 0.001 # l2 regularization parameter\n",
    "\n",
    "# instantiate the NN model, loss function, and optimizer\n",
    "model = SelectivityModel(hidden_size=hidden_size)\n",
    "criterion = nn.MSELoss()\n",
    "optimizer = optim.Adam(model.parameters(), lr=0.01, weight_decay=l2_lambda)\n",
    "\n",
    "# Create a dataset and data loader\n",
    "dataset = TensorDataset(X_train_normalized, y_train)\n",
    "data_loader = DataLoader(dataset, batch_size=batch_size, shuffle=True)  \n",
    "\n",
    "# instantiate the LR model\n",
    "lr_model = SelectivityModelLR(table_name, column_name, lambda_reg=0.01)"
   ]
  },
  {
   "cell_type": "code",
   "execution_count": 115,
   "metadata": {},
   "outputs": [
    {
     "name": "stdout",
     "output_type": "stream",
     "text": [
      "Training NN model...\n"
     ]
    },
    {
     "name": "stderr",
     "output_type": "stream",
     "text": [
      "Training Progress: 100%|██████████| 5000/5000 [00:09<00:00, 504.96it/s, Loss=0.0207, MAE=0.0519, Val Loss=0.0092, Val MAE=0.0706]\n"
     ]
    },
    {
     "name": "stdout",
     "output_type": "stream",
     "text": [
      "Training LR model...\n"
     ]
    },
    {
     "name": "stderr",
     "output_type": "stream",
     "text": [
      "Training Progress: 100%|██████████| 90/90 [00:00<00:00, 1315.36it/s, Train loss=0.0132, Train MAE=0.0882, Val loss=0.0118, Val MAE=0.0861]"
     ]
    },
    {
     "name": "stdout",
     "output_type": "stream",
     "text": [
      "NN Test loss: 0.009218425489962101\n",
      "Range: [490.3493, 1045.8795], Actual Selectivity: 0.5241, NN Predicted Selectivity: 0.3272, LR Predicted Selectivity: 0.3226\n",
      "Range: [742.7738, 1944.2501], Actual Selectivity: 0.6657, NN Predicted Selectivity: 0.7899, LR Predicted Selectivity: 0.7115\n",
      "Range: [922.7987, 964.7094], Actual Selectivity: 0.0453, NN Predicted Selectivity: 0.0721, LR Predicted Selectivity: 0.0000\n",
      "Range: [845.1585, 1912.3763], Actual Selectivity: 0.5580, NN Predicted Selectivity: 0.6738, LR Predicted Selectivity: 0.6240\n",
      "Range: [128.3185, 609.1077], Actual Selectivity: 0.1967, NN Predicted Selectivity: 0.3836, LR Predicted Selectivity: 0.2920\n",
      "Range: [9.9978, 10.0022], Actual Selectivity: 0.0571, NN Predicted Selectivity: 0.0721, LR Predicted Selectivity: 0.0000\n",
      "Range: [12.9978, 13.0022], Actual Selectivity: 0.1032, NN Predicted Selectivity: 0.0721, LR Predicted Selectivity: 0.0000\n",
      "Range: [12.9978, 13.0022], Actual Selectivity: 0.1032, NN Predicted Selectivity: 0.0721, LR Predicted Selectivity: 0.0000\n",
      "Range: [1633.4266, 1769.8011], Actual Selectivity: 0.0139, NN Predicted Selectivity: 0.0721, LR Predicted Selectivity: 0.0141\n",
      "Range: [-0.0022, 0.0022], Actual Selectivity: 0.0477, NN Predicted Selectivity: 0.0723, LR Predicted Selectivity: 0.0000\n",
      "Range: [1209.7059, 1778.1271], Actual Selectivity: 0.1913, NN Predicted Selectivity: 0.1850, LR Predicted Selectivity: 0.2997\n",
      "Range: [717.4053, 1485.3344], Actual Selectivity: 0.6373, NN Predicted Selectivity: 0.4476, LR Predicted Selectivity: 0.4443\n",
      "Range: [1473.5472, 1642.6014], Actual Selectivity: 0.0375, NN Predicted Selectivity: 0.0721, LR Predicted Selectivity: 0.0412\n",
      "Range: [23.9978, 24.0022], Actual Selectivity: 0.0360, NN Predicted Selectivity: 0.0721, LR Predicted Selectivity: 0.0000\n",
      "Range: [1029.9355, 1682.1508], Actual Selectivity: 0.3459, NN Predicted Selectivity: 0.2732, LR Predicted Selectivity: 0.3593\n",
      "Range: [931.9563, 1651.1802], Actual Selectivity: 0.4463, NN Predicted Selectivity: 0.3482, LR Predicted Selectivity: 0.4049\n",
      "Range: [926.2706, 1042.6128], Actual Selectivity: 0.1232, NN Predicted Selectivity: 0.0721, LR Predicted Selectivity: 0.0321\n",
      "Range: [645.7556, 872.5086], Actual Selectivity: 0.2268, NN Predicted Selectivity: 0.1110, LR Predicted Selectivity: 0.1125\n",
      "Range: [1549.1428, 1724.2458], Actual Selectivity: 0.0261, NN Predicted Selectivity: 0.0721, LR Predicted Selectivity: 0.0417\n",
      "Range: [736.1591, 1029.4630], Actual Selectivity: 0.3113, NN Predicted Selectivity: 0.1254, LR Predicted Selectivity: 0.1498\n",
      "Range: [458.7024, 998.0737], Actual Selectivity: 0.4925, NN Predicted Selectivity: 0.3222, LR Predicted Selectivity: 0.3140\n",
      "Range: [174.7567, 498.5660], Actual Selectivity: 0.1131, NN Predicted Selectivity: 0.2242, LR Predicted Selectivity: 0.1928\n",
      "Range: [1302.2184, 1828.2184], Actual Selectivity: 0.1310, NN Predicted Selectivity: 0.1494, LR Predicted Selectivity: 0.2694\n",
      "Range: [1493.9656, 1709.1440], Actual Selectivity: 0.0390, NN Predicted Selectivity: 0.0721, LR Predicted Selectivity: 0.0689\n",
      "Range: [13.9978, 14.0022], Actual Selectivity: 0.0365, NN Predicted Selectivity: 0.0721, LR Predicted Selectivity: 0.0000\n",
      "Range: [875.5369, 905.6971], Actual Selectivity: 0.0329, NN Predicted Selectivity: 0.0721, LR Predicted Selectivity: 0.0000\n",
      "Range: [1633.5969, 1818.2787], Actual Selectivity: 0.0166, NN Predicted Selectivity: 0.0721, LR Predicted Selectivity: 0.0440\n",
      "Range: [1034.3739, 1082.3945], Actual Selectivity: 0.0476, NN Predicted Selectivity: 0.0721, LR Predicted Selectivity: 0.0000\n",
      "Range: [410.0826, 1328.0859], Actual Selectivity: 0.7900, NN Predicted Selectivity: 0.5821, LR Predicted Selectivity: 0.5504\n",
      "Range: [9.9978, 10.0022], Actual Selectivity: 0.0571, NN Predicted Selectivity: 0.0721, LR Predicted Selectivity: 0.0000\n",
      "Range: [17.9978, 18.0022], Actual Selectivity: 0.0617, NN Predicted Selectivity: 0.0721, LR Predicted Selectivity: 0.0000\n",
      "Range: [1397.6846, 1698.4784], Actual Selectivity: 0.0728, NN Predicted Selectivity: 0.0721, LR Predicted Selectivity: 0.1260\n",
      "Range: [1579.5262, 1822.0439], Actual Selectivity: 0.0261, NN Predicted Selectivity: 0.0721, LR Predicted Selectivity: 0.0821\n",
      "Range: [837.9988, 1448.2814], Actual Selectivity: 0.5012, NN Predicted Selectivity: 0.2862, LR Predicted Selectivity: 0.3416\n",
      "Range: [1201.6833, 1413.6901], Actual Selectivity: 0.1251, NN Predicted Selectivity: 0.0721, LR Predicted Selectivity: 0.0795\n",
      "Range: [212.3341, 1387.9578], Actual Selectivity: 0.8804, NN Predicted Selectivity: 0.8744, LR Predicted Selectivity: 0.7183\n",
      "Range: [1741.3098, 1917.3885], Actual Selectivity: 0.0081, NN Predicted Selectivity: 0.0721, LR Predicted Selectivity: 0.0340\n",
      "Range: [169.5511, 1263.1232], Actual Selectivity: 0.8180, NN Predicted Selectivity: 0.8231, LR Predicted Selectivity: 0.6693\n",
      "Range: [734.4420, 1728.0677], Actual Selectivity: 0.6640, NN Predicted Selectivity: 0.6420, LR Predicted Selectivity: 0.5832\n",
      "Range: [101.8379, 536.2155], Actual Selectivity: 0.1463, NN Predicted Selectivity: 0.3605, LR Predicted Selectivity: 0.2644\n",
      "Range: [3.9978, 4.0022], Actual Selectivity: 0.0701, NN Predicted Selectivity: 0.0721, LR Predicted Selectivity: 0.0000\n",
      "Range: [1240.5490, 1289.8748], Actual Selectivity: 0.0327, NN Predicted Selectivity: 0.0721, LR Predicted Selectivity: 0.0000\n",
      "Range: [1382.5250, 1585.2885], Actual Selectivity: 0.0635, NN Predicted Selectivity: 0.0721, LR Predicted Selectivity: 0.0660\n",
      "Range: [18.9978, 19.0022], Actual Selectivity: 0.0444, NN Predicted Selectivity: 0.0721, LR Predicted Selectivity: 0.0000\n",
      "Range: [311.4922, 859.1036], Actual Selectivity: 0.4024, NN Predicted Selectivity: 0.3609, LR Predicted Selectivity: 0.3254\n",
      "Range: [375.7660, 804.5547], Actual Selectivity: 0.3218, NN Predicted Selectivity: 0.2594, LR Predicted Selectivity: 0.2491\n",
      "Range: [375.1016, 1544.6873], Actual Selectivity: 0.8870, NN Predicted Selectivity: 0.8430, LR Predicted Selectivity: 0.7075\n",
      "Range: [456.2251, 1748.9873], Actual Selectivity: 0.8790, NN Predicted Selectivity: 0.8690, LR Predicted Selectivity: 0.7803\n",
      "Range: [1125.7294, 1156.6654], Actual Selectivity: 0.0273, NN Predicted Selectivity: 0.0721, LR Predicted Selectivity: 0.0000\n",
      "Range: [4.9978, 5.0022], Actual Selectivity: 0.0534, NN Predicted Selectivity: 0.0721, LR Predicted Selectivity: 0.0000\n",
      "Range: [-0.0022, 0.0022], Actual Selectivity: 0.0477, NN Predicted Selectivity: 0.0723, LR Predicted Selectivity: 0.0000\n",
      "Range: [3.9978, 4.0022], Actual Selectivity: 0.0701, NN Predicted Selectivity: 0.0721, LR Predicted Selectivity: 0.0000\n",
      "Range: [1754.1021, 1835.1334], Actual Selectivity: 0.0045, NN Predicted Selectivity: 0.0721, LR Predicted Selectivity: 0.0000\n",
      "Range: [683.4985, 1490.8774], Actual Selectivity: 0.6709, NN Predicted Selectivity: 0.4925, LR Predicted Selectivity: 0.4702\n",
      "Range: [1654.7096, 1950.9045], Actual Selectivity: 0.0177, NN Predicted Selectivity: 0.0721, LR Predicted Selectivity: 0.1121\n",
      "Range: [983.8475, 1312.4236], Actual Selectivity: 0.2799, NN Predicted Selectivity: 0.1097, LR Predicted Selectivity: 0.1610\n",
      "Range: [471.6146, 1967.0455], Actual Selectivity: 0.8793, NN Predicted Selectivity: 0.9425, LR Predicted Selectivity: 0.9050\n",
      "Range: [566.2136, 1376.2319], Actual Selectivity: 0.7236, NN Predicted Selectivity: 0.5278, LR Predicted Selectivity: 0.4768\n",
      "Range: [957.9086, 1857.8911], Actual Selectivity: 0.4340, NN Predicted Selectivity: 0.4989, LR Predicted Selectivity: 0.5157\n",
      "Range: [-193.2858, 422.4598], Actual Selectivity: 0.0953, NN Predicted Selectivity: 0.2188, LR Predicted Selectivity: 0.3893\n"
     ]
    },
    {
     "name": "stderr",
     "output_type": "stream",
     "text": [
      "\n"
     ]
    }
   ],
   "source": [
    "# train the models\n",
    "print(f\"Training NN model...\")\n",
    "train_NN(model, criterion, optimizer, data_loader, X_test_normalized, y_test, num_epochs, val_every=10)\n",
    "print(f\"Training LR model...\")\n",
    "train_lr(lr_model, train_data, test_data, val_every=1)\n",
    "\n",
    "# evaluate both models on the test data\n",
    "model.eval()\n",
    "with torch.no_grad():\n",
    "    y_pred = model(X_test)\n",
    "    test_loss = criterion(y_pred, y_test)\n",
    "    print(f\"NN Test loss: {test_loss.item()}\")\n",
    "\n",
    "# show side by side comparison of actual selectivity and predicted selectivity for all test data, along with the range\n",
    "y_pred_array = y_pred.numpy().flatten()\n",
    "y_test_array = y_test.numpy().flatten()\n",
    "X_test_array = X_test.numpy()\n",
    "\n",
    "for i in range(len(y_test)):\n",
    "    a, b = X_test_array[i]\n",
    "    lr_pred = lr_model.predict(X_test_array[i])\n",
    "    print(f\"Range: [{a:.4f}, {b:.4f}], Actual Selectivity: {y_test_array[i]:.4f}, NN Predicted Selectivity: {y_pred_array[i]:.4f}, LR Predicted Selectivity: {lr_pred:.4f}\")    "
   ]
  },
  {
   "cell_type": "markdown",
   "metadata": {},
   "source": [
    "#### Learning Zipfian distribution"
   ]
  },
  {
   "cell_type": "code",
   "execution_count": 141,
   "metadata": {},
   "outputs": [],
   "source": [
    "# skewed distribution - zipfian\n",
    "def zipfian_distribution(total_rows, min_value, max_value, x, skew=2):\n",
    "    a = min_value\n",
    "    b = max_value\n",
    "    k = skew\n",
    "    count = min(total_rows, total_rows / (0.1*(x-min_value))**k)\n",
    "    return count\n",
    "\n"
   ]
  },
  {
   "cell_type": "code",
   "execution_count": 146,
   "metadata": {},
   "outputs": [
    {
     "name": "stderr",
     "output_type": "stream",
     "text": [
      "/tmp/ipykernel_286261/2579596726.py:6: RuntimeWarning: divide by zero encountered in scalar divide\n",
      "  count = min(total_rows, total_rows / (0.1*(x-min_value))**k)\n"
     ]
    },
    {
     "data": {
      "image/png": "[encoded data removed]",
      "text/plain": [
       "<Figure size 500x400 with 1 Axes>"
      ]
     },
     "metadata": {},
     "output_type": "display_data"
    }
   ],
   "source": [
    "min_value = -200\n",
    "max_value = 2000\n",
    "total_rows = 10000000\n",
    "num_distinct_values = total_rows // 100\n",
    "\n",
    "# use distribution function to generate values and counts for histogram\n",
    "values = np.linspace(min_value, max_value, num_distinct_values)\n",
    "counts = np.array([zipfian_distribution(total_rows, min_value, max_value, x, skew=0.05) for x in values])\n",
    "\n",
    "# normaize the counts so that they are integers and sum to total_rows\n",
    "counts = total_rows * counts / np.sum(counts) \n",
    "counts = np.round(counts)\n",
    "\n",
    "histogram = dict(zip(values, counts))\n",
    "\n",
    "# plot the histogram\n",
    "plt.figure(figsize=(5, 4))\n",
    "plt.plot(values, counts)\n",
    "plt.xlabel(\"Value\")\n",
    "plt.ylabel(\"Count\")\n",
    "plt.title(\"Zipfian Distribution\")\n",
    "plt.show()\n"
   ]
  },
  {
   "cell_type": "code",
   "execution_count": 147,
   "metadata": {},
   "outputs": [
    {
     "name": "stdout",
     "output_type": "stream",
     "text": [
      "Number of training samples: 90, Number of testing samples: 60\n"
     ]
    }
   ],
   "source": [
    "# generate some data\n",
    "num_samples=150\n",
    "data = generate_range_predicate_samples_dist(total_rows, min_value, max_value, histogram, num_samples=num_samples, fraction_eq=0.2)\n",
    "\n",
    "# split into training and testing data\n",
    "train_size = int(0.6 * num_samples)\n",
    "train_data = data[:train_size]\n",
    "test_data = data[train_size:]\n",
    "\n",
    "print(f\"Number of training samples: {len(train_data)}, Number of testing samples: {len(test_data)}\")\n",
    "\n",
    "X_train = torch.tensor([d[0] for d in train_data], dtype=torch.float32)\n",
    "y_train = torch.tensor([d[1] for d in train_data], dtype=torch.float32).view(-1, 1)\n",
    "X_test = torch.tensor([d[0] for d in test_data], dtype=torch.float32)\n",
    "y_test = torch.tensor([d[1] for d in test_data], dtype=torch.float32).view(-1, 1)\n",
    "\n",
    "# normalize the input data for NN\n",
    "X_train_normalized = X_train # (X_train - min_value) / (max_value - min_value)\n",
    "X_test_normalized = X_test # (X_test - min_value) / (max_value - min_value)"
   ]
  },
  {
   "cell_type": "code",
   "execution_count": 152,
   "metadata": {},
   "outputs": [],
   "source": [
    "# instantiate NN and LR models\n",
    "num_epochs = 10000\n",
    "hidden_size = 32\n",
    "batch_size = 32\n",
    "l2_lambda = 0.0001 # l2 regularization parameter\n",
    "\n",
    "# instantiate the NN model, loss function, and optimizer\n",
    "model = SelectivityModel(hidden_size=hidden_size)\n",
    "criterion = nn.MSELoss()\n",
    "optimizer = optim.Adam(model.parameters(), lr=0.01, weight_decay=l2_lambda)\n",
    "\n",
    "# Create a dataset and data loader\n",
    "dataset = TensorDataset(X_train_normalized, y_train)\n",
    "data_loader = DataLoader(dataset, batch_size=batch_size, shuffle=True)  \n",
    "\n",
    "# instantiate the LR model\n",
    "lr_model = SelectivityModelLR(table_name, column_name, lambda_reg=0.01)"
   ]
  },
  {
   "cell_type": "code",
   "execution_count": 153,
   "metadata": {},
   "outputs": [
    {
     "name": "stdout",
     "output_type": "stream",
     "text": [
      "Training NN model...\n"
     ]
    },
    {
     "name": "stderr",
     "output_type": "stream",
     "text": [
      "Training Progress:   0%|          | 0/10000 [00:00<?, ?it/s]"
     ]
    },
    {
     "name": "stderr",
     "output_type": "stream",
     "text": [
      "Training Progress: 100%|██████████| 10000/10000 [00:19<00:00, 511.45it/s, Loss=0.2909, MAE=0.3171, Val Loss=0.1097, Val MAE=0.2352]\n"
     ]
    },
    {
     "name": "stdout",
     "output_type": "stream",
     "text": [
      "Training LR model...\n"
     ]
    },
    {
     "name": "stderr",
     "output_type": "stream",
     "text": [
      "Training Progress: 100%|██████████| 90/90 [00:00<00:00, 1341.60it/s, Train loss=0.0022, Train MAE=0.0099, Val loss=0.0000, Val MAE=0.0047]"
     ]
    },
    {
     "name": "stdout",
     "output_type": "stream",
     "text": [
      "NN Test loss: 0.10967909544706345\n",
      "Range: [239.6909, 1731.7086], Actual Selectivity: 0.6674, NN Predicted Selectivity: 0.0000, LR Predicted Selectivity: 0.6701\n",
      "Range: [-0.0022, 0.0022], Actual Selectivity: 0.0048, NN Predicted Selectivity: 0.0564, LR Predicted Selectivity: 0.0000\n",
      "Range: [189.3964, 619.5093], Actual Selectivity: 0.1984, NN Predicted Selectivity: 0.0000, LR Predicted Selectivity: 0.1928\n",
      "Range: [157.7209, 1541.4644], Actual Selectivity: 0.6230, NN Predicted Selectivity: 0.0000, LR Predicted Selectivity: 0.6217\n",
      "Range: [-155.2860, 101.8129], Actual Selectivity: 0.1268, NN Predicted Selectivity: 0.0317, LR Predicted Selectivity: 0.1161\n",
      "Range: [1028.8894, 1487.7338], Actual Selectivity: 0.2024, NN Predicted Selectivity: 0.0000, LR Predicted Selectivity: 0.2031\n",
      "Range: [779.7436, 1410.0322], Actual Selectivity: 0.2799, NN Predicted Selectivity: 0.0000, LR Predicted Selectivity: 0.2810\n",
      "Range: [171.1622, 1076.2080], Actual Selectivity: 0.4118, NN Predicted Selectivity: 0.0000, LR Predicted Selectivity: 0.4064\n",
      "Range: [849.6814, 1611.7924], Actual Selectivity: 0.3365, NN Predicted Selectivity: 0.0000, LR Predicted Selectivity: 0.3400\n",
      "Range: [10.9978, 11.0022], Actual Selectivity: 0.0042, NN Predicted Selectivity: 0.0073, LR Predicted Selectivity: 0.0000\n",
      "Range: [1404.6572, 1598.3495], Actual Selectivity: 0.0846, NN Predicted Selectivity: 0.0000, LR Predicted Selectivity: 0.0827\n",
      "Range: [-77.1264, 659.9765], Actual Selectivity: 0.3453, NN Predicted Selectivity: 0.0000, LR Predicted Selectivity: 0.3317\n",
      "Range: [1327.4481, 1469.4536], Actual Selectivity: 0.0624, NN Predicted Selectivity: 0.0000, LR Predicted Selectivity: 0.0597\n",
      "Range: [887.7039, 1008.4155], Actual Selectivity: 0.0538, NN Predicted Selectivity: 0.0000, LR Predicted Selectivity: 0.0515\n",
      "Range: [916.6349, 1155.1906], Actual Selectivity: 0.1061, NN Predicted Selectivity: 0.0000, LR Predicted Selectivity: 0.1044\n",
      "Range: [342.8230, 799.0447], Actual Selectivity: 0.2078, NN Predicted Selectivity: 0.0000, LR Predicted Selectivity: 0.2041\n",
      "Range: [-0.0022, 0.0022], Actual Selectivity: 0.0048, NN Predicted Selectivity: 0.0564, LR Predicted Selectivity: 0.0000\n",
      "Range: [-177.9619, 1211.0101], Actual Selectivity: 0.6433, NN Predicted Selectivity: 0.0000, LR Predicted Selectivity: 0.6251\n",
      "Range: [1423.7241, 1954.9330], Actual Selectivity: 0.2311, NN Predicted Selectivity: 0.0000, LR Predicted Selectivity: 0.2344\n",
      "Range: [9.9978, 10.0022], Actual Selectivity: 0.0057, NN Predicted Selectivity: 0.0089, LR Predicted Selectivity: 0.0000\n",
      "Range: [20.9978, 21.0022], Actual Selectivity: 0.0045, NN Predicted Selectivity: 0.0011, LR Predicted Selectivity: 0.0000\n",
      "Range: [1549.7371, 1785.1606], Actual Selectivity: 0.1027, NN Predicted Selectivity: 0.0000, LR Predicted Selectivity: 0.1010\n",
      "Range: [760.7758, 1289.4286], Actual Selectivity: 0.2352, NN Predicted Selectivity: 0.0000, LR Predicted Selectivity: 0.2353\n",
      "Range: [1439.8707, 1848.9730], Actual Selectivity: 0.1783, NN Predicted Selectivity: 0.0000, LR Predicted Selectivity: 0.1795\n",
      "Range: [1186.6261, 1746.1975], Actual Selectivity: 0.2452, NN Predicted Selectivity: 0.0000, LR Predicted Selectivity: 0.2479\n",
      "Range: [731.5384, 1929.6823], Actual Selectivity: 0.5277, NN Predicted Selectivity: 0.0000, LR Predicted Selectivity: 0.5365\n",
      "Range: [14.9978, 15.0022], Actual Selectivity: 0.0153, NN Predicted Selectivity: 0.0034, LR Predicted Selectivity: 0.0000\n",
      "Range: [131.1516, 1961.8781], Actual Selectivity: 0.8182, NN Predicted Selectivity: 0.0000, LR Predicted Selectivity: 0.8228\n",
      "Range: [1711.5397, 1720.0396], Actual Selectivity: 0.0037, NN Predicted Selectivity: 0.0000, LR Predicted Selectivity: 0.0000\n",
      "Range: [379.7578, 725.8856], Actual Selectivity: 0.1578, NN Predicted Selectivity: 0.0000, LR Predicted Selectivity: 0.1545\n",
      "Range: [1477.9148, 1487.7443], Actual Selectivity: 0.0043, NN Predicted Selectivity: 0.0000, LR Predicted Selectivity: 0.0000\n",
      "Range: [7.9978, 8.0022], Actual Selectivity: 0.0062, NN Predicted Selectivity: 0.0129, LR Predicted Selectivity: 0.0000\n",
      "Range: [820.0840, 1195.4081], Actual Selectivity: 0.1671, NN Predicted Selectivity: 0.0000, LR Predicted Selectivity: 0.1662\n",
      "Range: [804.4464, 1180.8761], Actual Selectivity: 0.1677, NN Predicted Selectivity: 0.0000, LR Predicted Selectivity: 0.1668\n",
      "Range: [14.9978, 15.0022], Actual Selectivity: 0.0153, NN Predicted Selectivity: 0.0034, LR Predicted Selectivity: 0.0000\n",
      "Range: [390.8358, 1296.9143], Actual Selectivity: 0.4069, NN Predicted Selectivity: 0.0000, LR Predicted Selectivity: 0.4062\n",
      "Range: [831.4432, 1255.3722], Actual Selectivity: 0.1884, NN Predicted Selectivity: 0.0000, LR Predicted Selectivity: 0.1880\n",
      "Range: [323.2115, 1596.8938], Actual Selectivity: 0.5697, NN Predicted Selectivity: 0.0000, LR Predicted Selectivity: 0.5717\n",
      "Range: [238.8484, 1697.4213], Actual Selectivity: 0.6528, NN Predicted Selectivity: 0.0000, LR Predicted Selectivity: 0.6551\n",
      "Range: [202.1130, 1419.2827], Actual Selectivity: 0.5487, NN Predicted Selectivity: 0.0000, LR Predicted Selectivity: 0.5467\n",
      "Range: [12.9740, 293.7601], Actual Selectivity: 0.1331, NN Predicted Selectivity: 0.0000, LR Predicted Selectivity: 0.1262\n",
      "Range: [1249.4961, 1618.1428], Actual Selectivity: 0.1616, NN Predicted Selectivity: 0.0000, LR Predicted Selectivity: 0.1619\n",
      "Range: [1056.4448, 1489.3203], Actual Selectivity: 0.1908, NN Predicted Selectivity: 0.0000, LR Predicted Selectivity: 0.1913\n",
      "Range: [726.9438, 1011.4539], Actual Selectivity: 0.1274, NN Predicted Selectivity: 0.0000, LR Predicted Selectivity: 0.1257\n",
      "Range: [209.5278, 1604.5032], Actual Selectivity: 0.6260, NN Predicted Selectivity: 0.0000, LR Predicted Selectivity: 0.6266\n",
      "Range: [340.5160, 1986.5800], Actual Selectivity: 0.7308, NN Predicted Selectivity: 0.0000, LR Predicted Selectivity: 0.7391\n",
      "Range: [23.9978, 24.0022], Actual Selectivity: 0.0036, NN Predicted Selectivity: 0.0006, LR Predicted Selectivity: 0.0000\n",
      "Range: [306.5205, 1891.1528], Actual Selectivity: 0.7053, NN Predicted Selectivity: 0.0000, LR Predicted Selectivity: 0.7116\n",
      "Range: [14.9978, 15.0022], Actual Selectivity: 0.0153, NN Predicted Selectivity: 0.0034, LR Predicted Selectivity: 0.0000\n",
      "Range: [4.9978, 5.0022], Actual Selectivity: 0.0053, NN Predicted Selectivity: 0.0227, LR Predicted Selectivity: 0.0000\n",
      "Range: [629.3790, 823.0159], Actual Selectivity: 0.0874, NN Predicted Selectivity: 0.0000, LR Predicted Selectivity: 0.0851\n",
      "Range: [-166.6593, 903.0319], Actual Selectivity: 0.5005, NN Predicted Selectivity: 0.0000, LR Predicted Selectivity: 0.4815\n",
      "Range: [10.9978, 11.0022], Actual Selectivity: 0.0042, NN Predicted Selectivity: 0.0073, LR Predicted Selectivity: 0.0000\n",
      "Range: [466.1037, 1796.6423], Actual Selectivity: 0.5909, NN Predicted Selectivity: 0.0000, LR Predicted Selectivity: 0.5968\n",
      "Range: [0.9978, 1.0022], Actual Selectivity: 0.0087, NN Predicted Selectivity: 0.0476, LR Predicted Selectivity: 0.0000\n",
      "Range: [1388.7810, 1563.7507], Actual Selectivity: 0.0765, NN Predicted Selectivity: 0.0000, LR Predicted Selectivity: 0.0743\n",
      "Range: [1534.9025, 1961.3615], Actual Selectivity: 0.1853, NN Predicted Selectivity: 0.0000, LR Predicted Selectivity: 0.1870\n",
      "Range: [1525.8021, 1592.4286], Actual Selectivity: 0.0291, NN Predicted Selectivity: 0.0000, LR Predicted Selectivity: 0.0252\n",
      "Range: [1301.5038, 1600.9288], Actual Selectivity: 0.1312, NN Predicted Selectivity: 0.0000, LR Predicted Selectivity: 0.1306\n",
      "Range: [306.2796, 514.5713], Actual Selectivity: 0.0960, NN Predicted Selectivity: 0.0000, LR Predicted Selectivity: 0.0927\n"
     ]
    },
    {
     "name": "stderr",
     "output_type": "stream",
     "text": [
      "\n"
     ]
    }
   ],
   "source": [
    "# train the models\n",
    "print(f\"Training NN model...\")\n",
    "train_NN(model, criterion, optimizer, data_loader, X_test_normalized, y_test, num_epochs, val_every=10)\n",
    "print(f\"Training LR model...\")\n",
    "train_lr(lr_model, train_data, test_data, val_every=1)\n",
    "\n",
    "# evaluate both models on the test data\n",
    "model.eval()\n",
    "with torch.no_grad():\n",
    "    y_pred = model(X_test)\n",
    "    test_loss = criterion(y_pred, y_test)\n",
    "    print(f\"NN Test loss: {test_loss.item()}\")\n",
    "\n",
    "# show side by side comparison of actual selectivity and predicted selectivity for all test data, along with the range\n",
    "y_pred_array = y_pred.numpy().flatten()\n",
    "y_test_array = y_test.numpy().flatten()\n",
    "X_test_array = X_test.numpy()\n",
    "\n",
    "for i in range(len(y_test)):\n",
    "    a, b = X_test_array[i]\n",
    "    lr_pred = lr_model.predict(X_test_array[i])\n",
    "    print(f\"Range: [{a:.4f}, {b:.4f}], Actual Selectivity: {y_test_array[i]:.4f}, NN Predicted Selectivity: {y_pred_array[i]:.4f}, LR Predicted Selectivity: {lr_pred:.4f}\")    "
   ]
  },
  {
   "cell_type": "code",
   "execution_count": null,
   "metadata": {},
   "outputs": [],
   "source": []
  },
  {
   "cell_type": "code",
   "execution_count": null,
   "metadata": {},
   "outputs": [],
   "source": []
  },
  {
   "cell_type": "code",
   "execution_count": null,
   "metadata": {},
   "outputs": [],
   "source": []
  },
  {
   "cell_type": "code",
   "execution_count": null,
   "metadata": {},
   "outputs": [],
   "source": []
  },
  {
   "cell_type": "code",
   "execution_count": null,
   "metadata": {},
   "outputs": [],
   "source": []
  },
  {
   "cell_type": "code",
   "execution_count": null,
   "metadata": {},
   "outputs": [],
   "source": []
  }
 ],
 "metadata": {
  "kernelspec": {
   "display_name": "torch_clone_2",
   "language": "python",
   "name": "python3"
  },
  "language_info": {
   "codemirror_mode": {
    "name": "ipython",
    "version": 3
   },
   "file_extension": ".py",
   "mimetype": "text/x-python",
   "name": "python",
   "nbconvert_exporter": "python",
   "pygments_lexer": "ipython3",
   "version": "3.11.5"
  }
 },
 "nbformat": 4,
 "nbformat_minor": 2
}
