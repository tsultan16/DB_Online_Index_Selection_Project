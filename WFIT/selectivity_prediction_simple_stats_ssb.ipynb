{
 "cells": [
  {
   "cell_type": "markdown",
   "metadata": {},
   "source": [
    "### Selectivity estimation using Postgres Internal Statistics:\n"
   ]
  },
  {
   "cell_type": "code",
   "execution_count": 1,
   "metadata": {},
   "outputs": [],
   "source": [
    "# auto reload all modules\n",
    "%load_ext autoreload\n",
    "%autoreload 2\n",
    "\n",
    "from simple_cost_model import *\n",
    "from ssb_qgen_class import *\n",
    "import time\n",
    "import pickle\n",
    "import numpy as np\n",
    "import hashlib\n"
   ]
  },
  {
   "cell_type": "code",
   "execution_count": 2,
   "metadata": {},
   "outputs": [],
   "source": [
    "# set up query generator\n",
    "qgen = QGEN()\n",
    "\n",
    "# Get the statistics for all tables in the SSB database\n",
    "table_names = [\"customer\", \"dwdate\", \"lineorder\", \"part\", \"supplier\"]\n",
    "pg_stats = {}\n",
    "estimated_rows = {}\n",
    "for table_name in table_names:\n",
    "    pg_stats[table_name], estimated_rows[table_name] = get_table_stats(table_name)\n",
    "\n",
    "table_attributes = {}\n",
    "for table_name in table_names:\n",
    "    table_attributes[table_name] = list(pg_stats[table_name].keys())\n",
    "\n",
    "ssb_tables, pk_columns = get_ssb_schema()\n",
    "# create a dictionary and specify whether each attribute in each table is numeric or char\n",
    "data_type_dict = {}\n",
    "for table_name in [\"customer\", \"dwdate\", \"lineorder\", \"part\", \"supplier\"]:\n",
    "    for column_name, column_type in ssb_tables[table_name]:\n",
    "        if (\"INT\" in column_type) or (\"DECIMAL\" in column_type) or (\"BIT\" in column_type):\n",
    "            data_type_dict[column_name] = \"numeric\"\n",
    "        else:\n",
    "            data_type_dict[column_name] = \"char\"    "
   ]
  },
  {
   "cell_type": "markdown",
   "metadata": {},
   "source": [
    "#### Selectivity Estimator"
   ]
  },
  {
   "cell_type": "code",
   "execution_count": 6,
   "metadata": {},
   "outputs": [],
   "source": [
    "selectivity_estimator = SelectivityEstimatorStats(data_type_dict)"
   ]
  },
  {
   "cell_type": "code",
   "execution_count": 10,
   "metadata": {},
   "outputs": [
    {
     "name": "stdout",
     "output_type": "stream",
     "text": [
      "Predicates:\n",
      "  Table: lineorder\n",
      "    {'column': 'lo_orderdate', 'operator': 'eq', 'value': 'd_datekey', 'join': True}\n",
      "    {'column': 'lo_discount', 'operator': 'range', 'value': (5, 7), 'join': False}\n",
      "    {'column': 'lo_quantity', 'operator': '<', 'value': 25, 'join': False}\n",
      "  Table: dwdate\n",
      "    {'column': 'd_year', 'operator': 'eq', 'value': 1997, 'join': False}\n"
     ]
    }
   ],
   "source": [
    "# generate example query\n",
    "example_query = qgen.generate_query(1)\n",
    "# extract the predicates from the query\n",
    "predicate_dict = example_query.predicate_dict\n",
    "\n",
    "print(f\"Predicates:\")\n",
    "for table_name, predicates in predicate_dict.items():\n",
    "    print(f\"  Table: {table_name}\")\n",
    "    for predicate in predicates:\n",
    "        print(f\"    {predicate}\")\n",
    "        "
   ]
  },
  {
   "cell_type": "code",
   "execution_count": 11,
   "metadata": {},
   "outputs": [
    {
     "name": "stdout",
     "output_type": "stream",
     "text": [
      "Table: lineorder\n",
      "\n",
      "  Predicate: {'column': 'lo_discount', 'operator': 'range', 'value': (5, 7), 'join': False}\n",
      "  Selectivity: 0.273233336\n",
      "\n",
      "  Predicate: {'column': 'lo_quantity', 'operator': '<', 'value': 25, 'join': False}\n",
      "  Selectivity: 0.4762666669999999\n",
      "\n",
      "Table: dwdate\n",
      "\n",
      "  Predicate: {'column': 'd_year', 'operator': 'eq', 'value': 1997, 'join': False}\n",
      "  Selectivity: 0.14280125\n",
      "\n"
     ]
    }
   ],
   "source": [
    "# test out the selectivity estimation functions using the example query predicates\n",
    "total_rows = estimated_rows[\"lineorder\"]\n",
    "for table_name, predicates in predicate_dict.items():\n",
    "    print(f\"Table: {table_name}\\n\")\n",
    "    for predicate in predicates:\n",
    "        if predicate['join'] == False:\n",
    "            attribute = predicate['column']\n",
    "            operator = predicate['operator']\n",
    "            value = predicate['value']\n",
    "            selectivity = selectivity_estimator.estimate_selectivity(attribute, operator, value, pg_stats[table_name], total_rows)\n",
    "            print(f\"  Predicate: {predicate}\")\n",
    "            print(f\"  Selectivity: {selectivity}\\n\")\n"
   ]
  },
  {
   "cell_type": "code",
   "execution_count": null,
   "metadata": {},
   "outputs": [],
   "source": []
  },
  {
   "cell_type": "code",
   "execution_count": null,
   "metadata": {},
   "outputs": [],
   "source": []
  },
  {
   "cell_type": "code",
   "execution_count": null,
   "metadata": {},
   "outputs": [],
   "source": []
  }
 ],
 "metadata": {
  "kernelspec": {
   "display_name": "torch_clone_2",
   "language": "python",
   "name": "python3"
  },
  "language_info": {
   "codemirror_mode": {
    "name": "ipython",
    "version": 3
   },
   "file_extension": ".py",
   "mimetype": "text/x-python",
   "name": "python",
   "nbconvert_exporter": "python",
   "pygments_lexer": "ipython3",
   "version": "3.11.5"
  }
 },
 "nbformat": 4,
 "nbformat_minor": 2
}
