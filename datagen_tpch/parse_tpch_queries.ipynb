{
 "cells": [
  {
   "cell_type": "markdown",
   "metadata": {},
   "source": [
    "### Parsing predicates from TPC-H queries"
   ]
  },
  {
   "cell_type": "code",
   "execution_count": 131,
   "metadata": {},
   "outputs": [
    {
     "name": "stdout",
     "output_type": "stream",
     "text": [
      "The autoreload extension is already loaded. To reload it, use:\n",
      "  %reload_ext autoreload\n"
     ]
    }
   ],
   "source": [
    "# Load the autoreload extension\n",
    "%load_ext autoreload\n",
    "# Set autoreload mode\n",
    "%autoreload 2\n",
    "\n",
    "from tpch_query_predicates_parser import *\n",
    "import pickle"
   ]
  },
  {
   "cell_type": "code",
   "execution_count": 132,
   "metadata": {},
   "outputs": [],
   "source": [
    "# define a query object class\n",
    "class Query:\n",
    "    def __init__(self, template_id, query_string, payload, predicates, order_bys, group_bys, predicate_dict=None, benchmark=\"TPCH\"):\n",
    "        self.template_id = template_id\n",
    "        self.query_string = query_string\n",
    "        self.payload = payload\n",
    "        self.predicates = predicates\n",
    "        self.order_bys = order_bys\n",
    "        self.group_bys = group_bys\n",
    "        self.benchmark = benchmark\n",
    "        self.predicate_dict = predicate_dict\n",
    "\n",
    "    def __str__(self):\n",
    "        return f\"template: {self.template}\\n\\query string: {self.query_string}\\npayload: {self.payload}\\npredicates: {self.predicates}\\norder_bys: {self.order_bys}\""
   ]
  },
  {
   "cell_type": "code",
   "execution_count": 133,
   "metadata": {},
   "outputs": [
    {
     "name": "stdout",
     "output_type": "stream",
     "text": [
      "Loaded static workload from file with 2100 queries.\n",
      "Num rounds: 100, Num queries per round: 21\n"
     ]
    }
   ],
   "source": [
    " # load tpch static workload from a file\n",
    "with open('./TPCH_workloads/tpch_static_workload_100_rounds.pkl', 'rb') as f:\n",
    "    workload_dict = pickle.load(f) \n",
    "\n",
    "workload_metadata = workload_dict['metadata']\n",
    "workload = workload_dict['workload']    \n",
    "\n",
    "print(f\"Loaded static workload from file with {len(workload)} queries.\")\n",
    "print(f\"Num rounds: {workload_metadata['num_rounds']}, Num queries per round: {workload_metadata['num_queries_per_round']}\")"
   ]
  },
  {
   "cell_type": "code",
   "execution_count": 137,
   "metadata": {},
   "outputs": [
    {
     "name": "stdout",
     "output_type": "stream",
     "text": [
      "Query template: 22\n",
      "--------------------------------------------------------------------------------\n",
      "select\n",
      "\tcntrycode,\n",
      "\tcount(*) as numcust,\n",
      "\tsum(c_acctbal) as totacctbal\n",
      "from\n",
      "\t(\n",
      "\t\tselect\n",
      "\t\t\tsubstring(c_phone, 1, 2) as cntrycode,\n",
      "\t\t\tc_acctbal\n",
      "\t\tfrom\n",
      "\t\t\tcustomer\n",
      "\t\twhere\n",
      "\t\t\tsubstring(c_phone, 1, 2) in\n",
      "\t\t\t\t('40', '36', '34', '42', '23', '31', '33')\n",
      "\t\t\tand c_acctbal > (\n",
      "\t\t\t\tselect\n",
      "\t\t\t\t\tavg(c_acctbal)\n",
      "\t\t\t\tfrom\n",
      "\t\t\t\t\tcustomer\n",
      "\t\t\t\twhere\n",
      "\t\t\t\t\tc_acctbal > 0.00\n",
      "\t\t\t\t\tand substring(c_phone, 1, 2) in\n",
      "\t\t\t\t\t\t('40', '36', '34', '42', '23', '31', '33')\n",
      "\t\t\t)\n",
      "\t\t\tand not exists (\n",
      "\t\t\t\tselect\n",
      "\t\t\t\t\t*\n",
      "\t\t\t\tfrom\n",
      "\t\t\t\t\torders\n",
      "\t\t\t\twhere\n",
      "\t\t\t\t\to_custkey = c_custkey\n",
      "\t\t\t)\n",
      "\t) as custsale\n",
      "group by\n",
      "\tcntrycode\n",
      "order by\n",
      "\tcntrycode\n",
      ";\n",
      "\n",
      "Parsed predicates:\n",
      "--------------------------------------------------------------------------------\n",
      "customer:\n",
      "\t {'column': 'c_acctbal', 'operator': '>', 'value': '0.00', 'join': False}\n",
      "orders:\n",
      "\t {'column': 'o_custkey', 'operator': '=', 'value': 'c_custkey', 'join': True}\n",
      "\n",
      "\n",
      "\n"
     ]
    }
   ],
   "source": [
    "n = 21\n",
    "\n",
    "for i in range(n, n+1):\n",
    "    query_string = workload[i-1].query_string\n",
    "    template_num = workload[i-1].template_id\n",
    "    print(f\"Query template: {template_num}\")\n",
    "    print(\"-\" * 80)\n",
    "    print(query_string)\n",
    "    print(\"\\nParsed predicates:\")\n",
    "    print(\"-\" * 80)\n",
    "    predicate_dict = parse_tpch_query(query_string, template_num)\n",
    "    #print(predicate_dict)\n",
    "    for table_name, predicates_list in predicate_dict.items():\n",
    "        print(f\"{table_name}:\")\n",
    "        for predicate in predicates_list:\n",
    "            print(\"\\t\",predicate)\n",
    "    print(\"\\n\\n\")\n",
    "\n"
   ]
  },
  {
   "cell_type": "code",
   "execution_count": null,
   "metadata": {},
   "outputs": [],
   "source": []
  },
  {
   "cell_type": "code",
   "execution_count": null,
   "metadata": {},
   "outputs": [],
   "source": []
  },
  {
   "cell_type": "code",
   "execution_count": null,
   "metadata": {},
   "outputs": [],
   "source": []
  },
  {
   "cell_type": "code",
   "execution_count": null,
   "metadata": {},
   "outputs": [],
   "source": []
  }
 ],
 "metadata": {
  "kernelspec": {
   "display_name": "torch_clone_2",
   "language": "python",
   "name": "python3"
  },
  "language_info": {
   "codemirror_mode": {
    "name": "ipython",
    "version": 3
   },
   "file_extension": ".py",
   "mimetype": "text/x-python",
   "name": "python",
   "nbconvert_exporter": "python",
   "pygments_lexer": "ipython3",
   "version": "3.11.5"
  }
 },
 "nbformat": 4,
 "nbformat_minor": 2
}
