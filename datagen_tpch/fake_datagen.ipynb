{
 "cells": [
  {
   "cell_type": "markdown",
   "metadata": {},
   "source": [
    "#### In this notebook, we will create a database in our MS SQL Server and populate it with synthetic data."
   ]
  },
  {
   "cell_type": "code",
   "execution_count": 5,
   "metadata": {},
   "outputs": [],
   "source": [
    "import pyodbc\n",
    "import sys\n",
    "import random\n",
    "import pandas as pd\n",
    "from faker import Faker\n"
   ]
  },
  {
   "cell_type": "markdown",
   "metadata": {},
   "source": [
    "#### We've already created a database called `testDB1` on the MS SQL Server containing 3 empty tables: \n",
    "\n",
    "`CREATE TABLE Customers (\n",
    "    CustomerID INT PRIMARY KEY,\n",
    "    CustomerName VARCHAR(100),\n",
    "    ContactName VARCHAR(100),\n",
    "    Country VARCHAR(50)\n",
    ");`\n",
    "\n",
    "`CREATE TABLE Products (\n",
    "    ProductID INT PRIMARY KEY,\n",
    "    ProductName VARCHAR(100),\n",
    "    SupplierID INT,\n",
    "    CategoryID INT,\n",
    "    UnitPrice DECIMAL(10, 2)\n",
    ");`\n",
    "\n",
    "`CREATE TABLE Orders (\n",
    "    OrderID INT PRIMARY KEY,\n",
    "    CustomerID INT,\n",
    "    OrderDate DATETIME,\n",
    "    TotalAmount DECIMAL(10, 2),\n",
    "    FOREIGN KEY (CustomerID) REFERENCES Customers(CustomerID)\n",
    ");`"
   ]
  },
  {
   "cell_type": "code",
   "execution_count": 6,
   "metadata": {},
   "outputs": [
    {
     "name": "stdout",
     "output_type": "stream",
     "text": [
      "Driver={ODBC Driver 17 for SQL Server};Server=172.16.6.196,1433;Database=testDB1;UID=wsl;PWD=greatpond501;\n"
     ]
    },
    {
     "data": {
      "text/plain": [
       "<pyodbc.Cursor at 0x7f4ee9ce8f30>"
      ]
     },
     "execution_count": 6,
     "metadata": {},
     "output_type": "execute_result"
    }
   ],
   "source": [
    "# establish connection with the local SQL server\n",
    "conn_str = (\n",
    "    \"Driver={ODBC Driver 17 for SQL Server};\"\n",
    "    \"Server=172.16.6.196,1433;\"  # Use the IP address and port directly\n",
    "    \"Database=testDB1;\"  \n",
    "    \"UID=wsl;\" \n",
    "    \"PWD=greatpond501;\"  \n",
    ")\n",
    "\n",
    "print(conn_str)\n",
    "\n",
    "conn = pyodbc.connect(conn_str)\n",
    "cursor = conn.cursor()\n",
    "\n",
    "# test the connection\n",
    "cursor.execute(\"SELECT @@version;\")"
   ]
  },
  {
   "cell_type": "markdown",
   "metadata": {},
   "source": [
    "#### Now let's insert some fake data into our tables, we will use `pyodbc` to directly run SQL queries on the database. "
   ]
  },
  {
   "cell_type": "code",
   "execution_count": 7,
   "metadata": {},
   "outputs": [],
   "source": [
    "# faker object for generating random fake data\n",
    "fake = Faker()"
   ]
  },
  {
   "cell_type": "code",
   "execution_count": 22,
   "metadata": {},
   "outputs": [],
   "source": [
    "num_rows = [1000, 2000, 5000]\n",
    "\n",
    "customer_ids = random.sample(range(1, num_rows[0] + 1), num_rows[0])\n",
    "product_ids = random.sample(range(1, num_rows[1] + 1), num_rows[1])\n",
    "order_ids = random.sample(range(1, num_rows[2] + 1), num_rows[2])\n",
    "\n",
    "\n",
    "# Clear out the tables\n",
    "cursor.execute(\"DELETE FROM Orders\")\n",
    "cursor.execute(\"DELETE FROM Products\")\n",
    "cursor.execute(\"DELETE FROM Customers\")\n",
    "conn.commit()"
   ]
  },
  {
   "cell_type": "code",
   "execution_count": 23,
   "metadata": {},
   "outputs": [],
   "source": [
    "# insert data into Customers table\n",
    "for customer_id in customer_ids:\n",
    "    cursor.execute(\"INSERT INTO Customers (CustomerID, CustomerName, ContactName, Country) VALUES (?, ?, ?, ?)\",\n",
    "                   (customer_id, fake.company(), fake.name(), fake.country()))\n",
    "\n",
    "# insert data into Products table\n",
    "for product_id in product_ids:\n",
    "    cursor.execute(\"INSERT INTO Products (ProductID, ProductName, SupplierID, CategoryID, UnitPrice) VALUES (?, ?, ?, ?, ?)\",\n",
    "                   (product_id, fake.word(),fake.random_int(min=1, max=100), fake.random_int(min=1, max=100), fake.random_number(digits=2)))\n",
    "\n",
    "# insert data into Orders table\n",
    "for order_id in order_ids:\n",
    "    cursor.execute(\"INSERT INTO Orders (OrderID, CustomerID, OrderDate, TotalAmount) VALUES (?, ?, ?, ?)\",\n",
    "                   (order_id, random.choice(customer_ids), fake.date_time_this_decade(), fake.random_number(digits=2)))\n",
    "\n",
    "\n",
    "cursor.commit()\n",
    "conn.close()   \n"
   ]
  },
  {
   "cell_type": "markdown",
   "metadata": {},
   "source": [
    "Now we're done populating the tables with synthetic data. Let's do a sanity check on the row counts."
   ]
  },
  {
   "cell_type": "code",
   "execution_count": 25,
   "metadata": {},
   "outputs": [
    {
     "name": "stdout",
     "output_type": "stream",
     "text": [
      "Customers table --> 1000 rows\n",
      "Products table --> 2000 rows\n",
      "Orders table --> 5000 rows\n",
      "\n",
      "Customers table\n",
      "   CustomerID                    CustomerName         ContactName  \\\n",
      "0           1     Norman, Preston and Vasquez   Elizabeth Cordova   \n",
      "1           2                 Noble-Rodriguez       Kristin Smith   \n",
      "2           3                   Howard-Medina       Kevin Holland   \n",
      "3           4                     Cole-Rogers      Clarence Davis   \n",
      "4           5  Lopez, Crawford and Livingston      Angela Roberts   \n",
      "5           6                      Clay-Davis        William Rose   \n",
      "6           7                   Miller-Greene     Laura Patterson   \n",
      "7           8      Ochoa, Lawrence and Conner  Christopher Brooks   \n",
      "8           9                    Gonzalez LLC    Patricia Watkins   \n",
      "9          10                    Terry-Jensen        Maxwell Khan   \n",
      "\n",
      "                  Country  \n",
      "0                  Tuvalu  \n",
      "1              Mozambique  \n",
      "2                 Denmark  \n",
      "3  Libyan Arab Jamahiriya  \n",
      "4                Zimbabwe  \n",
      "5                   Yemen  \n",
      "6                  Belize  \n",
      "7            South Africa  \n",
      "8                 Croatia  \n",
      "9                 Namibia  \n",
      "\n",
      "Products table\n",
      "   ProductID   ProductName  SupplierID  CategoryID  UnitPrice\n",
      "0          1      hospital          81          49       95.0\n",
      "1          2            do          27          52       56.0\n",
      "2          3       thought          69          71       54.0\n",
      "3          4         would          98          64       76.0\n",
      "4          5  professional          19          49       31.0\n",
      "5          6           one          22          77       54.0\n",
      "6          7        effort          83          89       84.0\n",
      "7          8          deep           9          54       96.0\n",
      "8          9       morning          70          85       58.0\n",
      "9         10       through          18          88       27.0\n",
      "\n",
      "Orders table\n",
      "   OrderID  CustomerID               OrderDate  TotalAmount\n",
      "0        1         462 2020-11-18 00:44:32.337         67.0\n",
      "1        2         715 2024-05-02 08:09:18.460         96.0\n",
      "2        3         969 2023-09-29 23:45:31.917          4.0\n",
      "3        4         489 2022-12-20 10:29:28.987         80.0\n",
      "4        5         220 2021-08-06 02:55:59.723         55.0\n",
      "5        6         743 2022-05-30 10:11:17.450         99.0\n",
      "6        7          11 2020-10-17 13:18:04.907         51.0\n",
      "7        8         491 2022-03-22 17:29:30.097         59.0\n",
      "8        9          71 2020-07-06 04:13:44.490         79.0\n",
      "9       10         948 2021-06-12 20:06:09.867         63.0\n"
     ]
    },
    {
     "name": "stderr",
     "output_type": "stream",
     "text": [
      "/tmp/ipykernel_90071/172073778.py:18: UserWarning: pandas only supports SQLAlchemy connectable (engine/connection) or database string URI or sqlite3 DBAPI2 connection. Other DBAPI2 objects are not tested. Please consider using SQLAlchemy.\n",
      "  df = pd.read_sql(query, conn)\n",
      "/tmp/ipykernel_90071/172073778.py:18: UserWarning: pandas only supports SQLAlchemy connectable (engine/connection) or database string URI or sqlite3 DBAPI2 connection. Other DBAPI2 objects are not tested. Please consider using SQLAlchemy.\n",
      "  df = pd.read_sql(query, conn)\n",
      "/tmp/ipykernel_90071/172073778.py:18: UserWarning: pandas only supports SQLAlchemy connectable (engine/connection) or database string URI or sqlite3 DBAPI2 connection. Other DBAPI2 objects are not tested. Please consider using SQLAlchemy.\n",
      "  df = pd.read_sql(query, conn)\n"
     ]
    }
   ],
   "source": [
    "conn = pyodbc.connect(conn_str)\n",
    "cursor = conn.cursor()\n",
    "\n",
    "queries = {\"Customers\" : \"SELECT Count(*) FROM Customers\", \n",
    "           \"Products\" : \"SELECT Count(*) FROM Products\",\n",
    "           \"Orders\" : \"SELECT Count(*) FROM Orders\"}\n",
    "\n",
    "# execute the queries and get the results\n",
    "for table, query in queries.items():\n",
    "    cursor.execute(query)\n",
    "    rows = cursor.fetchone()[0]\n",
    "    print(f\"{table} table --> {rows} rows\")\n",
    "\n",
    "\n",
    "# show first 10 rows from each table\n",
    "for table in queries.keys():\n",
    "    query = f\"SELECT TOP 10 * FROM {table}\"\n",
    "    df = pd.read_sql(query, conn)\n",
    "    print(f\"\\n{table} table\")\n",
    "    print(df)\n",
    "\n",
    "conn.close()    "
   ]
  },
  {
   "cell_type": "code",
   "execution_count": null,
   "metadata": {},
   "outputs": [],
   "source": []
  },
  {
   "cell_type": "code",
   "execution_count": null,
   "metadata": {},
   "outputs": [],
   "source": []
  },
  {
   "cell_type": "code",
   "execution_count": null,
   "metadata": {},
   "outputs": [],
   "source": []
  },
  {
   "cell_type": "code",
   "execution_count": null,
   "metadata": {},
   "outputs": [],
   "source": []
  },
  {
   "cell_type": "code",
   "execution_count": null,
   "metadata": {},
   "outputs": [],
   "source": []
  },
  {
   "cell_type": "code",
   "execution_count": null,
   "metadata": {},
   "outputs": [],
   "source": []
  },
  {
   "cell_type": "code",
   "execution_count": null,
   "metadata": {},
   "outputs": [],
   "source": []
  }
 ],
 "metadata": {
  "kernelspec": {
   "display_name": "torch_clone_2",
   "language": "python",
   "name": "python3"
  },
  "language_info": {
   "codemirror_mode": {
    "name": "ipython",
    "version": 3
   },
   "file_extension": ".py",
   "mimetype": "text/x-python",
   "name": "python",
   "nbconvert_exporter": "python",
   "pygments_lexer": "ipython3",
   "version": "3.11.5"
  }
 },
 "nbformat": 4,
 "nbformat_minor": 2
}
