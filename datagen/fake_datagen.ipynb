{
 "cells": [
  {
   "cell_type": "markdown",
   "metadata": {},
   "source": [
    "#### In this notebook, we will create a database in our MS SQL Server and populate it with synthetic data."
   ]
  },
  {
   "cell_type": "code",
   "execution_count": 5,
   "metadata": {},
   "outputs": [],
   "source": [
    "import pyodbc\n",
    "import sys\n",
    "import random\n",
    "import pandas as pd\n",
    "from faker import Faker\n"
   ]
  },
  {
   "cell_type": "markdown",
   "metadata": {},
   "source": [
    "#### We've already created a database called `testDB1` on the MS SQL Server containing 3 empty tables: \n",
    "\n",
    "`CREATE TABLE Customers (\n",
    "    CustomerID INT PRIMARY KEY,\n",
    "    CustomerName VARCHAR(100),\n",
    "    ContactName VARCHAR(100),\n",
    "    Country VARCHAR(50)\n",
    ");`\n",
    "\n",
    "`CREATE TABLE Products (\n",
    "    ProductID INT PRIMARY KEY,\n",
    "    ProductName VARCHAR(100),\n",
    "    SupplierID INT,\n",
    "    CategoryID INT,\n",
    "    UnitPrice DECIMAL(10, 2)\n",
    ");`\n",
    "\n",
    "`CREATE TABLE Orders (\n",
    "    OrderID INT PRIMARY KEY,\n",
    "    CustomerID INT,\n",
    "    OrderDate DATETIME,\n",
    "    TotalAmount DECIMAL(10, 2),\n",
    "    FOREIGN KEY (CustomerID) REFERENCES Customers(CustomerID)\n",
    ");`"
   ]
  },
  {
   "cell_type": "code",
   "execution_count": 6,
   "metadata": {},
   "outputs": [
    {
     "name": "stdout",
     "output_type": "stream",
     "text": [
      "Driver={ODBC Driver 17 for SQL Server};Server=172.16.6.196,1433;Database=testDB1;UID=wsl;PWD=greatpond501;\n"
     ]
    },
    {
     "data": {
      "text/plain": [
       "<pyodbc.Cursor at 0x7f4ee9ce8f30>"
      ]
     },
     "execution_count": 6,
     "metadata": {},
     "output_type": "execute_result"
    }
   ],
   "source": [
    "# establish connection with the local SQL server\n",
    "conn_str = (\n",
    "    \"Driver={ODBC Driver 17 for SQL Server};\"\n",
    "    \"Server=172.16.6.196,1433;\"  # Use the IP address and port directly\n",
    "    \"Database=testDB1;\"  \n",
    "    \"UID=wsl;\" \n",
    "    \"PWD=greatpond501;\"  \n",
    ")\n",
    "\n",
    "print(conn_str)\n",
    "\n",
    "conn = pyodbc.connect(conn_str)\n",
    "cursor = conn.cursor()\n",
    "\n",
    "# test the connection\n",
    "cursor.execute(\"SELECT @@version;\")"
   ]
  },
  {
   "cell_type": "markdown",
   "metadata": {},
   "source": [
    "#### Now let's insert some fake data into our tables, we will use `pyodbc` to directly run SQL queries on the database. "
   ]
  },
  {
   "cell_type": "code",
   "execution_count": 7,
   "metadata": {},
   "outputs": [],
   "source": [
    "# faker object for generating random fake data\n",
    "fake = Faker()"
   ]
  },
  {
   "cell_type": "code",
   "execution_count": 22,
   "metadata": {},
   "outputs": [],
   "source": [
    "num_rows = [1000, 2000, 5000]\n",
    "\n",
    "customer_ids = random.sample(range(1, num_rows[0] + 1), num_rows[0])\n",
    "product_ids = random.sample(range(1, num_rows[1] + 1), num_rows[1])\n",
    "order_ids = random.sample(range(1, num_rows[2] + 1), num_rows[2])\n",
    "\n",
    "\n",
    "# Clear out the tables\n",
    "cursor.execute(\"DELETE FROM Orders\")\n",
    "cursor.execute(\"DELETE FROM Products\")\n",
    "cursor.execute(\"DELETE FROM Customers\")\n",
    "conn.commit()"
   ]
  },
  {
   "cell_type": "code",
   "execution_count": 23,
   "metadata": {},
   "outputs": [],
   "source": [
    "# insert data into Customers table\n",
    "for customer_id in customer_ids:\n",
    "    cursor.execute(\"INSERT INTO Customers (CustomerID, CustomerName, ContactName, Country) VALUES (?, ?, ?, ?)\",\n",
    "                   (customer_id, fake.company(), fake.name(), fake.country()))\n",
    "\n",
    "# insert data into Products table\n",
    "for product_id in product_ids:\n",
    "    cursor.execute(\"INSERT INTO Products (ProductID, ProductName, SupplierID, CategoryID, UnitPrice) VALUES (?, ?, ?, ?, ?)\",\n",
    "                   (product_id, fake.word(),fake.random_int(min=1, max=100), fake.random_int(min=1, max=100), fake.random_number(digits=2)))\n",
    "\n",
    "# insert data into Orders table\n",
    "for order_id in order_ids:\n",
    "    cursor.execute(\"INSERT INTO Orders (OrderID, CustomerID, OrderDate, TotalAmount) VALUES (?, ?, ?, ?)\",\n",
    "                   (order_id, random.choice(customer_ids), fake.date_time_this_decade(), fake.random_number(digits=2)))\n",
    "\n",
    "\n",
    "cursor.commit()\n",
    "conn.close()   \n"
   ]
  },
  {
   "cell_type": "code",
   "execution_count": null,
   "metadata": {},
   "outputs": [],
   "source": []
  },
  {
   "cell_type": "code",
   "execution_count": null,
   "metadata": {},
   "outputs": [],
   "source": []
  },
  {
   "cell_type": "code",
   "execution_count": null,
   "metadata": {},
   "outputs": [],
   "source": []
  },
  {
   "cell_type": "code",
   "execution_count": null,
   "metadata": {},
   "outputs": [],
   "source": []
  },
  {
   "cell_type": "code",
   "execution_count": null,
   "metadata": {},
   "outputs": [],
   "source": []
  },
  {
   "cell_type": "code",
   "execution_count": null,
   "metadata": {},
   "outputs": [],
   "source": []
  },
  {
   "cell_type": "code",
   "execution_count": null,
   "metadata": {},
   "outputs": [],
   "source": []
  },
  {
   "cell_type": "code",
   "execution_count": null,
   "metadata": {},
   "outputs": [],
   "source": []
  }
 ],
 "metadata": {
  "kernelspec": {
   "display_name": "torch_clone_2",
   "language": "python",
   "name": "python3"
  },
  "language_info": {
   "codemirror_mode": {
    "name": "ipython",
    "version": 3
   },
   "file_extension": ".py",
   "mimetype": "text/x-python",
   "name": "python",
   "nbconvert_exporter": "python",
   "pygments_lexer": "ipython3",
   "version": "3.11.5"
  }
 },
 "nbformat": 4,
 "nbformat_minor": 2
}
