{
 "cells": [
  {
   "cell_type": "markdown",
   "metadata": {},
   "source": [
    "#### Measuring No-Index Query Execution Time on TCP-H (OLAP) Benchmark\n",
    "\n",
    "For the TPC-H 1GB database, we will now run batches of queries, i.e. small workloads, and measure the query execution time per workload. \n"
   ]
  },
  {
   "cell_type": "code",
   "execution_count": 2,
   "metadata": {},
   "outputs": [],
   "source": [
    "import pyodbc\n",
    "import sys\n",
    "import random\n",
    "import pandas as pd\n",
    "import time\n",
    "import os\n",
    "from tqdm import tqdm\n",
    "import logging\n",
    "import re\n",
    "import xml.etree.ElementTree as ET\n"
   ]
  },
  {
   "cell_type": "markdown",
   "metadata": {},
   "source": [
    "#### Read all the generated sample queries and store them in a list."
   ]
  },
  {
   "cell_type": "code",
   "execution_count": 3,
   "metadata": {},
   "outputs": [
    {
     "name": "stdout",
     "output_type": "stream",
     "text": [
      "440\n"
     ]
    }
   ],
   "source": [
    "def read_sql_files(base_dir, instances_per_template):\n",
    "    queries = []\n",
    "    \n",
    "    # Regex to find erroneous \"where rownum <=\" lines\n",
    "    erroneous_line_pattern = re.compile(r'^\\s*where\\s+rownum\\s*<=\\s*\\d+\\s*;\\s*$', re.IGNORECASE)\n",
    "\n",
    "    # Loop through each query directory\n",
    "    for query_dir in sorted(os.listdir(base_dir)):\n",
    "        query_path = os.path.join(base_dir, query_dir)\n",
    "        \n",
    "        if os.path.isdir(query_path):\n",
    "            # Initialize a counter for the number of instances read from this template\n",
    "            instance_count = 0\n",
    "            \n",
    "            # Loop through each SQL file in the query directory\n",
    "            for sql_file in sorted(os.listdir(query_path)):\n",
    "                if instance_count >= instances_per_template:\n",
    "                    break  # Stop reading more files from this template\n",
    "                \n",
    "                sql_file_path = os.path.join(query_path, sql_file)\n",
    "                \n",
    "                if sql_file_path.endswith('.sql'):\n",
    "                    with open(sql_file_path, 'r') as file:\n",
    "                        lines = file.readlines()\n",
    "                        \n",
    "                        # Filter out the erroneous \"where rownum <=\" lines\n",
    "                        filtered_lines = [line for line in lines if not erroneous_line_pattern.match(line)]\n",
    "                        \n",
    "                        # Extract the query from the filtered lines\n",
    "                        query = ''.join(filtered_lines[3:]).strip()\n",
    "                        \n",
    "                        queries.append(query)\n",
    "                        instance_count += 1  # Increment the counter\n",
    "    \n",
    "    return queries\n",
    "\n",
    "\n",
    "# Base directory containing the generated queries\n",
    "base_dir = './TPCH_generated_queries'\n",
    "\n",
    "# Read the SQL files and store the queries in a list\n",
    "queries = read_sql_files(base_dir, instances_per_template=20)\n",
    "\n",
    "print(len(queries))"
   ]
  },
  {
   "cell_type": "code",
   "execution_count": 10,
   "metadata": {},
   "outputs": [
    {
     "name": "stdout",
     "output_type": "stream",
     "text": [
      "<pyodbc.Cursor object at 0x7fe2945fc0b0>\n"
     ]
    }
   ],
   "source": [
    "conn_str = (\n",
    "    \"Driver={ODBC Driver 17 for SQL Server};\"\n",
    "    \"Server=172.16.6.196,1433;\"  # Use the IP address and port directly\n",
    "    \"Database=TPCH1;\"  \n",
    "    \"UID=wsl;\" \n",
    "    \"PWD=greatpond501;\"  \n",
    ")\n",
    "\n",
    "conn = pyodbc.connect(conn_str)\n",
    "cursor = conn.cursor()\n",
    "# test the connection\n",
    "print(cursor.execute(\"SELECT @@version;\"))\n",
    "\n",
    "\n",
    "# simple query execution\n",
    "def execute_query_simple(query, connection):\n",
    "    cursor = connection.cursor()\n",
    "    try:\n",
    "        start_time = time.time()\n",
    "        cursor.execute(query)\n",
    "        connection.commit()\n",
    "        end_time = time.time()\n",
    "        cost = end_time - start_time\n",
    "        return True, cost\n",
    "    except Exception as e:\n",
    "        print(f\"Error executing query: {e}\")\n",
    "        return False, None\n",
    "    finally:\n",
    "        cursor.close()\n",
    "\n",
    "\n",
    "\"\"\" Code originally from Malinga Perera's work \"\"\"\n",
    "class QueryPlan:\n",
    "    def __init__(self, xml_string):\n",
    "        self.estimated_rows = 0\n",
    "        self.est_statement_sub_tree_cost = 0\n",
    "        self.elapsed_time = 0\n",
    "        self.cpu_time = 0\n",
    "        self.non_clustered_index_usage = []\n",
    "        self.clustered_index_usage = []\n",
    "\n",
    "        ns = {'sp': 'http://schemas.microsoft.com/sqlserver/2004/07/showplan'}\n",
    "        root = ET.fromstring(xml_string)\n",
    "        stmt_simple = root.find('.//sp:StmtSimple', ns)\n",
    "        if stmt_simple is not None:\n",
    "            self.estimated_rows = float(stmt_simple.attrib.get('StatementEstRows', 0))\n",
    "            self.est_statement_sub_tree_cost = float(stmt_simple.attrib.get('StatementSubTreeCost', 0))\n",
    "\n",
    "        query_stats = root.find('.//sp:QueryTimeStats', ns)\n",
    "        if query_stats is not None:\n",
    "            self.cpu_time = float(query_stats.attrib.get('CpuTime', 0))\n",
    "            self.elapsed_time = float(query_stats.attrib.get('ElapsedTime', 0)) / 1000\n",
    "\n",
    "        rel_ops = root.findall('.//sp:RelOp', ns)\n",
    "        total_po_sub_tree_cost = 0\n",
    "        total_po_actual = 0\n",
    "\n",
    "        for rel_op in rel_ops:\n",
    "            temp_act_elapsed_time = 0\n",
    "            if rel_op.attrib.get('PhysicalOp') in {'Index Seek', 'Index Scan', 'Clustered Index Scan', 'Clustered Index Seek'}:\n",
    "                total_po_sub_tree_cost += float(rel_op.attrib.get('EstimatedTotalSubtreeCost', 0))\n",
    "                runtime_thread_information = rel_op.findall('.//sp:RunTimeCountersPerThread', ns)\n",
    "                for thread_info in runtime_thread_information:\n",
    "                    temp_act_elapsed_time = max(\n",
    "                        int(thread_info.attrib.get('ActualElapsedms', 0)), temp_act_elapsed_time)\n",
    "                total_po_actual += temp_act_elapsed_time / 1000\n",
    "\n",
    "        for rel_op in rel_ops:\n",
    "            rows_read = 0\n",
    "            act_rel_op_elapsed_time = 0\n",
    "            if rel_op.attrib.get('PhysicalOp') in {'Index Seek', 'Index Scan', 'Clustered Index Scan', 'Clustered Index Seek'}:\n",
    "                runtime_thread_information = rel_op.findall('.//sp:RunTimeCountersPerThread', ns)\n",
    "                for thread_info in runtime_thread_information:\n",
    "                    rows_read += int(thread_info.attrib.get('ActualRowsRead', 0))\n",
    "                    act_rel_op_elapsed_time = max(int(thread_info.attrib.get('ActualElapsedms', 0)), act_rel_op_elapsed_time)\n",
    "            act_rel_op_elapsed_time = act_rel_op_elapsed_time / 1000\n",
    "            if rows_read == 0:\n",
    "                rows_read = float(rel_op.attrib.get('EstimatedRowsRead', 0))\n",
    "            rows_output = float(rel_op.attrib.get('EstimateRows', 0))\n",
    "            if rel_op.attrib.get('PhysicalOp') in {'Index Seek', 'Index Scan'}:\n",
    "                po_index_scan = rel_op.find('.//sp:IndexScan', ns)\n",
    "                if po_index_scan is not None:\n",
    "                    po_index = po_index_scan.find('.//sp:Object', ns).attrib.get('Index', '').strip(\"[]\")\n",
    "                    self.non_clustered_index_usage.append(\n",
    "                        (po_index, act_rel_op_elapsed_time, self.cpu_time, self.est_statement_sub_tree_cost, rows_read, rows_output))\n",
    "            elif rel_op.attrib.get('PhysicalOp') in {'Clustered Index Scan', 'Clustered Index Seek'}:\n",
    "                po_index_scan = rel_op.find('.//sp:IndexScan', ns)\n",
    "                if po_index_scan is not None:\n",
    "                    table = po_index_scan.find('.//sp:Object', ns).attrib.get('Table', '').strip(\"[]\")\n",
    "                    self.clustered_index_usage.append(\n",
    "                        (table, act_rel_op_elapsed_time, self.cpu_time, self.est_statement_sub_tree_cost, rows_read, rows_output))\n",
    "                    \n",
    "\n",
    "# more sophisticated query execution metrics        \n",
    "def execute_query(query, connection, cost_type='elapsed_time', verbose=False):\n",
    "    try:\n",
    "        cursor = connection.cursor()\n",
    "        # clear cache\n",
    "        cursor.execute(\"DBCC DROPCLEANBUFFERS\")\n",
    "        # enable statistics collection\n",
    "        cursor.execute(\"SET STATISTICS XML ON\")\n",
    "        # execute the query\n",
    "        cursor.execute(query)\n",
    "        cursor.nextset()\n",
    "        # fetch execution stats\n",
    "        stat_xml = cursor.fetchone()[0]\n",
    "        cursor.execute(\"SET STATISTICS XML OFF\")\n",
    "        # parse query plan\n",
    "        query_plan = QueryPlan(stat_xml)\n",
    "\n",
    "        if verbose:\n",
    "            print(f\"QUERY: \\n{query}\\n\")\n",
    "            print(f\"ELAPSED TIME: \\n{query_plan.elapsed_time}\\n\")\n",
    "            print(f\"CPU TIME: \\n{query_plan.cpu_time}\\n\")\n",
    "            print(f\"SUBTREE COST: \\n{query_plan.est_statement_sub_tree_cost}\\n\")\n",
    "            print(f\"NON CLUSTERED INDEX USAGE: \\n{query_plan.non_clustered_index_usage}\\n\")\n",
    "            print(f\"CLUSTERED INDEX USAGE: \\n{query_plan.clustered_index_usage}\\n\")\n",
    "\n",
    "        # Determine the cost type and return the appropriate metric\n",
    "        if cost_type == 'elapsed_time':\n",
    "            return float(query_plan.elapsed_time), query_plan.non_clustered_index_usage, query_plan.clustered_index_usage\n",
    "        elif cost_type == 'cpu_time':\n",
    "            return float(query_plan.cpu_time), query_plan.non_clustered_index_usage, query_plan.clustered_index_usage\n",
    "        elif cost_type == 'sub_tree_cost':\n",
    "            return float(query_plan.est_statement_sub_tree_cost), query_plan.non_clustered_index_usage, query_plan.clustered_index_usage\n",
    "        else:\n",
    "            return float(query_plan.est_statement_sub_tree_cost), query_plan.non_clustered_index_usage, query_plan.clustered_index_usage\n",
    "    except Exception as e:\n",
    "        logging.error(f\"Exception when executing query: {query}, Error: {e}\")\n",
    "        return-1, [], []\n",
    "    finally:\n",
    "        cursor.close()\n",
    "\n",
    "\n",
    "def execute_workload(workload):\n",
    "    # Establish a connection to the database\n",
    "    conn = pyodbc.connect(conn_str)\n",
    "    cursor = conn.cursor()\n",
    "    elapsed_time = 0\n",
    "    # execute the workload\n",
    "    for i, query in enumerate(workload):\n",
    "        cost, index_seeks, clustered_index_scans = execute_query(query, conn)\n",
    "        elapsed_time += cost    \n",
    "        if cost == -1:\n",
    "            print(f\"Error executing query # {i} in current workload\")\n",
    "\n",
    "    cursor.close()\n",
    "    conn.close()\n",
    "    return elapsed_time"
   ]
  },
  {
   "cell_type": "code",
   "execution_count": 11,
   "metadata": {},
   "outputs": [
    {
     "name": "stdout",
     "output_type": "stream",
     "text": [
      "QUERY: \n",
      "select\n",
      "\tl_returnflag,\n",
      "\tl_linestatus,\n",
      "\tsum(l_quantity) as sum_qty,\n",
      "\tsum(l_extendedprice) as sum_base_price,\n",
      "\tsum(l_extendedprice * (1 - l_discount)) as sum_disc_price,\n",
      "\tsum(l_extendedprice * (1 - l_discount) * (1 + l_tax)) as sum_charge,\n",
      "\tavg(l_quantity) as avg_qty,\n",
      "\tavg(l_extendedprice) as avg_price,\n",
      "\tavg(l_discount) as avg_disc,\n",
      "\tcount(*) as count_order\n",
      "from\n",
      "\tlineitem\n",
      "where\n",
      "\tl_shipdate <= DATEADD(dd, -108, CAST('1998-12-01' AS date))\n",
      "group by\n",
      "\tl_returnflag,\n",
      "\tl_linestatus\n",
      "order by\n",
      "\tl_returnflag,\n",
      "\tl_linestatus;\n",
      "\n",
      "ELAPSED TIME: \n",
      "13.326\n",
      "\n",
      "CPU TIME: \n",
      "13312.0\n",
      "\n",
      "SUBTREE COST: \n",
      "126.67\n",
      "\n",
      "NON CLUSTERED INDEX USAGE: \n",
      "[]\n",
      "\n",
      "CLUSTERED INDEX USAGE: \n",
      "[('lineitem', 2.325, 13312.0, 126.67, 6001215, 5885680.0)]\n",
      "\n"
     ]
    }
   ],
   "source": [
    "conn = pyodbc.connect(conn_str)\n",
    "execute_query(queries[0], conn, verbose=True)\n",
    "conn.close()"
   ]
  },
  {
   "cell_type": "code",
   "execution_count": 5,
   "metadata": {},
   "outputs": [
    {
     "name": "stderr",
     "output_type": "stream",
     "text": [
      "Executing Batches:  43%|████▎     | 19/44 [05:45<06:15, 15.02s/it]"
     ]
    },
    {
     "name": "stdout",
     "output_type": "stream",
     "text": [
      "Error executing query: <class 'pyodbc.Error'> returned a result with an exception set\n",
      "Error executing query # 8 in current workload\n",
      "Error executing query: ('08S01', '[08S01] [Microsoft][ODBC Driver 17 for SQL Server]Communication link failure (0) (SQLExecDirectW)')\n",
      "Error executing query # 9 in current workload\n"
     ]
    }
   ],
   "source": [
    "# shuffle the queries list\n",
    "random.shuffle(queries)\n",
    "\n",
    "batch_size = 10\n",
    "\n",
    "# now run the queries in batches and get execution times\n",
    "workload_times = []\n",
    "for i in tqdm(range(0, len(queries), batch_size), desc=\"Executing Batches\"):\n",
    "    batch = queries[i:i+batch_size]\n",
    "    elapsed_time = execute_workload(batch)\n",
    "    workload_times.append(elapsed_time)\n"
   ]
  },
  {
   "cell_type": "code",
   "execution_count": 7,
   "metadata": {},
   "outputs": [
    {
     "data": {
      "text/plain": [
       "Text(0, 0.5, 'Execution Time (s)')"
      ]
     },
     "execution_count": 7,
     "metadata": {},
     "output_type": "execute_result"
    },
    {
     "data": {
      "image/png": "[encoded data removed]",
      "text/plain": [
       "<Figure size 640x480 with 1 Axes>"
      ]
     },
     "metadata": {},
     "output_type": "display_data"
    }
   ],
   "source": [
    "workload_times\n",
    "\n",
    "# plot the execution times\n",
    "import matplotlib.pyplot as plt\n",
    "\n",
    "plt.plot(workload_times)\n",
    "plt.xlabel(\"Batch Number\")\n",
    "plt.ylabel(\"Execution Time (s)\")"
   ]
  },
  {
   "cell_type": "code",
   "execution_count": 24,
   "metadata": {},
   "outputs": [
    {
     "name": "stdout",
     "output_type": "stream",
     "text": [
      "select\n",
      "\tn_name,\n",
      "\tsum(l_extendedprice * (1 - l_discount)) as revenue\n",
      "from\n",
      "\tcustomer,\n",
      "\torders,\n",
      "\tlineitem,\n",
      "\tsupplier,\n",
      "\tnation,\n",
      "\tregion\n",
      "where\n",
      "\tc_custkey = o_custkey\n",
      "\tand l_orderkey = o_orderkey\n",
      "\tand l_suppkey = s_suppkey\n",
      "\tand c_nationkey = s_nationkey\n",
      "\tand s_nationkey = n_nationkey\n",
      "\tand n_regionkey = r_regionkey\n",
      "\tand r_name = 'EUROPE'\n",
      "\tand o_orderdate >= CAST('1994-01-01' AS date)\n",
      "\tand o_orderdate < DATEADD(yy, 1, CAST('1994-01-01' AS date))\n",
      "group by\n",
      "\tn_name\n",
      "order by\n",
      "\trevenue desc;\n",
      "\n",
      "Query execution time: 1.48 seconds\n"
     ]
    }
   ],
   "source": [
    "i = 15\n",
    "print(queries[i])\n",
    "print(f\"\\nQuery execution time: {execute_queries(queries[i:i+1]):.2f} seconds\")"
   ]
  },
  {
   "cell_type": "code",
   "execution_count": null,
   "metadata": {},
   "outputs": [],
   "source": []
  },
  {
   "cell_type": "code",
   "execution_count": null,
   "metadata": {},
   "outputs": [],
   "source": []
  },
  {
   "cell_type": "code",
   "execution_count": null,
   "metadata": {},
   "outputs": [],
   "source": []
  },
  {
   "cell_type": "code",
   "execution_count": null,
   "metadata": {},
   "outputs": [],
   "source": []
  },
  {
   "cell_type": "code",
   "execution_count": null,
   "metadata": {},
   "outputs": [],
   "source": []
  }
 ],
 "metadata": {
  "kernelspec": {
   "display_name": "torch_clone_2",
   "language": "python",
   "name": "python3"
  },
  "language_info": {
   "codemirror_mode": {
    "name": "ipython",
    "version": 3
   },
   "file_extension": ".py",
   "mimetype": "text/x-python",
   "name": "python",
   "nbconvert_exporter": "python",
   "pygments_lexer": "ipython3",
   "version": "3.11.5"
  }
 },
 "nbformat": 4,
 "nbformat_minor": 2
}
